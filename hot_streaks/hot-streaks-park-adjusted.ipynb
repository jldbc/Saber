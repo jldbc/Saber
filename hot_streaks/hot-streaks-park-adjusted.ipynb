{
 "cells": [
  {
   "cell_type": "code",
   "execution_count": 1,
   "metadata": {},
   "outputs": [
    {
     "name": "stderr",
     "output_type": "stream",
     "text": [
      "\n",
      "Attaching package: ‘dplyr’\n",
      "\n",
      "\n",
      "The following objects are masked from ‘package:stats’:\n",
      "\n",
      "    filter, lag\n",
      "\n",
      "\n",
      "The following objects are masked from ‘package:base’:\n",
      "\n",
      "    intersect, setdiff, setequal, union\n",
      "\n",
      "\n",
      "Loading required package: gsubfn\n",
      "\n",
      "Loading required package: proto\n",
      "\n",
      "Warning message in doTryCatch(return(expr), name, parentenv, handler):\n",
      "“unable to load shared object '/Library/Frameworks/R.framework/Resources/modules//R_X11.so':\n",
      "  dlopen(/Library/Frameworks/R.framework/Resources/modules//R_X11.so, 6): Library not loaded: /opt/X11/lib/libSM.6.dylib\n",
      "  Referenced from: /Library/Frameworks/R.framework/Versions/3.6/Resources/modules/R_X11.so\n",
      "  Reason: image not found”\n",
      "Could not load tcltk.  Will use slower R code instead.\n",
      "\n",
      "Loading required package: RSQLite\n",
      "\n"
     ]
    }
   ],
   "source": [
    "library(dplyr)\n",
    "library(ggplot2)\n",
    "library(RcppRoll)\n",
    "library(sqldf)"
   ]
  },
  {
   "cell_type": "code",
   "execution_count": 2,
   "metadata": {},
   "outputs": [],
   "source": [
    "# to get this data:\n",
    "# git clone https://github.com/chadwickbureau/retrosplits\n",
    "\n",
    "df = read.csv('data/retrosplits/daybyday/playing-1999.csv')\n",
    "df$season = 1999\n",
    "\n",
    "for (season_ in 1999:2019)\n",
    "{\n",
    "    filename = paste0('data/retrosplits/daybyday/playing-', as.character(season_), '.csv')\n",
    "    df_new = read.csv(filename)\n",
    "    df_new$season = season_\n",
    "    df = rbind(df, df_new)\n",
    "\n",
    "}"
   ]
  },
  {
   "cell_type": "code",
   "execution_count": 3,
   "metadata": {},
   "outputs": [],
   "source": [
    "# we later define \"expected woba\" using previous and following seasons' woba. \n",
    "# exclude players without a previous and next season (rookies, retirees)\n",
    "# use inner join this onto the game-level data once \"expected woba\" is calculated and added to the dataset\n",
    "player_years = df %>% select(person.key, season) %>% mutate(next_year = season+1, previous_year=season-1) %>% distinct()\n",
    "player_years_to_keep = player_years %>% inner_join(player_years, by=c(\"season\"=\"previous_year\", \"person.key\"=\"person.key\"))\n",
    "player_years_to_keep = player_years_to_keep %>% inner_join(player_years, by=c(\"season\"=\"next_year\", \"person.key\"=\"person.key\"))"
   ]
  },
  {
   "cell_type": "code",
   "execution_count": 4,
   "metadata": {},
   "outputs": [],
   "source": [
    "# limit to just regular season, define 1B events\n",
    "df = df %>% filter(season.phase=='R')\n",
    "df = df %>% mutate(B_1B = B_H - B_2B - B_3B - B_HR)"
   ]
  },
  {
   "cell_type": "code",
   "execution_count": 5,
   "metadata": {},
   "outputs": [],
   "source": [
    "# define game number within the season. later we'll want to exclude the final five games from streak identification\n",
    "game_nums = df %>% group_by(season, team.key) %>% distinct(game.date, game.key, team.key) %>% arrange(season, team.key, game.date) %>% \n",
    "    mutate(game_num = seq_along(game.date))\n",
    "\n",
    "df = df %>% left_join(game_nums %>% ungroup() %>% select(game.key, team.key, game_num), by=c('game.key', 'team.key'))\n",
    "\n",
    "# do this filter AFTER creating game numbers so the game number is still accurate\n",
    "df = df %>% filter(team.key != 'COL', site.key != 'DEN02')"
   ]
  },
  {
   "cell_type": "code",
   "execution_count": 6,
   "metadata": {},
   "outputs": [
    {
     "name": "stderr",
     "output_type": "stream",
     "text": [
      "Selecting by n\n",
      "\n"
     ]
    }
   ],
   "source": [
    "# create home/away flag by finding most common stadium for each team\n",
    "home_stadiums = df %>% group_by(team.key, season) %>% count(site.key) %>% top_n(1)\n",
    "df = df %>% left_join(home_stadiums, by=c('team.key', 'season'), \n",
    "                 suffix=c('', '_homeflag')) %>% \n",
    "    mutate(home_or_away = ifelse(site.key==site.key_homeflag, 'home', 'away'))"
   ]
  },
  {
   "cell_type": "code",
   "execution_count": 7,
   "metadata": {},
   "outputs": [
    {
     "name": "stderr",
     "output_type": "stream",
     "text": [
      "`summarise()` regrouping output by 'team.key', 'opponent.key', 'season', 'site.key', 'game.date', 'game.number' (override with `.groups` argument)\n",
      "\n"
     ]
    }
   ],
   "source": [
    "# create component-level park effects\n",
    "games = df %>% \n",
    "    group_by(team.key, opponent.key, season, site.key, game.date, game.number, home_or_away) %>% \n",
    "                summarise(B_HR=sum(B_HR), \n",
    "                         B_1B = sum(B_1B),\n",
    "                         B_2B = sum(B_2B),\n",
    "                         B_3B = sum(B_3B),\n",
    "                         B_BB = (sum(B_BB) - sum(B_IBB)),\n",
    "                         B_HP = sum(B_HP),\n",
    "                         B_XI = sum(B_XI),\n",
    "                         B_R = sum(B_R),\n",
    "                         games = n_distinct(team.key, opponent.key, season, \n",
    "                                            site.key, game.date, game.number, \n",
    "                                            home_or_away)) %>%\n",
    "                ungroup()"
   ]
  },
  {
   "cell_type": "code",
   "execution_count": 8,
   "metadata": {},
   "outputs": [
    {
     "data": {
      "text/html": [
       "<style>\n",
       ".list-inline {list-style: none; margin:0; padding: 0}\n",
       ".list-inline>li {display: inline-block}\n",
       ".list-inline>li:not(:last-child)::after {content: \"\\00b7\"; padding: 0 .5ex}\n",
       "</style>\n",
       "<ol class=list-inline><li>96926</li><li>17</li></ol>\n"
      ],
      "text/latex": [
       "\\begin{enumerate*}\n",
       "\\item 96926\n",
       "\\item 17\n",
       "\\end{enumerate*}\n"
      ],
      "text/markdown": [
       "1. 96926\n",
       "2. 17\n",
       "\n",
       "\n"
      ],
      "text/plain": [
       "[1] 96926    17"
      ]
     },
     "metadata": {},
     "output_type": "display_data"
    },
    {
     "data": {
      "text/html": [
       "<style>\n",
       ".list-inline {list-style: none; margin:0; padding: 0}\n",
       ".list-inline>li {display: inline-block}\n",
       ".list-inline>li:not(:last-child)::after {content: \"\\00b7\"; padding: 0 .5ex}\n",
       "</style>\n",
       "<ol class=list-inline><li>290778</li><li>17</li></ol>\n"
      ],
      "text/latex": [
       "\\begin{enumerate*}\n",
       "\\item 290778\n",
       "\\item 17\n",
       "\\end{enumerate*}\n"
      ],
      "text/markdown": [
       "1. 290778\n",
       "2. 17\n",
       "\n",
       "\n"
      ],
      "text/plain": [
       "[1] 290778     17"
      ]
     },
     "metadata": {},
     "output_type": "display_data"
    },
    {
     "data": {
      "text/html": [
       "<style>\n",
       ".list-inline {list-style: none; margin:0; padding: 0}\n",
       ".list-inline>li {display: inline-block}\n",
       ".list-inline>li:not(:last-child)::after {content: \"\\00b7\"; padding: 0 .5ex}\n",
       "</style>\n",
       "<ol class=list-inline><li>483</li><li>17</li></ol>\n"
      ],
      "text/latex": [
       "\\begin{enumerate*}\n",
       "\\item 483\n",
       "\\item 17\n",
       "\\end{enumerate*}\n"
      ],
      "text/markdown": [
       "1. 483\n",
       "2. 17\n",
       "\n",
       "\n"
      ],
      "text/plain": [
       "[1] 483  17"
      ]
     },
     "metadata": {},
     "output_type": "display_data"
    }
   ],
   "source": [
    "#calculate three-year park effects\n",
    "#shortcut to do this: create next year and previous year dataframes (season -= and += 1)\n",
    "#concatenate those onto the main dataframe. now season=2003 will include 2002, 2003, and 2004. all three seasons in one.\n",
    "\n",
    "# i think we'll need this to prevent duplicates later when joining things\n",
    "games = games %>% mutate(actual_season=season)\n",
    "\n",
    "next_year_games = games %>% mutate(season = season + 1)\n",
    "previous_year_games = games %>% mutate(season = season - 1)\n",
    "\n",
    "dim(games)\n",
    "games = rbind(games, next_year_games)\n",
    "games = rbind(games, previous_year_games)\n",
    "dim(games)\n",
    "\n",
    "games %>% filter(season==2002, team.key=='ANA') %>% dim()"
   ]
  },
  {
   "cell_type": "code",
   "execution_count": 9,
   "metadata": {},
   "outputs": [
    {
     "name": "stderr",
     "output_type": "stream",
     "text": [
      "`summarise()` regrouping output by 'team.key', 'opponent.key', 'season', 'site.key', 'game.date', 'game.number' (override with `.groups` argument)\n",
      "\n"
     ]
    }
   ],
   "source": [
    "games = games %>% \n",
    "    group_by(team.key, opponent.key, season, site.key, game.date, game.number, home_or_away) %>% \n",
    "                    summarise(B_HR=sum(B_HR), \n",
    "                             B_1B = sum(B_1B),\n",
    "                             B_2B = sum(B_2B),\n",
    "                             B_3B = sum(B_3B),\n",
    "                             B_BB = sum(B_BB),\n",
    "                             B_HP = sum(B_HP),\n",
    "                             B_XI = sum(B_XI),\n",
    "                             B_R = sum(B_R),\n",
    "                             games = n_distinct(team.key, opponent.key, season, \n",
    "                                                site.key, game.date, game.number, \n",
    "                                                home_or_away)) %>%\n",
    "                    ungroup()"
   ]
  },
  {
   "cell_type": "code",
   "execution_count": 10,
   "metadata": {},
   "outputs": [
    {
     "name": "stderr",
     "output_type": "stream",
     "text": [
      "`summarise()` regrouping output by 'season' (override with `.groups` argument)\n",
      "\n",
      "`summarise()` regrouping output by 'season' (override with `.groups` argument)\n",
      "\n"
     ]
    }
   ],
   "source": [
    "home = games %>% filter(home_or_away=='home') %>% \n",
    "    left_join(games, by=c(\"opponent.key\"=\"team.key\", \"game.date\"=\"game.date\", \n",
    "                         \"game.number\"=\"game.number\", \"season\"=\"season\"),\n",
    "             suffix=c(\"\",\"_opponent\"))  %>% \n",
    "    group_by(season, team.key) %>% \n",
    "                summarise(B_HR=(sum(B_HR, na.rm=TRUE) + sum(B_HR_opponent, na.rm=TRUE))/sum(games), \n",
    "                         B_1B = (sum(B_1B, na.rm=TRUE) + sum(B_1B_opponent, na.rm=TRUE))/sum(games), \n",
    "                         B_2B = (sum(B_2B, na.rm=TRUE) + sum(B_2B_opponent, na.rm=TRUE))/sum(games), \n",
    "                         B_3B = (sum(B_3B, na.rm=TRUE) + sum(B_3B_opponent, na.rm=TRUE))/sum(games), \n",
    "                         B_BB = (sum(B_BB, na.rm=TRUE) + sum(B_BB_opponent, na.rm=TRUE))/sum(games), \n",
    "                         B_HP = (sum(B_HP, na.rm=TRUE) + sum(B_HP_opponent, na.rm=TRUE))/sum(games), \n",
    "                         B_XI = 1, #(sum(B_XI, na.rm=TRUE) + sum(B_XI_opponent, na.rm=TRUE))/sum(games), \n",
    "                         B_R = (sum(B_R, na.rm=TRUE) + sum(B_R_opponent, na.rm=TRUE))/sum(games), \n",
    "                         games=sum(games)\n",
    "                ) %>% ungroup()\n",
    "\n",
    "\n",
    "away = games %>% filter(home_or_away=='away') %>% \n",
    "    left_join(games, by=c(\"opponent.key\"=\"team.key\", \"game.date\"=\"game.date\", \n",
    "                         \"game.number\"=\"game.number\"),\n",
    "             suffix=c(\"\",\"_opponent\"))  %>% \n",
    "    group_by(season, team.key) %>% \n",
    "                summarise(B_HR=(sum(B_HR, na.rm=TRUE) + sum(B_HR_opponent, na.rm=TRUE))/sum(games), \n",
    "                         B_1B = (sum(B_1B, na.rm=TRUE) + sum(B_1B_opponent, na.rm=TRUE))/sum(games), \n",
    "                         B_2B = (sum(B_2B, na.rm=TRUE) + sum(B_2B_opponent, na.rm=TRUE))/sum(games), \n",
    "                         B_3B = (sum(B_3B, na.rm=TRUE) + sum(B_3B_opponent, na.rm=TRUE))/sum(games), \n",
    "                         B_BB = (sum(B_BB, na.rm=TRUE) + sum(B_BB_opponent, na.rm=TRUE))/sum(games), \n",
    "                         B_HP = (sum(B_HP, na.rm=TRUE) + sum(B_HP_opponent, na.rm=TRUE))/sum(games), \n",
    "                         B_XI = 1, #(sum(B_XI, na.rm=TRUE) + sum(B_XI_opponent, na.rm=TRUE))/sum(games), \n",
    "                         B_R = (sum(B_R, na.rm=TRUE) + sum(B_R_opponent, na.rm=TRUE))/sum(games), \n",
    "                         games=sum(games)\n",
    "                ) %>% ungroup()\n",
    "\n",
    "\n",
    "park_effects = home %>% left_join(away, by=c('team.key', 'season'), suffix=c('', '_road')) %>%\n",
    "    mutate(\n",
    "      B_HR = B_HR/B_HR_road, \n",
    "      B_1B = B_1B/B_1B_road,\n",
    "      B_2B = B_2B/B_2B_road,\n",
    "      B_3B = B_3B/B_3B_road,\n",
    "      B_BB = B_BB/B_BB_road,\n",
    "      B_HP = B_HP/B_HP_road,\n",
    "      B_R = B_R/B_R_road\n",
    "    )\n",
    "\n",
    "# connect park effects with their site.key\n",
    "#park_effects = park_effects %>% left_join(home_stadiums, by=c('team.key', 'season')) %>%\n",
    "#    select(season, site.key, team.key, B_R, B_HR, B_1B,\n",
    "#          B_2B, B_3B, B_HP, B_XI, B_BB)"
   ]
  },
  {
   "cell_type": "code",
   "execution_count": 11,
   "metadata": {},
   "outputs": [],
   "source": [
    "# park-adjust all events\n",
    "df = df %>% left_join(park_effects, by=c('season', 'team.key'), suffix = c(\"\", \"_parkfactor\"))\n",
    "\n",
    "df = df %>% mutate(\n",
    "     B_HR = B_HR / B_HR_parkfactor,\n",
    "     B_1B = B_1B/B_1B_parkfactor,\n",
    "     B_2B = B_2B/B_2B_parkfactor,\n",
    "     B_3B = B_3B/B_3B_parkfactor,\n",
    "     B_BB = B_BB/B_BB_parkfactor,\n",
    "     B_HP = B_HP/B_HP_parkfactor,\n",
    "     B_XI = B_XI/B_XI_parkfactor,\n",
    "     B_R = B_R/B_R_parkfactor,\n",
    ")"
   ]
  },
  {
   "cell_type": "code",
   "execution_count": 12,
   "metadata": {},
   "outputs": [
    {
     "data": {
      "text/html": [
       "<table>\n",
       "<caption>A tibble: 29 × 20</caption>\n",
       "<thead>\n",
       "\t<tr><th scope=col>season</th><th scope=col>team.key</th><th scope=col>B_HR</th><th scope=col>B_1B</th><th scope=col>B_2B</th><th scope=col>B_3B</th><th scope=col>B_BB</th><th scope=col>B_HP</th><th scope=col>B_XI</th><th scope=col>B_R</th><th scope=col>games</th><th scope=col>B_HR_road</th><th scope=col>B_1B_road</th><th scope=col>B_2B_road</th><th scope=col>B_3B_road</th><th scope=col>B_BB_road</th><th scope=col>B_HP_road</th><th scope=col>B_XI_road</th><th scope=col>B_R_road</th><th scope=col>games_road</th></tr>\n",
       "\t<tr><th scope=col>&lt;dbl&gt;</th><th scope=col>&lt;fct&gt;</th><th scope=col>&lt;dbl&gt;</th><th scope=col>&lt;dbl&gt;</th><th scope=col>&lt;dbl&gt;</th><th scope=col>&lt;dbl&gt;</th><th scope=col>&lt;dbl&gt;</th><th scope=col>&lt;dbl&gt;</th><th scope=col>&lt;dbl&gt;</th><th scope=col>&lt;dbl&gt;</th><th scope=col>&lt;int&gt;</th><th scope=col>&lt;dbl&gt;</th><th scope=col>&lt;dbl&gt;</th><th scope=col>&lt;dbl&gt;</th><th scope=col>&lt;dbl&gt;</th><th scope=col>&lt;dbl&gt;</th><th scope=col>&lt;dbl&gt;</th><th scope=col>&lt;dbl&gt;</th><th scope=col>&lt;dbl&gt;</th><th scope=col>&lt;int&gt;</th></tr>\n",
       "</thead>\n",
       "<tbody>\n",
       "\t<tr><td>2010</td><td>TEX</td><td>1.2800830</td><td>1.0414600</td><td>1.1082090</td><td>1.3809524</td><td>1.0321199</td><td>1.2727273</td><td>1</td><td>1.1862934</td><td>243</td><td>1.983539</td><td>11.61317</td><td>3.308642</td><td>0.2592593</td><td>5.765432</td><td>0.5432099</td><td>1</td><td>8.526749</td><td>729</td></tr>\n",
       "\t<tr><td>2010</td><td>BOS</td><td>0.9062162</td><td>1.0297664</td><td>1.2988008</td><td>0.9144947</td><td>0.9702322</td><td>1.1104136</td><td>1</td><td>1.1149362</td><td>243</td><td>2.375000</td><td>11.43333</td><td>3.491667</td><td>0.3375000</td><td>6.850000</td><td>0.7375000</td><td>1</td><td>9.279167</td><td>720</td></tr>\n",
       "\t<tr><td>2010</td><td>ARI</td><td>1.0450450</td><td>0.9585913</td><td>1.1405089</td><td>1.7026604</td><td>0.9121582</td><td>1.0623306</td><td>1</td><td>1.1004356</td><td>243</td><td>2.055556</td><td>11.21759</td><td>3.254630</td><td>0.3287037</td><td>6.189815</td><td>0.5694444</td><td>1</td><td>8.384259</td><td>648</td></tr>\n",
       "\t<tr><td>2010</td><td>CHN</td><td>1.0217575</td><td>1.0494997</td><td>0.9969781</td><td>1.2541866</td><td>1.0279472</td><td>0.9344920</td><td>1</td><td>1.0912515</td><td>242</td><td>1.892704</td><td>11.20172</td><td>3.386266</td><td>0.3261803</td><td>6.090129</td><td>0.7296137</td><td>1</td><td>8.236052</td><td>699</td></tr>\n",
       "\t<tr><td>2010</td><td>NYA</td><td>1.3000000</td><td>1.0003522</td><td>0.9364162</td><td>0.6818182</td><td>1.0266344</td><td>1.0962567</td><td>1</td><td>1.0786122</td><td>243</td><td>2.098765</td><td>11.68313</td><td>3.559671</td><td>0.3621399</td><td>6.798354</td><td>0.7695473</td><td>1</td><td>9.370370</td><td>729</td></tr>\n",
       "\t<tr><td>2010</td><td>CHA</td><td>1.3073299</td><td>0.9354493</td><td>0.9656249</td><td>0.7474141</td><td>1.1738977</td><td>1.0110308</td><td>1</td><td>1.0598865</td><td>243</td><td>1.725000</td><td>12.61250</td><td>3.362500</td><td>0.3083333</td><td>5.104167</td><td>0.7041667</td><td>1</td><td>8.545833</td><td>720</td></tr>\n",
       "\t<tr><td>2010</td><td>BAL</td><td>1.1916168</td><td>1.0551370</td><td>1.0240437</td><td>0.8181818</td><td>0.9935484</td><td>1.0547945</td><td>1</td><td>1.0441570</td><td>243</td><td>2.061728</td><td>12.01646</td><td>3.765432</td><td>0.3168724</td><td>5.740741</td><td>0.6008230</td><td>1</td><td>9.226337</td><td>729</td></tr>\n",
       "\t<tr><td>2010</td><td>TOR</td><td>1.1671089</td><td>0.9498336</td><td>1.0658480</td><td>1.3102941</td><td>0.9956587</td><td>0.9949422</td><td>1</td><td>1.0414933</td><td>240</td><td>2.209877</td><td>11.43621</td><td>3.748971</td><td>0.2798354</td><td>6.185185</td><td>0.7119342</td><td>1</td><td>9.197531</td><td>729</td></tr>\n",
       "\t<tr><td>2010</td><td>KCA</td><td>0.7905258</td><td>1.0867262</td><td>1.0775486</td><td>1.6460905</td><td>1.0304433</td><td>1.1298765</td><td>1</td><td>1.0388023</td><td>243</td><td>2.045833</td><td>12.08750</td><td>3.479167</td><td>0.3500000</td><td>5.866667</td><td>0.5208333</td><td>1</td><td>9.091667</td><td>720</td></tr>\n",
       "\t<tr><td>2010</td><td>FLO</td><td>0.9408066</td><td>1.0003308</td><td>1.0224779</td><td>0.9369455</td><td>1.1273966</td><td>1.0844780</td><td>1</td><td>1.0322644</td><td>237</td><td>1.879167</td><td>11.63750</td><td>3.437500</td><td>0.4458333</td><td>5.700000</td><td>0.5875000</td><td>1</td><td>8.608333</td><td>720</td></tr>\n",
       "\t<tr><td>2010</td><td>DET</td><td>0.9575011</td><td>1.0181716</td><td>0.9698115</td><td>1.3262035</td><td>0.9321337</td><td>0.9784572</td><td>1</td><td>1.0226771</td><td>243</td><td>2.041494</td><td>12.15768</td><td>3.373444</td><td>0.3568465</td><td>6.348548</td><td>0.6182573</td><td>1</td><td>9.053942</td><td>723</td></tr>\n",
       "\t<tr><td>2010</td><td>PHI</td><td>1.0287401</td><td>0.9710286</td><td>1.0018631</td><td>0.8968210</td><td>0.9931848</td><td>0.8679631</td><td>1</td><td>1.0092588</td><td>246</td><td>2.038961</td><td>11.55844</td><td>3.428571</td><td>0.3852814</td><td>5.554113</td><td>0.8008658</td><td>1</td><td>8.450216</td><td>693</td></tr>\n",
       "\t<tr><td>2010</td><td>CIN</td><td>1.1902612</td><td>0.9708491</td><td>0.9144727</td><td>0.9009448</td><td>0.9707336</td><td>0.8900049</td><td>1</td><td>1.0033099</td><td>243</td><td>1.956897</td><td>11.74569</td><td>3.577586</td><td>0.3060345</td><td>6.172414</td><td>0.7629310</td><td>1</td><td>8.810345</td><td>696</td></tr>\n",
       "\t<tr><td>2010</td><td>MIN</td><td>0.8752483</td><td>1.0305503</td><td>1.0097818</td><td>1.0855328</td><td>0.9922429</td><td>0.7889610</td><td>1</td><td>0.9959016</td><td>244</td><td>2.004115</td><td>12.41975</td><td>3.543210</td><td>0.4115226</td><td>5.600823</td><td>0.6337449</td><td>1</td><td>9.152263</td><td>729</td></tr>\n",
       "\t<tr><td>2010</td><td>PIT</td><td>0.8621151</td><td>1.0057471</td><td>1.0008096</td><td>0.8788948</td><td>0.9104643</td><td>0.9532148</td><td>1</td><td>0.9801000</td><td>243</td><td>1.804348</td><td>11.60000</td><td>3.713043</td><td>0.4260870</td><td>6.052174</td><td>0.6130435</td><td>1</td><td>8.573913</td><td>690</td></tr>\n",
       "\t<tr><td>2010</td><td>WAS</td><td>0.9918117</td><td>0.9965295</td><td>1.0112582</td><td>0.8588154</td><td>0.8561453</td><td>0.9706612</td><td>1</td><td>0.9652376</td><td>242</td><td>1.870690</td><td>11.68103</td><td>3.379310</td><td>0.4137931</td><td>6.448276</td><td>0.6896552</td><td>1</td><td>8.818966</td><td>696</td></tr>\n",
       "\t<tr><td>2010</td><td>MIL</td><td>1.0870137</td><td>0.9340253</td><td>1.0541951</td><td>0.9044353</td><td>0.9980078</td><td>0.7989292</td><td>1</td><td>0.9574671</td><td>243</td><td>2.108696</td><td>11.87391</td><td>3.439130</td><td>0.3913043</td><td>6.152174</td><td>0.8086957</td><td>1</td><td>9.382609</td><td>690</td></tr>\n",
       "\t<tr><td>2010</td><td>OAK</td><td>0.7955056</td><td>0.9439189</td><td>0.9135514</td><td>1.0985915</td><td>1.0047202</td><td>0.8251748</td><td>1</td><td>0.9511617</td><td>243</td><td>1.831276</td><td>12.18107</td><td>3.522634</td><td>0.2921811</td><td>6.102881</td><td>0.5884774</td><td>1</td><td>8.679012</td><td>729</td></tr>\n",
       "\t<tr><td>2010</td><td>HOU</td><td>1.0709208</td><td>0.9663096</td><td>0.9918302</td><td>1.0569117</td><td>0.9798883</td><td>1.2027651</td><td>1</td><td>0.9497614</td><td>243</td><td>1.652361</td><td>12.13305</td><td>3.493562</td><td>0.3776824</td><td>5.476395</td><td>0.4892704</td><td>1</td><td>8.605150</td><td>699</td></tr>\n",
       "\t<tr><td>2010</td><td>ATL</td><td>0.9476076</td><td>0.9926357</td><td>0.9074100</td><td>0.9669727</td><td>0.9758278</td><td>0.9477637</td><td>1</td><td>0.9467805</td><td>243</td><td>1.732759</td><td>11.50862</td><td>3.478448</td><td>0.3362069</td><td>6.047414</td><td>0.5905172</td><td>1</td><td>8.280172</td><td>696</td></tr>\n",
       "\t<tr><td>2010</td><td>SFN</td><td>0.8386692</td><td>0.9411111</td><td>0.9608939</td><td>1.1171171</td><td>0.8824940</td><td>0.8955224</td><td>1</td><td>0.9135952</td><td>243</td><td>1.638889</td><td>11.11111</td><td>3.314815</td><td>0.3425926</td><td>5.791667</td><td>0.6203704</td><td>1</td><td>7.662037</td><td>648</td></tr>\n",
       "\t<tr><td>2010</td><td>SLN</td><td>0.7333958</td><td>0.9737562</td><td>0.8814306</td><td>0.7415922</td><td>1.0203277</td><td>1.0168350</td><td>1</td><td>0.9045039</td><td>243</td><td>2.025641</td><td>12.20085</td><td>3.735043</td><td>0.3717949</td><td>5.380342</td><td>0.6111111</td><td>1</td><td>8.940171</td><td>702</td></tr>\n",
       "\t<tr><td>2010</td><td>CLE</td><td>0.8568548</td><td>0.9731201</td><td>1.0187638</td><td>0.7127660</td><td>0.9659820</td><td>0.8317308</td><td>1</td><td>0.9036503</td><td>243</td><td>2.041152</td><td>12.09465</td><td>3.728395</td><td>0.3868313</td><td>6.411523</td><td>0.8559671</td><td>1</td><td>9.695473</td><td>729</td></tr>\n",
       "\t<tr><td>2010</td><td>ANA</td><td>0.9246436</td><td>1.0017319</td><td>0.8585106</td><td>0.5631068</td><td>0.9445215</td><td>1.3032787</td><td>1</td><td>0.8997350</td><td>243</td><td>2.020576</td><td>11.88066</td><td>3.868313</td><td>0.4238683</td><td>5.934156</td><td>0.5020576</td><td>1</td><td>9.316872</td><td>729</td></tr>\n",
       "\t<tr><td>2010</td><td>LAN</td><td>0.9264101</td><td>0.9476672</td><td>0.9297840</td><td>0.4857581</td><td>0.8773215</td><td>1.0432406</td><td>1</td><td>0.8981120</td><td>243</td><td>1.581395</td><td>11.58140</td><td>3.200000</td><td>0.4744186</td><td>6.074419</td><td>0.6232558</td><td>1</td><td>8.330233</td><td>645</td></tr>\n",
       "\t<tr><td>2010</td><td>NYN</td><td>0.8112963</td><td>0.9399098</td><td>0.9043384</td><td>1.2062378</td><td>0.9932275</td><td>1.0565844</td><td>1</td><td>0.8967564</td><td>243</td><td>1.709402</td><td>12.49573</td><td>3.790598</td><td>0.4059829</td><td>5.982906</td><td>0.6153846</td><td>1</td><td>9.012821</td><td>702</td></tr>\n",
       "\t<tr><td>2010</td><td>TBA</td><td>0.9357700</td><td>0.9578170</td><td>0.8992911</td><td>1.1522634</td><td>0.9362140</td><td>0.9270620</td><td>1</td><td>0.8725290</td><td>243</td><td>2.220833</td><td>10.89583</td><td>3.679167</td><td>0.3750000</td><td>6.800000</td><td>0.6791667</td><td>1</td><td>9.508333</td><td>720</td></tr>\n",
       "\t<tr><td>2010</td><td>SEA</td><td>0.8491843</td><td>0.9753346</td><td>0.8656598</td><td>0.6981265</td><td>1.0632710</td><td>0.8571557</td><td>1</td><td>0.8723139</td><td>246</td><td>1.886076</td><td>11.59494</td><td>3.451477</td><td>0.2911392</td><td>5.088608</td><td>0.5738397</td><td>1</td><td>8.299578</td><td>711</td></tr>\n",
       "\t<tr><td>2010</td><td>SDN</td><td>0.7668394</td><td>0.8341085</td><td>0.7512077</td><td>1.1142410</td><td>1.0275098</td><td>0.9111111</td><td>1</td><td>0.7723607</td><td>243</td><td>1.787037</td><td>11.94444</td><td>3.407407</td><td>0.3287037</td><td>5.759259</td><td>0.5555556</td><td>1</td><td>8.546296</td><td>648</td></tr>\n",
       "</tbody>\n",
       "</table>\n"
      ],
      "text/latex": [
       "A tibble: 29 × 20\n",
       "\\begin{tabular}{llllllllllllllllllll}\n",
       " season & team.key & B\\_HR & B\\_1B & B\\_2B & B\\_3B & B\\_BB & B\\_HP & B\\_XI & B\\_R & games & B\\_HR\\_road & B\\_1B\\_road & B\\_2B\\_road & B\\_3B\\_road & B\\_BB\\_road & B\\_HP\\_road & B\\_XI\\_road & B\\_R\\_road & games\\_road\\\\\n",
       " <dbl> & <fct> & <dbl> & <dbl> & <dbl> & <dbl> & <dbl> & <dbl> & <dbl> & <dbl> & <int> & <dbl> & <dbl> & <dbl> & <dbl> & <dbl> & <dbl> & <dbl> & <dbl> & <int>\\\\\n",
       "\\hline\n",
       "\t 2010 & TEX & 1.2800830 & 1.0414600 & 1.1082090 & 1.3809524 & 1.0321199 & 1.2727273 & 1 & 1.1862934 & 243 & 1.983539 & 11.61317 & 3.308642 & 0.2592593 & 5.765432 & 0.5432099 & 1 & 8.526749 & 729\\\\\n",
       "\t 2010 & BOS & 0.9062162 & 1.0297664 & 1.2988008 & 0.9144947 & 0.9702322 & 1.1104136 & 1 & 1.1149362 & 243 & 2.375000 & 11.43333 & 3.491667 & 0.3375000 & 6.850000 & 0.7375000 & 1 & 9.279167 & 720\\\\\n",
       "\t 2010 & ARI & 1.0450450 & 0.9585913 & 1.1405089 & 1.7026604 & 0.9121582 & 1.0623306 & 1 & 1.1004356 & 243 & 2.055556 & 11.21759 & 3.254630 & 0.3287037 & 6.189815 & 0.5694444 & 1 & 8.384259 & 648\\\\\n",
       "\t 2010 & CHN & 1.0217575 & 1.0494997 & 0.9969781 & 1.2541866 & 1.0279472 & 0.9344920 & 1 & 1.0912515 & 242 & 1.892704 & 11.20172 & 3.386266 & 0.3261803 & 6.090129 & 0.7296137 & 1 & 8.236052 & 699\\\\\n",
       "\t 2010 & NYA & 1.3000000 & 1.0003522 & 0.9364162 & 0.6818182 & 1.0266344 & 1.0962567 & 1 & 1.0786122 & 243 & 2.098765 & 11.68313 & 3.559671 & 0.3621399 & 6.798354 & 0.7695473 & 1 & 9.370370 & 729\\\\\n",
       "\t 2010 & CHA & 1.3073299 & 0.9354493 & 0.9656249 & 0.7474141 & 1.1738977 & 1.0110308 & 1 & 1.0598865 & 243 & 1.725000 & 12.61250 & 3.362500 & 0.3083333 & 5.104167 & 0.7041667 & 1 & 8.545833 & 720\\\\\n",
       "\t 2010 & BAL & 1.1916168 & 1.0551370 & 1.0240437 & 0.8181818 & 0.9935484 & 1.0547945 & 1 & 1.0441570 & 243 & 2.061728 & 12.01646 & 3.765432 & 0.3168724 & 5.740741 & 0.6008230 & 1 & 9.226337 & 729\\\\\n",
       "\t 2010 & TOR & 1.1671089 & 0.9498336 & 1.0658480 & 1.3102941 & 0.9956587 & 0.9949422 & 1 & 1.0414933 & 240 & 2.209877 & 11.43621 & 3.748971 & 0.2798354 & 6.185185 & 0.7119342 & 1 & 9.197531 & 729\\\\\n",
       "\t 2010 & KCA & 0.7905258 & 1.0867262 & 1.0775486 & 1.6460905 & 1.0304433 & 1.1298765 & 1 & 1.0388023 & 243 & 2.045833 & 12.08750 & 3.479167 & 0.3500000 & 5.866667 & 0.5208333 & 1 & 9.091667 & 720\\\\\n",
       "\t 2010 & FLO & 0.9408066 & 1.0003308 & 1.0224779 & 0.9369455 & 1.1273966 & 1.0844780 & 1 & 1.0322644 & 237 & 1.879167 & 11.63750 & 3.437500 & 0.4458333 & 5.700000 & 0.5875000 & 1 & 8.608333 & 720\\\\\n",
       "\t 2010 & DET & 0.9575011 & 1.0181716 & 0.9698115 & 1.3262035 & 0.9321337 & 0.9784572 & 1 & 1.0226771 & 243 & 2.041494 & 12.15768 & 3.373444 & 0.3568465 & 6.348548 & 0.6182573 & 1 & 9.053942 & 723\\\\\n",
       "\t 2010 & PHI & 1.0287401 & 0.9710286 & 1.0018631 & 0.8968210 & 0.9931848 & 0.8679631 & 1 & 1.0092588 & 246 & 2.038961 & 11.55844 & 3.428571 & 0.3852814 & 5.554113 & 0.8008658 & 1 & 8.450216 & 693\\\\\n",
       "\t 2010 & CIN & 1.1902612 & 0.9708491 & 0.9144727 & 0.9009448 & 0.9707336 & 0.8900049 & 1 & 1.0033099 & 243 & 1.956897 & 11.74569 & 3.577586 & 0.3060345 & 6.172414 & 0.7629310 & 1 & 8.810345 & 696\\\\\n",
       "\t 2010 & MIN & 0.8752483 & 1.0305503 & 1.0097818 & 1.0855328 & 0.9922429 & 0.7889610 & 1 & 0.9959016 & 244 & 2.004115 & 12.41975 & 3.543210 & 0.4115226 & 5.600823 & 0.6337449 & 1 & 9.152263 & 729\\\\\n",
       "\t 2010 & PIT & 0.8621151 & 1.0057471 & 1.0008096 & 0.8788948 & 0.9104643 & 0.9532148 & 1 & 0.9801000 & 243 & 1.804348 & 11.60000 & 3.713043 & 0.4260870 & 6.052174 & 0.6130435 & 1 & 8.573913 & 690\\\\\n",
       "\t 2010 & WAS & 0.9918117 & 0.9965295 & 1.0112582 & 0.8588154 & 0.8561453 & 0.9706612 & 1 & 0.9652376 & 242 & 1.870690 & 11.68103 & 3.379310 & 0.4137931 & 6.448276 & 0.6896552 & 1 & 8.818966 & 696\\\\\n",
       "\t 2010 & MIL & 1.0870137 & 0.9340253 & 1.0541951 & 0.9044353 & 0.9980078 & 0.7989292 & 1 & 0.9574671 & 243 & 2.108696 & 11.87391 & 3.439130 & 0.3913043 & 6.152174 & 0.8086957 & 1 & 9.382609 & 690\\\\\n",
       "\t 2010 & OAK & 0.7955056 & 0.9439189 & 0.9135514 & 1.0985915 & 1.0047202 & 0.8251748 & 1 & 0.9511617 & 243 & 1.831276 & 12.18107 & 3.522634 & 0.2921811 & 6.102881 & 0.5884774 & 1 & 8.679012 & 729\\\\\n",
       "\t 2010 & HOU & 1.0709208 & 0.9663096 & 0.9918302 & 1.0569117 & 0.9798883 & 1.2027651 & 1 & 0.9497614 & 243 & 1.652361 & 12.13305 & 3.493562 & 0.3776824 & 5.476395 & 0.4892704 & 1 & 8.605150 & 699\\\\\n",
       "\t 2010 & ATL & 0.9476076 & 0.9926357 & 0.9074100 & 0.9669727 & 0.9758278 & 0.9477637 & 1 & 0.9467805 & 243 & 1.732759 & 11.50862 & 3.478448 & 0.3362069 & 6.047414 & 0.5905172 & 1 & 8.280172 & 696\\\\\n",
       "\t 2010 & SFN & 0.8386692 & 0.9411111 & 0.9608939 & 1.1171171 & 0.8824940 & 0.8955224 & 1 & 0.9135952 & 243 & 1.638889 & 11.11111 & 3.314815 & 0.3425926 & 5.791667 & 0.6203704 & 1 & 7.662037 & 648\\\\\n",
       "\t 2010 & SLN & 0.7333958 & 0.9737562 & 0.8814306 & 0.7415922 & 1.0203277 & 1.0168350 & 1 & 0.9045039 & 243 & 2.025641 & 12.20085 & 3.735043 & 0.3717949 & 5.380342 & 0.6111111 & 1 & 8.940171 & 702\\\\\n",
       "\t 2010 & CLE & 0.8568548 & 0.9731201 & 1.0187638 & 0.7127660 & 0.9659820 & 0.8317308 & 1 & 0.9036503 & 243 & 2.041152 & 12.09465 & 3.728395 & 0.3868313 & 6.411523 & 0.8559671 & 1 & 9.695473 & 729\\\\\n",
       "\t 2010 & ANA & 0.9246436 & 1.0017319 & 0.8585106 & 0.5631068 & 0.9445215 & 1.3032787 & 1 & 0.8997350 & 243 & 2.020576 & 11.88066 & 3.868313 & 0.4238683 & 5.934156 & 0.5020576 & 1 & 9.316872 & 729\\\\\n",
       "\t 2010 & LAN & 0.9264101 & 0.9476672 & 0.9297840 & 0.4857581 & 0.8773215 & 1.0432406 & 1 & 0.8981120 & 243 & 1.581395 & 11.58140 & 3.200000 & 0.4744186 & 6.074419 & 0.6232558 & 1 & 8.330233 & 645\\\\\n",
       "\t 2010 & NYN & 0.8112963 & 0.9399098 & 0.9043384 & 1.2062378 & 0.9932275 & 1.0565844 & 1 & 0.8967564 & 243 & 1.709402 & 12.49573 & 3.790598 & 0.4059829 & 5.982906 & 0.6153846 & 1 & 9.012821 & 702\\\\\n",
       "\t 2010 & TBA & 0.9357700 & 0.9578170 & 0.8992911 & 1.1522634 & 0.9362140 & 0.9270620 & 1 & 0.8725290 & 243 & 2.220833 & 10.89583 & 3.679167 & 0.3750000 & 6.800000 & 0.6791667 & 1 & 9.508333 & 720\\\\\n",
       "\t 2010 & SEA & 0.8491843 & 0.9753346 & 0.8656598 & 0.6981265 & 1.0632710 & 0.8571557 & 1 & 0.8723139 & 246 & 1.886076 & 11.59494 & 3.451477 & 0.2911392 & 5.088608 & 0.5738397 & 1 & 8.299578 & 711\\\\\n",
       "\t 2010 & SDN & 0.7668394 & 0.8341085 & 0.7512077 & 1.1142410 & 1.0275098 & 0.9111111 & 1 & 0.7723607 & 243 & 1.787037 & 11.94444 & 3.407407 & 0.3287037 & 5.759259 & 0.5555556 & 1 & 8.546296 & 648\\\\\n",
       "\\end{tabular}\n"
      ],
      "text/markdown": [
       "\n",
       "A tibble: 29 × 20\n",
       "\n",
       "| season &lt;dbl&gt; | team.key &lt;fct&gt; | B_HR &lt;dbl&gt; | B_1B &lt;dbl&gt; | B_2B &lt;dbl&gt; | B_3B &lt;dbl&gt; | B_BB &lt;dbl&gt; | B_HP &lt;dbl&gt; | B_XI &lt;dbl&gt; | B_R &lt;dbl&gt; | games &lt;int&gt; | B_HR_road &lt;dbl&gt; | B_1B_road &lt;dbl&gt; | B_2B_road &lt;dbl&gt; | B_3B_road &lt;dbl&gt; | B_BB_road &lt;dbl&gt; | B_HP_road &lt;dbl&gt; | B_XI_road &lt;dbl&gt; | B_R_road &lt;dbl&gt; | games_road &lt;int&gt; |\n",
       "|---|---|---|---|---|---|---|---|---|---|---|---|---|---|---|---|---|---|---|---|\n",
       "| 2010 | TEX | 1.2800830 | 1.0414600 | 1.1082090 | 1.3809524 | 1.0321199 | 1.2727273 | 1 | 1.1862934 | 243 | 1.983539 | 11.61317 | 3.308642 | 0.2592593 | 5.765432 | 0.5432099 | 1 | 8.526749 | 729 |\n",
       "| 2010 | BOS | 0.9062162 | 1.0297664 | 1.2988008 | 0.9144947 | 0.9702322 | 1.1104136 | 1 | 1.1149362 | 243 | 2.375000 | 11.43333 | 3.491667 | 0.3375000 | 6.850000 | 0.7375000 | 1 | 9.279167 | 720 |\n",
       "| 2010 | ARI | 1.0450450 | 0.9585913 | 1.1405089 | 1.7026604 | 0.9121582 | 1.0623306 | 1 | 1.1004356 | 243 | 2.055556 | 11.21759 | 3.254630 | 0.3287037 | 6.189815 | 0.5694444 | 1 | 8.384259 | 648 |\n",
       "| 2010 | CHN | 1.0217575 | 1.0494997 | 0.9969781 | 1.2541866 | 1.0279472 | 0.9344920 | 1 | 1.0912515 | 242 | 1.892704 | 11.20172 | 3.386266 | 0.3261803 | 6.090129 | 0.7296137 | 1 | 8.236052 | 699 |\n",
       "| 2010 | NYA | 1.3000000 | 1.0003522 | 0.9364162 | 0.6818182 | 1.0266344 | 1.0962567 | 1 | 1.0786122 | 243 | 2.098765 | 11.68313 | 3.559671 | 0.3621399 | 6.798354 | 0.7695473 | 1 | 9.370370 | 729 |\n",
       "| 2010 | CHA | 1.3073299 | 0.9354493 | 0.9656249 | 0.7474141 | 1.1738977 | 1.0110308 | 1 | 1.0598865 | 243 | 1.725000 | 12.61250 | 3.362500 | 0.3083333 | 5.104167 | 0.7041667 | 1 | 8.545833 | 720 |\n",
       "| 2010 | BAL | 1.1916168 | 1.0551370 | 1.0240437 | 0.8181818 | 0.9935484 | 1.0547945 | 1 | 1.0441570 | 243 | 2.061728 | 12.01646 | 3.765432 | 0.3168724 | 5.740741 | 0.6008230 | 1 | 9.226337 | 729 |\n",
       "| 2010 | TOR | 1.1671089 | 0.9498336 | 1.0658480 | 1.3102941 | 0.9956587 | 0.9949422 | 1 | 1.0414933 | 240 | 2.209877 | 11.43621 | 3.748971 | 0.2798354 | 6.185185 | 0.7119342 | 1 | 9.197531 | 729 |\n",
       "| 2010 | KCA | 0.7905258 | 1.0867262 | 1.0775486 | 1.6460905 | 1.0304433 | 1.1298765 | 1 | 1.0388023 | 243 | 2.045833 | 12.08750 | 3.479167 | 0.3500000 | 5.866667 | 0.5208333 | 1 | 9.091667 | 720 |\n",
       "| 2010 | FLO | 0.9408066 | 1.0003308 | 1.0224779 | 0.9369455 | 1.1273966 | 1.0844780 | 1 | 1.0322644 | 237 | 1.879167 | 11.63750 | 3.437500 | 0.4458333 | 5.700000 | 0.5875000 | 1 | 8.608333 | 720 |\n",
       "| 2010 | DET | 0.9575011 | 1.0181716 | 0.9698115 | 1.3262035 | 0.9321337 | 0.9784572 | 1 | 1.0226771 | 243 | 2.041494 | 12.15768 | 3.373444 | 0.3568465 | 6.348548 | 0.6182573 | 1 | 9.053942 | 723 |\n",
       "| 2010 | PHI | 1.0287401 | 0.9710286 | 1.0018631 | 0.8968210 | 0.9931848 | 0.8679631 | 1 | 1.0092588 | 246 | 2.038961 | 11.55844 | 3.428571 | 0.3852814 | 5.554113 | 0.8008658 | 1 | 8.450216 | 693 |\n",
       "| 2010 | CIN | 1.1902612 | 0.9708491 | 0.9144727 | 0.9009448 | 0.9707336 | 0.8900049 | 1 | 1.0033099 | 243 | 1.956897 | 11.74569 | 3.577586 | 0.3060345 | 6.172414 | 0.7629310 | 1 | 8.810345 | 696 |\n",
       "| 2010 | MIN | 0.8752483 | 1.0305503 | 1.0097818 | 1.0855328 | 0.9922429 | 0.7889610 | 1 | 0.9959016 | 244 | 2.004115 | 12.41975 | 3.543210 | 0.4115226 | 5.600823 | 0.6337449 | 1 | 9.152263 | 729 |\n",
       "| 2010 | PIT | 0.8621151 | 1.0057471 | 1.0008096 | 0.8788948 | 0.9104643 | 0.9532148 | 1 | 0.9801000 | 243 | 1.804348 | 11.60000 | 3.713043 | 0.4260870 | 6.052174 | 0.6130435 | 1 | 8.573913 | 690 |\n",
       "| 2010 | WAS | 0.9918117 | 0.9965295 | 1.0112582 | 0.8588154 | 0.8561453 | 0.9706612 | 1 | 0.9652376 | 242 | 1.870690 | 11.68103 | 3.379310 | 0.4137931 | 6.448276 | 0.6896552 | 1 | 8.818966 | 696 |\n",
       "| 2010 | MIL | 1.0870137 | 0.9340253 | 1.0541951 | 0.9044353 | 0.9980078 | 0.7989292 | 1 | 0.9574671 | 243 | 2.108696 | 11.87391 | 3.439130 | 0.3913043 | 6.152174 | 0.8086957 | 1 | 9.382609 | 690 |\n",
       "| 2010 | OAK | 0.7955056 | 0.9439189 | 0.9135514 | 1.0985915 | 1.0047202 | 0.8251748 | 1 | 0.9511617 | 243 | 1.831276 | 12.18107 | 3.522634 | 0.2921811 | 6.102881 | 0.5884774 | 1 | 8.679012 | 729 |\n",
       "| 2010 | HOU | 1.0709208 | 0.9663096 | 0.9918302 | 1.0569117 | 0.9798883 | 1.2027651 | 1 | 0.9497614 | 243 | 1.652361 | 12.13305 | 3.493562 | 0.3776824 | 5.476395 | 0.4892704 | 1 | 8.605150 | 699 |\n",
       "| 2010 | ATL | 0.9476076 | 0.9926357 | 0.9074100 | 0.9669727 | 0.9758278 | 0.9477637 | 1 | 0.9467805 | 243 | 1.732759 | 11.50862 | 3.478448 | 0.3362069 | 6.047414 | 0.5905172 | 1 | 8.280172 | 696 |\n",
       "| 2010 | SFN | 0.8386692 | 0.9411111 | 0.9608939 | 1.1171171 | 0.8824940 | 0.8955224 | 1 | 0.9135952 | 243 | 1.638889 | 11.11111 | 3.314815 | 0.3425926 | 5.791667 | 0.6203704 | 1 | 7.662037 | 648 |\n",
       "| 2010 | SLN | 0.7333958 | 0.9737562 | 0.8814306 | 0.7415922 | 1.0203277 | 1.0168350 | 1 | 0.9045039 | 243 | 2.025641 | 12.20085 | 3.735043 | 0.3717949 | 5.380342 | 0.6111111 | 1 | 8.940171 | 702 |\n",
       "| 2010 | CLE | 0.8568548 | 0.9731201 | 1.0187638 | 0.7127660 | 0.9659820 | 0.8317308 | 1 | 0.9036503 | 243 | 2.041152 | 12.09465 | 3.728395 | 0.3868313 | 6.411523 | 0.8559671 | 1 | 9.695473 | 729 |\n",
       "| 2010 | ANA | 0.9246436 | 1.0017319 | 0.8585106 | 0.5631068 | 0.9445215 | 1.3032787 | 1 | 0.8997350 | 243 | 2.020576 | 11.88066 | 3.868313 | 0.4238683 | 5.934156 | 0.5020576 | 1 | 9.316872 | 729 |\n",
       "| 2010 | LAN | 0.9264101 | 0.9476672 | 0.9297840 | 0.4857581 | 0.8773215 | 1.0432406 | 1 | 0.8981120 | 243 | 1.581395 | 11.58140 | 3.200000 | 0.4744186 | 6.074419 | 0.6232558 | 1 | 8.330233 | 645 |\n",
       "| 2010 | NYN | 0.8112963 | 0.9399098 | 0.9043384 | 1.2062378 | 0.9932275 | 1.0565844 | 1 | 0.8967564 | 243 | 1.709402 | 12.49573 | 3.790598 | 0.4059829 | 5.982906 | 0.6153846 | 1 | 9.012821 | 702 |\n",
       "| 2010 | TBA | 0.9357700 | 0.9578170 | 0.8992911 | 1.1522634 | 0.9362140 | 0.9270620 | 1 | 0.8725290 | 243 | 2.220833 | 10.89583 | 3.679167 | 0.3750000 | 6.800000 | 0.6791667 | 1 | 9.508333 | 720 |\n",
       "| 2010 | SEA | 0.8491843 | 0.9753346 | 0.8656598 | 0.6981265 | 1.0632710 | 0.8571557 | 1 | 0.8723139 | 246 | 1.886076 | 11.59494 | 3.451477 | 0.2911392 | 5.088608 | 0.5738397 | 1 | 8.299578 | 711 |\n",
       "| 2010 | SDN | 0.7668394 | 0.8341085 | 0.7512077 | 1.1142410 | 1.0275098 | 0.9111111 | 1 | 0.7723607 | 243 | 1.787037 | 11.94444 | 3.407407 | 0.3287037 | 5.759259 | 0.5555556 | 1 | 8.546296 | 648 |\n",
       "\n"
      ],
      "text/plain": [
       "   season team.key B_HR      B_1B      B_2B      B_3B      B_BB      B_HP     \n",
       "1  2010   TEX      1.2800830 1.0414600 1.1082090 1.3809524 1.0321199 1.2727273\n",
       "2  2010   BOS      0.9062162 1.0297664 1.2988008 0.9144947 0.9702322 1.1104136\n",
       "3  2010   ARI      1.0450450 0.9585913 1.1405089 1.7026604 0.9121582 1.0623306\n",
       "4  2010   CHN      1.0217575 1.0494997 0.9969781 1.2541866 1.0279472 0.9344920\n",
       "5  2010   NYA      1.3000000 1.0003522 0.9364162 0.6818182 1.0266344 1.0962567\n",
       "6  2010   CHA      1.3073299 0.9354493 0.9656249 0.7474141 1.1738977 1.0110308\n",
       "7  2010   BAL      1.1916168 1.0551370 1.0240437 0.8181818 0.9935484 1.0547945\n",
       "8  2010   TOR      1.1671089 0.9498336 1.0658480 1.3102941 0.9956587 0.9949422\n",
       "9  2010   KCA      0.7905258 1.0867262 1.0775486 1.6460905 1.0304433 1.1298765\n",
       "10 2010   FLO      0.9408066 1.0003308 1.0224779 0.9369455 1.1273966 1.0844780\n",
       "11 2010   DET      0.9575011 1.0181716 0.9698115 1.3262035 0.9321337 0.9784572\n",
       "12 2010   PHI      1.0287401 0.9710286 1.0018631 0.8968210 0.9931848 0.8679631\n",
       "13 2010   CIN      1.1902612 0.9708491 0.9144727 0.9009448 0.9707336 0.8900049\n",
       "14 2010   MIN      0.8752483 1.0305503 1.0097818 1.0855328 0.9922429 0.7889610\n",
       "15 2010   PIT      0.8621151 1.0057471 1.0008096 0.8788948 0.9104643 0.9532148\n",
       "16 2010   WAS      0.9918117 0.9965295 1.0112582 0.8588154 0.8561453 0.9706612\n",
       "17 2010   MIL      1.0870137 0.9340253 1.0541951 0.9044353 0.9980078 0.7989292\n",
       "18 2010   OAK      0.7955056 0.9439189 0.9135514 1.0985915 1.0047202 0.8251748\n",
       "19 2010   HOU      1.0709208 0.9663096 0.9918302 1.0569117 0.9798883 1.2027651\n",
       "20 2010   ATL      0.9476076 0.9926357 0.9074100 0.9669727 0.9758278 0.9477637\n",
       "21 2010   SFN      0.8386692 0.9411111 0.9608939 1.1171171 0.8824940 0.8955224\n",
       "22 2010   SLN      0.7333958 0.9737562 0.8814306 0.7415922 1.0203277 1.0168350\n",
       "23 2010   CLE      0.8568548 0.9731201 1.0187638 0.7127660 0.9659820 0.8317308\n",
       "24 2010   ANA      0.9246436 1.0017319 0.8585106 0.5631068 0.9445215 1.3032787\n",
       "25 2010   LAN      0.9264101 0.9476672 0.9297840 0.4857581 0.8773215 1.0432406\n",
       "26 2010   NYN      0.8112963 0.9399098 0.9043384 1.2062378 0.9932275 1.0565844\n",
       "27 2010   TBA      0.9357700 0.9578170 0.8992911 1.1522634 0.9362140 0.9270620\n",
       "28 2010   SEA      0.8491843 0.9753346 0.8656598 0.6981265 1.0632710 0.8571557\n",
       "29 2010   SDN      0.7668394 0.8341085 0.7512077 1.1142410 1.0275098 0.9111111\n",
       "   B_XI B_R       games B_HR_road B_1B_road B_2B_road B_3B_road B_BB_road\n",
       "1  1    1.1862934 243   1.983539  11.61317  3.308642  0.2592593 5.765432 \n",
       "2  1    1.1149362 243   2.375000  11.43333  3.491667  0.3375000 6.850000 \n",
       "3  1    1.1004356 243   2.055556  11.21759  3.254630  0.3287037 6.189815 \n",
       "4  1    1.0912515 242   1.892704  11.20172  3.386266  0.3261803 6.090129 \n",
       "5  1    1.0786122 243   2.098765  11.68313  3.559671  0.3621399 6.798354 \n",
       "6  1    1.0598865 243   1.725000  12.61250  3.362500  0.3083333 5.104167 \n",
       "7  1    1.0441570 243   2.061728  12.01646  3.765432  0.3168724 5.740741 \n",
       "8  1    1.0414933 240   2.209877  11.43621  3.748971  0.2798354 6.185185 \n",
       "9  1    1.0388023 243   2.045833  12.08750  3.479167  0.3500000 5.866667 \n",
       "10 1    1.0322644 237   1.879167  11.63750  3.437500  0.4458333 5.700000 \n",
       "11 1    1.0226771 243   2.041494  12.15768  3.373444  0.3568465 6.348548 \n",
       "12 1    1.0092588 246   2.038961  11.55844  3.428571  0.3852814 5.554113 \n",
       "13 1    1.0033099 243   1.956897  11.74569  3.577586  0.3060345 6.172414 \n",
       "14 1    0.9959016 244   2.004115  12.41975  3.543210  0.4115226 5.600823 \n",
       "15 1    0.9801000 243   1.804348  11.60000  3.713043  0.4260870 6.052174 \n",
       "16 1    0.9652376 242   1.870690  11.68103  3.379310  0.4137931 6.448276 \n",
       "17 1    0.9574671 243   2.108696  11.87391  3.439130  0.3913043 6.152174 \n",
       "18 1    0.9511617 243   1.831276  12.18107  3.522634  0.2921811 6.102881 \n",
       "19 1    0.9497614 243   1.652361  12.13305  3.493562  0.3776824 5.476395 \n",
       "20 1    0.9467805 243   1.732759  11.50862  3.478448  0.3362069 6.047414 \n",
       "21 1    0.9135952 243   1.638889  11.11111  3.314815  0.3425926 5.791667 \n",
       "22 1    0.9045039 243   2.025641  12.20085  3.735043  0.3717949 5.380342 \n",
       "23 1    0.9036503 243   2.041152  12.09465  3.728395  0.3868313 6.411523 \n",
       "24 1    0.8997350 243   2.020576  11.88066  3.868313  0.4238683 5.934156 \n",
       "25 1    0.8981120 243   1.581395  11.58140  3.200000  0.4744186 6.074419 \n",
       "26 1    0.8967564 243   1.709402  12.49573  3.790598  0.4059829 5.982906 \n",
       "27 1    0.8725290 243   2.220833  10.89583  3.679167  0.3750000 6.800000 \n",
       "28 1    0.8723139 246   1.886076  11.59494  3.451477  0.2911392 5.088608 \n",
       "29 1    0.7723607 243   1.787037  11.94444  3.407407  0.3287037 5.759259 \n",
       "   B_HP_road B_XI_road B_R_road games_road\n",
       "1  0.5432099 1         8.526749 729       \n",
       "2  0.7375000 1         9.279167 720       \n",
       "3  0.5694444 1         8.384259 648       \n",
       "4  0.7296137 1         8.236052 699       \n",
       "5  0.7695473 1         9.370370 729       \n",
       "6  0.7041667 1         8.545833 720       \n",
       "7  0.6008230 1         9.226337 729       \n",
       "8  0.7119342 1         9.197531 729       \n",
       "9  0.5208333 1         9.091667 720       \n",
       "10 0.5875000 1         8.608333 720       \n",
       "11 0.6182573 1         9.053942 723       \n",
       "12 0.8008658 1         8.450216 693       \n",
       "13 0.7629310 1         8.810345 696       \n",
       "14 0.6337449 1         9.152263 729       \n",
       "15 0.6130435 1         8.573913 690       \n",
       "16 0.6896552 1         8.818966 696       \n",
       "17 0.8086957 1         9.382609 690       \n",
       "18 0.5884774 1         8.679012 729       \n",
       "19 0.4892704 1         8.605150 699       \n",
       "20 0.5905172 1         8.280172 696       \n",
       "21 0.6203704 1         7.662037 648       \n",
       "22 0.6111111 1         8.940171 702       \n",
       "23 0.8559671 1         9.695473 729       \n",
       "24 0.5020576 1         9.316872 729       \n",
       "25 0.6232558 1         8.330233 645       \n",
       "26 0.6153846 1         9.012821 702       \n",
       "27 0.6791667 1         9.508333 720       \n",
       "28 0.5738397 1         8.299578 711       \n",
       "29 0.5555556 1         8.546296 648       "
      ]
     },
     "metadata": {},
     "output_type": "display_data"
    }
   ],
   "source": [
    "park_effects %>% filter(season==2010) %>% arrange(-B_R)"
   ]
  },
  {
   "cell_type": "code",
   "execution_count": 13,
   "metadata": {},
   "outputs": [],
   "source": [
    "df = df %>% mutate(game.date = as.Date(game.date))"
   ]
  },
  {
   "cell_type": "markdown",
   "metadata": {},
   "source": [
    "# Hot/cold streak definition\n",
    "\n",
    "* Defined a hot / cold wOBA threshold \n",
    "* Rolling wOBA over five-game periods (so first or last five of the year cant be considered)\n",
    "* Must have at least 20 PA in the five game stretch to be considered\n",
    "* Thresholds defined as groups where 5 percent of league is hot, 5 is cold for a given 5 game stretch\n",
    "* Roughly this means .525 woba for hot, .195 for cold \n",
    "\n",
    "\n",
    "\n",
    "TODO: make sure streaks don't count if a player missed a game in the middle. "
   ]
  },
  {
   "cell_type": "code",
   "execution_count": 14,
   "metadata": {},
   "outputs": [],
   "source": [
    "# define woba numerator and denominator to get N-game woba\n",
    "# weights by year https://www.fangraphs.com/guts.aspx?type=cn\n",
    "df = df %>% mutate(\n",
    "    woba_numerator = 0.9*B_1B + 1.24*B_2B + 1.56*B_3B + 1.95*B_HR + 0.72*(B_BB - B_IBB) + 0.75*B_HP +  0.92*B_XI, # the book's weights\n",
    "    woba_denominator = B_PA,\n",
    "    game_woba = woba_numerator / woba_denominator)"
   ]
  },
  {
   "cell_type": "code",
   "execution_count": 15,
   "metadata": {},
   "outputs": [],
   "source": [
    "# SQL query to create players' expected woba\n",
    "# expected woba: a player's woba from the current, previous, and following season, omitting the player's past 5 games (inclusive of the current game)\n",
    "player_woba = sqldf('\n",
    "      select \n",
    "        df1.\"person.key\",\n",
    "        df1.season,\n",
    "        df1.game_num,\n",
    "        SUM(coalesce(df2.woba_numerator, 0)) season_woba_num,\n",
    "        SUM(coalesce(df2.woba_denominator, 0)) season_woba_denom,\n",
    "        sum(coalesce(df2.woba_numerator, 0))/sum(coalesce(df2.woba_denominator, 0)) expected_woba,\n",
    "        sum(df2.B_PA) season_pa\n",
    "      from\n",
    "        df AS df1\n",
    "      left join\n",
    "        (select \"person.key\", season, game_num, SUM(coalesce(woba_numerator, 0)) woba_numerator,\n",
    "    SUM(coalesce(woba_denominator, 0)) woba_denominator, sum(B_PA) B_PA from df group by 1,2,3) AS df2\n",
    "      ON\n",
    "        df1.\"person.key\" = df2.\"person.key\"\n",
    "      AND\n",
    "        df1.season <= df2.season + 1\n",
    "      AND\n",
    "        df1.season >= df2.season - 1\n",
    "      AND\n",
    "        (\n",
    "            (df1.season*1000 + df1.game_num) <= (df2.season*1000 + df2.game_num -7)\n",
    "        OR\n",
    "            (df1.season*1000 + df1.game_num) > (df2.season*1000 + df2.game_num)\n",
    "        )\n",
    "      GROUP BY df1.\"person.key\", df1.season, df1.game_num\n",
    "')"
   ]
  },
  {
   "cell_type": "code",
   "execution_count": 16,
   "metadata": {},
   "outputs": [
    {
     "data": {
      "text/html": [
       "<table>\n",
       "<caption>A data.frame: 15 × 7</caption>\n",
       "<thead>\n",
       "\t<tr><th></th><th scope=col>person.key</th><th scope=col>season</th><th scope=col>game_num</th><th scope=col>season_woba_num</th><th scope=col>season_woba_denom</th><th scope=col>expected_woba</th><th scope=col>season_pa</th></tr>\n",
       "\t<tr><th></th><th scope=col>&lt;fct&gt;</th><th scope=col>&lt;dbl&gt;</th><th scope=col>&lt;int&gt;</th><th scope=col>&lt;dbl&gt;</th><th scope=col>&lt;int&gt;</th><th scope=col>&lt;dbl&gt;</th><th scope=col>&lt;int&gt;</th></tr>\n",
       "</thead>\n",
       "<tbody>\n",
       "\t<tr><th scope=row>1</th><td>marte001</td><td>1999</td><td> 20</td><td>2161.412</td><td>3618</td><td>0.5974052</td><td>3618</td></tr>\n",
       "\t<tr><th scope=row>2</th><td>marte001</td><td>1999</td><td>156</td><td>2174.358</td><td>3642</td><td>0.5970230</td><td>3642</td></tr>\n",
       "\t<tr><th scope=row>3</th><td>marte001</td><td>1999</td><td> 88</td><td>2164.248</td><td>3630</td><td>0.5962116</td><td>3630</td></tr>\n",
       "\t<tr><th scope=row>4</th><td>marte001</td><td>1999</td><td> 67</td><td>2161.390</td><td>3626</td><td>0.5960811</td><td>3626</td></tr>\n",
       "\t<tr><th scope=row>5</th><td>marte001</td><td>1999</td><td>157</td><td>2179.402</td><td>3658</td><td>0.5957905</td><td>3658</td></tr>\n",
       "\t<tr><th scope=row>6</th><td>bondb001</td><td>2001</td><td>  2</td><td>1037.178</td><td>1742</td><td>0.5953950</td><td>1742</td></tr>\n",
       "\t<tr><th scope=row>7</th><td>marte001</td><td>1999</td><td> 89</td><td>2158.729</td><td>3626</td><td>0.5953473</td><td>3626</td></tr>\n",
       "\t<tr><th scope=row>8</th><td>bondb001</td><td>2001</td><td>  1</td><td>1033.402</td><td>1737</td><td>0.5949350</td><td>1737</td></tr>\n",
       "\t<tr><th scope=row>9</th><td>marte001</td><td>1999</td><td> 21</td><td>2154.680</td><td>3622</td><td>0.5948867</td><td>3622</td></tr>\n",
       "\t<tr><th scope=row>10</th><td>marte001</td><td>1999</td><td> 18</td><td>2142.925</td><td>3606</td><td>0.5942666</td><td>3606</td></tr>\n",
       "\t<tr><th scope=row>11</th><td>bondb001</td><td>2001</td><td>  3</td><td>1035.736</td><td>1743</td><td>0.5942261</td><td>1743</td></tr>\n",
       "\t<tr><th scope=row>12</th><td>marte001</td><td>1999</td><td>158</td><td>2182.757</td><td>3674</td><td>0.5941091</td><td>3674</td></tr>\n",
       "\t<tr><th scope=row>13</th><td>marte001</td><td>1999</td><td> 90</td><td>2153.870</td><td>3626</td><td>0.5940071</td><td>3626</td></tr>\n",
       "\t<tr><th scope=row>14</th><td>marte001</td><td>1999</td><td> 19</td><td>2151.324</td><td>3622</td><td>0.5939604</td><td>3622</td></tr>\n",
       "\t<tr><th scope=row>15</th><td>marte001</td><td>1999</td><td> 16</td><td>2143.851</td><td>3610</td><td>0.5938646</td><td>3610</td></tr>\n",
       "</tbody>\n",
       "</table>\n"
      ],
      "text/latex": [
       "A data.frame: 15 × 7\n",
       "\\begin{tabular}{r|lllllll}\n",
       "  & person.key & season & game\\_num & season\\_woba\\_num & season\\_woba\\_denom & expected\\_woba & season\\_pa\\\\\n",
       "  & <fct> & <dbl> & <int> & <dbl> & <int> & <dbl> & <int>\\\\\n",
       "\\hline\n",
       "\t1 & marte001 & 1999 &  20 & 2161.412 & 3618 & 0.5974052 & 3618\\\\\n",
       "\t2 & marte001 & 1999 & 156 & 2174.358 & 3642 & 0.5970230 & 3642\\\\\n",
       "\t3 & marte001 & 1999 &  88 & 2164.248 & 3630 & 0.5962116 & 3630\\\\\n",
       "\t4 & marte001 & 1999 &  67 & 2161.390 & 3626 & 0.5960811 & 3626\\\\\n",
       "\t5 & marte001 & 1999 & 157 & 2179.402 & 3658 & 0.5957905 & 3658\\\\\n",
       "\t6 & bondb001 & 2001 &   2 & 1037.178 & 1742 & 0.5953950 & 1742\\\\\n",
       "\t7 & marte001 & 1999 &  89 & 2158.729 & 3626 & 0.5953473 & 3626\\\\\n",
       "\t8 & bondb001 & 2001 &   1 & 1033.402 & 1737 & 0.5949350 & 1737\\\\\n",
       "\t9 & marte001 & 1999 &  21 & 2154.680 & 3622 & 0.5948867 & 3622\\\\\n",
       "\t10 & marte001 & 1999 &  18 & 2142.925 & 3606 & 0.5942666 & 3606\\\\\n",
       "\t11 & bondb001 & 2001 &   3 & 1035.736 & 1743 & 0.5942261 & 1743\\\\\n",
       "\t12 & marte001 & 1999 & 158 & 2182.757 & 3674 & 0.5941091 & 3674\\\\\n",
       "\t13 & marte001 & 1999 &  90 & 2153.870 & 3626 & 0.5940071 & 3626\\\\\n",
       "\t14 & marte001 & 1999 &  19 & 2151.324 & 3622 & 0.5939604 & 3622\\\\\n",
       "\t15 & marte001 & 1999 &  16 & 2143.851 & 3610 & 0.5938646 & 3610\\\\\n",
       "\\end{tabular}\n"
      ],
      "text/markdown": [
       "\n",
       "A data.frame: 15 × 7\n",
       "\n",
       "| <!--/--> | person.key &lt;fct&gt; | season &lt;dbl&gt; | game_num &lt;int&gt; | season_woba_num &lt;dbl&gt; | season_woba_denom &lt;int&gt; | expected_woba &lt;dbl&gt; | season_pa &lt;int&gt; |\n",
       "|---|---|---|---|---|---|---|---|\n",
       "| 1 | marte001 | 1999 |  20 | 2161.412 | 3618 | 0.5974052 | 3618 |\n",
       "| 2 | marte001 | 1999 | 156 | 2174.358 | 3642 | 0.5970230 | 3642 |\n",
       "| 3 | marte001 | 1999 |  88 | 2164.248 | 3630 | 0.5962116 | 3630 |\n",
       "| 4 | marte001 | 1999 |  67 | 2161.390 | 3626 | 0.5960811 | 3626 |\n",
       "| 5 | marte001 | 1999 | 157 | 2179.402 | 3658 | 0.5957905 | 3658 |\n",
       "| 6 | bondb001 | 2001 |   2 | 1037.178 | 1742 | 0.5953950 | 1742 |\n",
       "| 7 | marte001 | 1999 |  89 | 2158.729 | 3626 | 0.5953473 | 3626 |\n",
       "| 8 | bondb001 | 2001 |   1 | 1033.402 | 1737 | 0.5949350 | 1737 |\n",
       "| 9 | marte001 | 1999 |  21 | 2154.680 | 3622 | 0.5948867 | 3622 |\n",
       "| 10 | marte001 | 1999 |  18 | 2142.925 | 3606 | 0.5942666 | 3606 |\n",
       "| 11 | bondb001 | 2001 |   3 | 1035.736 | 1743 | 0.5942261 | 1743 |\n",
       "| 12 | marte001 | 1999 | 158 | 2182.757 | 3674 | 0.5941091 | 3674 |\n",
       "| 13 | marte001 | 1999 |  90 | 2153.870 | 3626 | 0.5940071 | 3626 |\n",
       "| 14 | marte001 | 1999 |  19 | 2151.324 | 3622 | 0.5939604 | 3622 |\n",
       "| 15 | marte001 | 1999 |  16 | 2143.851 | 3610 | 0.5938646 | 3610 |\n",
       "\n"
      ],
      "text/plain": [
       "   person.key season game_num season_woba_num season_woba_denom expected_woba\n",
       "1  marte001   1999    20      2161.412        3618              0.5974052    \n",
       "2  marte001   1999   156      2174.358        3642              0.5970230    \n",
       "3  marte001   1999    88      2164.248        3630              0.5962116    \n",
       "4  marte001   1999    67      2161.390        3626              0.5960811    \n",
       "5  marte001   1999   157      2179.402        3658              0.5957905    \n",
       "6  bondb001   2001     2      1037.178        1742              0.5953950    \n",
       "7  marte001   1999    89      2158.729        3626              0.5953473    \n",
       "8  bondb001   2001     1      1033.402        1737              0.5949350    \n",
       "9  marte001   1999    21      2154.680        3622              0.5948867    \n",
       "10 marte001   1999    18      2142.925        3606              0.5942666    \n",
       "11 bondb001   2001     3      1035.736        1743              0.5942261    \n",
       "12 marte001   1999   158      2182.757        3674              0.5941091    \n",
       "13 marte001   1999    90      2153.870        3626              0.5940071    \n",
       "14 marte001   1999    19      2151.324        3622              0.5939604    \n",
       "15 marte001   1999    16      2143.851        3610              0.5938646    \n",
       "   season_pa\n",
       "1  3618     \n",
       "2  3642     \n",
       "3  3630     \n",
       "4  3626     \n",
       "5  3658     \n",
       "6  1742     \n",
       "7  3626     \n",
       "8  1737     \n",
       "9  3622     \n",
       "10 3606     \n",
       "11 1743     \n",
       "12 3674     \n",
       "13 3626     \n",
       "14 3622     \n",
       "15 3610     "
      ]
     },
     "metadata": {},
     "output_type": "display_data"
    }
   ],
   "source": [
    "player_woba %>% filter(season_pa>50) %>% arrange(-expected_woba) %>% head(15)"
   ]
  },
  {
   "cell_type": "code",
   "execution_count": 17,
   "metadata": {},
   "outputs": [
    {
     "data": {
      "text/html": [
       "<style>\n",
       ".list-inline {list-style: none; margin:0; padding: 0}\n",
       ".list-inline>li {display: inline-block}\n",
       ".list-inline>li:not(:last-child)::after {content: \"\\00b7\"; padding: 0 .5ex}\n",
       "</style>\n",
       "<ol class=list-inline><li>1251409</li><li>206</li></ol>\n"
      ],
      "text/latex": [
       "\\begin{enumerate*}\n",
       "\\item 1251409\n",
       "\\item 206\n",
       "\\end{enumerate*}\n"
      ],
      "text/markdown": [
       "1. 1251409\n",
       "2. 206\n",
       "\n",
       "\n"
      ],
      "text/plain": [
       "[1] 1251409     206"
      ]
     },
     "metadata": {},
     "output_type": "display_data"
    },
    {
     "data": {
      "text/html": [
       "<style>\n",
       ".list-inline {list-style: none; margin:0; padding: 0}\n",
       ".list-inline>li {display: inline-block}\n",
       ".list-inline>li:not(:last-child)::after {content: \"\\00b7\"; padding: 0 .5ex}\n",
       "</style>\n",
       "<ol class=list-inline><li>1008701</li><li>212</li></ol>\n"
      ],
      "text/latex": [
       "\\begin{enumerate*}\n",
       "\\item 1008701\n",
       "\\item 212\n",
       "\\end{enumerate*}\n"
      ],
      "text/markdown": [
       "1. 1008701\n",
       "2. 212\n",
       "\n",
       "\n"
      ],
      "text/plain": [
       "[1] 1008701     212"
      ]
     },
     "metadata": {},
     "output_type": "display_data"
    }
   ],
   "source": [
    "df = df %>% left_join(player_woba,by=c('season', 'person.key', 'game_num'))\n",
    "\n",
    "# remove these seasons. no future/past season available for calculating their expected woba values\n",
    "df = df %>% filter(season > 1999, season < 2019)\n",
    "\n",
    "dim(df)\n",
    "# remove players we can't calculate an expected woba for \n",
    "df = df %>% inner_join(player_years_to_keep, by=c(\"person.key\", \"season\"), suffixes=c(\"\", \"_ignore\"))\n",
    "dim(df)"
   ]
  },
  {
   "cell_type": "code",
   "execution_count": 18,
   "metadata": {},
   "outputs": [
    {
     "name": "stderr",
     "output_type": "stream",
     "text": [
      "\n",
      "Attaching package: ‘zoo’\n",
      "\n",
      "\n",
      "The following objects are masked from ‘package:base’:\n",
      "\n",
      "    as.Date, as.Date.numeric\n",
      "\n",
      "\n"
     ]
    }
   ],
   "source": [
    "# take rolling sums of woba components to get a 5g woba\n",
    "library(zoo)\n",
    "num_games_streak = 5\n",
    "num_games_post_streak = 5\n",
    "min_pa_in_streak = 4 * num_games_streak #4\n",
    "min_pa_post_streak = 3 * num_games_post_streak #0\n",
    "# different offset used for post streak folling counts for 3 vs. 5 game configuration. paste this in if changing streak lenghts.\n",
    "seven_game_post = list(c(1, 2, 3,4,5,6,7))\n",
    "five_game_post = list(c(1, 2, 3, 4, 5))\n",
    "\n",
    "# this is ugly indentation but makes it ahrder to forget to paste something when updating it\n",
    "df = df %>%\n",
    "         arrange(season, person.key, game.date, game.key) %>%\n",
    "         group_by(season, person.key) %>%\n",
    "         mutate(woba_num_rolling =   roll_sum(woba_numerator, num_games_streak, align = \"right\", fill = NA),\n",
    "                pa_rolling =         roll_sum(B_PA, num_games_streak, align = \"right\", fill = NA),\n",
    "                woba_denom_rolling = roll_sum(woba_denominator, num_games_streak, align = \"right\", fill = NA),\n",
    "                woba_rolling = woba_num_rolling/woba_denom_rolling,\n",
    "                woba_num_rolling_future =   rollapply(woba_numerator, FUN=sum, five_game_post, align = \"left\", fill = NA),\n",
    "                pa_rolling_future =         rollapply(B_PA, FUN=sum, five_game_post, align = \"left\", fill = NA),\n",
    "                woba_denom_rolling_future = rollapply(woba_denominator, FUN=sum,  five_game_post, align = \"left\", fill = NA),\n",
    "                woba_rolling_future = woba_num_rolling_future/woba_denom_rolling_future,\n",
    "                \n",
    "                woba_num_rolling_future_nextgame =   rollapply(woba_numerator, FUN=sum, list(c(1)), align = \"left\", fill = NA),\n",
    "                woba_denom_rolling_future_nextgame  = rollapply(woba_denominator, FUN=sum,  list(c(1)), align = \"left\", fill = NA),\n",
    "                woba_rolling_future_nextgame  = woba_num_rolling_future_nextgame /woba_denom_rolling_future_nextgame \n",
    "        ) "
   ]
  },
  {
   "cell_type": "markdown",
   "metadata": {},
   "source": [
    "## Get Thresholds for Hot/Cold Streaks (top/bottom 5% of league in x-game rolling wOBA)"
   ]
  },
  {
   "cell_type": "code",
   "execution_count": 19,
   "metadata": {},
   "outputs": [
    {
     "name": "stderr",
     "output_type": "stream",
     "text": [
      "`summarise()` regrouping output by 'season', 'person.key' (override with `.groups` argument)\n",
      "\n"
     ]
    },
    {
     "data": {
      "text/html": [
       "<table>\n",
       "<caption>A tibble: 2 × 1</caption>\n",
       "<thead>\n",
       "\t<tr><th scope=col>thresholds</th></tr>\n",
       "\t<tr><th scope=col>&lt;dbl&gt;</th></tr>\n",
       "</thead>\n",
       "<tbody>\n",
       "\t<tr><td>0.1683759</td></tr>\n",
       "\t<tr><td>0.5622036</td></tr>\n",
       "</tbody>\n",
       "</table>\n"
      ],
      "text/latex": [
       "A tibble: 2 × 1\n",
       "\\begin{tabular}{l}\n",
       " thresholds\\\\\n",
       " <dbl>\\\\\n",
       "\\hline\n",
       "\t 0.1683759\\\\\n",
       "\t 0.5622036\\\\\n",
       "\\end{tabular}\n"
      ],
      "text/markdown": [
       "\n",
       "A tibble: 2 × 1\n",
       "\n",
       "| thresholds &lt;dbl&gt; |\n",
       "|---|\n",
       "| 0.1683759 |\n",
       "| 0.5622036 |\n",
       "\n"
      ],
      "text/plain": [
       "  thresholds\n",
       "1 0.1683759 \n",
       "2 0.5622036 "
      ]
     },
     "metadata": {},
     "output_type": "display_data"
    }
   ],
   "source": [
    "# get seasons' percentiles for woba thresholds\n",
    "df %>% \n",
    "    # only consider periods with at least 20 pa in them \n",
    "    filter(pa_rolling >= min_pa_in_streak, pa_rolling_future >= min_pa_post_streak) %>% \n",
    "    group_by(season, person.key, game.key) %>% summarise(woba = sum(woba_numerator) / sum(woba_denominator),\n",
    "                                                  #woba_rolling_avg = mean(woba_rolling, na.rm=TRUE), \n",
    "                                                  woba_rolling_avg = sum(woba_num_rolling, na.rm=TRUE)/sum(woba_denom_rolling, na.rm=TRUE),\n",
    "                                                  pa = sum(B_PA)) %>%\n",
    "    ungroup() %>%\n",
    "    summarise(thresholds = quantile(woba_rolling_avg, probs = c(0.05, 0.95))) "
   ]
  },
  {
   "cell_type": "code",
   "execution_count": 20,
   "metadata": {},
   "outputs": [],
   "source": [
    "# create is hot/cold flags\n",
    "hot_threshold = .562\n",
    "cold_threshold = .168\n",
    "df = df %>% ungroup() %>% \n",
    "    mutate(is_hot = ifelse(((woba_rolling > hot_threshold) & (pa_rolling>=min_pa_in_streak) & (game_num < 157)), 1, 0),\n",
    "           is_cold = ifelse(((woba_rolling < cold_threshold) & (pa_rolling>=min_pa_in_streak) & (game_num < 157)), 1, 0))"
   ]
  },
  {
   "cell_type": "markdown",
   "metadata": {},
   "source": [
    "## Calculate Streak, Post-Streak, and Expected Value Summary Stats"
   ]
  },
  {
   "cell_type": "code",
   "execution_count": 21,
   "metadata": {},
   "outputs": [
    {
     "data": {
      "text/html": [
       "<table>\n",
       "<caption>A tibble: 1 × 11</caption>\n",
       "<thead>\n",
       "\t<tr><th scope=col>unique_hot_players</th><th scope=col>total_hot_streaks</th><th scope=col>total_hot_pa</th><th scope=col>mean_hot_woba</th><th scope=col>mean_post_hot_woba_nextgame</th><th scope=col>mean_post_hot_woba</th><th scope=col>expected_woba</th><th scope=col>std_mean_post_hot_woba</th><th scope=col>upper_ci_post</th><th scope=col>lower_ci_post</th><th scope=col>mean_season_woba</th></tr>\n",
       "\t<tr><th scope=col>&lt;int&gt;</th><th scope=col>&lt;dbl&gt;</th><th scope=col>&lt;dbl&gt;</th><th scope=col>&lt;dbl&gt;</th><th scope=col>&lt;dbl&gt;</th><th scope=col>&lt;dbl&gt;</th><th scope=col>&lt;dbl&gt;</th><th scope=col>&lt;dbl&gt;</th><th scope=col>&lt;dbl&gt;</th><th scope=col>&lt;dbl&gt;</th><th scope=col>&lt;dbl&gt;</th></tr>\n",
       "</thead>\n",
       "<tbody>\n",
       "\t<tr><td>941</td><td>18677</td><td>411666</td><td>0.6276038</td><td>0.3732767</td><td>0.3737345</td><td>0.3717355</td><td>0.00194363</td><td>0.3756782</td><td>0.3717909</td><td>0.376459</td></tr>\n",
       "</tbody>\n",
       "</table>\n"
      ],
      "text/latex": [
       "A tibble: 1 × 11\n",
       "\\begin{tabular}{lllllllllll}\n",
       " unique\\_hot\\_players & total\\_hot\\_streaks & total\\_hot\\_pa & mean\\_hot\\_woba & mean\\_post\\_hot\\_woba\\_nextgame & mean\\_post\\_hot\\_woba & expected\\_woba & std\\_mean\\_post\\_hot\\_woba & upper\\_ci\\_post & lower\\_ci\\_post & mean\\_season\\_woba\\\\\n",
       " <int> & <dbl> & <dbl> & <dbl> & <dbl> & <dbl> & <dbl> & <dbl> & <dbl> & <dbl> & <dbl>\\\\\n",
       "\\hline\n",
       "\t 941 & 18677 & 411666 & 0.6276038 & 0.3732767 & 0.3737345 & 0.3717355 & 0.00194363 & 0.3756782 & 0.3717909 & 0.376459\\\\\n",
       "\\end{tabular}\n"
      ],
      "text/markdown": [
       "\n",
       "A tibble: 1 × 11\n",
       "\n",
       "| unique_hot_players &lt;int&gt; | total_hot_streaks &lt;dbl&gt; | total_hot_pa &lt;dbl&gt; | mean_hot_woba &lt;dbl&gt; | mean_post_hot_woba_nextgame &lt;dbl&gt; | mean_post_hot_woba &lt;dbl&gt; | expected_woba &lt;dbl&gt; | std_mean_post_hot_woba &lt;dbl&gt; | upper_ci_post &lt;dbl&gt; | lower_ci_post &lt;dbl&gt; | mean_season_woba &lt;dbl&gt; |\n",
       "|---|---|---|---|---|---|---|---|---|---|---|\n",
       "| 941 | 18677 | 411666 | 0.6276038 | 0.3732767 | 0.3737345 | 0.3717355 | 0.00194363 | 0.3756782 | 0.3717909 | 0.376459 |\n",
       "\n"
      ],
      "text/plain": [
       "  unique_hot_players total_hot_streaks total_hot_pa mean_hot_woba\n",
       "1 941                18677             411666       0.6276038    \n",
       "  mean_post_hot_woba_nextgame mean_post_hot_woba expected_woba\n",
       "1 0.3732767                   0.3737345          0.3717355    \n",
       "  std_mean_post_hot_woba upper_ci_post lower_ci_post mean_season_woba\n",
       "1 0.00194363             0.3756782     0.3717909     0.376459        "
      ]
     },
     "metadata": {},
     "output_type": "display_data"
    },
    {
     "data": {
      "text/html": [
       "<table>\n",
       "<caption>A tibble: 1 × 11</caption>\n",
       "<thead>\n",
       "\t<tr><th scope=col>unique_hot_players</th><th scope=col>total_hot_streaks</th><th scope=col>total_hot_pa</th><th scope=col>mean_hot_woba</th><th scope=col>mean_post_hot_woba_nextgame</th><th scope=col>mean_post_hot_woba</th><th scope=col>expected_woba</th><th scope=col>std_mean_post_hot_woba</th><th scope=col>upper_ci_post</th><th scope=col>lower_ci_post</th><th scope=col>mean_season_woba</th></tr>\n",
       "\t<tr><th scope=col>&lt;int&gt;</th><th scope=col>&lt;dbl&gt;</th><th scope=col>&lt;dbl&gt;</th><th scope=col>&lt;dbl&gt;</th><th scope=col>&lt;dbl&gt;</th><th scope=col>&lt;dbl&gt;</th><th scope=col>&lt;dbl&gt;</th><th scope=col>&lt;dbl&gt;</th><th scope=col>&lt;dbl&gt;</th><th scope=col>&lt;dbl&gt;</th><th scope=col>&lt;dbl&gt;</th></tr>\n",
       "</thead>\n",
       "<tbody>\n",
       "\t<tr><td>1116</td><td>19088</td><td>407940</td><td>0.1306141</td><td>0.3279639</td><td>0.3303407</td><td>0.3298392</td><td>0.00174157</td><td>0.3320822</td><td>0.3285991</td><td>0.3341104</td></tr>\n",
       "</tbody>\n",
       "</table>\n"
      ],
      "text/latex": [
       "A tibble: 1 × 11\n",
       "\\begin{tabular}{lllllllllll}\n",
       " unique\\_hot\\_players & total\\_hot\\_streaks & total\\_hot\\_pa & mean\\_hot\\_woba & mean\\_post\\_hot\\_woba\\_nextgame & mean\\_post\\_hot\\_woba & expected\\_woba & std\\_mean\\_post\\_hot\\_woba & upper\\_ci\\_post & lower\\_ci\\_post & mean\\_season\\_woba\\\\\n",
       " <int> & <dbl> & <dbl> & <dbl> & <dbl> & <dbl> & <dbl> & <dbl> & <dbl> & <dbl> & <dbl>\\\\\n",
       "\\hline\n",
       "\t 1116 & 19088 & 407940 & 0.1306141 & 0.3279639 & 0.3303407 & 0.3298392 & 0.00174157 & 0.3320822 & 0.3285991 & 0.3341104\\\\\n",
       "\\end{tabular}\n"
      ],
      "text/markdown": [
       "\n",
       "A tibble: 1 × 11\n",
       "\n",
       "| unique_hot_players &lt;int&gt; | total_hot_streaks &lt;dbl&gt; | total_hot_pa &lt;dbl&gt; | mean_hot_woba &lt;dbl&gt; | mean_post_hot_woba_nextgame &lt;dbl&gt; | mean_post_hot_woba &lt;dbl&gt; | expected_woba &lt;dbl&gt; | std_mean_post_hot_woba &lt;dbl&gt; | upper_ci_post &lt;dbl&gt; | lower_ci_post &lt;dbl&gt; | mean_season_woba &lt;dbl&gt; |\n",
       "|---|---|---|---|---|---|---|---|---|---|---|\n",
       "| 1116 | 19088 | 407940 | 0.1306141 | 0.3279639 | 0.3303407 | 0.3298392 | 0.00174157 | 0.3320822 | 0.3285991 | 0.3341104 |\n",
       "\n"
      ],
      "text/plain": [
       "  unique_hot_players total_hot_streaks total_hot_pa mean_hot_woba\n",
       "1 1116               19088             407940       0.1306141    \n",
       "  mean_post_hot_woba_nextgame mean_post_hot_woba expected_woba\n",
       "1 0.3279639                   0.3303407          0.3298392    \n",
       "  std_mean_post_hot_woba upper_ci_post lower_ci_post mean_season_woba\n",
       "1 0.00174157             0.3320822     0.3285991     0.3341104       "
      ]
     },
     "metadata": {},
     "output_type": "display_data"
    }
   ],
   "source": [
    "df %>% ungroup() %>%\n",
    "    filter(is_hot==1,\n",
    "          !is.na(woba_rolling_future)) %>%\n",
    "    #group_by(season) %>%\n",
    "    mutate(weighted_woba_num=B_PA*season_woba_num,\n",
    "          weighted_woba_denom=B_PA*season_woba_denom) %>%\n",
    "    summarise(\n",
    "        unique_hot_players = n_distinct(person.key),\n",
    "        total_hot_streaks = sum(is_hot),\n",
    "        total_hot_pa = sum(pa_rolling),\n",
    "        mean_hot_woba = sum(woba_num_rolling, na.rm=TRUE)/sum(woba_denom_rolling, na.rm=TRUE),\n",
    "        mean_post_hot_woba_nextgame = sum(woba_num_rolling_future_nextgame, na.rm=TRUE)/sum(woba_denom_rolling_future_nextgame, na.rm=TRUE),\n",
    "        mean_post_hot_woba = sum(woba_num_rolling_future, na.rm=TRUE)/sum(woba_denom_rolling_future, na.rm=TRUE),\n",
    "        expected_woba= mean(expected_woba, na.rm=TRUE),\n",
    "        std_mean_post_hot_woba = 1.96 * (sd(woba_num_rolling_future/woba_denom_rolling_future, na.rm=TRUE) / sqrt(n())),\n",
    "        upper_ci_post = mean_post_hot_woba + std_mean_post_hot_woba,\n",
    "        lower_ci_post = mean_post_hot_woba - std_mean_post_hot_woba,\n",
    "        mean_season_woba = sum(season_woba_num) / sum(season_woba_denom)\n",
    "    )\n",
    "\n",
    "df %>% ungroup() %>%\n",
    "    filter(is_cold==1,\n",
    "          !is.na(woba_rolling_future)) %>%\n",
    "    mutate(weighted_woba_num=B_PA*season_woba_num,\n",
    "          weighted_woba_denom=B_PA*season_woba_denom) %>%\n",
    "    summarise(\n",
    "        unique_hot_players = n_distinct(person.key),\n",
    "        total_hot_streaks = sum(is_cold),\n",
    "        total_hot_pa = sum(pa_rolling),\n",
    "        mean_hot_woba = sum(woba_num_rolling, na.rm=TRUE)/sum(woba_denom_rolling, na.rm=TRUE),\n",
    "        mean_post_hot_woba_nextgame = sum(woba_num_rolling_future_nextgame, na.rm=TRUE)/sum(woba_denom_rolling_future_nextgame, na.rm=TRUE),\n",
    "        mean_post_hot_woba = sum(woba_num_rolling_future, na.rm=TRUE)/sum(woba_denom_rolling_future, na.rm=TRUE),\n",
    "        expected_woba= mean(expected_woba, na.rm=TRUE),\n",
    "        std_mean_post_hot_woba = 1.96 * (sd(woba_num_rolling_future/woba_denom_rolling_future, na.rm=TRUE) / sqrt(n())),\n",
    "        upper_ci_post = mean_post_hot_woba + std_mean_post_hot_woba,\n",
    "        lower_ci_post = mean_post_hot_woba - std_mean_post_hot_woba,\n",
    "        mean_season_woba = sum(season_woba_num) / sum(season_woba_denom)\n",
    "    )\n"
   ]
  },
  {
   "cell_type": "code",
   "execution_count": 22,
   "metadata": {},
   "outputs": [
    {
     "data": {
      "text/html": [
       "<table>\n",
       "<caption>A tibble: 10 × 6</caption>\n",
       "<thead>\n",
       "\t<tr><th scope=col>person.key</th><th scope=col>game.date</th><th scope=col>pa_rolling</th><th scope=col>woba_rolling</th><th scope=col>woba_rolling_future</th><th scope=col>expected_woba</th></tr>\n",
       "\t<tr><th scope=col>&lt;fct&gt;</th><th scope=col>&lt;date&gt;</th><th scope=col>&lt;dbl&gt;</th><th scope=col>&lt;dbl&gt;</th><th scope=col>&lt;dbl&gt;</th><th scope=col>&lt;dbl&gt;</th></tr>\n",
       "</thead>\n",
       "<tbody>\n",
       "\t<tr><td>carpm002</td><td>2018-07-21</td><td>20</td><td>1.0446908</td><td>0.2625587</td><td>0.3926502</td></tr>\n",
       "\t<tr><td>carpm002</td><td>2018-07-21</td><td>22</td><td>0.9752546</td><td>0.4050841</td><td>0.3922359</td></tr>\n",
       "\t<tr><td>martj008</td><td>2018-06-11</td><td>20</td><td>0.9344208</td><td>0.1895038</td><td>0.3863809</td></tr>\n",
       "\t<tr><td>carpm002</td><td>2018-07-23</td><td>20</td><td>0.9296774</td><td>0.2468515</td><td>0.3933431</td></tr>\n",
       "\t<tr><td>carpm002</td><td>2018-07-22</td><td>21</td><td>0.9265279</td><td>0.3034986</td><td>0.3943977</td></tr>\n",
       "\t<tr><td>martj008</td><td>2018-06-10</td><td>20</td><td>0.9248903</td><td>0.3446960</td><td>0.3842611</td></tr>\n",
       "\t<tr><td>carpm002</td><td>2018-07-20</td><td>22</td><td>0.9012599</td><td>0.4585039</td><td>0.3870538</td></tr>\n",
       "\t<tr><td>nimmb001</td><td>2018-08-15</td><td>20</td><td>0.8891855</td><td>0.3926082</td><td>0.4134540</td></tr>\n",
       "\t<tr><td>nimmb001</td><td>2018-08-28</td><td>22</td><td>0.8651762</td><td>0.5408291</td><td>0.4175847</td></tr>\n",
       "\t<tr><td>ramij003</td><td>2018-07-14</td><td>20</td><td>0.8515508</td><td>0.5242788</td><td>0.3726749</td></tr>\n",
       "</tbody>\n",
       "</table>\n"
      ],
      "text/latex": [
       "A tibble: 10 × 6\n",
       "\\begin{tabular}{llllll}\n",
       " person.key & game.date & pa\\_rolling & woba\\_rolling & woba\\_rolling\\_future & expected\\_woba\\\\\n",
       " <fct> & <date> & <dbl> & <dbl> & <dbl> & <dbl>\\\\\n",
       "\\hline\n",
       "\t carpm002 & 2018-07-21 & 20 & 1.0446908 & 0.2625587 & 0.3926502\\\\\n",
       "\t carpm002 & 2018-07-21 & 22 & 0.9752546 & 0.4050841 & 0.3922359\\\\\n",
       "\t martj008 & 2018-06-11 & 20 & 0.9344208 & 0.1895038 & 0.3863809\\\\\n",
       "\t carpm002 & 2018-07-23 & 20 & 0.9296774 & 0.2468515 & 0.3933431\\\\\n",
       "\t carpm002 & 2018-07-22 & 21 & 0.9265279 & 0.3034986 & 0.3943977\\\\\n",
       "\t martj008 & 2018-06-10 & 20 & 0.9248903 & 0.3446960 & 0.3842611\\\\\n",
       "\t carpm002 & 2018-07-20 & 22 & 0.9012599 & 0.4585039 & 0.3870538\\\\\n",
       "\t nimmb001 & 2018-08-15 & 20 & 0.8891855 & 0.3926082 & 0.4134540\\\\\n",
       "\t nimmb001 & 2018-08-28 & 22 & 0.8651762 & 0.5408291 & 0.4175847\\\\\n",
       "\t ramij003 & 2018-07-14 & 20 & 0.8515508 & 0.5242788 & 0.3726749\\\\\n",
       "\\end{tabular}\n"
      ],
      "text/markdown": [
       "\n",
       "A tibble: 10 × 6\n",
       "\n",
       "| person.key &lt;fct&gt; | game.date &lt;date&gt; | pa_rolling &lt;dbl&gt; | woba_rolling &lt;dbl&gt; | woba_rolling_future &lt;dbl&gt; | expected_woba &lt;dbl&gt; |\n",
       "|---|---|---|---|---|---|\n",
       "| carpm002 | 2018-07-21 | 20 | 1.0446908 | 0.2625587 | 0.3926502 |\n",
       "| carpm002 | 2018-07-21 | 22 | 0.9752546 | 0.4050841 | 0.3922359 |\n",
       "| martj008 | 2018-06-11 | 20 | 0.9344208 | 0.1895038 | 0.3863809 |\n",
       "| carpm002 | 2018-07-23 | 20 | 0.9296774 | 0.2468515 | 0.3933431 |\n",
       "| carpm002 | 2018-07-22 | 21 | 0.9265279 | 0.3034986 | 0.3943977 |\n",
       "| martj008 | 2018-06-10 | 20 | 0.9248903 | 0.3446960 | 0.3842611 |\n",
       "| carpm002 | 2018-07-20 | 22 | 0.9012599 | 0.4585039 | 0.3870538 |\n",
       "| nimmb001 | 2018-08-15 | 20 | 0.8891855 | 0.3926082 | 0.4134540 |\n",
       "| nimmb001 | 2018-08-28 | 22 | 0.8651762 | 0.5408291 | 0.4175847 |\n",
       "| ramij003 | 2018-07-14 | 20 | 0.8515508 | 0.5242788 | 0.3726749 |\n",
       "\n"
      ],
      "text/plain": [
       "   person.key game.date  pa_rolling woba_rolling woba_rolling_future\n",
       "1  carpm002   2018-07-21 20         1.0446908    0.2625587          \n",
       "2  carpm002   2018-07-21 22         0.9752546    0.4050841          \n",
       "3  martj008   2018-06-11 20         0.9344208    0.1895038          \n",
       "4  carpm002   2018-07-23 20         0.9296774    0.2468515          \n",
       "5  carpm002   2018-07-22 21         0.9265279    0.3034986          \n",
       "6  martj008   2018-06-10 20         0.9248903    0.3446960          \n",
       "7  carpm002   2018-07-20 22         0.9012599    0.4585039          \n",
       "8  nimmb001   2018-08-15 20         0.8891855    0.3926082          \n",
       "9  nimmb001   2018-08-28 22         0.8651762    0.5408291          \n",
       "10 ramij003   2018-07-14 20         0.8515508    0.5242788          \n",
       "   expected_woba\n",
       "1  0.3926502    \n",
       "2  0.3922359    \n",
       "3  0.3863809    \n",
       "4  0.3933431    \n",
       "5  0.3943977    \n",
       "6  0.3842611    \n",
       "7  0.3870538    \n",
       "8  0.4134540    \n",
       "9  0.4175847    \n",
       "10 0.3726749    "
      ]
     },
     "metadata": {},
     "output_type": "display_data"
    },
    {
     "data": {
      "text/html": [
       "<table>\n",
       "<caption>A tibble: 10 × 6</caption>\n",
       "<thead>\n",
       "\t<tr><th scope=col>person.key</th><th scope=col>game.date</th><th scope=col>pa_rolling</th><th scope=col>woba_rolling</th><th scope=col>woba_rolling_future</th><th scope=col>expected_woba</th></tr>\n",
       "\t<tr><th scope=col>&lt;fct&gt;</th><th scope=col>&lt;date&gt;</th><th scope=col>&lt;dbl&gt;</th><th scope=col>&lt;dbl&gt;</th><th scope=col>&lt;dbl&gt;</th><th scope=col>&lt;dbl&gt;</th></tr>\n",
       "</thead>\n",
       "<tbody>\n",
       "\t<tr><td>morak001</td><td>2018-05-06</td><td>22</td><td>0.00000000</td><td>0.27480492</td><td>0.3189429</td></tr>\n",
       "\t<tr><td>gricr001</td><td>2018-04-08</td><td>20</td><td>0.00000000</td><td>0.37704694</td><td>0.3296167</td></tr>\n",
       "\t<tr><td>gregd001</td><td>2018-05-10</td><td>23</td><td>0.03087632</td><td>0.07046833</td><td>0.3456251</td></tr>\n",
       "\t<tr><td>deshd002</td><td>2018-07-10</td><td>20</td><td>0.03188263</td><td>0.06106841</td><td>0.2627652</td></tr>\n",
       "\t<tr><td>gregd001</td><td>2018-05-11</td><td>22</td><td>0.03227979</td><td>0.13179524</td><td>0.3444414</td></tr>\n",
       "\t<tr><td>polla001</td><td>2018-09-01</td><td>22</td><td>0.03479190</td><td>0.33414832</td><td>0.3393178</td></tr>\n",
       "\t<tr><td>martl004</td><td>2018-05-22</td><td>21</td><td>0.03524430</td><td>0.26864983</td><td>0.2852723</td></tr>\n",
       "\t<tr><td>calhk001</td><td>2018-09-15</td><td>21</td><td>0.03626581</td><td>0.16226315</td><td>0.3288449</td></tr>\n",
       "\t<tr><td>owinc001</td><td>2018-05-25</td><td>21</td><td>0.03644865</td><td>0.32443648</td><td>0.2592994</td></tr>\n",
       "\t<tr><td>jay-j001</td><td>2018-06-28</td><td>20</td><td>0.03992041</td><td>0.09199000</td><td>0.3175483</td></tr>\n",
       "</tbody>\n",
       "</table>\n"
      ],
      "text/latex": [
       "A tibble: 10 × 6\n",
       "\\begin{tabular}{llllll}\n",
       " person.key & game.date & pa\\_rolling & woba\\_rolling & woba\\_rolling\\_future & expected\\_woba\\\\\n",
       " <fct> & <date> & <dbl> & <dbl> & <dbl> & <dbl>\\\\\n",
       "\\hline\n",
       "\t morak001 & 2018-05-06 & 22 & 0.00000000 & 0.27480492 & 0.3189429\\\\\n",
       "\t gricr001 & 2018-04-08 & 20 & 0.00000000 & 0.37704694 & 0.3296167\\\\\n",
       "\t gregd001 & 2018-05-10 & 23 & 0.03087632 & 0.07046833 & 0.3456251\\\\\n",
       "\t deshd002 & 2018-07-10 & 20 & 0.03188263 & 0.06106841 & 0.2627652\\\\\n",
       "\t gregd001 & 2018-05-11 & 22 & 0.03227979 & 0.13179524 & 0.3444414\\\\\n",
       "\t polla001 & 2018-09-01 & 22 & 0.03479190 & 0.33414832 & 0.3393178\\\\\n",
       "\t martl004 & 2018-05-22 & 21 & 0.03524430 & 0.26864983 & 0.2852723\\\\\n",
       "\t calhk001 & 2018-09-15 & 21 & 0.03626581 & 0.16226315 & 0.3288449\\\\\n",
       "\t owinc001 & 2018-05-25 & 21 & 0.03644865 & 0.32443648 & 0.2592994\\\\\n",
       "\t jay-j001 & 2018-06-28 & 20 & 0.03992041 & 0.09199000 & 0.3175483\\\\\n",
       "\\end{tabular}\n"
      ],
      "text/markdown": [
       "\n",
       "A tibble: 10 × 6\n",
       "\n",
       "| person.key &lt;fct&gt; | game.date &lt;date&gt; | pa_rolling &lt;dbl&gt; | woba_rolling &lt;dbl&gt; | woba_rolling_future &lt;dbl&gt; | expected_woba &lt;dbl&gt; |\n",
       "|---|---|---|---|---|---|\n",
       "| morak001 | 2018-05-06 | 22 | 0.00000000 | 0.27480492 | 0.3189429 |\n",
       "| gricr001 | 2018-04-08 | 20 | 0.00000000 | 0.37704694 | 0.3296167 |\n",
       "| gregd001 | 2018-05-10 | 23 | 0.03087632 | 0.07046833 | 0.3456251 |\n",
       "| deshd002 | 2018-07-10 | 20 | 0.03188263 | 0.06106841 | 0.2627652 |\n",
       "| gregd001 | 2018-05-11 | 22 | 0.03227979 | 0.13179524 | 0.3444414 |\n",
       "| polla001 | 2018-09-01 | 22 | 0.03479190 | 0.33414832 | 0.3393178 |\n",
       "| martl004 | 2018-05-22 | 21 | 0.03524430 | 0.26864983 | 0.2852723 |\n",
       "| calhk001 | 2018-09-15 | 21 | 0.03626581 | 0.16226315 | 0.3288449 |\n",
       "| owinc001 | 2018-05-25 | 21 | 0.03644865 | 0.32443648 | 0.2592994 |\n",
       "| jay-j001 | 2018-06-28 | 20 | 0.03992041 | 0.09199000 | 0.3175483 |\n",
       "\n"
      ],
      "text/plain": [
       "   person.key game.date  pa_rolling woba_rolling woba_rolling_future\n",
       "1  morak001   2018-05-06 22         0.00000000   0.27480492         \n",
       "2  gricr001   2018-04-08 20         0.00000000   0.37704694         \n",
       "3  gregd001   2018-05-10 23         0.03087632   0.07046833         \n",
       "4  deshd002   2018-07-10 20         0.03188263   0.06106841         \n",
       "5  gregd001   2018-05-11 22         0.03227979   0.13179524         \n",
       "6  polla001   2018-09-01 22         0.03479190   0.33414832         \n",
       "7  martl004   2018-05-22 21         0.03524430   0.26864983         \n",
       "8  calhk001   2018-09-15 21         0.03626581   0.16226315         \n",
       "9  owinc001   2018-05-25 21         0.03644865   0.32443648         \n",
       "10 jay-j001   2018-06-28 20         0.03992041   0.09199000         \n",
       "   expected_woba\n",
       "1  0.3189429    \n",
       "2  0.3296167    \n",
       "3  0.3456251    \n",
       "4  0.2627652    \n",
       "5  0.3444414    \n",
       "6  0.3393178    \n",
       "7  0.2852723    \n",
       "8  0.3288449    \n",
       "9  0.2592994    \n",
       "10 0.3175483    "
      ]
     },
     "metadata": {},
     "output_type": "display_data"
    }
   ],
   "source": [
    "# table of example streaks for the blog post\n",
    "df %>% ungroup() %>%\n",
    "    filter(is_hot==1,\n",
    "           season==2018,\n",
    "          !is.na(woba_rolling_future)) %>%\n",
    "    select(person.key, game.date, pa_rolling, woba_rolling, woba_rolling_future, expected_woba) %>% \n",
    "    arrange(-woba_rolling) %>% head(10)\n",
    "\n",
    "# table of example streaks for the blog post\n",
    "df %>% ungroup() %>%\n",
    "    filter(is_cold==1,\n",
    "           season==2018,\n",
    "          !is.na(woba_rolling_future)) %>%\n",
    "    select(person.key, game.date, pa_rolling, woba_rolling, woba_rolling_future, expected_woba) %>% \n",
    "    arrange(woba_rolling) %>% head(10)"
   ]
  },
  {
   "cell_type": "code",
   "execution_count": 23,
   "metadata": {},
   "outputs": [
    {
     "name": "stderr",
     "output_type": "stream",
     "text": [
      "`summarise()` regrouping output by 'person.key' (override with `.groups` argument)\n",
      "\n"
     ]
    },
    {
     "data": {
      "text/plain": [
       "\n",
       "\tWelch Two Sample t-test\n",
       "\n",
       "data:  test$mean_post_hot_woba and test$expected_woba\n",
       "t = -0.40484, df = 22785, p-value = 0.6856\n",
       "alternative hypothesis: true difference in means is not equal to 0\n",
       "95 percent confidence interval:\n",
       " -0.002472881  0.001626235\n",
       "sample estimates:\n",
       "mean of x mean of y \n",
       "0.3713431 0.3717664 \n"
      ]
     },
     "metadata": {},
     "output_type": "display_data"
    },
    {
     "name": "stderr",
     "output_type": "stream",
     "text": [
      "`summarise()` regrouping output by 'person.key' (override with `.groups` argument)\n",
      "\n"
     ]
    },
    {
     "data": {
      "text/plain": [
       "\n",
       "\tWelch Two Sample t-test\n",
       "\n",
       "data:  test$mean_post_hot_woba and test$expected_woba\n",
       "t = -2.7871, df = 21852, p-value = 0.005323\n",
       "alternative hypothesis: true difference in means is not equal to 0\n",
       "95 percent confidence interval:\n",
       " -0.0043656533 -0.0007605629\n",
       "sample estimates:\n",
       "mean of x mean of y \n",
       "0.3274515 0.3300146 \n"
      ]
     },
     "metadata": {},
     "output_type": "display_data"
    }
   ],
   "source": [
    "# t-test for significance\n",
    "test = df %>% ungroup() %>%\n",
    "    filter(is_hot==1,\n",
    "          !is.na(woba_rolling_future)) %>%\n",
    "    group_by(person.key,game.key) %>%\n",
    "    summarise(\n",
    "        total_hot_pa = sum(pa_rolling),\n",
    "        post_hot_pa= sum(pa_rolling_future),\n",
    "        mean_post_hot_woba = sum(woba_num_rolling_future, na.rm=TRUE)/sum(woba_denom_rolling_future, na.rm=TRUE),\n",
    "        expected_woba= mean(expected_woba, na.rm=TRUE)\n",
    "    )\n",
    "\n",
    "test = test %>% filter(!is.na(mean_post_hot_woba),\n",
    "                        post_hot_pa>=10)\n",
    "\n",
    "t.test(test$mean_post_hot_woba, test$expected_woba)\n",
    "\n",
    "test = df %>% ungroup() %>%\n",
    "    filter(is_cold==1,\n",
    "          !is.na(woba_rolling_future)) %>%\n",
    "    group_by(person.key,game.key) %>%\n",
    "    summarise(\n",
    "        total_hot_pa = sum(pa_rolling),\n",
    "        post_hot_pa= sum(pa_rolling_future),\n",
    "        mean_post_hot_woba = sum(woba_num_rolling_future, na.rm=TRUE)/sum(woba_denom_rolling_future, na.rm=TRUE),\n",
    "        expected_woba= mean(expected_woba, na.rm=TRUE)\n",
    "    )\n",
    "\n",
    "test = test %>% filter(!is.na(mean_post_hot_woba),\n",
    "                        post_hot_pa>=10)\n",
    "t.test(test$mean_post_hot_woba, test$expected_woba)"
   ]
  },
  {
   "cell_type": "code",
   "execution_count": 24,
   "metadata": {},
   "outputs": [
    {
     "data": {
      "text/plain": [
       "\n",
       "Call:\n",
       "lm(formula = woba_rolling_future ~ expected_woba + is_hot + is_cold + \n",
       "    site.key, data = df %>% filter(!is.na(woba_rolling_future), \n",
       "    !is.na(is_hot)))\n",
       "\n",
       "Residuals:\n",
       "     Min       1Q   Median       3Q      Max \n",
       "-0.98818 -0.08922 -0.00766  0.08036  2.51614 \n",
       "\n",
       "Coefficients:\n",
       "                Estimate Std. Error t value Pr(>|t|)    \n",
       "(Intercept)    2.383e-02  1.189e-03  20.044  < 2e-16 ***\n",
       "expected_woba  9.127e-01  2.549e-03 358.107  < 2e-16 ***\n",
       "is_hot         6.511e-03  1.001e-03   6.506 7.73e-11 ***\n",
       "is_cold        3.545e-04  9.827e-04   0.361  0.71829    \n",
       "site.keyARL02  1.519e-03  1.210e-03   1.256  0.20921    \n",
       "site.keyATL02  2.215e-03  1.231e-03   1.800  0.07184 .  \n",
       "site.keyBAL12  1.254e-03  1.212e-03   1.035  0.30070    \n",
       "site.keyBOS07  2.794e-04  1.190e-03   0.235  0.81437    \n",
       "site.keyCHI11  1.431e-03  1.183e-03   1.209  0.22663    \n",
       "site.keyCHI12  1.140e-04  1.198e-03   0.095  0.92422    \n",
       "site.keyCIN08  6.159e-03  2.173e-03   2.835  0.00458 ** \n",
       "site.keyCLE08  1.105e-03  1.197e-03   0.923  0.35575    \n",
       "site.keyKAN06 -2.520e-05  1.205e-03  -0.021  0.98332    \n",
       "site.keyLOS03  3.796e-03  1.199e-03   3.167  0.00154 ** \n",
       "site.keyMIA01  1.877e-03  1.347e-03   1.394  0.16327    \n",
       "site.keyMIL05 -4.271e-04  3.635e-03  -0.117  0.90647    \n",
       "site.keyMIN03  2.093e-03  1.435e-03   1.458  0.14472    \n",
       "site.keyMNT01 -2.045e-02  1.933e-02  -1.058  0.29002    \n",
       "site.keyMON02  1.586e-03  1.900e-03   0.834  0.40405    \n",
       "site.keyNYC16 -1.382e-03  1.472e-03  -0.939  0.34791    \n",
       "site.keyNYC17  1.938e-03  1.479e-03   1.310  0.19007    \n",
       "site.keyOAK01 -2.098e-03  1.207e-03  -1.738  0.08217 .  \n",
       "site.keyPHI12  3.665e-03  1.938e-03   1.891  0.05863 .  \n",
       "site.keyPHO01 -5.513e-04  1.201e-03  -0.459  0.64635    \n",
       "site.keyPIT07  1.029e-02  3.684e-03   2.793  0.00523 ** \n",
       "site.keySAN01  6.110e-03  2.019e-03   3.026  0.00248 ** \n",
       "site.keySEA03  4.124e-04  1.207e-03   0.342  0.73254    \n",
       "site.keySTL09  2.375e-03  1.684e-03   1.410  0.15851    \n",
       "site.keySTP01  3.349e-03  1.212e-03   2.764  0.00572 ** \n",
       "site.keyTOR02  7.404e-05  1.200e-03   0.062  0.95081    \n",
       "site.keyDET05  7.545e-04  1.203e-03   0.627  0.53071    \n",
       "site.keyHOU03  2.369e-03  1.195e-03   1.983  0.04739 *  \n",
       "site.keySFO03  5.116e-03  1.203e-03   4.253 2.11e-05 ***\n",
       "site.keyMIL06  2.493e-03  1.202e-03   2.074  0.03810 *  \n",
       "site.keyPIT08 -5.850e-04  1.202e-03  -0.487  0.62660    \n",
       "site.keySJU01 -1.114e-02  4.667e-03  -2.386  0.01702 *  \n",
       "site.keyCIN09  3.727e-03  1.255e-03   2.969  0.00298 ** \n",
       "site.keyPHI13  1.525e-03  1.267e-03   1.204  0.22876    \n",
       "site.keySAN02  6.629e-03  1.297e-03   5.110 3.22e-07 ***\n",
       "site.keyWAS10  6.672e-03  2.302e-03   2.898  0.00375 ** \n",
       "site.keySTL10 -1.587e-04  1.310e-03  -0.121  0.90360    \n",
       "site.keyLBV01 -1.694e-02  1.383e-02  -1.225  0.22043    \n",
       "site.keyWAS11  2.779e-03  1.393e-03   1.995  0.04605 *  \n",
       "site.keyNYC20  2.643e-03  1.460e-03   1.810  0.07036 .  \n",
       "site.keyNYC21  1.847e-03  1.446e-03   1.277  0.20154    \n",
       "site.keyMIN04  9.152e-04  1.511e-03   0.606  0.54476    \n",
       "site.keyMIA02 -1.045e-03  1.644e-03  -0.636  0.52499    \n",
       "site.keyFTB01  6.126e-02  3.071e-02   1.995  0.04607 *  \n",
       "site.keyATL03 -4.264e-04  2.713e-03  -0.157  0.87514    \n",
       "site.keyWIL02 -1.792e-02  2.201e-02  -0.814  0.41558    \n",
       "---\n",
       "Signif. codes:  0 ‘***’ 0.001 ‘**’ 0.01 ‘*’ 0.05 ‘.’ 0.1 ‘ ’ 1\n",
       "\n",
       "Residual standard error: 0.1338 on 727435 degrees of freedom\n",
       "  (437 observations deleted due to missingness)\n",
       "Multiple R-squared:  0.1542,\tAdjusted R-squared:  0.1541 \n",
       "F-statistic:  2706 on 49 and 727435 DF,  p-value: < 2.2e-16\n"
      ]
     },
     "metadata": {},
     "output_type": "display_data"
    }
   ],
   "source": [
    "# regression for hot/cold effects\n",
    "summary(lm(woba_rolling_future ~ expected_woba + is_hot + is_cold + site.key, \n",
    "           df %>% filter(!is.na(woba_rolling_future),\n",
    "                        !is.na(is_hot))))"
   ]
  },
  {
   "cell_type": "code",
   "execution_count": 25,
   "metadata": {},
   "outputs": [
    {
     "name": "stderr",
     "output_type": "stream",
     "text": [
      "Warning message:\n",
      "“Removed 88 rows containing non-finite values (stat_bin).”\n"
     ]
    },
    {
     "data": {
      "image/png": "[encoded data removed]",
      "text/plain": [
       "plot without title"
      ]
     },
     "metadata": {
      "image/png": {
       "height": 420,
       "width": 420
      },
      "text/plain": {
       "height": 420,
       "width": 420
      }
     },
     "output_type": "display_data"
    },
    {
     "data": {
      "image/png": "[encoded data removed]",
      "text/plain": [
       "plot without title"
      ]
     },
     "metadata": {
      "image/png": {
       "height": 420,
       "width": 420
      },
      "text/plain": {
       "height": 420,
       "width": 420
      }
     },
     "output_type": "display_data"
    }
   ],
   "source": [
    "# inspect distributions of post-streak and expected woba\n",
    "df %>% filter(is_hot==1) %>%\n",
    "select(game.date, person.key, woba_rolling, \n",
    "       woba_rolling_future, expected_woba, \n",
    "       pa_rolling, pa_rolling_future,\n",
    "      ) %>% \n",
    "select(woba_rolling_future) %>% ggplot(aes(x=woba_rolling_future)) + geom_histogram(bins=100)\n",
    "\n",
    "df %>% filter(is_hot==1) %>%\n",
    "select(game.date, person.key, woba_rolling, \n",
    "       woba_rolling_future, expected_woba, \n",
    "       pa_rolling, pa_rolling_future,\n",
    "      ) %>% \n",
    "select(expected_woba) %>% ggplot(aes(x=expected_woba)) + geom_histogram(bins=100)"
   ]
  },
  {
   "cell_type": "markdown",
   "metadata": {},
   "source": [
    "## Repeat the above steps for 7-game streaks"
   ]
  },
  {
   "cell_type": "code",
   "execution_count": 26,
   "metadata": {},
   "outputs": [],
   "source": [
    "# take rolling sums of woba components to get a 5g woba\n",
    "library(zoo)\n",
    "num_games_streak = 7\n",
    "num_games_post_streak = 7\n",
    "min_pa_in_streak = 4 * num_games_streak #4\n",
    "min_pa_post_streak = 3 * num_games_post_streak #0\n",
    "# different offset used for post streak folling counts for 3 vs. 5 game configuration. paste this in if changing streak lenghts.\n",
    "seven_game_post = list(c(1, 2, 3, 4, 5, 6, 7)) #list(c(1, 2, 3))\n",
    "five_game_post = list(c(1, 2, 3, 4, 5))\n",
    "\n",
    "# this is ugly indentation but makes it ahrder to forget to paste something when updating it\n",
    "df = df %>%\n",
    "         arrange(season, person.key, game.date, game.key) %>%\n",
    "         group_by(season, person.key) %>%\n",
    "         mutate(woba_num_rolling =   roll_sum(woba_numerator, num_games_streak, align = \"right\", fill = NA),\n",
    "                pa_rolling =         roll_sum(B_PA, num_games_streak, align = \"right\", fill = NA),\n",
    "                woba_denom_rolling = roll_sum(woba_denominator, num_games_streak, align = \"right\", fill = NA),\n",
    "                woba_rolling = woba_num_rolling/woba_denom_rolling,\n",
    "                woba_num_rolling_future =   rollapply(woba_numerator, FUN=sum, seven_game_post, align = \"left\", fill = NA),\n",
    "                pa_rolling_future =         rollapply(B_PA, FUN=sum, seven_game_post, align = \"left\", fill = NA),\n",
    "                woba_denom_rolling_future = rollapply(woba_denominator, FUN=sum,  seven_game_post, align = \"left\", fill = NA),\n",
    "                woba_rolling_future = woba_num_rolling_future/woba_denom_rolling_future,\n",
    "                \n",
    "                woba_num_rolling_future_nextgame =   rollapply(woba_numerator, FUN=sum, list(c(1)), align = \"left\", fill = NA),\n",
    "                woba_denom_rolling_future_nextgame  = rollapply(woba_denominator, FUN=sum,  list(c(1)), align = \"left\", fill = NA),\n",
    "                woba_rolling_future_nextgame  = woba_num_rolling_future_nextgame /woba_denom_rolling_future_nextgame \n",
    "        ) "
   ]
  },
  {
   "cell_type": "code",
   "execution_count": 27,
   "metadata": {},
   "outputs": [
    {
     "name": "stderr",
     "output_type": "stream",
     "text": [
      "`summarise()` regrouping output by 'season', 'person.key' (override with `.groups` argument)\n",
      "\n"
     ]
    },
    {
     "data": {
      "text/html": [
       "<table>\n",
       "<caption>A tibble: 2 × 1</caption>\n",
       "<thead>\n",
       "\t<tr><th scope=col>thresholds</th></tr>\n",
       "\t<tr><th scope=col>&lt;dbl&gt;</th></tr>\n",
       "</thead>\n",
       "<tbody>\n",
       "\t<tr><td>0.1936534</td></tr>\n",
       "\t<tr><td>0.5322388</td></tr>\n",
       "</tbody>\n",
       "</table>\n"
      ],
      "text/latex": [
       "A tibble: 2 × 1\n",
       "\\begin{tabular}{l}\n",
       " thresholds\\\\\n",
       " <dbl>\\\\\n",
       "\\hline\n",
       "\t 0.1936534\\\\\n",
       "\t 0.5322388\\\\\n",
       "\\end{tabular}\n"
      ],
      "text/markdown": [
       "\n",
       "A tibble: 2 × 1\n",
       "\n",
       "| thresholds &lt;dbl&gt; |\n",
       "|---|\n",
       "| 0.1936534 |\n",
       "| 0.5322388 |\n",
       "\n"
      ],
      "text/plain": [
       "  thresholds\n",
       "1 0.1936534 \n",
       "2 0.5322388 "
      ]
     },
     "metadata": {},
     "output_type": "display_data"
    }
   ],
   "source": [
    "# get seasons' quantiles for woba thresholds\n",
    "#temp = df %>% group_by(season, person.key) %>% filter(sum(B_PA)>100) %>% ungroup()\n",
    "df %>% \n",
    "    # only consider periods with at least 20 pa in them \n",
    "    filter(pa_rolling >= min_pa_in_streak, pa_rolling_future >= min_pa_post_streak) %>% \n",
    "    group_by(season, person.key, game.key) %>% summarise(woba = sum(woba_numerator) / sum(woba_denominator),\n",
    "                                                  woba_rolling_avg = sum(woba_num_rolling, na.rm=TRUE)/sum(woba_denom_rolling, na.rm=TRUE),\n",
    "                                                  pa = sum(B_PA)) %>%\n",
    "    ungroup() %>%\n",
    "    summarise(thresholds = quantile(woba_rolling_avg, probs = c(0.05, 0.95), na.rm=TRUE)) "
   ]
  },
  {
   "cell_type": "code",
   "execution_count": 28,
   "metadata": {},
   "outputs": [],
   "source": [
    "# create is hot/cold flags\n",
    "hot_threshold = .532\n",
    "cold_threshold = .194\n",
    "df = df %>% ungroup() %>% \n",
    "    mutate(is_hot = ifelse(((woba_rolling > hot_threshold) & (pa_rolling>=min_pa_in_streak) & (game_num < 157)), 1, 0),\n",
    "           is_cold = ifelse(((woba_rolling < cold_threshold) & (pa_rolling>=min_pa_in_streak) & (game_num < 157)), 1, 0))"
   ]
  },
  {
   "cell_type": "code",
   "execution_count": 29,
   "metadata": {},
   "outputs": [
    {
     "data": {
      "text/html": [
       "<table>\n",
       "<caption>A tibble: 1 × 10</caption>\n",
       "<thead>\n",
       "\t<tr><th scope=col>unique_hot_players</th><th scope=col>total_hot_streaks</th><th scope=col>total_hot_pa</th><th scope=col>mean_hot_woba</th><th scope=col>mean_post_hot_woba</th><th scope=col>mean_post_hot_woba_nextgame</th><th scope=col>std_mean_post_hot_woba</th><th scope=col>upper_ci_post</th><th scope=col>lower_ci_post</th><th scope=col>expected_woba</th></tr>\n",
       "\t<tr><th scope=col>&lt;int&gt;</th><th scope=col>&lt;dbl&gt;</th><th scope=col>&lt;dbl&gt;</th><th scope=col>&lt;dbl&gt;</th><th scope=col>&lt;dbl&gt;</th><th scope=col>&lt;dbl&gt;</th><th scope=col>&lt;dbl&gt;</th><th scope=col>&lt;dbl&gt;</th><th scope=col>&lt;dbl&gt;</th><th scope=col>&lt;dbl&gt;</th></tr>\n",
       "</thead>\n",
       "<tbody>\n",
       "\t<tr><td>829</td><td>17592</td><td>540691</td><td>0.5884463</td><td>0.3797913</td><td>0.3789403</td><td>0.001734581</td><td>0.3815259</td><td>0.3780567</td><td>0.3774334</td></tr>\n",
       "</tbody>\n",
       "</table>\n"
      ],
      "text/latex": [
       "A tibble: 1 × 10\n",
       "\\begin{tabular}{llllllllll}\n",
       " unique\\_hot\\_players & total\\_hot\\_streaks & total\\_hot\\_pa & mean\\_hot\\_woba & mean\\_post\\_hot\\_woba & mean\\_post\\_hot\\_woba\\_nextgame & std\\_mean\\_post\\_hot\\_woba & upper\\_ci\\_post & lower\\_ci\\_post & expected\\_woba\\\\\n",
       " <int> & <dbl> & <dbl> & <dbl> & <dbl> & <dbl> & <dbl> & <dbl> & <dbl> & <dbl>\\\\\n",
       "\\hline\n",
       "\t 829 & 17592 & 540691 & 0.5884463 & 0.3797913 & 0.3789403 & 0.001734581 & 0.3815259 & 0.3780567 & 0.3774334\\\\\n",
       "\\end{tabular}\n"
      ],
      "text/markdown": [
       "\n",
       "A tibble: 1 × 10\n",
       "\n",
       "| unique_hot_players &lt;int&gt; | total_hot_streaks &lt;dbl&gt; | total_hot_pa &lt;dbl&gt; | mean_hot_woba &lt;dbl&gt; | mean_post_hot_woba &lt;dbl&gt; | mean_post_hot_woba_nextgame &lt;dbl&gt; | std_mean_post_hot_woba &lt;dbl&gt; | upper_ci_post &lt;dbl&gt; | lower_ci_post &lt;dbl&gt; | expected_woba &lt;dbl&gt; |\n",
       "|---|---|---|---|---|---|---|---|---|---|\n",
       "| 829 | 17592 | 540691 | 0.5884463 | 0.3797913 | 0.3789403 | 0.001734581 | 0.3815259 | 0.3780567 | 0.3774334 |\n",
       "\n"
      ],
      "text/plain": [
       "  unique_hot_players total_hot_streaks total_hot_pa mean_hot_woba\n",
       "1 829                17592             540691       0.5884463    \n",
       "  mean_post_hot_woba mean_post_hot_woba_nextgame std_mean_post_hot_woba\n",
       "1 0.3797913          0.3789403                   0.001734581           \n",
       "  upper_ci_post lower_ci_post expected_woba\n",
       "1 0.3815259     0.3780567     0.3774334    "
      ]
     },
     "metadata": {},
     "output_type": "display_data"
    },
    {
     "data": {
      "text/html": [
       "<table>\n",
       "<caption>A tibble: 1 × 10</caption>\n",
       "<thead>\n",
       "\t<tr><th scope=col>unique_hot_players</th><th scope=col>total_hot_streaks</th><th scope=col>total_hot_pa</th><th scope=col>mean_hot_woba</th><th scope=col>mean_post_hot_woba</th><th scope=col>mean_post_hot_woba_nextgame</th><th scope=col>std_mean_post_hot_woba</th><th scope=col>upper_ci_post</th><th scope=col>lower_ci_post</th><th scope=col>expected_woba</th></tr>\n",
       "\t<tr><th scope=col>&lt;int&gt;</th><th scope=col>&lt;dbl&gt;</th><th scope=col>&lt;dbl&gt;</th><th scope=col>&lt;dbl&gt;</th><th scope=col>&lt;dbl&gt;</th><th scope=col>&lt;dbl&gt;</th><th scope=col>&lt;dbl&gt;</th><th scope=col>&lt;dbl&gt;</th><th scope=col>&lt;dbl&gt;</th><th scope=col>&lt;dbl&gt;</th></tr>\n",
       "</thead>\n",
       "<tbody>\n",
       "\t<tr><td>1040</td><td>18205</td><td>543749</td><td>0.1608215</td><td>0.3279226</td><td>0.3267941</td><td>0.001515929</td><td>0.3294385</td><td>0.3264066</td><td>0.3276147</td></tr>\n",
       "</tbody>\n",
       "</table>\n"
      ],
      "text/latex": [
       "A tibble: 1 × 10\n",
       "\\begin{tabular}{llllllllll}\n",
       " unique\\_hot\\_players & total\\_hot\\_streaks & total\\_hot\\_pa & mean\\_hot\\_woba & mean\\_post\\_hot\\_woba & mean\\_post\\_hot\\_woba\\_nextgame & std\\_mean\\_post\\_hot\\_woba & upper\\_ci\\_post & lower\\_ci\\_post & expected\\_woba\\\\\n",
       " <int> & <dbl> & <dbl> & <dbl> & <dbl> & <dbl> & <dbl> & <dbl> & <dbl> & <dbl>\\\\\n",
       "\\hline\n",
       "\t 1040 & 18205 & 543749 & 0.1608215 & 0.3279226 & 0.3267941 & 0.001515929 & 0.3294385 & 0.3264066 & 0.3276147\\\\\n",
       "\\end{tabular}\n"
      ],
      "text/markdown": [
       "\n",
       "A tibble: 1 × 10\n",
       "\n",
       "| unique_hot_players &lt;int&gt; | total_hot_streaks &lt;dbl&gt; | total_hot_pa &lt;dbl&gt; | mean_hot_woba &lt;dbl&gt; | mean_post_hot_woba &lt;dbl&gt; | mean_post_hot_woba_nextgame &lt;dbl&gt; | std_mean_post_hot_woba &lt;dbl&gt; | upper_ci_post &lt;dbl&gt; | lower_ci_post &lt;dbl&gt; | expected_woba &lt;dbl&gt; |\n",
       "|---|---|---|---|---|---|---|---|---|---|\n",
       "| 1040 | 18205 | 543749 | 0.1608215 | 0.3279226 | 0.3267941 | 0.001515929 | 0.3294385 | 0.3264066 | 0.3276147 |\n",
       "\n"
      ],
      "text/plain": [
       "  unique_hot_players total_hot_streaks total_hot_pa mean_hot_woba\n",
       "1 1040               18205             543749       0.1608215    \n",
       "  mean_post_hot_woba mean_post_hot_woba_nextgame std_mean_post_hot_woba\n",
       "1 0.3279226          0.3267941                   0.001515929           \n",
       "  upper_ci_post lower_ci_post expected_woba\n",
       "1 0.3294385     0.3264066     0.3276147    "
      ]
     },
     "metadata": {},
     "output_type": "display_data"
    }
   ],
   "source": [
    "df %>% ungroup() %>%\n",
    "    filter(is_hot==1,\n",
    "          !is.na(woba_rolling_future)) %>%\n",
    "    summarise(\n",
    "        unique_hot_players = n_distinct(person.key),\n",
    "        total_hot_streaks = sum(is_hot),\n",
    "        total_hot_pa = sum(pa_rolling),\n",
    "        mean_hot_woba = sum(woba_num_rolling, na.rm=TRUE)/sum(woba_denom_rolling, na.rm=TRUE),\n",
    "        mean_post_hot_woba = sum(woba_num_rolling_future, na.rm=TRUE)/sum(woba_denom_rolling_future, na.rm=TRUE),\n",
    "        mean_post_hot_woba_nextgame = sum(woba_num_rolling_future_nextgame, na.rm=TRUE)/sum(woba_denom_rolling_future_nextgame, na.rm=TRUE),\n",
    "        std_mean_post_hot_woba = 1.96 * (sd(woba_num_rolling_future/woba_denom_rolling_future, na.rm=TRUE) / sqrt(n())),\n",
    "        upper_ci_post = mean_post_hot_woba + std_mean_post_hot_woba,\n",
    "        lower_ci_post = mean_post_hot_woba - std_mean_post_hot_woba,\n",
    "        expected_woba= mean(expected_woba, na.rm=TRUE)\n",
    "    )\n",
    "\n",
    "df %>% ungroup() %>%\n",
    "    filter(is_cold==1,\n",
    "          !is.na(woba_rolling_future)) %>%\n",
    "    summarise(\n",
    "        unique_hot_players = n_distinct(person.key),\n",
    "        total_hot_streaks = sum(is_cold),\n",
    "        total_hot_pa = sum(pa_rolling),\n",
    "        mean_hot_woba = sum(woba_num_rolling, na.rm=TRUE)/sum(woba_denom_rolling, na.rm=TRUE),\n",
    "        mean_post_hot_woba = sum(woba_num_rolling_future, na.rm=TRUE)/sum(woba_denom_rolling_future, na.rm=TRUE),\n",
    "        mean_post_hot_woba_nextgame = sum(woba_num_rolling_future_nextgame, na.rm=TRUE)/sum(woba_denom_rolling_future_nextgame, na.rm=TRUE),\n",
    "        std_mean_post_hot_woba = 1.96 * (sd(woba_num_rolling_future/woba_denom_rolling_future, na.rm=TRUE) / sqrt(n())),\n",
    "        upper_ci_post = mean_post_hot_woba + std_mean_post_hot_woba,\n",
    "        lower_ci_post = mean_post_hot_woba - std_mean_post_hot_woba,\n",
    "        expected_woba= mean(expected_woba, na.rm=TRUE)\n",
    "    )"
   ]
  },
  {
   "cell_type": "raw",
   "metadata": {},
   "source": [
    "test = df %>% ungroup() %>%\n",
    "    filter(is_hot==1,\n",
    "          !is.na(woba_rolling_future)) %>%\n",
    "    group_by(person.key,game.key) %>%\n",
    "    summarise(\n",
    "        total_hot_pa = sum(pa_rolling),\n",
    "        post_hot_pa= sum(pa_rolling_future),\n",
    "        mean_post_hot_woba = sum(woba_num_rolling_future, na.rm=TRUE)/sum(woba_denom_rolling_future, na.rm=TRUE),\n",
    "        expected_woba= mean(expected_woba, na.rm=TRUE)\n",
    "    )\n",
    "\n",
    "test = test %>% filter(!is.na(mean_post_hot_woba),\n",
    "                        post_hot_pa>=10)\n",
    "\n",
    "t.test(test$mean_post_hot_woba, test$expected_woba)\n",
    "\n",
    "test = df %>% ungroup() %>%\n",
    "    filter(is_cold==1,\n",
    "          !is.na(woba_rolling_future)) %>%\n",
    "    group_by(person.key,game.key) %>%\n",
    "    summarise(\n",
    "        total_hot_pa = sum(pa_rolling),\n",
    "        post_hot_pa= sum(pa_rolling_future),\n",
    "        mean_post_hot_woba = sum(woba_num_rolling_future, na.rm=TRUE)/sum(woba_denom_rolling_future, na.rm=TRUE),\n",
    "        expected_woba= mean(expected_woba, na.rm=TRUE)\n",
    "    )\n",
    "\n",
    "test = test %>% filter(!is.na(mean_post_hot_woba),\n",
    "                        post_hot_pa>=10)\n",
    "t.test(test$mean_post_hot_woba, test$expected_woba)"
   ]
  },
  {
   "cell_type": "code",
   "execution_count": 36,
   "metadata": {},
   "outputs": [
    {
     "data": {
      "text/plain": [
       "\n",
       "Call:\n",
       "lm(formula = woba_rolling_future ~ expected_woba + is_hot + is_cold + \n",
       "    site.key, data = df %>% filter(!is.na(woba_rolling_future), \n",
       "    !is.na(is_hot), season_pa > 50))\n",
       "\n",
       "Residuals:\n",
       "    Min      1Q  Median      3Q     Max \n",
       "-0.4178 -0.0739 -0.0043  0.0687  2.5138 \n",
       "\n",
       "Coefficients:\n",
       "                Estimate Std. Error t value             Pr(>|t|)    \n",
       "(Intercept)    0.0166337  0.0011467   14.51 < 0.0000000000000002 ***\n",
       "expected_woba  0.9400574  0.0027085  347.08 < 0.0000000000000002 ***\n",
       "is_hot         0.0052466  0.0008490    6.18      0.0000000006412 ***\n",
       "is_cold       -0.0007384  0.0008244   -0.90              0.37039    \n",
       "site.keyARL02 -0.0000218  0.0010229   -0.02              0.98297    \n",
       "site.keyATL02  0.0015383  0.0010442    1.47              0.14071    \n",
       "site.keyBAL12  0.0005042  0.0010242    0.49              0.62252    \n",
       "site.keyBOS07 -0.0010090  0.0010028   -1.01              0.31430    \n",
       "site.keyCHI11  0.0014522  0.0010030    1.45              0.14766    \n",
       "site.keyCHI12 -0.0004396  0.0010116   -0.43              0.66388    \n",
       "site.keyCIN08  0.0013371  0.0018652    0.72              0.47346    \n",
       "site.keyCLE08  0.0010411  0.0010119    1.03              0.30351    \n",
       "site.keyKAN06 -0.0006352  0.0010174   -0.62              0.53240    \n",
       "site.keyLOS03  0.0036894  0.0010163    3.63              0.00028 ***\n",
       "site.keyMIA01  0.0020947  0.0011436    1.83              0.06701 .  \n",
       "site.keyMIL05 -0.0020595  0.0031020   -0.66              0.50674    \n",
       "site.keyMIN03  0.0017233  0.0012097    1.42              0.15427    \n",
       "site.keyMNT01 -0.0258553  0.0167306   -1.55              0.12225    \n",
       "site.keyMON02  0.0008408  0.0016286    0.52              0.60566    \n",
       "site.keyNYC16 -0.0016003  0.0012444   -1.29              0.19844    \n",
       "site.keyNYC17  0.0010537  0.0012542    0.84              0.40084    \n",
       "site.keyOAK01 -0.0017474  0.0010197   -1.71              0.08660 .  \n",
       "site.keyPHI12  0.0050988  0.0016523    3.09              0.00203 ** \n",
       "site.keyPHO01 -0.0019388  0.0010196   -1.90              0.05723 .  \n",
       "site.keyPIT07  0.0140249  0.0031430    4.46      0.0000081111416 ***\n",
       "site.keySAN01  0.0049403  0.0017207    2.87              0.00409 ** \n",
       "site.keySEA03  0.0008906  0.0010170    0.88              0.38116    \n",
       "site.keySTL09  0.0021635  0.0014348    1.51              0.13160    \n",
       "site.keySTP01  0.0026486  0.0010232    2.59              0.00964 ** \n",
       "site.keyTOR02 -0.0002027  0.0010143   -0.20              0.84163    \n",
       "site.keyDET05  0.0001800  0.0010170    0.18              0.85950    \n",
       "site.keyHOU03  0.0009911  0.0010129    0.98              0.32784    \n",
       "site.keySFO03  0.0044607  0.0010197    4.37      0.0000121804938 ***\n",
       "site.keyMIL06  0.0026011  0.0010208    2.55              0.01083 *  \n",
       "site.keyPIT08 -0.0002113  0.0010192   -0.21              0.83578    \n",
       "site.keySJU01 -0.0064426  0.0040121   -1.61              0.10832    \n",
       "site.keyCIN09  0.0037119  0.0010638    3.49              0.00048 ***\n",
       "site.keyPHI13  0.0007448  0.0010732    0.69              0.48767    \n",
       "site.keySAN02  0.0075392  0.0011021    6.84      0.0000000000079 ***\n",
       "site.keyWAS10  0.0060322  0.0019672    3.07              0.00217 ** \n",
       "site.keySTL10 -0.0017232  0.0011113   -1.55              0.12100    \n",
       "site.keyLBV01 -0.0052823  0.0119104   -0.44              0.65740    \n",
       "site.keyWAS11  0.0020932  0.0011825    1.77              0.07670 .  \n",
       "site.keyNYC20  0.0031538  0.0012408    2.54              0.01103 *  \n",
       "site.keyNYC21  0.0018361  0.0012220    1.50              0.13298    \n",
       "site.keyMIN04  0.0006965  0.0012741    0.55              0.58458    \n",
       "site.keyMIA02 -0.0005691  0.0013950   -0.41              0.68333    \n",
       "site.keyFTB01  0.0586866  0.0251563    2.33              0.01965 *  \n",
       "site.keyATL03 -0.0012148  0.0023019   -0.53              0.59768    \n",
       "site.keyWIL02 -0.0025163  0.0188115   -0.13              0.89359    \n",
       "---\n",
       "Signif. codes:  0 ‘***’ 0.001 ‘**’ 0.01 ‘*’ 0.05 ‘.’ 0.1 ‘ ’ 1\n",
       "\n",
       "Residual standard error: 0.11 on 678348 degrees of freedom\n",
       "Multiple R-squared:  0.157,\tAdjusted R-squared:  0.157 \n",
       "F-statistic: 2.59e+03 on 49 and 678348 DF,  p-value: <0.0000000000000002\n"
      ]
     },
     "metadata": {},
     "output_type": "display_data"
    }
   ],
   "source": [
    "options(\"scipen\"=100, \"digits\"=3)\n",
    "summary(lm(woba_rolling_future ~ expected_woba + is_hot + is_cold + site.key, \n",
    "           df %>% filter(!is.na(woba_rolling_future),\n",
    "                        !is.na(is_hot), season_pa>50)))"
   ]
  },
  {
   "cell_type": "code",
   "execution_count": null,
   "metadata": {},
   "outputs": [],
   "source": []
  }
 ],
 "metadata": {
  "kernelspec": {
   "display_name": "R",
   "language": "R",
   "name": "ir"
  },
  "language_info": {
   "codemirror_mode": "r",
   "file_extension": ".r",
   "mimetype": "text/x-r-source",
   "name": "R",
   "pygments_lexer": "r",
   "version": "3.6.2"
  }
 },
 "nbformat": 4,
 "nbformat_minor": 4
}
