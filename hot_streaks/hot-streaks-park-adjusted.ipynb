{
 "cells": [
  {
   "cell_type": "code",
   "execution_count": 1,
   "metadata": {},
   "outputs": [
    {
     "name": "stderr",
     "output_type": "stream",
     "text": [
      "\n",
      "Attaching package: ‘dplyr’\n",
      "\n",
      "\n",
      "The following objects are masked from ‘package:stats’:\n",
      "\n",
      "    filter, lag\n",
      "\n",
      "\n",
      "The following objects are masked from ‘package:base’:\n",
      "\n",
      "    intersect, setdiff, setequal, union\n",
      "\n",
      "\n",
      "Loading required package: gsubfn\n",
      "\n",
      "Loading required package: proto\n",
      "\n",
      "Warning message in doTryCatch(return(expr), name, parentenv, handler):\n",
      "“unable to load shared object '/Library/Frameworks/R.framework/Resources/modules//R_X11.so':\n",
      "  dlopen(/Library/Frameworks/R.framework/Resources/modules//R_X11.so, 6): Library not loaded: /opt/X11/lib/libSM.6.dylib\n",
      "  Referenced from: /Library/Frameworks/R.framework/Versions/3.6/Resources/modules/R_X11.so\n",
      "  Reason: image not found”\n",
      "Could not load tcltk.  Will use slower R code instead.\n",
      "\n",
      "Loading required package: RSQLite\n",
      "\n"
     ]
    }
   ],
   "source": [
    "library(dplyr)\n",
    "library(ggplot2)\n",
    "library(RcppRoll)\n",
    "library(sqldf)"
   ]
  },
  {
   "cell_type": "code",
   "execution_count": 2,
   "metadata": {},
   "outputs": [],
   "source": [
    "# to get this data:\n",
    "# git clone https://github.com/chadwickbureau/retrosplits\n",
    "\n",
    "df = read.csv('data/retrosplits/daybyday/playing-1999.csv')\n",
    "df$season = 1999\n",
    "\n",
    "for (season_ in 1999:2019)\n",
    "{\n",
    "    filename = paste0('data/retrosplits/daybyday/playing-', as.character(season_), '.csv')\n",
    "    df_new = read.csv(filename)\n",
    "    df_new$season = season_\n",
    "    df = rbind(df, df_new)\n",
    "\n",
    "}"
   ]
  },
  {
   "cell_type": "code",
   "execution_count": 3,
   "metadata": {},
   "outputs": [],
   "source": [
    "# we later define \"expected woba\" using previous and following seasons' woba. \n",
    "# exclude players without a previous and next season (rookies, retirees)\n",
    "# use inner join this onto the game-level data once \"expected woba\" is calculated and added to the dataset\n",
    "player_years = df %>% select(person.key, season) %>% mutate(next_year = season+1, previous_year=season-1) %>% distinct()\n",
    "player_years_to_keep = player_years %>% inner_join(player_years, by=c(\"season\"=\"previous_year\", \"person.key\"=\"person.key\"))\n",
    "player_years_to_keep = player_years_to_keep %>% inner_join(player_years, by=c(\"season\"=\"next_year\", \"person.key\"=\"person.key\"))"
   ]
  },
  {
   "cell_type": "code",
   "execution_count": 4,
   "metadata": {},
   "outputs": [],
   "source": [
    "# limit to just regular season, define 1B events\n",
    "df = df %>% filter(season.phase=='R')\n",
    "df = df %>% mutate(B_1B = B_H - B_2B - B_3B - B_HR)"
   ]
  },
  {
   "cell_type": "code",
   "execution_count": 5,
   "metadata": {},
   "outputs": [],
   "source": [
    "# define game number within the season. later we'll want to exclude the final five games from streak identification\n",
    "game_nums = df %>% group_by(season, team.key) %>% distinct(game.date, game.key, team.key) %>% arrange(season, team.key, game.date) %>% \n",
    "    mutate(game_num = seq_along(game.date))\n",
    "\n",
    "df = df %>% left_join(game_nums %>% ungroup() %>% select(game.key, team.key, game_num), by=c('game.key', 'team.key'))\n",
    "\n",
    "# do this filter AFTER creating game numbers so the game number is still accurate\n",
    "df = df %>% filter(team.key != 'COL', site.key != 'DEN02')"
   ]
  },
  {
   "cell_type": "code",
   "execution_count": 6,
   "metadata": {},
   "outputs": [
    {
     "name": "stderr",
     "output_type": "stream",
     "text": [
      "Selecting by n\n",
      "\n"
     ]
    }
   ],
   "source": [
    "# create home/away flag by finding most common stadium for each team\n",
    "home_stadiums = df %>% group_by(team.key, season) %>% count(site.key) %>% top_n(1)\n",
    "df = df %>% left_join(home_stadiums, by=c('team.key', 'season'), \n",
    "                 suffix=c('', '_homeflag')) %>% \n",
    "    mutate(home_or_away = ifelse(site.key==site.key_homeflag, 'home', 'away'))"
   ]
  },
  {
   "cell_type": "code",
   "execution_count": 7,
   "metadata": {},
   "outputs": [
    {
     "name": "stderr",
     "output_type": "stream",
     "text": [
      "`summarise()` regrouping output by 'team.key', 'opponent.key', 'season', 'site.key', 'game.date', 'game.number' (override with `.groups` argument)\n",
      "\n",
      "`summarise()` regrouping output by 'season' (override with `.groups` argument)\n",
      "\n",
      "`summarise()` regrouping output by 'season' (override with `.groups` argument)\n",
      "\n"
     ]
    }
   ],
   "source": [
    "# create component-level park effects\n",
    "games = df %>% group_by(team.key, opponent.key, season, site.key, game.date, game.number, home_or_away) %>% \n",
    "                summarise(B_HR=sum(B_HR), \n",
    "                         B_1B = sum(B_1B),\n",
    "                         B_2B = sum(B_2B),\n",
    "                         B_3B = sum(B_3B),\n",
    "                         B_BB = (sum(B_BB) - sum(B_IBB)),\n",
    "                         B_HP = sum(B_HP),\n",
    "                         B_XI = sum(B_XI),\n",
    "                         B_R = sum(B_R),\n",
    "                         games = n_distinct(team.key, opponent.key, season, \n",
    "                                            site.key, game.date, game.number, \n",
    "                                            home_or_away)) %>%\n",
    "                ungroup() \n",
    "\n",
    "home = games %>% filter(home_or_away=='home') %>% \n",
    "    left_join(games, by=c(\"opponent.key\"=\"team.key\", \"game.date\"=\"game.date\", \n",
    "                         \"game.number\"=\"game.number\"),\n",
    "             suffix=c(\"\",\"_opponent\"))  %>% \n",
    "    group_by(season, team.key) %>% \n",
    "                summarise(B_HR=(sum(B_HR, na.rm=TRUE) + sum(B_HR_opponent, na.rm=TRUE))/sum(games), \n",
    "                         B_1B = (sum(B_1B, na.rm=TRUE) + sum(B_1B_opponent, na.rm=TRUE))/sum(games), \n",
    "                         B_2B = (sum(B_2B, na.rm=TRUE) + sum(B_2B_opponent, na.rm=TRUE))/sum(games), \n",
    "                         B_3B = (sum(B_3B, na.rm=TRUE) + sum(B_3B_opponent, na.rm=TRUE))/sum(games), \n",
    "                         B_BB = (sum(B_BB, na.rm=TRUE) + sum(B_BB_opponent, na.rm=TRUE))/sum(games), \n",
    "                         B_HP = (sum(B_HP, na.rm=TRUE) + sum(B_HP_opponent, na.rm=TRUE))/sum(games), \n",
    "                         B_XI = 1, #(sum(B_XI, na.rm=TRUE) + sum(B_XI_opponent, na.rm=TRUE))/sum(games), \n",
    "                         B_R = (sum(B_R, na.rm=TRUE) + sum(B_R_opponent, na.rm=TRUE))/sum(games), \n",
    "                        games=sum(games)\n",
    "                ) %>% ungroup()\n",
    "\n",
    "\n",
    "away = games %>% filter(home_or_away=='away') %>% \n",
    "    left_join(games, by=c(\"opponent.key\"=\"team.key\", \"game.date\"=\"game.date\", \n",
    "                         \"game.number\"=\"game.number\"),\n",
    "             suffix=c(\"\",\"_opponent\"))  %>% \n",
    "    group_by(season, team.key) %>% \n",
    "                summarise(B_HR = (sum(B_HR, na.rm=TRUE) + sum(B_HR_opponent, na.rm=TRUE))/sum(games), \n",
    "                         B_1B = (sum(B_1B, na.rm=TRUE) + sum(B_1B_opponent, na.rm=TRUE))/sum(games), \n",
    "                         B_2B = (sum(B_2B, na.rm=TRUE) + sum(B_2B_opponent, na.rm=TRUE))/sum(games), \n",
    "                         B_3B = (sum(B_3B, na.rm=TRUE) + sum(B_3B_opponent, na.rm=TRUE))/sum(games), \n",
    "                         B_BB = (sum(B_BB, na.rm=TRUE) + sum(B_BB_opponent, na.rm=TRUE))/sum(games), \n",
    "                         B_HP = (sum(B_HP, na.rm=TRUE) + sum(B_HP_opponent, na.rm=TRUE))/sum(games), \n",
    "                         B_XI = 1, #(sum(B_XI, na.rm=TRUE) + sum(B_XI_opponent, na.rm=TRUE))/sum(games), \n",
    "                         B_R = (sum(B_R, na.rm=TRUE) + sum(B_R_opponent, na.rm=TRUE))/sum(games))\n",
    "\n",
    "\n",
    "park_effects = home %>% left_join(away, by=c('team.key', 'season'), suffix=c('', '_road')) %>%\n",
    "    mutate(\n",
    "      B_HR = B_HR/B_HR_road, \n",
    "      B_1B = B_1B/B_1B_road,\n",
    "      B_2B = B_2B/B_2B_road,\n",
    "      B_3B = B_3B/B_3B_road,\n",
    "      B_BB = B_BB/B_BB_road,\n",
    "      B_HP = B_HP/B_HP_road,\n",
    "      B_XI = 1, # this one's doing more harm than good. too low volume to be helpful.\n",
    "      B_R = B_R/B_R_road,\n",
    "    )\n",
    "\n",
    "# connect park effects with their site.key\n",
    "park_effects = park_effects %>% left_join(home_stadiums, by=c('team.key', 'season')) %>%\n",
    "    select(season, site.key, team.key, B_R, B_HR, B_1B,\n",
    "          B_2B, B_3B, B_HP, B_XI, B_BB)"
   ]
  },
  {
   "cell_type": "code",
   "execution_count": 8,
   "metadata": {},
   "outputs": [],
   "source": [
    "# park-adjust all events\n",
    "df = df %>% left_join(park_effects, by=c('season', 'site.key'), suffix = c(\"\", \"_parkfactor\"))\n",
    "\n",
    "df = df %>% mutate(\n",
    "     B_HR = B_HR / B_HR_parkfactor,\n",
    "     B_1B = B_1B/B_1B_parkfactor,\n",
    "     B_2B = B_2B/B_2B_parkfactor,\n",
    "     B_3B = B_3B/B_3B_parkfactor,\n",
    "     B_BB = B_BB/B_BB_parkfactor,\n",
    "     B_HP = B_HP/B_HP_parkfactor,\n",
    "     B_XI = B_XI/B_XI_parkfactor,\n",
    "     B_R = B_R/B_R_parkfactor,\n",
    ")"
   ]
  },
  {
   "cell_type": "code",
   "execution_count": 9,
   "metadata": {},
   "outputs": [
    {
     "data": {
      "text/html": [
       "<table>\n",
       "<caption>A tibble: 29 × 11</caption>\n",
       "<thead>\n",
       "\t<tr><th scope=col>season</th><th scope=col>site.key</th><th scope=col>team.key</th><th scope=col>B_R</th><th scope=col>B_HR</th><th scope=col>B_1B</th><th scope=col>B_2B</th><th scope=col>B_3B</th><th scope=col>B_HP</th><th scope=col>B_XI</th><th scope=col>B_BB</th></tr>\n",
       "\t<tr><th scope=col>&lt;dbl&gt;</th><th scope=col>&lt;fct&gt;</th><th scope=col>&lt;fct&gt;</th><th scope=col>&lt;dbl&gt;</th><th scope=col>&lt;dbl&gt;</th><th scope=col>&lt;dbl&gt;</th><th scope=col>&lt;dbl&gt;</th><th scope=col>&lt;dbl&gt;</th><th scope=col>&lt;dbl&gt;</th><th scope=col>&lt;dbl&gt;</th><th scope=col>&lt;dbl&gt;</th></tr>\n",
       "</thead>\n",
       "<tbody>\n",
       "\t<tr><td>2010</td><td>CHI11</td><td>CHN</td><td>1.2021605</td><td>1.1412894</td><td>1.1135313</td><td>1.0828650</td><td>1.4444444</td><td>0.9629630</td><td>1</td><td>1.0112116</td></tr>\n",
       "\t<tr><td>2010</td><td>NYC21</td><td>NYA</td><td>1.1767181</td><td>1.4203822</td><td>0.9779874</td><td>1.0592885</td><td>0.7037037</td><td>1.2881356</td><td>1</td><td>0.9600694</td></tr>\n",
       "\t<tr><td>2010</td><td>CHI12</td><td>CHA</td><td>1.1348974</td><td>1.5447154</td><td>0.9171375</td><td>1.1240310</td><td>0.7826087</td><td>0.8833333</td><td>1</td><td>1.1833741</td></tr>\n",
       "\t<tr><td>2010</td><td>BAL12</td><td>BAL</td><td>1.1117825</td><td>1.2624113</td><td>1.0805785</td><td>1.0071429</td><td>0.7096774</td><td>1.4042553</td><td>1</td><td>0.9931034</td></tr>\n",
       "\t<tr><td>2010</td><td>BOS07</td><td>BOS</td><td>1.1028574</td><td>0.8749502</td><td>1.0428349</td><td>1.2195309</td><td>0.5644955</td><td>1.3962963</td><td>1</td><td>1.0256847</td></tr>\n",
       "\t<tr><td>2010</td><td>ARL02</td><td>TEX</td><td>1.0907801</td><td>1.1600000</td><td>1.0596095</td><td>1.0653846</td><td>0.7692308</td><td>1.2978723</td><td>1</td><td>0.9900596</td></tr>\n",
       "\t<tr><td>2010</td><td>TOR02</td><td>TOR</td><td>1.0513350</td><td>1.3547745</td><td>0.9859893</td><td>0.9298225</td><td>1.1250000</td><td>0.7988166</td><td>1</td><td>0.9843750</td></tr>\n",
       "\t<tr><td>2010</td><td>PHO01</td><td>ARI</td><td>1.0247100</td><td>1.0264550</td><td>0.9638820</td><td>1.0240000</td><td>2.4052288</td><td>0.5982906</td><td>1</td><td>0.8851929</td></tr>\n",
       "\t<tr><td>2010</td><td>CIN09</td><td>CIN</td><td>1.0125243</td><td>1.1307996</td><td>1.0301844</td><td>0.9335199</td><td>1.0370370</td><td>0.8103623</td><td>1</td><td>1.0128848</td></tr>\n",
       "\t<tr><td>2010</td><td>ATL02</td><td>ATL</td><td>1.0093889</td><td>1.0255947</td><td>1.0080847</td><td>0.9318996</td><td>0.9629630</td><td>1.0654058</td><td>1</td><td>0.9032443</td></tr>\n",
       "\t<tr><td>2010</td><td>PHI13</td><td>PHI</td><td>1.0060362</td><td>1.1317907</td><td>0.9615385</td><td>0.9630819</td><td>0.9615385</td><td>0.8312808</td><td>1</td><td>0.9738215</td></tr>\n",
       "\t<tr><td>2010</td><td>PIT08</td><td>PIT</td><td>0.9950153</td><td>0.7878788</td><td>0.9357488</td><td>1.0895809</td><td>1.1769547</td><td>1.0231481</td><td>1</td><td>0.9693543</td></tr>\n",
       "\t<tr><td>2010</td><td>KAN06</td><td>KCA</td><td>0.9854881</td><td>0.8903226</td><td>1.0248804</td><td>1.0067568</td><td>2.5333333</td><td>0.9756098</td><td>1</td><td>0.9051383</td></tr>\n",
       "\t<tr><td>2010</td><td>DET05</td><td>DET</td><td>0.9814324</td><td>0.9215686</td><td>1.0626896</td><td>0.9678571</td><td>1.0270270</td><td>0.7377049</td><td>1</td><td>0.9051233</td></tr>\n",
       "\t<tr><td>2010</td><td>MIL06</td><td>MIL</td><td>0.9810711</td><td>1.1834682</td><td>0.9442008</td><td>1.0094932</td><td>0.5611672</td><td>0.8825231</td><td>1</td><td>0.9862714</td></tr>\n",
       "\t<tr><td>2010</td><td>MIA01</td><td>FLO</td><td>0.9802844</td><td>0.7689873</td><td>0.9430817</td><td>1.0200491</td><td>0.9807692</td><td>1.2230769</td><td>1</td><td>1.1767668</td></tr>\n",
       "\t<tr><td>2010</td><td>OAK01</td><td>OAK</td><td>0.9559939</td><td>0.7012987</td><td>0.9525773</td><td>0.9026217</td><td>1.4736842</td><td>1.0238095</td><td>1</td><td>0.9880000</td></tr>\n",
       "\t<tr><td>2010</td><td>STL10</td><td>SLN</td><td>0.9557659</td><td>0.7716458</td><td>0.9956058</td><td>0.9311002</td><td>0.8792271</td><td>1.0244287</td><td>1</td><td>1.0666312</td></tr>\n",
       "\t<tr><td>2010</td><td>MIN04</td><td>MIN</td><td>0.9500000</td><td>0.6243094</td><td>1.0140562</td><td>1.0906040</td><td>1.1142857</td><td>0.7446809</td><td>1</td><td>1.0687204</td></tr>\n",
       "\t<tr><td>2010</td><td>CLE08</td><td>CLE</td><td>0.9470752</td><td>0.9503546</td><td>0.9295775</td><td>1.0874126</td><td>1.1304348</td><td>0.7808219</td><td>1</td><td>0.9829545</td></tr>\n",
       "\t<tr><td>2010</td><td>WAS11</td><td>WAS</td><td>0.9435547</td><td>0.9775852</td><td>1.0127974</td><td>1.0413401</td><td>0.7129630</td><td>0.9688984</td><td>1</td><td>0.9171154</td></tr>\n",
       "\t<tr><td>2010</td><td>SFO03</td><td>SFN</td><td>0.9404413</td><td>0.9228159</td><td>0.9479254</td><td>0.9256198</td><td>0.9876543</td><td>0.7494553</td><td>1</td><td>0.9054264</td></tr>\n",
       "\t<tr><td>2010</td><td>LOS03</td><td>LAN</td><td>0.9035329</td><td>1.0412698</td><td>0.9537713</td><td>0.9153664</td><td>0.3418803</td><td>1.0542636</td><td>1</td><td>0.9409214</td></tr>\n",
       "\t<tr><td>2010</td><td>NYC20</td><td>NYN</td><td>0.8873224</td><td>0.7140338</td><td>0.9588565</td><td>0.8670094</td><td>1.2618135</td><td>1.3240741</td><td>1</td><td>1.1041065</td></tr>\n",
       "\t<tr><td>2010</td><td>ANA01</td><td>ANA</td><td>0.8517520</td><td>0.8072289</td><td>1.0099119</td><td>0.8111455</td><td>0.4705882</td><td>1.8000000</td><td>1</td><td>0.9454545</td></tr>\n",
       "\t<tr><td>2010</td><td>SAN02</td><td>SDN</td><td>0.8509292</td><td>0.8243728</td><td>0.8814815</td><td>0.7777778</td><td>1.2549020</td><td>0.8148148</td><td>1</td><td>1.0374121</td></tr>\n",
       "\t<tr><td>2010</td><td>HOU03</td><td>HOU</td><td>0.8471394</td><td>1.0318666</td><td>0.8861355</td><td>0.9291748</td><td>1.2796771</td><td>1.2991770</td><td>1</td><td>0.9311728</td></tr>\n",
       "\t<tr><td>2010</td><td>SEA03</td><td>SEA</td><td>0.8128743</td><td>0.6753247</td><td>0.9829424</td><td>0.9188192</td><td>0.6521739</td><td>0.7173913</td><td>1</td><td>1.0361446</td></tr>\n",
       "\t<tr><td>2010</td><td>STP01</td><td>TBA</td><td>0.8002481</td><td>0.9364162</td><td>0.9113356</td><td>0.8328076</td><td>1.3666667</td><td>0.9433962</td><td>1</td><td>0.9358289</td></tr>\n",
       "</tbody>\n",
       "</table>\n"
      ],
      "text/latex": [
       "A tibble: 29 × 11\n",
       "\\begin{tabular}{lllllllllll}\n",
       " season & site.key & team.key & B\\_R & B\\_HR & B\\_1B & B\\_2B & B\\_3B & B\\_HP & B\\_XI & B\\_BB\\\\\n",
       " <dbl> & <fct> & <fct> & <dbl> & <dbl> & <dbl> & <dbl> & <dbl> & <dbl> & <dbl> & <dbl>\\\\\n",
       "\\hline\n",
       "\t 2010 & CHI11 & CHN & 1.2021605 & 1.1412894 & 1.1135313 & 1.0828650 & 1.4444444 & 0.9629630 & 1 & 1.0112116\\\\\n",
       "\t 2010 & NYC21 & NYA & 1.1767181 & 1.4203822 & 0.9779874 & 1.0592885 & 0.7037037 & 1.2881356 & 1 & 0.9600694\\\\\n",
       "\t 2010 & CHI12 & CHA & 1.1348974 & 1.5447154 & 0.9171375 & 1.1240310 & 0.7826087 & 0.8833333 & 1 & 1.1833741\\\\\n",
       "\t 2010 & BAL12 & BAL & 1.1117825 & 1.2624113 & 1.0805785 & 1.0071429 & 0.7096774 & 1.4042553 & 1 & 0.9931034\\\\\n",
       "\t 2010 & BOS07 & BOS & 1.1028574 & 0.8749502 & 1.0428349 & 1.2195309 & 0.5644955 & 1.3962963 & 1 & 1.0256847\\\\\n",
       "\t 2010 & ARL02 & TEX & 1.0907801 & 1.1600000 & 1.0596095 & 1.0653846 & 0.7692308 & 1.2978723 & 1 & 0.9900596\\\\\n",
       "\t 2010 & TOR02 & TOR & 1.0513350 & 1.3547745 & 0.9859893 & 0.9298225 & 1.1250000 & 0.7988166 & 1 & 0.9843750\\\\\n",
       "\t 2010 & PHO01 & ARI & 1.0247100 & 1.0264550 & 0.9638820 & 1.0240000 & 2.4052288 & 0.5982906 & 1 & 0.8851929\\\\\n",
       "\t 2010 & CIN09 & CIN & 1.0125243 & 1.1307996 & 1.0301844 & 0.9335199 & 1.0370370 & 0.8103623 & 1 & 1.0128848\\\\\n",
       "\t 2010 & ATL02 & ATL & 1.0093889 & 1.0255947 & 1.0080847 & 0.9318996 & 0.9629630 & 1.0654058 & 1 & 0.9032443\\\\\n",
       "\t 2010 & PHI13 & PHI & 1.0060362 & 1.1317907 & 0.9615385 & 0.9630819 & 0.9615385 & 0.8312808 & 1 & 0.9738215\\\\\n",
       "\t 2010 & PIT08 & PIT & 0.9950153 & 0.7878788 & 0.9357488 & 1.0895809 & 1.1769547 & 1.0231481 & 1 & 0.9693543\\\\\n",
       "\t 2010 & KAN06 & KCA & 0.9854881 & 0.8903226 & 1.0248804 & 1.0067568 & 2.5333333 & 0.9756098 & 1 & 0.9051383\\\\\n",
       "\t 2010 & DET05 & DET & 0.9814324 & 0.9215686 & 1.0626896 & 0.9678571 & 1.0270270 & 0.7377049 & 1 & 0.9051233\\\\\n",
       "\t 2010 & MIL06 & MIL & 0.9810711 & 1.1834682 & 0.9442008 & 1.0094932 & 0.5611672 & 0.8825231 & 1 & 0.9862714\\\\\n",
       "\t 2010 & MIA01 & FLO & 0.9802844 & 0.7689873 & 0.9430817 & 1.0200491 & 0.9807692 & 1.2230769 & 1 & 1.1767668\\\\\n",
       "\t 2010 & OAK01 & OAK & 0.9559939 & 0.7012987 & 0.9525773 & 0.9026217 & 1.4736842 & 1.0238095 & 1 & 0.9880000\\\\\n",
       "\t 2010 & STL10 & SLN & 0.9557659 & 0.7716458 & 0.9956058 & 0.9311002 & 0.8792271 & 1.0244287 & 1 & 1.0666312\\\\\n",
       "\t 2010 & MIN04 & MIN & 0.9500000 & 0.6243094 & 1.0140562 & 1.0906040 & 1.1142857 & 0.7446809 & 1 & 1.0687204\\\\\n",
       "\t 2010 & CLE08 & CLE & 0.9470752 & 0.9503546 & 0.9295775 & 1.0874126 & 1.1304348 & 0.7808219 & 1 & 0.9829545\\\\\n",
       "\t 2010 & WAS11 & WAS & 0.9435547 & 0.9775852 & 1.0127974 & 1.0413401 & 0.7129630 & 0.9688984 & 1 & 0.9171154\\\\\n",
       "\t 2010 & SFO03 & SFN & 0.9404413 & 0.9228159 & 0.9479254 & 0.9256198 & 0.9876543 & 0.7494553 & 1 & 0.9054264\\\\\n",
       "\t 2010 & LOS03 & LAN & 0.9035329 & 1.0412698 & 0.9537713 & 0.9153664 & 0.3418803 & 1.0542636 & 1 & 0.9409214\\\\\n",
       "\t 2010 & NYC20 & NYN & 0.8873224 & 0.7140338 & 0.9588565 & 0.8670094 & 1.2618135 & 1.3240741 & 1 & 1.1041065\\\\\n",
       "\t 2010 & ANA01 & ANA & 0.8517520 & 0.8072289 & 1.0099119 & 0.8111455 & 0.4705882 & 1.8000000 & 1 & 0.9454545\\\\\n",
       "\t 2010 & SAN02 & SDN & 0.8509292 & 0.8243728 & 0.8814815 & 0.7777778 & 1.2549020 & 0.8148148 & 1 & 1.0374121\\\\\n",
       "\t 2010 & HOU03 & HOU & 0.8471394 & 1.0318666 & 0.8861355 & 0.9291748 & 1.2796771 & 1.2991770 & 1 & 0.9311728\\\\\n",
       "\t 2010 & SEA03 & SEA & 0.8128743 & 0.6753247 & 0.9829424 & 0.9188192 & 0.6521739 & 0.7173913 & 1 & 1.0361446\\\\\n",
       "\t 2010 & STP01 & TBA & 0.8002481 & 0.9364162 & 0.9113356 & 0.8328076 & 1.3666667 & 0.9433962 & 1 & 0.9358289\\\\\n",
       "\\end{tabular}\n"
      ],
      "text/markdown": [
       "\n",
       "A tibble: 29 × 11\n",
       "\n",
       "| season &lt;dbl&gt; | site.key &lt;fct&gt; | team.key &lt;fct&gt; | B_R &lt;dbl&gt; | B_HR &lt;dbl&gt; | B_1B &lt;dbl&gt; | B_2B &lt;dbl&gt; | B_3B &lt;dbl&gt; | B_HP &lt;dbl&gt; | B_XI &lt;dbl&gt; | B_BB &lt;dbl&gt; |\n",
       "|---|---|---|---|---|---|---|---|---|---|---|\n",
       "| 2010 | CHI11 | CHN | 1.2021605 | 1.1412894 | 1.1135313 | 1.0828650 | 1.4444444 | 0.9629630 | 1 | 1.0112116 |\n",
       "| 2010 | NYC21 | NYA | 1.1767181 | 1.4203822 | 0.9779874 | 1.0592885 | 0.7037037 | 1.2881356 | 1 | 0.9600694 |\n",
       "| 2010 | CHI12 | CHA | 1.1348974 | 1.5447154 | 0.9171375 | 1.1240310 | 0.7826087 | 0.8833333 | 1 | 1.1833741 |\n",
       "| 2010 | BAL12 | BAL | 1.1117825 | 1.2624113 | 1.0805785 | 1.0071429 | 0.7096774 | 1.4042553 | 1 | 0.9931034 |\n",
       "| 2010 | BOS07 | BOS | 1.1028574 | 0.8749502 | 1.0428349 | 1.2195309 | 0.5644955 | 1.3962963 | 1 | 1.0256847 |\n",
       "| 2010 | ARL02 | TEX | 1.0907801 | 1.1600000 | 1.0596095 | 1.0653846 | 0.7692308 | 1.2978723 | 1 | 0.9900596 |\n",
       "| 2010 | TOR02 | TOR | 1.0513350 | 1.3547745 | 0.9859893 | 0.9298225 | 1.1250000 | 0.7988166 | 1 | 0.9843750 |\n",
       "| 2010 | PHO01 | ARI | 1.0247100 | 1.0264550 | 0.9638820 | 1.0240000 | 2.4052288 | 0.5982906 | 1 | 0.8851929 |\n",
       "| 2010 | CIN09 | CIN | 1.0125243 | 1.1307996 | 1.0301844 | 0.9335199 | 1.0370370 | 0.8103623 | 1 | 1.0128848 |\n",
       "| 2010 | ATL02 | ATL | 1.0093889 | 1.0255947 | 1.0080847 | 0.9318996 | 0.9629630 | 1.0654058 | 1 | 0.9032443 |\n",
       "| 2010 | PHI13 | PHI | 1.0060362 | 1.1317907 | 0.9615385 | 0.9630819 | 0.9615385 | 0.8312808 | 1 | 0.9738215 |\n",
       "| 2010 | PIT08 | PIT | 0.9950153 | 0.7878788 | 0.9357488 | 1.0895809 | 1.1769547 | 1.0231481 | 1 | 0.9693543 |\n",
       "| 2010 | KAN06 | KCA | 0.9854881 | 0.8903226 | 1.0248804 | 1.0067568 | 2.5333333 | 0.9756098 | 1 | 0.9051383 |\n",
       "| 2010 | DET05 | DET | 0.9814324 | 0.9215686 | 1.0626896 | 0.9678571 | 1.0270270 | 0.7377049 | 1 | 0.9051233 |\n",
       "| 2010 | MIL06 | MIL | 0.9810711 | 1.1834682 | 0.9442008 | 1.0094932 | 0.5611672 | 0.8825231 | 1 | 0.9862714 |\n",
       "| 2010 | MIA01 | FLO | 0.9802844 | 0.7689873 | 0.9430817 | 1.0200491 | 0.9807692 | 1.2230769 | 1 | 1.1767668 |\n",
       "| 2010 | OAK01 | OAK | 0.9559939 | 0.7012987 | 0.9525773 | 0.9026217 | 1.4736842 | 1.0238095 | 1 | 0.9880000 |\n",
       "| 2010 | STL10 | SLN | 0.9557659 | 0.7716458 | 0.9956058 | 0.9311002 | 0.8792271 | 1.0244287 | 1 | 1.0666312 |\n",
       "| 2010 | MIN04 | MIN | 0.9500000 | 0.6243094 | 1.0140562 | 1.0906040 | 1.1142857 | 0.7446809 | 1 | 1.0687204 |\n",
       "| 2010 | CLE08 | CLE | 0.9470752 | 0.9503546 | 0.9295775 | 1.0874126 | 1.1304348 | 0.7808219 | 1 | 0.9829545 |\n",
       "| 2010 | WAS11 | WAS | 0.9435547 | 0.9775852 | 1.0127974 | 1.0413401 | 0.7129630 | 0.9688984 | 1 | 0.9171154 |\n",
       "| 2010 | SFO03 | SFN | 0.9404413 | 0.9228159 | 0.9479254 | 0.9256198 | 0.9876543 | 0.7494553 | 1 | 0.9054264 |\n",
       "| 2010 | LOS03 | LAN | 0.9035329 | 1.0412698 | 0.9537713 | 0.9153664 | 0.3418803 | 1.0542636 | 1 | 0.9409214 |\n",
       "| 2010 | NYC20 | NYN | 0.8873224 | 0.7140338 | 0.9588565 | 0.8670094 | 1.2618135 | 1.3240741 | 1 | 1.1041065 |\n",
       "| 2010 | ANA01 | ANA | 0.8517520 | 0.8072289 | 1.0099119 | 0.8111455 | 0.4705882 | 1.8000000 | 1 | 0.9454545 |\n",
       "| 2010 | SAN02 | SDN | 0.8509292 | 0.8243728 | 0.8814815 | 0.7777778 | 1.2549020 | 0.8148148 | 1 | 1.0374121 |\n",
       "| 2010 | HOU03 | HOU | 0.8471394 | 1.0318666 | 0.8861355 | 0.9291748 | 1.2796771 | 1.2991770 | 1 | 0.9311728 |\n",
       "| 2010 | SEA03 | SEA | 0.8128743 | 0.6753247 | 0.9829424 | 0.9188192 | 0.6521739 | 0.7173913 | 1 | 1.0361446 |\n",
       "| 2010 | STP01 | TBA | 0.8002481 | 0.9364162 | 0.9113356 | 0.8328076 | 1.3666667 | 0.9433962 | 1 | 0.9358289 |\n",
       "\n"
      ],
      "text/plain": [
       "   season site.key team.key B_R       B_HR      B_1B      B_2B      B_3B     \n",
       "1  2010   CHI11    CHN      1.2021605 1.1412894 1.1135313 1.0828650 1.4444444\n",
       "2  2010   NYC21    NYA      1.1767181 1.4203822 0.9779874 1.0592885 0.7037037\n",
       "3  2010   CHI12    CHA      1.1348974 1.5447154 0.9171375 1.1240310 0.7826087\n",
       "4  2010   BAL12    BAL      1.1117825 1.2624113 1.0805785 1.0071429 0.7096774\n",
       "5  2010   BOS07    BOS      1.1028574 0.8749502 1.0428349 1.2195309 0.5644955\n",
       "6  2010   ARL02    TEX      1.0907801 1.1600000 1.0596095 1.0653846 0.7692308\n",
       "7  2010   TOR02    TOR      1.0513350 1.3547745 0.9859893 0.9298225 1.1250000\n",
       "8  2010   PHO01    ARI      1.0247100 1.0264550 0.9638820 1.0240000 2.4052288\n",
       "9  2010   CIN09    CIN      1.0125243 1.1307996 1.0301844 0.9335199 1.0370370\n",
       "10 2010   ATL02    ATL      1.0093889 1.0255947 1.0080847 0.9318996 0.9629630\n",
       "11 2010   PHI13    PHI      1.0060362 1.1317907 0.9615385 0.9630819 0.9615385\n",
       "12 2010   PIT08    PIT      0.9950153 0.7878788 0.9357488 1.0895809 1.1769547\n",
       "13 2010   KAN06    KCA      0.9854881 0.8903226 1.0248804 1.0067568 2.5333333\n",
       "14 2010   DET05    DET      0.9814324 0.9215686 1.0626896 0.9678571 1.0270270\n",
       "15 2010   MIL06    MIL      0.9810711 1.1834682 0.9442008 1.0094932 0.5611672\n",
       "16 2010   MIA01    FLO      0.9802844 0.7689873 0.9430817 1.0200491 0.9807692\n",
       "17 2010   OAK01    OAK      0.9559939 0.7012987 0.9525773 0.9026217 1.4736842\n",
       "18 2010   STL10    SLN      0.9557659 0.7716458 0.9956058 0.9311002 0.8792271\n",
       "19 2010   MIN04    MIN      0.9500000 0.6243094 1.0140562 1.0906040 1.1142857\n",
       "20 2010   CLE08    CLE      0.9470752 0.9503546 0.9295775 1.0874126 1.1304348\n",
       "21 2010   WAS11    WAS      0.9435547 0.9775852 1.0127974 1.0413401 0.7129630\n",
       "22 2010   SFO03    SFN      0.9404413 0.9228159 0.9479254 0.9256198 0.9876543\n",
       "23 2010   LOS03    LAN      0.9035329 1.0412698 0.9537713 0.9153664 0.3418803\n",
       "24 2010   NYC20    NYN      0.8873224 0.7140338 0.9588565 0.8670094 1.2618135\n",
       "25 2010   ANA01    ANA      0.8517520 0.8072289 1.0099119 0.8111455 0.4705882\n",
       "26 2010   SAN02    SDN      0.8509292 0.8243728 0.8814815 0.7777778 1.2549020\n",
       "27 2010   HOU03    HOU      0.8471394 1.0318666 0.8861355 0.9291748 1.2796771\n",
       "28 2010   SEA03    SEA      0.8128743 0.6753247 0.9829424 0.9188192 0.6521739\n",
       "29 2010   STP01    TBA      0.8002481 0.9364162 0.9113356 0.8328076 1.3666667\n",
       "   B_HP      B_XI B_BB     \n",
       "1  0.9629630 1    1.0112116\n",
       "2  1.2881356 1    0.9600694\n",
       "3  0.8833333 1    1.1833741\n",
       "4  1.4042553 1    0.9931034\n",
       "5  1.3962963 1    1.0256847\n",
       "6  1.2978723 1    0.9900596\n",
       "7  0.7988166 1    0.9843750\n",
       "8  0.5982906 1    0.8851929\n",
       "9  0.8103623 1    1.0128848\n",
       "10 1.0654058 1    0.9032443\n",
       "11 0.8312808 1    0.9738215\n",
       "12 1.0231481 1    0.9693543\n",
       "13 0.9756098 1    0.9051383\n",
       "14 0.7377049 1    0.9051233\n",
       "15 0.8825231 1    0.9862714\n",
       "16 1.2230769 1    1.1767668\n",
       "17 1.0238095 1    0.9880000\n",
       "18 1.0244287 1    1.0666312\n",
       "19 0.7446809 1    1.0687204\n",
       "20 0.7808219 1    0.9829545\n",
       "21 0.9688984 1    0.9171154\n",
       "22 0.7494553 1    0.9054264\n",
       "23 1.0542636 1    0.9409214\n",
       "24 1.3240741 1    1.1041065\n",
       "25 1.8000000 1    0.9454545\n",
       "26 0.8148148 1    1.0374121\n",
       "27 1.2991770 1    0.9311728\n",
       "28 0.7173913 1    1.0361446\n",
       "29 0.9433962 1    0.9358289"
      ]
     },
     "metadata": {},
     "output_type": "display_data"
    }
   ],
   "source": [
    "park_effects %>% filter(season==2010) %>% arrange(-B_R)"
   ]
  },
  {
   "cell_type": "code",
   "execution_count": 10,
   "metadata": {},
   "outputs": [],
   "source": [
    "df = df %>% mutate(game.date = as.Date(game.date))"
   ]
  },
  {
   "cell_type": "markdown",
   "metadata": {},
   "source": [
    "# Hot/cold streak definition\n",
    "\n",
    "* Defined a hot / cold wOBA threshold \n",
    "* Rolling wOBA over five-game periods (so first or last five of the year cant be considered)\n",
    "* Must have at least 20 PA in the five game stretch to be considered\n",
    "* Thresholds defined as groups where 5 percent of league is hot, 5 is cold for a given 5 game stretch\n",
    "* Roughly this means .525 woba for hot, .195 for cold \n",
    "\n",
    "\n",
    "\n",
    "TODO: make sure streaks don't count if a player missed a game in the middle. "
   ]
  },
  {
   "cell_type": "code",
   "execution_count": 11,
   "metadata": {},
   "outputs": [],
   "source": [
    "# define woba numerator and denominator to get N-game woba\n",
    "# weights by year https://www.fangraphs.com/guts.aspx?type=cn\n",
    "df = df %>% mutate(\n",
    "    woba_numerator = 0.9*B_1B + 1.24*B_2B + 1.56*B_3B + 1.95*B_HR + 0.72*(B_BB - B_IBB) + 0.75*B_HP +  0.92*B_XI, # the book's weights\n",
    "    woba_denominator = B_PA,\n",
    "    game_woba = woba_numerator / woba_denominator)"
   ]
  },
  {
   "cell_type": "code",
   "execution_count": 12,
   "metadata": {},
   "outputs": [],
   "source": [
    "# SQL query to create players' expected woba\n",
    "# expected woba: a player's woba from the current, previous, and following season, omitting the player's past 5 games (inclusive of the current game)\n",
    "player_woba = sqldf('\n",
    "      select \n",
    "        df1.\"person.key\",\n",
    "        df1.season,\n",
    "        df1.game_num,\n",
    "        SUM(coalesce(df2.woba_numerator, 0)) season_woba_num,\n",
    "        SUM(coalesce(df2.woba_denominator, 0)) season_woba_denom,\n",
    "        sum(coalesce(df2.woba_numerator, 0))/sum(coalesce(df2.woba_denominator, 0)) expected_woba,\n",
    "        sum(df2.B_PA) season_pa\n",
    "      from\n",
    "        df AS df1\n",
    "      left join\n",
    "        (select \"person.key\", season, game_num, SUM(coalesce(woba_numerator, 0)) woba_numerator,\n",
    "    SUM(coalesce(woba_denominator, 0)) woba_denominator, sum(B_PA) B_PA from df group by 1,2,3) AS df2\n",
    "      ON\n",
    "        df1.\"person.key\" = df2.\"person.key\"\n",
    "      AND\n",
    "        df1.season <= df2.season + 1\n",
    "      AND\n",
    "        df1.season >= df2.season - 1\n",
    "      AND\n",
    "        (\n",
    "            (df1.season*1000 + df1.game_num) <= (df2.season*1000 + df2.game_num -7)\n",
    "        OR\n",
    "            (df1.season*1000 + df1.game_num) > (df2.season*1000 + df2.game_num)\n",
    "        )\n",
    "      GROUP BY df1.\"person.key\", df1.season, df1.game_num\n",
    "')"
   ]
  },
  {
   "cell_type": "code",
   "execution_count": 13,
   "metadata": {},
   "outputs": [
    {
     "data": {
      "text/html": [
       "<table>\n",
       "<caption>A data.frame: 15 × 7</caption>\n",
       "<thead>\n",
       "\t<tr><th></th><th scope=col>person.key</th><th scope=col>season</th><th scope=col>game_num</th><th scope=col>season_woba_num</th><th scope=col>season_woba_denom</th><th scope=col>expected_woba</th><th scope=col>season_pa</th></tr>\n",
       "\t<tr><th></th><th scope=col>&lt;fct&gt;</th><th scope=col>&lt;dbl&gt;</th><th scope=col>&lt;int&gt;</th><th scope=col>&lt;dbl&gt;</th><th scope=col>&lt;int&gt;</th><th scope=col>&lt;dbl&gt;</th><th scope=col>&lt;int&gt;</th></tr>\n",
       "</thead>\n",
       "<tbody>\n",
       "\t<tr><th scope=row>1</th><td>bondb001</td><td>2001</td><td> 2</td><td>974.9469</td><td>1742</td><td>0.5596710</td><td>1742</td></tr>\n",
       "\t<tr><th scope=row>2</th><td>bondb001</td><td>2001</td><td> 1</td><td>970.9338</td><td>1737</td><td>0.5589717</td><td>1737</td></tr>\n",
       "\t<tr><th scope=row>3</th><td>bondb001</td><td>2001</td><td> 3</td><td>973.9206</td><td>1743</td><td>0.5587611</td><td>1743</td></tr>\n",
       "\t<tr><th scope=row>4</th><td>bondb001</td><td>2001</td><td> 4</td><td>971.1922</td><td>1742</td><td>0.5575156</td><td>1742</td></tr>\n",
       "\t<tr><th scope=row>5</th><td>bondb001</td><td>2001</td><td>73</td><td>966.8665</td><td>1736</td><td>0.5569507</td><td>1736</td></tr>\n",
       "\t<tr><th scope=row>6</th><td>bondb001</td><td>2001</td><td>87</td><td>966.0794</td><td>1736</td><td>0.5564973</td><td>1736</td></tr>\n",
       "\t<tr><th scope=row>7</th><td>bondb001</td><td>2001</td><td>71</td><td>968.2493</td><td>1740</td><td>0.5564651</td><td>1740</td></tr>\n",
       "\t<tr><th scope=row>8</th><td>bondb001</td><td>2001</td><td>77</td><td>969.0023</td><td>1742</td><td>0.5562585</td><td>1742</td></tr>\n",
       "\t<tr><th scope=row>9</th><td>bondb001</td><td>2001</td><td>88</td><td>965.0979</td><td>1735</td><td>0.5562524</td><td>1735</td></tr>\n",
       "\t<tr><th scope=row>10</th><td>bondb001</td><td>2001</td><td>74</td><td>968.3797</td><td>1741</td><td>0.5562204</td><td>1741</td></tr>\n",
       "\t<tr><th scope=row>11</th><td>bondb001</td><td>2001</td><td>86</td><td>964.9496</td><td>1735</td><td>0.5561669</td><td>1735</td></tr>\n",
       "\t<tr><th scope=row>12</th><td>bondb001</td><td>2001</td><td>82</td><td>964.8024</td><td>1735</td><td>0.5560821</td><td>1735</td></tr>\n",
       "\t<tr><th scope=row>13</th><td>bondb001</td><td>2001</td><td>96</td><td>974.6593</td><td>1753</td><td>0.5559950</td><td>1753</td></tr>\n",
       "\t<tr><th scope=row>14</th><td>bondb001</td><td>2001</td><td> 5</td><td>967.4664</td><td>1741</td><td>0.5556958</td><td>1741</td></tr>\n",
       "\t<tr><th scope=row>15</th><td>bondb001</td><td>2001</td><td>78</td><td>967.9374</td><td>1742</td><td>0.5556472</td><td>1742</td></tr>\n",
       "</tbody>\n",
       "</table>\n"
      ],
      "text/latex": [
       "A data.frame: 15 × 7\n",
       "\\begin{tabular}{r|lllllll}\n",
       "  & person.key & season & game\\_num & season\\_woba\\_num & season\\_woba\\_denom & expected\\_woba & season\\_pa\\\\\n",
       "  & <fct> & <dbl> & <int> & <dbl> & <int> & <dbl> & <int>\\\\\n",
       "\\hline\n",
       "\t1 & bondb001 & 2001 &  2 & 974.9469 & 1742 & 0.5596710 & 1742\\\\\n",
       "\t2 & bondb001 & 2001 &  1 & 970.9338 & 1737 & 0.5589717 & 1737\\\\\n",
       "\t3 & bondb001 & 2001 &  3 & 973.9206 & 1743 & 0.5587611 & 1743\\\\\n",
       "\t4 & bondb001 & 2001 &  4 & 971.1922 & 1742 & 0.5575156 & 1742\\\\\n",
       "\t5 & bondb001 & 2001 & 73 & 966.8665 & 1736 & 0.5569507 & 1736\\\\\n",
       "\t6 & bondb001 & 2001 & 87 & 966.0794 & 1736 & 0.5564973 & 1736\\\\\n",
       "\t7 & bondb001 & 2001 & 71 & 968.2493 & 1740 & 0.5564651 & 1740\\\\\n",
       "\t8 & bondb001 & 2001 & 77 & 969.0023 & 1742 & 0.5562585 & 1742\\\\\n",
       "\t9 & bondb001 & 2001 & 88 & 965.0979 & 1735 & 0.5562524 & 1735\\\\\n",
       "\t10 & bondb001 & 2001 & 74 & 968.3797 & 1741 & 0.5562204 & 1741\\\\\n",
       "\t11 & bondb001 & 2001 & 86 & 964.9496 & 1735 & 0.5561669 & 1735\\\\\n",
       "\t12 & bondb001 & 2001 & 82 & 964.8024 & 1735 & 0.5560821 & 1735\\\\\n",
       "\t13 & bondb001 & 2001 & 96 & 974.6593 & 1753 & 0.5559950 & 1753\\\\\n",
       "\t14 & bondb001 & 2001 &  5 & 967.4664 & 1741 & 0.5556958 & 1741\\\\\n",
       "\t15 & bondb001 & 2001 & 78 & 967.9374 & 1742 & 0.5556472 & 1742\\\\\n",
       "\\end{tabular}\n"
      ],
      "text/markdown": [
       "\n",
       "A data.frame: 15 × 7\n",
       "\n",
       "| <!--/--> | person.key &lt;fct&gt; | season &lt;dbl&gt; | game_num &lt;int&gt; | season_woba_num &lt;dbl&gt; | season_woba_denom &lt;int&gt; | expected_woba &lt;dbl&gt; | season_pa &lt;int&gt; |\n",
       "|---|---|---|---|---|---|---|---|\n",
       "| 1 | bondb001 | 2001 |  2 | 974.9469 | 1742 | 0.5596710 | 1742 |\n",
       "| 2 | bondb001 | 2001 |  1 | 970.9338 | 1737 | 0.5589717 | 1737 |\n",
       "| 3 | bondb001 | 2001 |  3 | 973.9206 | 1743 | 0.5587611 | 1743 |\n",
       "| 4 | bondb001 | 2001 |  4 | 971.1922 | 1742 | 0.5575156 | 1742 |\n",
       "| 5 | bondb001 | 2001 | 73 | 966.8665 | 1736 | 0.5569507 | 1736 |\n",
       "| 6 | bondb001 | 2001 | 87 | 966.0794 | 1736 | 0.5564973 | 1736 |\n",
       "| 7 | bondb001 | 2001 | 71 | 968.2493 | 1740 | 0.5564651 | 1740 |\n",
       "| 8 | bondb001 | 2001 | 77 | 969.0023 | 1742 | 0.5562585 | 1742 |\n",
       "| 9 | bondb001 | 2001 | 88 | 965.0979 | 1735 | 0.5562524 | 1735 |\n",
       "| 10 | bondb001 | 2001 | 74 | 968.3797 | 1741 | 0.5562204 | 1741 |\n",
       "| 11 | bondb001 | 2001 | 86 | 964.9496 | 1735 | 0.5561669 | 1735 |\n",
       "| 12 | bondb001 | 2001 | 82 | 964.8024 | 1735 | 0.5560821 | 1735 |\n",
       "| 13 | bondb001 | 2001 | 96 | 974.6593 | 1753 | 0.5559950 | 1753 |\n",
       "| 14 | bondb001 | 2001 |  5 | 967.4664 | 1741 | 0.5556958 | 1741 |\n",
       "| 15 | bondb001 | 2001 | 78 | 967.9374 | 1742 | 0.5556472 | 1742 |\n",
       "\n"
      ],
      "text/plain": [
       "   person.key season game_num season_woba_num season_woba_denom expected_woba\n",
       "1  bondb001   2001    2       974.9469        1742              0.5596710    \n",
       "2  bondb001   2001    1       970.9338        1737              0.5589717    \n",
       "3  bondb001   2001    3       973.9206        1743              0.5587611    \n",
       "4  bondb001   2001    4       971.1922        1742              0.5575156    \n",
       "5  bondb001   2001   73       966.8665        1736              0.5569507    \n",
       "6  bondb001   2001   87       966.0794        1736              0.5564973    \n",
       "7  bondb001   2001   71       968.2493        1740              0.5564651    \n",
       "8  bondb001   2001   77       969.0023        1742              0.5562585    \n",
       "9  bondb001   2001   88       965.0979        1735              0.5562524    \n",
       "10 bondb001   2001   74       968.3797        1741              0.5562204    \n",
       "11 bondb001   2001   86       964.9496        1735              0.5561669    \n",
       "12 bondb001   2001   82       964.8024        1735              0.5560821    \n",
       "13 bondb001   2001   96       974.6593        1753              0.5559950    \n",
       "14 bondb001   2001    5       967.4664        1741              0.5556958    \n",
       "15 bondb001   2001   78       967.9374        1742              0.5556472    \n",
       "   season_pa\n",
       "1  1742     \n",
       "2  1737     \n",
       "3  1743     \n",
       "4  1742     \n",
       "5  1736     \n",
       "6  1736     \n",
       "7  1740     \n",
       "8  1742     \n",
       "9  1735     \n",
       "10 1741     \n",
       "11 1735     \n",
       "12 1735     \n",
       "13 1753     \n",
       "14 1741     \n",
       "15 1742     "
      ]
     },
     "metadata": {},
     "output_type": "display_data"
    }
   ],
   "source": [
    "player_woba %>% filter(season_pa>50) %>% arrange(-expected_woba) %>% head(15)"
   ]
  },
  {
   "cell_type": "code",
   "execution_count": 14,
   "metadata": {},
   "outputs": [
    {
     "data": {
      "text/html": [
       "<style>\n",
       ".list-inline {list-style: none; margin:0; padding: 0}\n",
       ".list-inline>li {display: inline-block}\n",
       ".list-inline>li:not(:last-child)::after {content: \"\\00b7\"; padding: 0 .5ex}\n",
       "</style>\n",
       "<ol class=list-inline><li>1251409</li><li>197</li></ol>\n"
      ],
      "text/latex": [
       "\\begin{enumerate*}\n",
       "\\item 1251409\n",
       "\\item 197\n",
       "\\end{enumerate*}\n"
      ],
      "text/markdown": [
       "1. 1251409\n",
       "2. 197\n",
       "\n",
       "\n"
      ],
      "text/plain": [
       "[1] 1251409     197"
      ]
     },
     "metadata": {},
     "output_type": "display_data"
    },
    {
     "data": {
      "text/html": [
       "<style>\n",
       ".list-inline {list-style: none; margin:0; padding: 0}\n",
       ".list-inline>li {display: inline-block}\n",
       ".list-inline>li:not(:last-child)::after {content: \"\\00b7\"; padding: 0 .5ex}\n",
       "</style>\n",
       "<ol class=list-inline><li>1008701</li><li>203</li></ol>\n"
      ],
      "text/latex": [
       "\\begin{enumerate*}\n",
       "\\item 1008701\n",
       "\\item 203\n",
       "\\end{enumerate*}\n"
      ],
      "text/markdown": [
       "1. 1008701\n",
       "2. 203\n",
       "\n",
       "\n"
      ],
      "text/plain": [
       "[1] 1008701     203"
      ]
     },
     "metadata": {},
     "output_type": "display_data"
    }
   ],
   "source": [
    "df = df %>% left_join(player_woba,by=c('season', 'person.key', 'game_num'))\n",
    "\n",
    "# remove these seasons. no future/past season available for calculating their expected woba values\n",
    "df = df %>% filter(season > 1999, season < 2019)\n",
    "\n",
    "dim(df)\n",
    "# remove players we can't calculate an expected woba for \n",
    "df = df %>% inner_join(player_years_to_keep, by=c(\"person.key\", \"season\"), suffixes=c(\"\", \"_ignore\"))\n",
    "dim(df)"
   ]
  },
  {
   "cell_type": "code",
   "execution_count": 15,
   "metadata": {},
   "outputs": [
    {
     "name": "stderr",
     "output_type": "stream",
     "text": [
      "\n",
      "Attaching package: ‘zoo’\n",
      "\n",
      "\n",
      "The following objects are masked from ‘package:base’:\n",
      "\n",
      "    as.Date, as.Date.numeric\n",
      "\n",
      "\n"
     ]
    }
   ],
   "source": [
    "# take rolling sums of woba components to get a 5g woba\n",
    "library(zoo)\n",
    "num_games_streak = 5\n",
    "num_games_post_streak = 5\n",
    "min_pa_in_streak = 4 * num_games_streak #4\n",
    "min_pa_post_streak = 3 * num_games_post_streak #0\n",
    "# different offset used for post streak folling counts for 3 vs. 5 game configuration. paste this in if changing streak lenghts.\n",
    "seven_game_post = list(c(1, 2, 3,4,5,6,7))\n",
    "five_game_post = list(c(1, 2, 3, 4, 5))\n",
    "\n",
    "# this is ugly indentation but makes it ahrder to forget to paste something when updating it\n",
    "df = df %>%\n",
    "         arrange(season, person.key, game.date, game.key) %>%\n",
    "         group_by(season, person.key) %>%\n",
    "         mutate(woba_num_rolling =   roll_sum(woba_numerator, num_games_streak, align = \"right\", fill = NA),\n",
    "                pa_rolling =         roll_sum(B_PA, num_games_streak, align = \"right\", fill = NA),\n",
    "                woba_denom_rolling = roll_sum(woba_denominator, num_games_streak, align = \"right\", fill = NA),\n",
    "                woba_rolling = woba_num_rolling/woba_denom_rolling,\n",
    "                woba_num_rolling_future =   rollapply(woba_numerator, FUN=sum, five_game_post, align = \"left\", fill = NA),\n",
    "                pa_rolling_future =         rollapply(B_PA, FUN=sum, five_game_post, align = \"left\", fill = NA),\n",
    "                woba_denom_rolling_future = rollapply(woba_denominator, FUN=sum,  five_game_post, align = \"left\", fill = NA),\n",
    "                woba_rolling_future = woba_num_rolling_future/woba_denom_rolling_future,\n",
    "                \n",
    "                woba_num_rolling_future_nextgame =   rollapply(woba_numerator, FUN=sum, list(c(1)), align = \"left\", fill = NA),\n",
    "                woba_denom_rolling_future_nextgame  = rollapply(woba_denominator, FUN=sum,  list(c(1)), align = \"left\", fill = NA),\n",
    "                woba_rolling_future_nextgame  = woba_num_rolling_future_nextgame /woba_denom_rolling_future_nextgame \n",
    "        ) "
   ]
  },
  {
   "cell_type": "markdown",
   "metadata": {},
   "source": [
    "## Get Thresholds for Hot/Cold Streaks (top/bottom 5% of league in x-game rolling wOBA)"
   ]
  },
  {
   "cell_type": "code",
   "execution_count": 16,
   "metadata": {},
   "outputs": [
    {
     "name": "stderr",
     "output_type": "stream",
     "text": [
      "`summarise()` regrouping output by 'season', 'person.key' (override with `.groups` argument)\n",
      "\n"
     ]
    },
    {
     "data": {
      "text/html": [
       "<table>\n",
       "<caption>A tibble: 2 × 1</caption>\n",
       "<thead>\n",
       "\t<tr><th scope=col>thresholds</th></tr>\n",
       "\t<tr><th scope=col>&lt;dbl&gt;</th></tr>\n",
       "</thead>\n",
       "<tbody>\n",
       "\t<tr><td>0.1649908</td></tr>\n",
       "\t<tr><td>0.5574652</td></tr>\n",
       "</tbody>\n",
       "</table>\n"
      ],
      "text/latex": [
       "A tibble: 2 × 1\n",
       "\\begin{tabular}{l}\n",
       " thresholds\\\\\n",
       " <dbl>\\\\\n",
       "\\hline\n",
       "\t 0.1649908\\\\\n",
       "\t 0.5574652\\\\\n",
       "\\end{tabular}\n"
      ],
      "text/markdown": [
       "\n",
       "A tibble: 2 × 1\n",
       "\n",
       "| thresholds &lt;dbl&gt; |\n",
       "|---|\n",
       "| 0.1649908 |\n",
       "| 0.5574652 |\n",
       "\n"
      ],
      "text/plain": [
       "  thresholds\n",
       "1 0.1649908 \n",
       "2 0.5574652 "
      ]
     },
     "metadata": {},
     "output_type": "display_data"
    }
   ],
   "source": [
    "# get seasons' percentiles for woba thresholds\n",
    "df %>% \n",
    "    # only consider periods with at least 20 pa in them \n",
    "    filter(pa_rolling >= min_pa_in_streak, pa_rolling_future >= min_pa_post_streak) %>% \n",
    "    group_by(season, person.key, game.key) %>% summarise(woba = sum(woba_numerator) / sum(woba_denominator),\n",
    "                                                  #woba_rolling_avg = mean(woba_rolling, na.rm=TRUE), \n",
    "                                                  woba_rolling_avg = sum(woba_num_rolling, na.rm=TRUE)/sum(woba_denom_rolling, na.rm=TRUE),\n",
    "                                                  pa = sum(B_PA)) %>%\n",
    "    ungroup() %>%\n",
    "    summarise(thresholds = quantile(woba_rolling_avg, probs = c(0.05, 0.95))) "
   ]
  },
  {
   "cell_type": "code",
   "execution_count": 17,
   "metadata": {},
   "outputs": [],
   "source": [
    "# create is hot/cold flags\n",
    "hot_threshold = .557\n",
    "cold_threshold = .165\n",
    "df = df %>% ungroup() %>% \n",
    "    mutate(is_hot = ifelse(((woba_rolling > hot_threshold) & (pa_rolling>=min_pa_in_streak) & (game_num < 157)), 1, 0),\n",
    "           is_cold = ifelse(((woba_rolling < cold_threshold) & (pa_rolling>=min_pa_in_streak) & (game_num < 157)), 1, 0))"
   ]
  },
  {
   "cell_type": "markdown",
   "metadata": {},
   "source": [
    "## Calculate Streak, Post-Streak, and Expected Value Summary Stats"
   ]
  },
  {
   "cell_type": "code",
   "execution_count": 18,
   "metadata": {},
   "outputs": [
    {
     "data": {
      "text/html": [
       "<table>\n",
       "<caption>A tibble: 1 × 11</caption>\n",
       "<thead>\n",
       "\t<tr><th scope=col>unique_hot_players</th><th scope=col>total_hot_streaks</th><th scope=col>total_hot_pa</th><th scope=col>mean_hot_woba</th><th scope=col>mean_post_hot_woba_nextgame</th><th scope=col>mean_post_hot_woba</th><th scope=col>expected_woba</th><th scope=col>std_mean_post_hot_woba</th><th scope=col>upper_ci_post</th><th scope=col>lower_ci_post</th><th scope=col>mean_season_woba</th></tr>\n",
       "\t<tr><th scope=col>&lt;int&gt;</th><th scope=col>&lt;dbl&gt;</th><th scope=col>&lt;dbl&gt;</th><th scope=col>&lt;dbl&gt;</th><th scope=col>&lt;dbl&gt;</th><th scope=col>&lt;dbl&gt;</th><th scope=col>&lt;dbl&gt;</th><th scope=col>&lt;dbl&gt;</th><th scope=col>&lt;dbl&gt;</th><th scope=col>&lt;dbl&gt;</th><th scope=col>&lt;dbl&gt;</th></tr>\n",
       "</thead>\n",
       "<tbody>\n",
       "\t<tr><td>939</td><td>18677</td><td>410854</td><td>0.6211379</td><td>0.3654315</td><td>0.3646442</td><td>0.3627619</td><td>0.001855077</td><td>0.3664993</td><td>0.3627891</td><td>0.3666686</td></tr>\n",
       "</tbody>\n",
       "</table>\n"
      ],
      "text/latex": [
       "A tibble: 1 × 11\n",
       "\\begin{tabular}{lllllllllll}\n",
       " unique\\_hot\\_players & total\\_hot\\_streaks & total\\_hot\\_pa & mean\\_hot\\_woba & mean\\_post\\_hot\\_woba\\_nextgame & mean\\_post\\_hot\\_woba & expected\\_woba & std\\_mean\\_post\\_hot\\_woba & upper\\_ci\\_post & lower\\_ci\\_post & mean\\_season\\_woba\\\\\n",
       " <int> & <dbl> & <dbl> & <dbl> & <dbl> & <dbl> & <dbl> & <dbl> & <dbl> & <dbl> & <dbl>\\\\\n",
       "\\hline\n",
       "\t 939 & 18677 & 410854 & 0.6211379 & 0.3654315 & 0.3646442 & 0.3627619 & 0.001855077 & 0.3664993 & 0.3627891 & 0.3666686\\\\\n",
       "\\end{tabular}\n"
      ],
      "text/markdown": [
       "\n",
       "A tibble: 1 × 11\n",
       "\n",
       "| unique_hot_players &lt;int&gt; | total_hot_streaks &lt;dbl&gt; | total_hot_pa &lt;dbl&gt; | mean_hot_woba &lt;dbl&gt; | mean_post_hot_woba_nextgame &lt;dbl&gt; | mean_post_hot_woba &lt;dbl&gt; | expected_woba &lt;dbl&gt; | std_mean_post_hot_woba &lt;dbl&gt; | upper_ci_post &lt;dbl&gt; | lower_ci_post &lt;dbl&gt; | mean_season_woba &lt;dbl&gt; |\n",
       "|---|---|---|---|---|---|---|---|---|---|---|\n",
       "| 939 | 18677 | 410854 | 0.6211379 | 0.3654315 | 0.3646442 | 0.3627619 | 0.001855077 | 0.3664993 | 0.3627891 | 0.3666686 |\n",
       "\n"
      ],
      "text/plain": [
       "  unique_hot_players total_hot_streaks total_hot_pa mean_hot_woba\n",
       "1 939                18677             410854       0.6211379    \n",
       "  mean_post_hot_woba_nextgame mean_post_hot_woba expected_woba\n",
       "1 0.3654315                   0.3646442          0.3627619    \n",
       "  std_mean_post_hot_woba upper_ci_post lower_ci_post mean_season_woba\n",
       "1 0.001855077            0.3664993     0.3627891     0.3666686       "
      ]
     },
     "metadata": {},
     "output_type": "display_data"
    },
    {
     "data": {
      "text/html": [
       "<table>\n",
       "<caption>A tibble: 1 × 11</caption>\n",
       "<thead>\n",
       "\t<tr><th scope=col>unique_hot_players</th><th scope=col>total_hot_streaks</th><th scope=col>total_hot_pa</th><th scope=col>mean_hot_woba</th><th scope=col>mean_post_hot_woba_nextgame</th><th scope=col>mean_post_hot_woba</th><th scope=col>expected_woba</th><th scope=col>std_mean_post_hot_woba</th><th scope=col>upper_ci_post</th><th scope=col>lower_ci_post</th><th scope=col>mean_season_woba</th></tr>\n",
       "\t<tr><th scope=col>&lt;int&gt;</th><th scope=col>&lt;dbl&gt;</th><th scope=col>&lt;dbl&gt;</th><th scope=col>&lt;dbl&gt;</th><th scope=col>&lt;dbl&gt;</th><th scope=col>&lt;dbl&gt;</th><th scope=col>&lt;dbl&gt;</th><th scope=col>&lt;dbl&gt;</th><th scope=col>&lt;dbl&gt;</th><th scope=col>&lt;dbl&gt;</th><th scope=col>&lt;dbl&gt;</th></tr>\n",
       "</thead>\n",
       "<tbody>\n",
       "\t<tr><td>1112</td><td>17945</td><td>383635</td><td>0.1279419</td><td>0.3284657</td><td>0.3306834</td><td>0.3291447</td><td>0.001796742</td><td>0.3324801</td><td>0.3288866</td><td>0.3334166</td></tr>\n",
       "</tbody>\n",
       "</table>\n"
      ],
      "text/latex": [
       "A tibble: 1 × 11\n",
       "\\begin{tabular}{lllllllllll}\n",
       " unique\\_hot\\_players & total\\_hot\\_streaks & total\\_hot\\_pa & mean\\_hot\\_woba & mean\\_post\\_hot\\_woba\\_nextgame & mean\\_post\\_hot\\_woba & expected\\_woba & std\\_mean\\_post\\_hot\\_woba & upper\\_ci\\_post & lower\\_ci\\_post & mean\\_season\\_woba\\\\\n",
       " <int> & <dbl> & <dbl> & <dbl> & <dbl> & <dbl> & <dbl> & <dbl> & <dbl> & <dbl> & <dbl>\\\\\n",
       "\\hline\n",
       "\t 1112 & 17945 & 383635 & 0.1279419 & 0.3284657 & 0.3306834 & 0.3291447 & 0.001796742 & 0.3324801 & 0.3288866 & 0.3334166\\\\\n",
       "\\end{tabular}\n"
      ],
      "text/markdown": [
       "\n",
       "A tibble: 1 × 11\n",
       "\n",
       "| unique_hot_players &lt;int&gt; | total_hot_streaks &lt;dbl&gt; | total_hot_pa &lt;dbl&gt; | mean_hot_woba &lt;dbl&gt; | mean_post_hot_woba_nextgame &lt;dbl&gt; | mean_post_hot_woba &lt;dbl&gt; | expected_woba &lt;dbl&gt; | std_mean_post_hot_woba &lt;dbl&gt; | upper_ci_post &lt;dbl&gt; | lower_ci_post &lt;dbl&gt; | mean_season_woba &lt;dbl&gt; |\n",
       "|---|---|---|---|---|---|---|---|---|---|---|\n",
       "| 1112 | 17945 | 383635 | 0.1279419 | 0.3284657 | 0.3306834 | 0.3291447 | 0.001796742 | 0.3324801 | 0.3288866 | 0.3334166 |\n",
       "\n"
      ],
      "text/plain": [
       "  unique_hot_players total_hot_streaks total_hot_pa mean_hot_woba\n",
       "1 1112               17945             383635       0.1279419    \n",
       "  mean_post_hot_woba_nextgame mean_post_hot_woba expected_woba\n",
       "1 0.3284657                   0.3306834          0.3291447    \n",
       "  std_mean_post_hot_woba upper_ci_post lower_ci_post mean_season_woba\n",
       "1 0.001796742            0.3324801     0.3288866     0.3334166       "
      ]
     },
     "metadata": {},
     "output_type": "display_data"
    }
   ],
   "source": [
    "df %>% ungroup() %>%\n",
    "    filter(is_hot==1,\n",
    "          !is.na(woba_rolling_future)) %>%\n",
    "    #group_by(season) %>%\n",
    "    mutate(weighted_woba_num=B_PA*season_woba_num,\n",
    "          weighted_woba_denom=B_PA*season_woba_denom) %>%\n",
    "    summarise(\n",
    "        unique_hot_players = n_distinct(person.key),\n",
    "        total_hot_streaks = sum(is_hot),\n",
    "        total_hot_pa = sum(pa_rolling),\n",
    "        mean_hot_woba = sum(woba_num_rolling, na.rm=TRUE)/sum(woba_denom_rolling, na.rm=TRUE),\n",
    "        mean_post_hot_woba_nextgame = sum(woba_num_rolling_future_nextgame, na.rm=TRUE)/sum(woba_denom_rolling_future_nextgame, na.rm=TRUE),\n",
    "        mean_post_hot_woba = sum(woba_num_rolling_future, na.rm=TRUE)/sum(woba_denom_rolling_future, na.rm=TRUE),\n",
    "        expected_woba= mean(expected_woba, na.rm=TRUE),\n",
    "        std_mean_post_hot_woba = 1.96 * (sd(woba_num_rolling_future/woba_denom_rolling_future, na.rm=TRUE) / sqrt(n())),\n",
    "        upper_ci_post = mean_post_hot_woba + std_mean_post_hot_woba,\n",
    "        lower_ci_post = mean_post_hot_woba - std_mean_post_hot_woba,\n",
    "        mean_season_woba = sum(season_woba_num) / sum(season_woba_denom)\n",
    "    )\n",
    "\n",
    "df %>% ungroup() %>%\n",
    "    filter(is_cold==1,\n",
    "          !is.na(woba_rolling_future)) %>%\n",
    "    mutate(weighted_woba_num=B_PA*season_woba_num,\n",
    "          weighted_woba_denom=B_PA*season_woba_denom) %>%\n",
    "    summarise(\n",
    "        unique_hot_players = n_distinct(person.key),\n",
    "        total_hot_streaks = sum(is_cold),\n",
    "        total_hot_pa = sum(pa_rolling),\n",
    "        mean_hot_woba = sum(woba_num_rolling, na.rm=TRUE)/sum(woba_denom_rolling, na.rm=TRUE),\n",
    "        mean_post_hot_woba_nextgame = sum(woba_num_rolling_future_nextgame, na.rm=TRUE)/sum(woba_denom_rolling_future_nextgame, na.rm=TRUE),\n",
    "        mean_post_hot_woba = sum(woba_num_rolling_future, na.rm=TRUE)/sum(woba_denom_rolling_future, na.rm=TRUE),\n",
    "        expected_woba= mean(expected_woba, na.rm=TRUE),\n",
    "        std_mean_post_hot_woba = 1.96 * (sd(woba_num_rolling_future/woba_denom_rolling_future, na.rm=TRUE) / sqrt(n())),\n",
    "        upper_ci_post = mean_post_hot_woba + std_mean_post_hot_woba,\n",
    "        lower_ci_post = mean_post_hot_woba - std_mean_post_hot_woba,\n",
    "        mean_season_woba = sum(season_woba_num) / sum(season_woba_denom)\n",
    "    )\n"
   ]
  },
  {
   "cell_type": "code",
   "execution_count": 19,
   "metadata": {},
   "outputs": [
    {
     "data": {
      "text/html": [
       "<table>\n",
       "<caption>A tibble: 10 × 6</caption>\n",
       "<thead>\n",
       "\t<tr><th scope=col>person.key</th><th scope=col>game.date</th><th scope=col>pa_rolling</th><th scope=col>woba_rolling</th><th scope=col>woba_rolling_future</th><th scope=col>expected_woba</th></tr>\n",
       "\t<tr><th scope=col>&lt;fct&gt;</th><th scope=col>&lt;date&gt;</th><th scope=col>&lt;dbl&gt;</th><th scope=col>&lt;dbl&gt;</th><th scope=col>&lt;dbl&gt;</th><th scope=col>&lt;dbl&gt;</th></tr>\n",
       "</thead>\n",
       "<tbody>\n",
       "\t<tr><td>carpm002</td><td>2018-07-21</td><td>20</td><td>0.9175632</td><td>0.2468486</td><td>0.3717219</td></tr>\n",
       "\t<tr><td>carpm002</td><td>2018-07-21</td><td>22</td><td>0.8790695</td><td>0.3621136</td><td>0.3716158</td></tr>\n",
       "\t<tr><td>davik003</td><td>2018-08-22</td><td>21</td><td>0.8642227</td><td>0.1652680</td><td>0.3516882</td></tr>\n",
       "\t<tr><td>puigy001</td><td>2018-09-16</td><td>20</td><td>0.8608499</td><td>0.4483475</td><td>0.3592604</td></tr>\n",
       "\t<tr><td>markn001</td><td>2018-05-05</td><td>22</td><td>0.8338275</td><td>0.3437795</td><td>0.3405135</td></tr>\n",
       "\t<tr><td>troum001</td><td>2018-05-06</td><td>25</td><td>0.8331473</td><td>0.3308006</td><td>0.4413138</td></tr>\n",
       "\t<tr><td>carpm002</td><td>2018-07-20</td><td>22</td><td>0.8301929</td><td>0.3967739</td><td>0.3672624</td></tr>\n",
       "\t<tr><td>brega001</td><td>2018-09-07</td><td>21</td><td>0.8233951</td><td>0.3406034</td><td>0.4017841</td></tr>\n",
       "\t<tr><td>davik003</td><td>2018-08-23</td><td>22</td><td>0.8229716</td><td>0.1154410</td><td>0.3524494</td></tr>\n",
       "\t<tr><td>ramij003</td><td>2018-07-14</td><td>20</td><td>0.8078406</td><td>0.4115269</td><td>0.3741186</td></tr>\n",
       "</tbody>\n",
       "</table>\n"
      ],
      "text/latex": [
       "A tibble: 10 × 6\n",
       "\\begin{tabular}{llllll}\n",
       " person.key & game.date & pa\\_rolling & woba\\_rolling & woba\\_rolling\\_future & expected\\_woba\\\\\n",
       " <fct> & <date> & <dbl> & <dbl> & <dbl> & <dbl>\\\\\n",
       "\\hline\n",
       "\t carpm002 & 2018-07-21 & 20 & 0.9175632 & 0.2468486 & 0.3717219\\\\\n",
       "\t carpm002 & 2018-07-21 & 22 & 0.8790695 & 0.3621136 & 0.3716158\\\\\n",
       "\t davik003 & 2018-08-22 & 21 & 0.8642227 & 0.1652680 & 0.3516882\\\\\n",
       "\t puigy001 & 2018-09-16 & 20 & 0.8608499 & 0.4483475 & 0.3592604\\\\\n",
       "\t markn001 & 2018-05-05 & 22 & 0.8338275 & 0.3437795 & 0.3405135\\\\\n",
       "\t troum001 & 2018-05-06 & 25 & 0.8331473 & 0.3308006 & 0.4413138\\\\\n",
       "\t carpm002 & 2018-07-20 & 22 & 0.8301929 & 0.3967739 & 0.3672624\\\\\n",
       "\t brega001 & 2018-09-07 & 21 & 0.8233951 & 0.3406034 & 0.4017841\\\\\n",
       "\t davik003 & 2018-08-23 & 22 & 0.8229716 & 0.1154410 & 0.3524494\\\\\n",
       "\t ramij003 & 2018-07-14 & 20 & 0.8078406 & 0.4115269 & 0.3741186\\\\\n",
       "\\end{tabular}\n"
      ],
      "text/markdown": [
       "\n",
       "A tibble: 10 × 6\n",
       "\n",
       "| person.key &lt;fct&gt; | game.date &lt;date&gt; | pa_rolling &lt;dbl&gt; | woba_rolling &lt;dbl&gt; | woba_rolling_future &lt;dbl&gt; | expected_woba &lt;dbl&gt; |\n",
       "|---|---|---|---|---|---|\n",
       "| carpm002 | 2018-07-21 | 20 | 0.9175632 | 0.2468486 | 0.3717219 |\n",
       "| carpm002 | 2018-07-21 | 22 | 0.8790695 | 0.3621136 | 0.3716158 |\n",
       "| davik003 | 2018-08-22 | 21 | 0.8642227 | 0.1652680 | 0.3516882 |\n",
       "| puigy001 | 2018-09-16 | 20 | 0.8608499 | 0.4483475 | 0.3592604 |\n",
       "| markn001 | 2018-05-05 | 22 | 0.8338275 | 0.3437795 | 0.3405135 |\n",
       "| troum001 | 2018-05-06 | 25 | 0.8331473 | 0.3308006 | 0.4413138 |\n",
       "| carpm002 | 2018-07-20 | 22 | 0.8301929 | 0.3967739 | 0.3672624 |\n",
       "| brega001 | 2018-09-07 | 21 | 0.8233951 | 0.3406034 | 0.4017841 |\n",
       "| davik003 | 2018-08-23 | 22 | 0.8229716 | 0.1154410 | 0.3524494 |\n",
       "| ramij003 | 2018-07-14 | 20 | 0.8078406 | 0.4115269 | 0.3741186 |\n",
       "\n"
      ],
      "text/plain": [
       "   person.key game.date  pa_rolling woba_rolling woba_rolling_future\n",
       "1  carpm002   2018-07-21 20         0.9175632    0.2468486          \n",
       "2  carpm002   2018-07-21 22         0.8790695    0.3621136          \n",
       "3  davik003   2018-08-22 21         0.8642227    0.1652680          \n",
       "4  puigy001   2018-09-16 20         0.8608499    0.4483475          \n",
       "5  markn001   2018-05-05 22         0.8338275    0.3437795          \n",
       "6  troum001   2018-05-06 25         0.8331473    0.3308006          \n",
       "7  carpm002   2018-07-20 22         0.8301929    0.3967739          \n",
       "8  brega001   2018-09-07 21         0.8233951    0.3406034          \n",
       "9  davik003   2018-08-23 22         0.8229716    0.1154410          \n",
       "10 ramij003   2018-07-14 20         0.8078406    0.4115269          \n",
       "   expected_woba\n",
       "1  0.3717219    \n",
       "2  0.3716158    \n",
       "3  0.3516882    \n",
       "4  0.3592604    \n",
       "5  0.3405135    \n",
       "6  0.4413138    \n",
       "7  0.3672624    \n",
       "8  0.4017841    \n",
       "9  0.3524494    \n",
       "10 0.3741186    "
      ]
     },
     "metadata": {},
     "output_type": "display_data"
    },
    {
     "data": {
      "text/html": [
       "<table>\n",
       "<caption>A tibble: 10 × 6</caption>\n",
       "<thead>\n",
       "\t<tr><th scope=col>person.key</th><th scope=col>game.date</th><th scope=col>pa_rolling</th><th scope=col>woba_rolling</th><th scope=col>woba_rolling_future</th><th scope=col>expected_woba</th></tr>\n",
       "\t<tr><th scope=col>&lt;fct&gt;</th><th scope=col>&lt;date&gt;</th><th scope=col>&lt;dbl&gt;</th><th scope=col>&lt;dbl&gt;</th><th scope=col>&lt;dbl&gt;</th><th scope=col>&lt;dbl&gt;</th></tr>\n",
       "</thead>\n",
       "<tbody>\n",
       "\t<tr><td>morak001</td><td>2018-05-06</td><td>22</td><td>0.00000000</td><td>0.26912012</td><td>0.3216176</td></tr>\n",
       "\t<tr><td>gricr001</td><td>2018-04-08</td><td>20</td><td>0.00000000</td><td>0.38736826</td><td>0.3276326</td></tr>\n",
       "\t<tr><td>gregd001</td><td>2018-05-10</td><td>23</td><td>0.02364018</td><td>0.06090538</td><td>0.3349252</td></tr>\n",
       "\t<tr><td>gregd001</td><td>2018-05-11</td><td>22</td><td>0.02471473</td><td>0.10416311</td><td>0.3337782</td></tr>\n",
       "\t<tr><td>jay-j001</td><td>2018-06-28</td><td>20</td><td>0.02756611</td><td>0.08298362</td><td>0.3151442</td></tr>\n",
       "\t<tr><td>calhk001</td><td>2018-09-15</td><td>21</td><td>0.03430663</td><td>0.15668293</td><td>0.3180786</td></tr>\n",
       "\t<tr><td>polla001</td><td>2018-09-01</td><td>22</td><td>0.03491230</td><td>0.33868010</td><td>0.3445051</td></tr>\n",
       "\t<tr><td>martl004</td><td>2018-05-22</td><td>21</td><td>0.03738931</td><td>0.30083300</td><td>0.2946924</td></tr>\n",
       "\t<tr><td>deshd002</td><td>2018-07-10</td><td>20</td><td>0.03810280</td><td>0.06260472</td><td>0.2782422</td></tr>\n",
       "\t<tr><td>owinc001</td><td>2018-05-25</td><td>21</td><td>0.03953630</td><td>0.32078805</td><td>0.2619281</td></tr>\n",
       "</tbody>\n",
       "</table>\n"
      ],
      "text/latex": [
       "A tibble: 10 × 6\n",
       "\\begin{tabular}{llllll}\n",
       " person.key & game.date & pa\\_rolling & woba\\_rolling & woba\\_rolling\\_future & expected\\_woba\\\\\n",
       " <fct> & <date> & <dbl> & <dbl> & <dbl> & <dbl>\\\\\n",
       "\\hline\n",
       "\t morak001 & 2018-05-06 & 22 & 0.00000000 & 0.26912012 & 0.3216176\\\\\n",
       "\t gricr001 & 2018-04-08 & 20 & 0.00000000 & 0.38736826 & 0.3276326\\\\\n",
       "\t gregd001 & 2018-05-10 & 23 & 0.02364018 & 0.06090538 & 0.3349252\\\\\n",
       "\t gregd001 & 2018-05-11 & 22 & 0.02471473 & 0.10416311 & 0.3337782\\\\\n",
       "\t jay-j001 & 2018-06-28 & 20 & 0.02756611 & 0.08298362 & 0.3151442\\\\\n",
       "\t calhk001 & 2018-09-15 & 21 & 0.03430663 & 0.15668293 & 0.3180786\\\\\n",
       "\t polla001 & 2018-09-01 & 22 & 0.03491230 & 0.33868010 & 0.3445051\\\\\n",
       "\t martl004 & 2018-05-22 & 21 & 0.03738931 & 0.30083300 & 0.2946924\\\\\n",
       "\t deshd002 & 2018-07-10 & 20 & 0.03810280 & 0.06260472 & 0.2782422\\\\\n",
       "\t owinc001 & 2018-05-25 & 21 & 0.03953630 & 0.32078805 & 0.2619281\\\\\n",
       "\\end{tabular}\n"
      ],
      "text/markdown": [
       "\n",
       "A tibble: 10 × 6\n",
       "\n",
       "| person.key &lt;fct&gt; | game.date &lt;date&gt; | pa_rolling &lt;dbl&gt; | woba_rolling &lt;dbl&gt; | woba_rolling_future &lt;dbl&gt; | expected_woba &lt;dbl&gt; |\n",
       "|---|---|---|---|---|---|\n",
       "| morak001 | 2018-05-06 | 22 | 0.00000000 | 0.26912012 | 0.3216176 |\n",
       "| gricr001 | 2018-04-08 | 20 | 0.00000000 | 0.38736826 | 0.3276326 |\n",
       "| gregd001 | 2018-05-10 | 23 | 0.02364018 | 0.06090538 | 0.3349252 |\n",
       "| gregd001 | 2018-05-11 | 22 | 0.02471473 | 0.10416311 | 0.3337782 |\n",
       "| jay-j001 | 2018-06-28 | 20 | 0.02756611 | 0.08298362 | 0.3151442 |\n",
       "| calhk001 | 2018-09-15 | 21 | 0.03430663 | 0.15668293 | 0.3180786 |\n",
       "| polla001 | 2018-09-01 | 22 | 0.03491230 | 0.33868010 | 0.3445051 |\n",
       "| martl004 | 2018-05-22 | 21 | 0.03738931 | 0.30083300 | 0.2946924 |\n",
       "| deshd002 | 2018-07-10 | 20 | 0.03810280 | 0.06260472 | 0.2782422 |\n",
       "| owinc001 | 2018-05-25 | 21 | 0.03953630 | 0.32078805 | 0.2619281 |\n",
       "\n"
      ],
      "text/plain": [
       "   person.key game.date  pa_rolling woba_rolling woba_rolling_future\n",
       "1  morak001   2018-05-06 22         0.00000000   0.26912012         \n",
       "2  gricr001   2018-04-08 20         0.00000000   0.38736826         \n",
       "3  gregd001   2018-05-10 23         0.02364018   0.06090538         \n",
       "4  gregd001   2018-05-11 22         0.02471473   0.10416311         \n",
       "5  jay-j001   2018-06-28 20         0.02756611   0.08298362         \n",
       "6  calhk001   2018-09-15 21         0.03430663   0.15668293         \n",
       "7  polla001   2018-09-01 22         0.03491230   0.33868010         \n",
       "8  martl004   2018-05-22 21         0.03738931   0.30083300         \n",
       "9  deshd002   2018-07-10 20         0.03810280   0.06260472         \n",
       "10 owinc001   2018-05-25 21         0.03953630   0.32078805         \n",
       "   expected_woba\n",
       "1  0.3216176    \n",
       "2  0.3276326    \n",
       "3  0.3349252    \n",
       "4  0.3337782    \n",
       "5  0.3151442    \n",
       "6  0.3180786    \n",
       "7  0.3445051    \n",
       "8  0.2946924    \n",
       "9  0.2782422    \n",
       "10 0.2619281    "
      ]
     },
     "metadata": {},
     "output_type": "display_data"
    }
   ],
   "source": [
    "# table of example streaks for the blog post\n",
    "df %>% ungroup() %>%\n",
    "    filter(is_hot==1,\n",
    "           season==2018,\n",
    "          !is.na(woba_rolling_future)) %>%\n",
    "    select(person.key, game.date, pa_rolling, woba_rolling, woba_rolling_future, expected_woba) %>% \n",
    "    arrange(-woba_rolling) %>% head(10)\n",
    "\n",
    "# table of example streaks for the blog post\n",
    "df %>% ungroup() %>%\n",
    "    filter(is_cold==1,\n",
    "           season==2018,\n",
    "          !is.na(woba_rolling_future)) %>%\n",
    "    select(person.key, game.date, pa_rolling, woba_rolling, woba_rolling_future, expected_woba) %>% \n",
    "    arrange(woba_rolling) %>% head(10)"
   ]
  },
  {
   "cell_type": "code",
   "execution_count": 20,
   "metadata": {},
   "outputs": [
    {
     "name": "stderr",
     "output_type": "stream",
     "text": [
      "`summarise()` regrouping output by 'person.key' (override with `.groups` argument)\n",
      "\n"
     ]
    },
    {
     "data": {
      "text/plain": [
       "\n",
       "\tWelch Two Sample t-test\n",
       "\n",
       "data:  test$mean_post_hot_woba and test$expected_woba\n",
       "t = -0.3204, df = 21894, p-value = 0.7487\n",
       "alternative hypothesis: true difference in means is not equal to 0\n",
       "95 percent confidence interval:\n",
       " -0.002251144  0.001618582\n",
       "sample estimates:\n",
       "mean of x mean of y \n",
       "0.3624574 0.3627737 \n"
      ]
     },
     "metadata": {},
     "output_type": "display_data"
    },
    {
     "name": "stderr",
     "output_type": "stream",
     "text": [
      "`summarise()` regrouping output by 'person.key' (override with `.groups` argument)\n",
      "\n"
     ]
    },
    {
     "data": {
      "text/plain": [
       "\n",
       "\tWelch Two Sample t-test\n",
       "\n",
       "data:  test$mean_post_hot_woba and test$expected_woba\n",
       "t = -1.6712, df = 20184, p-value = 0.09469\n",
       "alternative hypothesis: true difference in means is not equal to 0\n",
       "95 percent confidence interval:\n",
       " -0.0034278412  0.0002726514\n",
       "sample estimates:\n",
       "mean of x mean of y \n",
       "0.3277402 0.3293178 \n"
      ]
     },
     "metadata": {},
     "output_type": "display_data"
    }
   ],
   "source": [
    "# t-test for significance\n",
    "test = df %>% ungroup() %>%\n",
    "    filter(is_hot==1,\n",
    "          !is.na(woba_rolling_future)) %>%\n",
    "    group_by(person.key,game.key) %>%\n",
    "    summarise(\n",
    "        total_hot_pa = sum(pa_rolling),\n",
    "        post_hot_pa= sum(pa_rolling_future),\n",
    "        mean_post_hot_woba = sum(woba_num_rolling_future, na.rm=TRUE)/sum(woba_denom_rolling_future, na.rm=TRUE),\n",
    "        expected_woba= mean(expected_woba, na.rm=TRUE)\n",
    "    )\n",
    "\n",
    "test = test %>% filter(!is.na(mean_post_hot_woba),\n",
    "                        post_hot_pa>=10)\n",
    "\n",
    "t.test(test$mean_post_hot_woba, test$expected_woba)\n",
    "\n",
    "test = df %>% ungroup() %>%\n",
    "    filter(is_cold==1,\n",
    "          !is.na(woba_rolling_future)) %>%\n",
    "    group_by(person.key,game.key) %>%\n",
    "    summarise(\n",
    "        total_hot_pa = sum(pa_rolling),\n",
    "        post_hot_pa= sum(pa_rolling_future),\n",
    "        mean_post_hot_woba = sum(woba_num_rolling_future, na.rm=TRUE)/sum(woba_denom_rolling_future, na.rm=TRUE),\n",
    "        expected_woba= mean(expected_woba, na.rm=TRUE)\n",
    "    )\n",
    "\n",
    "test = test %>% filter(!is.na(mean_post_hot_woba),\n",
    "                        post_hot_pa>=10)\n",
    "t.test(test$mean_post_hot_woba, test$expected_woba)"
   ]
  },
  {
   "cell_type": "code",
   "execution_count": 21,
   "metadata": {},
   "outputs": [
    {
     "data": {
      "text/plain": [
       "\n",
       "Call:\n",
       "lm(formula = woba_rolling_future ~ expected_woba + is_hot + is_cold + \n",
       "    site.key, data = df %>% filter(!is.na(woba_rolling_future), \n",
       "    !is.na(is_hot)))\n",
       "\n",
       "Residuals:\n",
       "     Min       1Q   Median       3Q      Max \n",
       "-1.19543 -0.08918 -0.00808  0.08014  2.32976 \n",
       "\n",
       "Coefficients:\n",
       "                Estimate Std. Error t value Pr(>|t|)    \n",
       "(Intercept)    0.0276692  0.0011978  23.101  < 2e-16 ***\n",
       "expected_woba  0.9058691  0.0026212 345.587  < 2e-16 ***\n",
       "is_hot         0.0053390  0.0009981   5.349 8.85e-08 ***\n",
       "is_cold        0.0009345  0.0010114   0.924  0.35555    \n",
       "site.keyARL02 -0.0003046  0.0012099  -0.252  0.80119    \n",
       "site.keyATL02  0.0009575  0.0012324   0.777  0.43720    \n",
       "site.keyBAL12 -0.0007751  0.0012118  -0.640  0.52239    \n",
       "site.keyBOS07 -0.0021901  0.0011891  -1.842  0.06550 .  \n",
       "site.keyCHI11  0.0004740  0.0011835   0.401  0.68877    \n",
       "site.keyCHI12 -0.0022895  0.0011971  -1.913  0.05580 .  \n",
       "site.keyCIN08  0.0039646  0.0021711   1.826  0.06783 .  \n",
       "site.keyCLE08  0.0001624  0.0011964   0.136  0.89202    \n",
       "site.keyKAN06 -0.0025097  0.0012041  -2.084  0.03713 *  \n",
       "site.keyLOS03  0.0052772  0.0011982   4.404 1.06e-05 ***\n",
       "site.keyMIA01  0.0008331  0.0013518   0.616  0.53771    \n",
       "site.keyMIL05  0.0100184  0.0036307   2.759  0.00579 ** \n",
       "site.keyMIN03  0.0002452  0.0014337   0.171  0.86420    \n",
       "site.keyMNT01 -0.0221069  0.0345149  -0.641  0.52184    \n",
       "site.keyMON02  0.0060834  0.0019103   3.184  0.00145 ** \n",
       "site.keyNYC16 -0.0022493  0.0014717  -1.528  0.12644    \n",
       "site.keyNYC17  0.0009717  0.0014807   0.656  0.51165    \n",
       "site.keyOAK01 -0.0003952  0.0012063  -0.328  0.74318    \n",
       "site.keyPHI12  0.0028716  0.0019451   1.476  0.13986    \n",
       "site.keyPHO01 -0.0016322  0.0012009  -1.359  0.17408    \n",
       "site.keyPIT07  0.0152648  0.0036797   4.148 3.35e-05 ***\n",
       "site.keySAN01  0.0091841  0.0020173   4.553 5.30e-06 ***\n",
       "site.keySEA03  0.0017951  0.0012056   1.489  0.13650    \n",
       "site.keySTL09  0.0012566  0.0016832   0.747  0.45534    \n",
       "site.keySTP01  0.0017002  0.0012125   1.402  0.16084    \n",
       "site.keyTOR02 -0.0015859  0.0012007  -1.321  0.18655    \n",
       "site.keyDET05 -0.0005465  0.0012024  -0.455  0.64945    \n",
       "site.keyHOU03  0.0001326  0.0011940   0.111  0.91157    \n",
       "site.keySFO03  0.0051008  0.0012030   4.240 2.23e-05 ***\n",
       "site.keyMIL06  0.0006591  0.0012026   0.548  0.58365    \n",
       "site.keyPIT08 -0.0019932  0.0012029  -1.657  0.09753 .  \n",
       "site.keySJU01 -0.0037221  0.0102553  -0.363  0.71665    \n",
       "site.keyCIN09  0.0014892  0.0012545   1.187  0.23521    \n",
       "site.keyPHI13 -0.0003264  0.0012681  -0.257  0.79691    \n",
       "site.keySAN02  0.0068085  0.0012966   5.251 1.51e-07 ***\n",
       "site.keyWAS10  0.0073710  0.0022994   3.206  0.00135 ** \n",
       "site.keySTL10 -0.0017830  0.0013095  -1.362  0.17333    \n",
       "site.keyLBV01 -0.0180255  0.0306697  -0.588  0.55672    \n",
       "site.keyWAS11  0.0011676  0.0013917   0.839  0.40147    \n",
       "site.keyNYC20  0.0014585  0.0014616   0.998  0.31834    \n",
       "site.keyNYC21 -0.0024828  0.0014449  -1.718  0.08575 .  \n",
       "site.keyMIN04 -0.0007086  0.0015111  -0.469  0.63913    \n",
       "site.keyMIA02 -0.0029943  0.0016429  -1.823  0.06836 .  \n",
       "site.keyFTB01  0.1530312  0.0597701   2.560  0.01046 *  \n",
       "site.keyATL03 -0.0016154  0.0027100  -0.596  0.55110    \n",
       "site.keyWIL02 -0.0286019  0.0345150  -0.829  0.40729    \n",
       "---\n",
       "Signif. codes:  0 ‘***’ 0.001 ‘**’ 0.01 ‘*’ 0.05 ‘.’ 0.1 ‘ ’ 1\n",
       "\n",
       "Residual standard error: 0.1336 on 724016 degrees of freedom\n",
       "  (435 observations deleted due to missingness)\n",
       "Multiple R-squared:  0.1449,\tAdjusted R-squared:  0.1448 \n",
       "F-statistic:  2503 on 49 and 724016 DF,  p-value: < 2.2e-16\n"
      ]
     },
     "metadata": {},
     "output_type": "display_data"
    }
   ],
   "source": [
    "# regression for hot/cold effects\n",
    "summary(lm(woba_rolling_future ~ expected_woba + is_hot + is_cold + site.key, \n",
    "           df %>% filter(!is.na(woba_rolling_future),\n",
    "                        !is.na(is_hot))))"
   ]
  },
  {
   "cell_type": "code",
   "execution_count": 22,
   "metadata": {},
   "outputs": [
    {
     "name": "stderr",
     "output_type": "stream",
     "text": [
      "Warning message:\n",
      "“Removed 125 rows containing non-finite values (stat_bin).”\n"
     ]
    },
    {
     "data": {
      "image/png": "[encoded data removed]",
      "text/plain": [
       "plot without title"
      ]
     },
     "metadata": {
      "image/png": {
       "height": 420,
       "width": 420
      },
      "text/plain": {
       "height": 420,
       "width": 420
      }
     },
     "output_type": "display_data"
    },
    {
     "data": {
      "image/png": "[encoded data removed]",
      "text/plain": [
       "plot without title"
      ]
     },
     "metadata": {
      "image/png": {
       "height": 420,
       "width": 420
      },
      "text/plain": {
       "height": 420,
       "width": 420
      }
     },
     "output_type": "display_data"
    }
   ],
   "source": [
    "# inspect distributions of post-streak and expected woba\n",
    "df %>% filter(is_hot==1) %>%\n",
    "select(game.date, person.key, woba_rolling, \n",
    "       woba_rolling_future, expected_woba, \n",
    "       pa_rolling, pa_rolling_future,\n",
    "      ) %>% \n",
    "select(woba_rolling_future) %>% ggplot(aes(x=woba_rolling_future)) + geom_histogram(bins=100)\n",
    "\n",
    "df %>% filter(is_hot==1) %>%\n",
    "select(game.date, person.key, woba_rolling, \n",
    "       woba_rolling_future, expected_woba, \n",
    "       pa_rolling, pa_rolling_future,\n",
    "      ) %>% \n",
    "select(expected_woba) %>% ggplot(aes(x=expected_woba)) + geom_histogram(bins=100)"
   ]
  },
  {
   "cell_type": "markdown",
   "metadata": {},
   "source": [
    "## Repeat the above steps for 7-game streaks"
   ]
  },
  {
   "cell_type": "code",
   "execution_count": 23,
   "metadata": {},
   "outputs": [],
   "source": [
    "# take rolling sums of woba components to get a 5g woba\n",
    "library(zoo)\n",
    "num_games_streak = 7\n",
    "num_games_post_streak = 3\n",
    "min_pa_in_streak = 4 * num_games_streak #4\n",
    "min_pa_post_streak = 3 * num_games_post_streak #0\n",
    "# different offset used for post streak folling counts for 3 vs. 5 game configuration. paste this in if changing streak lenghts.\n",
    "seven_game_post = list(c(1, 2, 3, 4, 5, 6, 7)) #list(c(1, 2, 3))\n",
    "five_game_post = list(c(1, 2, 3, 4, 5))\n",
    "\n",
    "# this is ugly indentation but makes it ahrder to forget to paste something when updating it\n",
    "df = df %>%\n",
    "         arrange(season, person.key, game.date, game.key) %>%\n",
    "         group_by(season, person.key) %>%\n",
    "         mutate(woba_num_rolling =   roll_sum(woba_numerator, num_games_streak, align = \"right\", fill = NA),\n",
    "                pa_rolling =         roll_sum(B_PA, num_games_streak, align = \"right\", fill = NA),\n",
    "                woba_denom_rolling = roll_sum(woba_denominator, num_games_streak, align = \"right\", fill = NA),\n",
    "                woba_rolling = woba_num_rolling/woba_denom_rolling,\n",
    "                woba_num_rolling_future =   rollapply(woba_numerator, FUN=sum, seven_game_post, align = \"left\", fill = NA),\n",
    "                pa_rolling_future =         rollapply(B_PA, FUN=sum, seven_game_post, align = \"left\", fill = NA),\n",
    "                woba_denom_rolling_future = rollapply(woba_denominator, FUN=sum,  seven_game_post, align = \"left\", fill = NA),\n",
    "                woba_rolling_future = woba_num_rolling_future/woba_denom_rolling_future,\n",
    "                \n",
    "                woba_num_rolling_future_nextgame =   rollapply(woba_numerator, FUN=sum, list(c(1)), align = \"left\", fill = NA),\n",
    "                woba_denom_rolling_future_nextgame  = rollapply(woba_denominator, FUN=sum,  list(c(1)), align = \"left\", fill = NA),\n",
    "                woba_rolling_future_nextgame  = woba_num_rolling_future_nextgame /woba_denom_rolling_future_nextgame \n",
    "        ) "
   ]
  },
  {
   "cell_type": "code",
   "execution_count": 24,
   "metadata": {},
   "outputs": [
    {
     "name": "stderr",
     "output_type": "stream",
     "text": [
      "`summarise()` regrouping output by 'season', 'person.key' (override with `.groups` argument)\n",
      "\n"
     ]
    },
    {
     "data": {
      "text/html": [
       "<table>\n",
       "<caption>A tibble: 2 × 1</caption>\n",
       "<thead>\n",
       "\t<tr><th scope=col>thresholds</th></tr>\n",
       "\t<tr><th scope=col>&lt;dbl&gt;</th></tr>\n",
       "</thead>\n",
       "<tbody>\n",
       "\t<tr><td>0.1888272</td></tr>\n",
       "\t<tr><td>0.5269443</td></tr>\n",
       "</tbody>\n",
       "</table>\n"
      ],
      "text/latex": [
       "A tibble: 2 × 1\n",
       "\\begin{tabular}{l}\n",
       " thresholds\\\\\n",
       " <dbl>\\\\\n",
       "\\hline\n",
       "\t 0.1888272\\\\\n",
       "\t 0.5269443\\\\\n",
       "\\end{tabular}\n"
      ],
      "text/markdown": [
       "\n",
       "A tibble: 2 × 1\n",
       "\n",
       "| thresholds &lt;dbl&gt; |\n",
       "|---|\n",
       "| 0.1888272 |\n",
       "| 0.5269443 |\n",
       "\n"
      ],
      "text/plain": [
       "  thresholds\n",
       "1 0.1888272 \n",
       "2 0.5269443 "
      ]
     },
     "metadata": {},
     "output_type": "display_data"
    }
   ],
   "source": [
    "# get seasons' quantiles for woba thresholds\n",
    "#temp = df %>% group_by(season, person.key) %>% filter(sum(B_PA)>100) %>% ungroup()\n",
    "df %>% \n",
    "    # only consider periods with at least 20 pa in them \n",
    "    filter(pa_rolling >= min_pa_in_streak, pa_rolling_future >= min_pa_post_streak) %>% \n",
    "    group_by(season, person.key, game.key) %>% summarise(woba = sum(woba_numerator) / sum(woba_denominator),\n",
    "                                                  woba_rolling_avg = sum(woba_num_rolling, na.rm=TRUE)/sum(woba_denom_rolling, na.rm=TRUE),\n",
    "                                                  pa = sum(B_PA)) %>%\n",
    "    ungroup() %>%\n",
    "    summarise(thresholds = quantile(woba_rolling_avg, probs = c(0.05, 0.95), na.rm=TRUE)) "
   ]
  },
  {
   "cell_type": "code",
   "execution_count": 25,
   "metadata": {},
   "outputs": [],
   "source": [
    "# create is hot/cold flags\n",
    "hot_threshold = .527\n",
    "cold_threshold = .188\n",
    "df = df %>% ungroup() %>% \n",
    "    mutate(is_hot = ifelse(((woba_rolling > hot_threshold) & (pa_rolling>=min_pa_in_streak) & (game_num < 157)), 1, 0),\n",
    "           is_cold = ifelse(((woba_rolling < cold_threshold) & (pa_rolling>=min_pa_in_streak) & (game_num < 157)), 1, 0))"
   ]
  },
  {
   "cell_type": "code",
   "execution_count": 26,
   "metadata": {},
   "outputs": [
    {
     "data": {
      "text/html": [
       "<table>\n",
       "<caption>A tibble: 1 × 10</caption>\n",
       "<thead>\n",
       "\t<tr><th scope=col>unique_hot_players</th><th scope=col>total_hot_streaks</th><th scope=col>total_hot_pa</th><th scope=col>mean_hot_woba</th><th scope=col>mean_post_hot_woba</th><th scope=col>mean_post_hot_woba_nextgame</th><th scope=col>std_mean_post_hot_woba</th><th scope=col>upper_ci_post</th><th scope=col>lower_ci_post</th><th scope=col>expected_woba</th></tr>\n",
       "\t<tr><th scope=col>&lt;int&gt;</th><th scope=col>&lt;dbl&gt;</th><th scope=col>&lt;dbl&gt;</th><th scope=col>&lt;dbl&gt;</th><th scope=col>&lt;dbl&gt;</th><th scope=col>&lt;dbl&gt;</th><th scope=col>&lt;dbl&gt;</th><th scope=col>&lt;dbl&gt;</th><th scope=col>&lt;dbl&gt;</th><th scope=col>&lt;dbl&gt;</th></tr>\n",
       "</thead>\n",
       "<tbody>\n",
       "\t<tr><td>844</td><td>17623</td><td>540799</td><td>0.5806544</td><td>0.3695887</td><td>0.3681323</td><td>0.001643892</td><td>0.3712325</td><td>0.3679448</td><td>0.3673373</td></tr>\n",
       "</tbody>\n",
       "</table>\n"
      ],
      "text/latex": [
       "A tibble: 1 × 10\n",
       "\\begin{tabular}{llllllllll}\n",
       " unique\\_hot\\_players & total\\_hot\\_streaks & total\\_hot\\_pa & mean\\_hot\\_woba & mean\\_post\\_hot\\_woba & mean\\_post\\_hot\\_woba\\_nextgame & std\\_mean\\_post\\_hot\\_woba & upper\\_ci\\_post & lower\\_ci\\_post & expected\\_woba\\\\\n",
       " <int> & <dbl> & <dbl> & <dbl> & <dbl> & <dbl> & <dbl> & <dbl> & <dbl> & <dbl>\\\\\n",
       "\\hline\n",
       "\t 844 & 17623 & 540799 & 0.5806544 & 0.3695887 & 0.3681323 & 0.001643892 & 0.3712325 & 0.3679448 & 0.3673373\\\\\n",
       "\\end{tabular}\n"
      ],
      "text/markdown": [
       "\n",
       "A tibble: 1 × 10\n",
       "\n",
       "| unique_hot_players &lt;int&gt; | total_hot_streaks &lt;dbl&gt; | total_hot_pa &lt;dbl&gt; | mean_hot_woba &lt;dbl&gt; | mean_post_hot_woba &lt;dbl&gt; | mean_post_hot_woba_nextgame &lt;dbl&gt; | std_mean_post_hot_woba &lt;dbl&gt; | upper_ci_post &lt;dbl&gt; | lower_ci_post &lt;dbl&gt; | expected_woba &lt;dbl&gt; |\n",
       "|---|---|---|---|---|---|---|---|---|---|\n",
       "| 844 | 17623 | 540799 | 0.5806544 | 0.3695887 | 0.3681323 | 0.001643892 | 0.3712325 | 0.3679448 | 0.3673373 |\n",
       "\n"
      ],
      "text/plain": [
       "  unique_hot_players total_hot_streaks total_hot_pa mean_hot_woba\n",
       "1 844                17623             540799       0.5806544    \n",
       "  mean_post_hot_woba mean_post_hot_woba_nextgame std_mean_post_hot_woba\n",
       "1 0.3695887          0.3681323                   0.001643892           \n",
       "  upper_ci_post lower_ci_post expected_woba\n",
       "1 0.3712325     0.3679448     0.3673373    "
      ]
     },
     "metadata": {},
     "output_type": "display_data"
    },
    {
     "data": {
      "text/html": [
       "<table>\n",
       "<caption>A tibble: 1 × 10</caption>\n",
       "<thead>\n",
       "\t<tr><th scope=col>unique_hot_players</th><th scope=col>total_hot_streaks</th><th scope=col>total_hot_pa</th><th scope=col>mean_hot_woba</th><th scope=col>mean_post_hot_woba</th><th scope=col>mean_post_hot_woba_nextgame</th><th scope=col>std_mean_post_hot_woba</th><th scope=col>upper_ci_post</th><th scope=col>lower_ci_post</th><th scope=col>expected_woba</th></tr>\n",
       "\t<tr><th scope=col>&lt;int&gt;</th><th scope=col>&lt;dbl&gt;</th><th scope=col>&lt;dbl&gt;</th><th scope=col>&lt;dbl&gt;</th><th scope=col>&lt;dbl&gt;</th><th scope=col>&lt;dbl&gt;</th><th scope=col>&lt;dbl&gt;</th><th scope=col>&lt;dbl&gt;</th><th scope=col>&lt;dbl&gt;</th><th scope=col>&lt;dbl&gt;</th></tr>\n",
       "</thead>\n",
       "<tbody>\n",
       "\t<tr><td>1023</td><td>15790</td><td>471732</td><td>0.1559712</td><td>0.3284434</td><td>0.3267725</td><td>0.001622202</td><td>0.3300656</td><td>0.3268212</td><td>0.3273626</td></tr>\n",
       "</tbody>\n",
       "</table>\n"
      ],
      "text/latex": [
       "A tibble: 1 × 10\n",
       "\\begin{tabular}{llllllllll}\n",
       " unique\\_hot\\_players & total\\_hot\\_streaks & total\\_hot\\_pa & mean\\_hot\\_woba & mean\\_post\\_hot\\_woba & mean\\_post\\_hot\\_woba\\_nextgame & std\\_mean\\_post\\_hot\\_woba & upper\\_ci\\_post & lower\\_ci\\_post & expected\\_woba\\\\\n",
       " <int> & <dbl> & <dbl> & <dbl> & <dbl> & <dbl> & <dbl> & <dbl> & <dbl> & <dbl>\\\\\n",
       "\\hline\n",
       "\t 1023 & 15790 & 471732 & 0.1559712 & 0.3284434 & 0.3267725 & 0.001622202 & 0.3300656 & 0.3268212 & 0.3273626\\\\\n",
       "\\end{tabular}\n"
      ],
      "text/markdown": [
       "\n",
       "A tibble: 1 × 10\n",
       "\n",
       "| unique_hot_players &lt;int&gt; | total_hot_streaks &lt;dbl&gt; | total_hot_pa &lt;dbl&gt; | mean_hot_woba &lt;dbl&gt; | mean_post_hot_woba &lt;dbl&gt; | mean_post_hot_woba_nextgame &lt;dbl&gt; | std_mean_post_hot_woba &lt;dbl&gt; | upper_ci_post &lt;dbl&gt; | lower_ci_post &lt;dbl&gt; | expected_woba &lt;dbl&gt; |\n",
       "|---|---|---|---|---|---|---|---|---|---|\n",
       "| 1023 | 15790 | 471732 | 0.1559712 | 0.3284434 | 0.3267725 | 0.001622202 | 0.3300656 | 0.3268212 | 0.3273626 |\n",
       "\n"
      ],
      "text/plain": [
       "  unique_hot_players total_hot_streaks total_hot_pa mean_hot_woba\n",
       "1 1023               15790             471732       0.1559712    \n",
       "  mean_post_hot_woba mean_post_hot_woba_nextgame std_mean_post_hot_woba\n",
       "1 0.3284434          0.3267725                   0.001622202           \n",
       "  upper_ci_post lower_ci_post expected_woba\n",
       "1 0.3300656     0.3268212     0.3273626    "
      ]
     },
     "metadata": {},
     "output_type": "display_data"
    }
   ],
   "source": [
    "df %>% ungroup() %>%\n",
    "    filter(is_hot==1,\n",
    "          !is.na(woba_rolling_future)) %>%\n",
    "    summarise(\n",
    "        unique_hot_players = n_distinct(person.key),\n",
    "        total_hot_streaks = sum(is_hot),\n",
    "        total_hot_pa = sum(pa_rolling),\n",
    "        mean_hot_woba = sum(woba_num_rolling, na.rm=TRUE)/sum(woba_denom_rolling, na.rm=TRUE),\n",
    "        mean_post_hot_woba = sum(woba_num_rolling_future, na.rm=TRUE)/sum(woba_denom_rolling_future, na.rm=TRUE),\n",
    "        mean_post_hot_woba_nextgame = sum(woba_num_rolling_future_nextgame, na.rm=TRUE)/sum(woba_denom_rolling_future_nextgame, na.rm=TRUE),\n",
    "        std_mean_post_hot_woba = 1.96 * (sd(woba_num_rolling_future/woba_denom_rolling_future, na.rm=TRUE) / sqrt(n())),\n",
    "        upper_ci_post = mean_post_hot_woba + std_mean_post_hot_woba,\n",
    "        lower_ci_post = mean_post_hot_woba - std_mean_post_hot_woba,\n",
    "        expected_woba= mean(expected_woba, na.rm=TRUE)\n",
    "    )\n",
    "\n",
    "df %>% ungroup() %>%\n",
    "    filter(is_cold==1,\n",
    "          !is.na(woba_rolling_future)) %>%\n",
    "    summarise(\n",
    "        unique_hot_players = n_distinct(person.key),\n",
    "        total_hot_streaks = sum(is_cold),\n",
    "        total_hot_pa = sum(pa_rolling),\n",
    "        mean_hot_woba = sum(woba_num_rolling, na.rm=TRUE)/sum(woba_denom_rolling, na.rm=TRUE),\n",
    "        mean_post_hot_woba = sum(woba_num_rolling_future, na.rm=TRUE)/sum(woba_denom_rolling_future, na.rm=TRUE),\n",
    "        mean_post_hot_woba_nextgame = sum(woba_num_rolling_future_nextgame, na.rm=TRUE)/sum(woba_denom_rolling_future_nextgame, na.rm=TRUE),\n",
    "        std_mean_post_hot_woba = 1.96 * (sd(woba_num_rolling_future/woba_denom_rolling_future, na.rm=TRUE) / sqrt(n())),\n",
    "        upper_ci_post = mean_post_hot_woba + std_mean_post_hot_woba,\n",
    "        lower_ci_post = mean_post_hot_woba - std_mean_post_hot_woba,\n",
    "        expected_woba= mean(expected_woba, na.rm=TRUE)\n",
    "    )"
   ]
  },
  {
   "cell_type": "code",
   "execution_count": 27,
   "metadata": {},
   "outputs": [
    {
     "name": "stderr",
     "output_type": "stream",
     "text": [
      "`summarise()` regrouping output by 'person.key' (override with `.groups` argument)\n",
      "\n"
     ]
    },
    {
     "data": {
      "text/plain": [
       "\n",
       "\tWelch Two Sample t-test\n",
       "\n",
       "data:  test$mean_post_hot_woba and test$expected_woba\n",
       "t = 0.56946, df = 21717, p-value = 0.569\n",
       "alternative hypothesis: true difference in means is not equal to 0\n",
       "95 percent confidence interval:\n",
       " -0.001233157  0.002243132\n",
       "sample estimates:\n",
       "mean of x mean of y \n",
       "0.3678469 0.3673419 \n"
      ]
     },
     "metadata": {},
     "output_type": "display_data"
    },
    {
     "name": "stderr",
     "output_type": "stream",
     "text": [
      "`summarise()` regrouping output by 'person.key' (override with `.groups` argument)\n",
      "\n"
     ]
    },
    {
     "data": {
      "text/plain": [
       "\n",
       "\tWelch Two Sample t-test\n",
       "\n",
       "data:  test$mean_post_hot_woba and test$expected_woba\n",
       "t = -2.2761, df = 18496, p-value = 0.02285\n",
       "alternative hypothesis: true difference in means is not equal to 0\n",
       "95 percent confidence interval:\n",
       " -0.0036528202 -0.0002724862\n",
       "sample estimates:\n",
       "mean of x mean of y \n",
       "0.3254375 0.3274002 \n"
      ]
     },
     "metadata": {},
     "output_type": "display_data"
    }
   ],
   "source": [
    "test = df %>% ungroup() %>%\n",
    "    filter(is_hot==1,\n",
    "          !is.na(woba_rolling_future)) %>%\n",
    "    group_by(person.key,game.key) %>%\n",
    "    summarise(\n",
    "        total_hot_pa = sum(pa_rolling),\n",
    "        post_hot_pa= sum(pa_rolling_future),\n",
    "        mean_post_hot_woba = sum(woba_num_rolling_future, na.rm=TRUE)/sum(woba_denom_rolling_future, na.rm=TRUE),\n",
    "        expected_woba= mean(expected_woba, na.rm=TRUE)\n",
    "    )\n",
    "\n",
    "test = test %>% filter(!is.na(mean_post_hot_woba),\n",
    "                        post_hot_pa>=10)\n",
    "\n",
    "t.test(test$mean_post_hot_woba, test$expected_woba)\n",
    "\n",
    "test = df %>% ungroup() %>%\n",
    "    filter(is_cold==1,\n",
    "          !is.na(woba_rolling_future)) %>%\n",
    "    group_by(person.key,game.key) %>%\n",
    "    summarise(\n",
    "        total_hot_pa = sum(pa_rolling),\n",
    "        post_hot_pa= sum(pa_rolling_future),\n",
    "        mean_post_hot_woba = sum(woba_num_rolling_future, na.rm=TRUE)/sum(woba_denom_rolling_future, na.rm=TRUE),\n",
    "        expected_woba= mean(expected_woba, na.rm=TRUE)\n",
    "    )\n",
    "\n",
    "test = test %>% filter(!is.na(mean_post_hot_woba),\n",
    "                        post_hot_pa>=10)\n",
    "t.test(test$mean_post_hot_woba, test$expected_woba)"
   ]
  },
  {
   "cell_type": "code",
   "execution_count": 28,
   "metadata": {},
   "outputs": [
    {
     "data": {
      "text/plain": [
       "\n",
       "Call:\n",
       "lm(formula = woba_rolling_future ~ expected_woba + is_hot + is_cold + \n",
       "    site.key, data = df %>% filter(!is.na(woba_rolling_future), \n",
       "    !is.na(is_hot), season_pa > 50))\n",
       "\n",
       "Residuals:\n",
       "     Min       1Q   Median       3Q      Max \n",
       "-0.40145 -0.07400 -0.00462  0.06856  2.33057 \n",
       "\n",
       "Coefficients:\n",
       "                Estimate Std. Error t value Pr(>|t|)    \n",
       "(Intercept)    0.0196488  0.0011655  16.858  < 2e-16 ***\n",
       "expected_woba  0.9341388  0.0028168 331.629  < 2e-16 ***\n",
       "is_hot         0.0041550  0.0008445   4.920 8.65e-07 ***\n",
       "is_cold       -0.0005792  0.0008820  -0.657  0.51135    \n",
       "site.keyARL02  0.0002783  0.0010228   0.272  0.78554    \n",
       "site.keyATL02  0.0012238  0.0010464   1.169  0.24220    \n",
       "site.keyBAL12 -0.0004509  0.0010247  -0.440  0.65990    \n",
       "site.keyBOS07 -0.0022334  0.0010019  -2.229  0.02581 *  \n",
       "site.keyCHI11  0.0019490  0.0010033   1.943  0.05206 .  \n",
       "site.keyCHI12 -0.0016583  0.0010103  -1.641  0.10072    \n",
       "site.keyCIN08  0.0005644  0.0018640   0.303  0.76205    \n",
       "site.keyCLE08  0.0005089  0.0010114   0.503  0.61487    \n",
       "site.keyKAN06 -0.0017086  0.0010160  -1.682  0.09261 .  \n",
       "site.keyLOS03  0.0042951  0.0010156   4.229 2.35e-05 ***\n",
       "site.keyMIA01  0.0018320  0.0011490   1.594  0.11085    \n",
       "site.keyMIL05  0.0087212  0.0030968   2.816  0.00486 ** \n",
       "site.keyMIN03  0.0003565  0.0012084   0.295  0.76799    \n",
       "site.keyMNT01 -0.0152723  0.0292525  -0.522  0.60161    \n",
       "site.keyMON02  0.0068974  0.0016438   4.196 2.72e-05 ***\n",
       "site.keyNYC16 -0.0021509  0.0012442  -1.729  0.08387 .  \n",
       "site.keyNYC17  0.0005560  0.0012552   0.443  0.65777    \n",
       "site.keyOAK01 -0.0008762  0.0010188  -0.860  0.38974    \n",
       "site.keyPHI12  0.0038164  0.0016587   2.301  0.02140 *  \n",
       "site.keyPHO01 -0.0015574  0.0010189  -1.529  0.12638    \n",
       "site.keyPIT07  0.0194191  0.0031377   6.189 6.06e-10 ***\n",
       "site.keySAN01  0.0068953  0.0017182   4.013 5.99e-05 ***\n",
       "site.keySEA03  0.0014135  0.0010159   1.391  0.16414    \n",
       "site.keySTL09  0.0021973  0.0014330   1.533  0.12520    \n",
       "site.keySTP01  0.0013971  0.0010240   1.364  0.17246    \n",
       "site.keyTOR02 -0.0007436  0.0010151  -0.733  0.46384    \n",
       "site.keyDET05 -0.0006203  0.0010159  -0.611  0.54144    \n",
       "site.keyHOU03 -0.0002731  0.0010119  -0.270  0.78728    \n",
       "site.keySFO03  0.0043444  0.0010202   4.258 2.06e-05 ***\n",
       "site.keyMIL06  0.0020776  0.0010210   2.035  0.04187 *  \n",
       "site.keyPIT08 -0.0010122  0.0010198  -0.993  0.32092    \n",
       "site.keySJU01  0.0004107  0.0091792   0.045  0.96431    \n",
       "site.keyCIN09  0.0028085  0.0010632   2.641  0.00825 ** \n",
       "site.keyPHI13  0.0001415  0.0010741   0.132  0.89522    \n",
       "site.keySAN02  0.0063799  0.0011015   5.792 6.96e-09 ***\n",
       "site.keyWAS10  0.0059742  0.0019641   3.042  0.00235 ** \n",
       "site.keySTL10 -0.0032341  0.0011110  -2.911  0.00360 ** \n",
       "site.keyLBV01 -0.0151233  0.0303560  -0.498  0.61834    \n",
       "site.keyWAS11  0.0015922  0.0011810   1.348  0.17759    \n",
       "site.keyNYC20  0.0022480  0.0012425   1.809  0.07041 .  \n",
       "site.keyNYC21 -0.0008680  0.0012214  -0.711  0.47729    \n",
       "site.keyMIN04  0.0002252  0.0012733   0.177  0.85960    \n",
       "site.keyMIA02 -0.0029153  0.0013958  -2.089  0.03674 *  \n",
       "site.keyFTB01  0.1567761  0.0446772   3.509  0.00045 ***\n",
       "site.keyATL03 -0.0017228  0.0022989  -0.749  0.45361    \n",
       "site.keyWIL02  0.0001658  0.0292524   0.006  0.99548    \n",
       "---\n",
       "Signif. codes:  0 ‘***’ 0.001 ‘**’ 0.01 ‘*’ 0.05 ‘.’ 0.1 ‘ ’ 1\n",
       "\n",
       "Residual standard error: 0.1094 on 674346 degrees of freedom\n",
       "Multiple R-squared:  0.1447,\tAdjusted R-squared:  0.1447 \n",
       "F-statistic:  2329 on 49 and 674346 DF,  p-value: < 2.2e-16\n"
      ]
     },
     "metadata": {},
     "output_type": "display_data"
    }
   ],
   "source": [
    "summary(lm(woba_rolling_future ~ expected_woba + is_hot + is_cold + site.key, \n",
    "           df %>% filter(!is.na(woba_rolling_future),\n",
    "                        !is.na(is_hot), season_pa>50)))"
   ]
  },
  {
   "cell_type": "code",
   "execution_count": null,
   "metadata": {},
   "outputs": [],
   "source": []
  }
 ],
 "metadata": {
  "kernelspec": {
   "display_name": "R",
   "language": "R",
   "name": "ir"
  },
  "language_info": {
   "codemirror_mode": "r",
   "file_extension": ".r",
   "mimetype": "text/x-r-source",
   "name": "R",
   "pygments_lexer": "r",
   "version": "3.6.2"
  }
 },
 "nbformat": 4,
 "nbformat_minor": 4
}
