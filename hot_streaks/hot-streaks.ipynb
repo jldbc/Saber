{
 "cells": [
  {
   "cell_type": "code",
   "execution_count": 1,
   "metadata": {},
   "outputs": [
    {
     "name": "stderr",
     "output_type": "stream",
     "text": [
      "\n",
      "Attaching package: ‘dplyr’\n",
      "\n",
      "\n",
      "The following objects are masked from ‘package:stats’:\n",
      "\n",
      "    filter, lag\n",
      "\n",
      "\n",
      "The following objects are masked from ‘package:base’:\n",
      "\n",
      "    intersect, setdiff, setequal, union\n",
      "\n",
      "\n",
      "Loading required package: gsubfn\n",
      "\n",
      "Loading required package: proto\n",
      "\n",
      "Warning message in doTryCatch(return(expr), name, parentenv, handler):\n",
      "“unable to load shared object '/Library/Frameworks/R.framework/Resources/modules//R_X11.so':\n",
      "  dlopen(/Library/Frameworks/R.framework/Resources/modules//R_X11.so, 6): Library not loaded: /opt/X11/lib/libSM.6.dylib\n",
      "  Referenced from: /Library/Frameworks/R.framework/Versions/3.6/Resources/modules/R_X11.so\n",
      "  Reason: image not found”\n",
      "Could not load tcltk.  Will use slower R code instead.\n",
      "\n",
      "Loading required package: RSQLite\n",
      "\n"
     ]
    }
   ],
   "source": [
    "library(dplyr)\n",
    "library(ggplot2)\n",
    "library(RcppRoll)\n",
    "library(sqldf)"
   ]
  },
  {
   "cell_type": "code",
   "execution_count": 2,
   "metadata": {},
   "outputs": [],
   "source": [
    "# to get this data:\n",
    "# git clone https://github.com/chadwickbureau/retrosplits\n",
    "\n",
    "df = read.csv('data/retrosplits/daybyday/playing-1999.csv')\n",
    "df$season = 1999\n",
    "\n",
    "for (season_ in 1999:2019)\n",
    "{\n",
    "    filename = paste0('data/retrosplits/daybyday/playing-', as.character(season_), '.csv')\n",
    "    df_new = read.csv(filename)\n",
    "    df_new$season = season_\n",
    "    df = rbind(df, df_new)\n",
    "\n",
    "}"
   ]
  },
  {
   "cell_type": "code",
   "execution_count": 3,
   "metadata": {},
   "outputs": [],
   "source": [
    "# we later define \"expected woba\" using previous and following seasons' woba. \n",
    "# exclude players without a previous and next season (rookies, retirees)\n",
    "# use inner join this onto the game-level data once \"expected woba\" is calculated and added to the dataset\n",
    "player_years = df %>% select(person.key, season) %>% mutate(next_year = season+1, previous_year=season-1) %>% distinct()\n",
    "player_years_to_keep = player_years %>% inner_join(player_years, by=c(\"season\"=\"previous_year\", \"person.key\"=\"person.key\"))\n",
    "player_years_to_keep = player_years_to_keep %>% inner_join(player_years, by=c(\"season\"=\"next_year\", \"person.key\"=\"person.key\"))"
   ]
  },
  {
   "cell_type": "code",
   "execution_count": 4,
   "metadata": {},
   "outputs": [],
   "source": [
    "# limit to just regular season, define 1B events\n",
    "df = df %>% filter(season.phase=='R')\n",
    "df = df %>% mutate(B_1B = B_H - B_2B - B_3B - B_HR)"
   ]
  },
  {
   "cell_type": "code",
   "execution_count": 5,
   "metadata": {},
   "outputs": [],
   "source": [
    "# define game number within the season. later we'll want to exclude the final five games from streak identification\n",
    "game_nums = df %>% group_by(season, team.key) %>% distinct(game.date, game.key, team.key) %>% arrange(season, team.key, game.date) %>% \n",
    "    mutate(game_num = seq_along(game.date))\n",
    "\n",
    "df = df %>% left_join(game_nums %>% ungroup() %>% select(game.key, team.key, game_num), by=c('game.key', 'team.key'))\n",
    "\n",
    "# do this filter AFTER creating game numbers so the game number is still accurate\n",
    "df = df %>% filter(team.key != 'COL', site.key != 'DEN02')"
   ]
  },
  {
   "cell_type": "code",
   "execution_count": 6,
   "metadata": {},
   "outputs": [
    {
     "name": "stderr",
     "output_type": "stream",
     "text": [
      "Selecting by n\n",
      "\n"
     ]
    }
   ],
   "source": [
    "# create home/away flag by finding most common stadium for each team\n",
    "home_stadiums = df %>% group_by(team.key, season) %>% count(site.key) %>% top_n(1)\n",
    "df = df %>% left_join(home_stadiums, by=c('team.key', 'season'), \n",
    "                 suffix=c('', '_homeflag')) %>% \n",
    "    mutate(home_or_away = ifelse(site.key==site.key_homeflag, 'home', 'away'))"
   ]
  },
  {
   "cell_type": "code",
   "execution_count": 7,
   "metadata": {},
   "outputs": [],
   "source": [
    "df = df %>% mutate(game.date = as.Date(game.date))"
   ]
  },
  {
   "cell_type": "markdown",
   "metadata": {},
   "source": [
    "# Hot/cold streak definition\n",
    "\n",
    "* Defined a hot / cold wOBA threshold \n",
    "* Rolling wOBA over five-game periods (so first or last five of the year cant be considered)\n",
    "* Must have at least 20 PA in the five game stretch to be considered\n",
    "* Thresholds defined as groups where 5 percent of league is hot, 5 is cold for a given 5 game stretch\n",
    "* Roughly this means .525 woba for hot, .195 for cold \n",
    "\n",
    "\n",
    "\n",
    "TODO: make sure streaks don't count if a player missed a game in the middle. "
   ]
  },
  {
   "cell_type": "code",
   "execution_count": 8,
   "metadata": {},
   "outputs": [],
   "source": [
    "# define woba numerator and denominator to get N-game woba\n",
    "# weights by year https://www.fangraphs.com/guts.aspx?type=cn\n",
    "df = df %>% mutate(\n",
    "    woba_numerator = 0.9*B_1B + 1.24*B_2B + 1.56*B_3B + 1.95*B_HR + 0.72*(B_BB - B_IBB) + 0.75*B_HP +  0.92*B_XI, # the book's weights\n",
    "    woba_denominator = B_PA,\n",
    "    game_woba = woba_numerator / woba_denominator)"
   ]
  },
  {
   "cell_type": "code",
   "execution_count": 9,
   "metadata": {},
   "outputs": [],
   "source": [
    "# SQL query to create players' expected woba\n",
    "# expected woba: a player's woba from the current, previous, and following season, omitting the player's past 5 games (inclusive of the current game)\n",
    "player_woba = sqldf('\n",
    "      select \n",
    "        df1.\"person.key\",\n",
    "        df1.season,\n",
    "        df1.game_num,\n",
    "        SUM(coalesce(df2.woba_numerator, 0)) season_woba_num,\n",
    "        SUM(coalesce(df2.woba_denominator, 0)) season_woba_denom,\n",
    "        sum(coalesce(df2.woba_numerator, 0))/sum(coalesce(df2.woba_denominator, 0)) expected_woba,\n",
    "        sum(df2.B_PA) season_pa\n",
    "      from\n",
    "        df AS df1\n",
    "      left join\n",
    "        (select \"person.key\", season, game_num, SUM(coalesce(woba_numerator, 0)) woba_numerator,\n",
    "    SUM(coalesce(woba_denominator, 0)) woba_denominator, sum(B_PA) B_PA from df group by 1,2,3) AS df2\n",
    "      ON\n",
    "        df1.\"person.key\" = df2.\"person.key\"\n",
    "      AND\n",
    "        df1.season <= df2.season + 1\n",
    "      AND\n",
    "        df1.season >= df2.season - 1\n",
    "      AND\n",
    "        (\n",
    "            (df1.season*1000 + df1.game_num) <= (df2.season*1000 + df2.game_num -7)\n",
    "        OR\n",
    "            (df1.season*1000 + df1.game_num) > (df2.season*1000 + df2.game_num)\n",
    "        )\n",
    "      GROUP BY df1.\"person.key\", df1.season, df1.game_num\n",
    "')"
   ]
  },
  {
   "cell_type": "code",
   "execution_count": 10,
   "metadata": {},
   "outputs": [
    {
     "data": {
      "text/html": [
       "<table>\n",
       "<caption>A data.frame: 15 × 7</caption>\n",
       "<thead>\n",
       "\t<tr><th></th><th scope=col>person.key</th><th scope=col>season</th><th scope=col>game_num</th><th scope=col>season_woba_num</th><th scope=col>season_woba_denom</th><th scope=col>expected_woba</th><th scope=col>season_pa</th></tr>\n",
       "\t<tr><th></th><th scope=col>&lt;fct&gt;</th><th scope=col>&lt;dbl&gt;</th><th scope=col>&lt;int&gt;</th><th scope=col>&lt;dbl&gt;</th><th scope=col>&lt;int&gt;</th><th scope=col>&lt;dbl&gt;</th><th scope=col>&lt;int&gt;</th></tr>\n",
       "</thead>\n",
       "<tbody>\n",
       "\t<tr><th scope=row>1</th><td>strad001</td><td>1999</td><td>153</td><td>112.44</td><td> 204</td><td>0.5511765</td><td> 204</td></tr>\n",
       "\t<tr><th scope=row>2</th><td>strad001</td><td>1999</td><td>154</td><td>100.96</td><td> 188</td><td>0.5370213</td><td> 188</td></tr>\n",
       "\t<tr><th scope=row>3</th><td>strad001</td><td>1999</td><td>144</td><td>111.64</td><td> 212</td><td>0.5266038</td><td> 212</td></tr>\n",
       "\t<tr><th scope=row>4</th><td>strad001</td><td>1999</td><td>152</td><td>112.44</td><td> 216</td><td>0.5205556</td><td> 216</td></tr>\n",
       "\t<tr><th scope=row>5</th><td>strad001</td><td>1999</td><td>156</td><td>103.04</td><td> 200</td><td>0.5152000</td><td> 200</td></tr>\n",
       "\t<tr><th scope=row>6</th><td>strad001</td><td>1999</td><td>157</td><td>106.64</td><td> 208</td><td>0.5126923</td><td> 208</td></tr>\n",
       "\t<tr><th scope=row>7</th><td>strad001</td><td>1999</td><td>148</td><td>110.32</td><td> 220</td><td>0.5014545</td><td> 220</td></tr>\n",
       "\t<tr><th scope=row>8</th><td>strad001</td><td>1999</td><td>146</td><td>105.92</td><td> 212</td><td>0.4996226</td><td> 212</td></tr>\n",
       "\t<tr><th scope=row>9</th><td>strad001</td><td>1999</td><td>151</td><td>101.76</td><td> 204</td><td>0.4988235</td><td> 204</td></tr>\n",
       "\t<tr><th scope=row>10</th><td>strad001</td><td>1999</td><td>155</td><td>100.96</td><td> 204</td><td>0.4949020</td><td> 204</td></tr>\n",
       "\t<tr><th scope=row>11</th><td>strad001</td><td>1999</td><td>141</td><td> 98.68</td><td> 200</td><td>0.4934000</td><td> 200</td></tr>\n",
       "\t<tr><th scope=row>12</th><td>ryanm001</td><td>2002</td><td>153</td><td> 33.55</td><td>  68</td><td>0.4933824</td><td>  68</td></tr>\n",
       "\t<tr><th scope=row>13</th><td>batth001</td><td>1999</td><td>143</td><td> 31.56</td><td>  64</td><td>0.4931250</td><td>  64</td></tr>\n",
       "\t<tr><th scope=row>14</th><td>strad001</td><td>1999</td><td>147</td><td>110.32</td><td> 224</td><td>0.4925000</td><td> 224</td></tr>\n",
       "\t<tr><th scope=row>15</th><td>bondb001</td><td>2001</td><td>  2</td><td>844.98</td><td>1742</td><td>0.4850631</td><td>1742</td></tr>\n",
       "</tbody>\n",
       "</table>\n"
      ],
      "text/latex": [
       "A data.frame: 15 × 7\n",
       "\\begin{tabular}{r|lllllll}\n",
       "  & person.key & season & game\\_num & season\\_woba\\_num & season\\_woba\\_denom & expected\\_woba & season\\_pa\\\\\n",
       "  & <fct> & <dbl> & <int> & <dbl> & <int> & <dbl> & <int>\\\\\n",
       "\\hline\n",
       "\t1 & strad001 & 1999 & 153 & 112.44 &  204 & 0.5511765 &  204\\\\\n",
       "\t2 & strad001 & 1999 & 154 & 100.96 &  188 & 0.5370213 &  188\\\\\n",
       "\t3 & strad001 & 1999 & 144 & 111.64 &  212 & 0.5266038 &  212\\\\\n",
       "\t4 & strad001 & 1999 & 152 & 112.44 &  216 & 0.5205556 &  216\\\\\n",
       "\t5 & strad001 & 1999 & 156 & 103.04 &  200 & 0.5152000 &  200\\\\\n",
       "\t6 & strad001 & 1999 & 157 & 106.64 &  208 & 0.5126923 &  208\\\\\n",
       "\t7 & strad001 & 1999 & 148 & 110.32 &  220 & 0.5014545 &  220\\\\\n",
       "\t8 & strad001 & 1999 & 146 & 105.92 &  212 & 0.4996226 &  212\\\\\n",
       "\t9 & strad001 & 1999 & 151 & 101.76 &  204 & 0.4988235 &  204\\\\\n",
       "\t10 & strad001 & 1999 & 155 & 100.96 &  204 & 0.4949020 &  204\\\\\n",
       "\t11 & strad001 & 1999 & 141 &  98.68 &  200 & 0.4934000 &  200\\\\\n",
       "\t12 & ryanm001 & 2002 & 153 &  33.55 &   68 & 0.4933824 &   68\\\\\n",
       "\t13 & batth001 & 1999 & 143 &  31.56 &   64 & 0.4931250 &   64\\\\\n",
       "\t14 & strad001 & 1999 & 147 & 110.32 &  224 & 0.4925000 &  224\\\\\n",
       "\t15 & bondb001 & 2001 &   2 & 844.98 & 1742 & 0.4850631 & 1742\\\\\n",
       "\\end{tabular}\n"
      ],
      "text/markdown": [
       "\n",
       "A data.frame: 15 × 7\n",
       "\n",
       "| <!--/--> | person.key &lt;fct&gt; | season &lt;dbl&gt; | game_num &lt;int&gt; | season_woba_num &lt;dbl&gt; | season_woba_denom &lt;int&gt; | expected_woba &lt;dbl&gt; | season_pa &lt;int&gt; |\n",
       "|---|---|---|---|---|---|---|---|\n",
       "| 1 | strad001 | 1999 | 153 | 112.44 |  204 | 0.5511765 |  204 |\n",
       "| 2 | strad001 | 1999 | 154 | 100.96 |  188 | 0.5370213 |  188 |\n",
       "| 3 | strad001 | 1999 | 144 | 111.64 |  212 | 0.5266038 |  212 |\n",
       "| 4 | strad001 | 1999 | 152 | 112.44 |  216 | 0.5205556 |  216 |\n",
       "| 5 | strad001 | 1999 | 156 | 103.04 |  200 | 0.5152000 |  200 |\n",
       "| 6 | strad001 | 1999 | 157 | 106.64 |  208 | 0.5126923 |  208 |\n",
       "| 7 | strad001 | 1999 | 148 | 110.32 |  220 | 0.5014545 |  220 |\n",
       "| 8 | strad001 | 1999 | 146 | 105.92 |  212 | 0.4996226 |  212 |\n",
       "| 9 | strad001 | 1999 | 151 | 101.76 |  204 | 0.4988235 |  204 |\n",
       "| 10 | strad001 | 1999 | 155 | 100.96 |  204 | 0.4949020 |  204 |\n",
       "| 11 | strad001 | 1999 | 141 |  98.68 |  200 | 0.4934000 |  200 |\n",
       "| 12 | ryanm001 | 2002 | 153 |  33.55 |   68 | 0.4933824 |   68 |\n",
       "| 13 | batth001 | 1999 | 143 |  31.56 |   64 | 0.4931250 |   64 |\n",
       "| 14 | strad001 | 1999 | 147 | 110.32 |  224 | 0.4925000 |  224 |\n",
       "| 15 | bondb001 | 2001 |   2 | 844.98 | 1742 | 0.4850631 | 1742 |\n",
       "\n"
      ],
      "text/plain": [
       "   person.key season game_num season_woba_num season_woba_denom expected_woba\n",
       "1  strad001   1999   153      112.44           204              0.5511765    \n",
       "2  strad001   1999   154      100.96           188              0.5370213    \n",
       "3  strad001   1999   144      111.64           212              0.5266038    \n",
       "4  strad001   1999   152      112.44           216              0.5205556    \n",
       "5  strad001   1999   156      103.04           200              0.5152000    \n",
       "6  strad001   1999   157      106.64           208              0.5126923    \n",
       "7  strad001   1999   148      110.32           220              0.5014545    \n",
       "8  strad001   1999   146      105.92           212              0.4996226    \n",
       "9  strad001   1999   151      101.76           204              0.4988235    \n",
       "10 strad001   1999   155      100.96           204              0.4949020    \n",
       "11 strad001   1999   141       98.68           200              0.4934000    \n",
       "12 ryanm001   2002   153       33.55            68              0.4933824    \n",
       "13 batth001   1999   143       31.56            64              0.4931250    \n",
       "14 strad001   1999   147      110.32           224              0.4925000    \n",
       "15 bondb001   2001     2      844.98          1742              0.4850631    \n",
       "   season_pa\n",
       "1   204     \n",
       "2   188     \n",
       "3   212     \n",
       "4   216     \n",
       "5   200     \n",
       "6   208     \n",
       "7   220     \n",
       "8   212     \n",
       "9   204     \n",
       "10  204     \n",
       "11  200     \n",
       "12   68     \n",
       "13   64     \n",
       "14  224     \n",
       "15 1742     "
      ]
     },
     "metadata": {},
     "output_type": "display_data"
    }
   ],
   "source": [
    "player_woba %>% filter(season_pa>50) %>% arrange(-expected_woba) %>% head(15)"
   ]
  },
  {
   "cell_type": "code",
   "execution_count": 11,
   "metadata": {},
   "outputs": [
    {
     "data": {
      "text/html": [
       "<style>\n",
       ".list-inline {list-style: none; margin:0; padding: 0}\n",
       ".list-inline>li {display: inline-block}\n",
       ".list-inline>li:not(:last-child)::after {content: \"\\00b7\"; padding: 0 .5ex}\n",
       "</style>\n",
       "<ol class=list-inline><li>1251409</li><li>188</li></ol>\n"
      ],
      "text/latex": [
       "\\begin{enumerate*}\n",
       "\\item 1251409\n",
       "\\item 188\n",
       "\\end{enumerate*}\n"
      ],
      "text/markdown": [
       "1. 1251409\n",
       "2. 188\n",
       "\n",
       "\n"
      ],
      "text/plain": [
       "[1] 1251409     188"
      ]
     },
     "metadata": {},
     "output_type": "display_data"
    },
    {
     "data": {
      "text/html": [
       "<style>\n",
       ".list-inline {list-style: none; margin:0; padding: 0}\n",
       ".list-inline>li {display: inline-block}\n",
       ".list-inline>li:not(:last-child)::after {content: \"\\00b7\"; padding: 0 .5ex}\n",
       "</style>\n",
       "<ol class=list-inline><li>1008701</li><li>194</li></ol>\n"
      ],
      "text/latex": [
       "\\begin{enumerate*}\n",
       "\\item 1008701\n",
       "\\item 194\n",
       "\\end{enumerate*}\n"
      ],
      "text/markdown": [
       "1. 1008701\n",
       "2. 194\n",
       "\n",
       "\n"
      ],
      "text/plain": [
       "[1] 1008701     194"
      ]
     },
     "metadata": {},
     "output_type": "display_data"
    }
   ],
   "source": [
    "df = df %>% left_join(player_woba,by=c('season', 'person.key', 'game_num'))\n",
    "\n",
    "# remove these seasons. no future/past season available for calculating their expected woba values\n",
    "df = df %>% filter(season > 1999, season < 2019)\n",
    "\n",
    "dim(df)\n",
    "# remove players we can't calculate an expected woba for \n",
    "df = df %>% inner_join(player_years_to_keep, by=c(\"person.key\", \"season\"), suffixes=c(\"\", \"_ignore\"))\n",
    "dim(df)"
   ]
  },
  {
   "cell_type": "code",
   "execution_count": 12,
   "metadata": {},
   "outputs": [
    {
     "name": "stderr",
     "output_type": "stream",
     "text": [
      "\n",
      "Attaching package: ‘zoo’\n",
      "\n",
      "\n",
      "The following objects are masked from ‘package:base’:\n",
      "\n",
      "    as.Date, as.Date.numeric\n",
      "\n",
      "\n"
     ]
    }
   ],
   "source": [
    "# take rolling sums of woba components to get a 5g woba\n",
    "library(zoo)\n",
    "num_games_streak = 5\n",
    "num_games_post_streak = 5\n",
    "min_pa_in_streak = 4 * num_games_streak #4\n",
    "min_pa_post_streak = 3 * num_games_post_streak #0\n",
    "# different offset used for post streak folling counts for 3 vs. 5 game configuration. paste this in if changing streak lenghts.\n",
    "seven_game_post = list(c(1, 2, 3,4,5,6,7))\n",
    "five_game_post = list(c(1, 2, 3, 4, 5))\n",
    "\n",
    "# this is ugly indentation but makes it ahrder to forget to paste something when updating it\n",
    "df = df %>%\n",
    "         arrange(season, person.key, game.date, game.key) %>%\n",
    "         group_by(season, person.key) %>%\n",
    "         mutate(woba_num_rolling =   roll_sum(woba_numerator, num_games_streak, align = \"right\", fill = NA),\n",
    "                pa_rolling =         roll_sum(B_PA, num_games_streak, align = \"right\", fill = NA),\n",
    "                woba_denom_rolling = roll_sum(woba_denominator, num_games_streak, align = \"right\", fill = NA),\n",
    "                woba_rolling = woba_num_rolling/woba_denom_rolling,\n",
    "                woba_num_rolling_future =   rollapply(woba_numerator, FUN=sum, five_game_post, align = \"left\", fill = NA),\n",
    "                pa_rolling_future =         rollapply(B_PA, FUN=sum, five_game_post, align = \"left\", fill = NA),\n",
    "                woba_denom_rolling_future = rollapply(woba_denominator, FUN=sum,  five_game_post, align = \"left\", fill = NA),\n",
    "                woba_rolling_future = woba_num_rolling_future/woba_denom_rolling_future,\n",
    "                \n",
    "                woba_num_rolling_future_nextgame =   rollapply(woba_numerator, FUN=sum, list(c(1)), align = \"left\", fill = NA),\n",
    "                woba_denom_rolling_future_nextgame  = rollapply(woba_denominator, FUN=sum,  list(c(1)), align = \"left\", fill = NA),\n",
    "                woba_rolling_future_nextgame  = woba_num_rolling_future_nextgame /woba_denom_rolling_future_nextgame \n",
    "        ) "
   ]
  },
  {
   "cell_type": "markdown",
   "metadata": {},
   "source": [
    "## Get Thresholds for Hot/Cold Streaks (top/bottom 5% of league in x-game rolling wOBA)"
   ]
  },
  {
   "cell_type": "code",
   "execution_count": 13,
   "metadata": {},
   "outputs": [
    {
     "name": "stderr",
     "output_type": "stream",
     "text": [
      "`summarise()` regrouping output by 'season', 'person.key' (override with `.groups` argument)\n",
      "\n"
     ]
    },
    {
     "data": {
      "text/html": [
       "<table>\n",
       "<caption>A tibble: 2 × 1</caption>\n",
       "<thead>\n",
       "\t<tr><th scope=col>thresholds</th></tr>\n",
       "\t<tr><th scope=col>&lt;dbl&gt;</th></tr>\n",
       "</thead>\n",
       "<tbody>\n",
       "\t<tr><td>0.168</td></tr>\n",
       "\t<tr><td>0.544</td></tr>\n",
       "</tbody>\n",
       "</table>\n"
      ],
      "text/latex": [
       "A tibble: 2 × 1\n",
       "\\begin{tabular}{l}\n",
       " thresholds\\\\\n",
       " <dbl>\\\\\n",
       "\\hline\n",
       "\t 0.168\\\\\n",
       "\t 0.544\\\\\n",
       "\\end{tabular}\n"
      ],
      "text/markdown": [
       "\n",
       "A tibble: 2 × 1\n",
       "\n",
       "| thresholds &lt;dbl&gt; |\n",
       "|---|\n",
       "| 0.168 |\n",
       "| 0.544 |\n",
       "\n"
      ],
      "text/plain": [
       "  thresholds\n",
       "1 0.168     \n",
       "2 0.544     "
      ]
     },
     "metadata": {},
     "output_type": "display_data"
    }
   ],
   "source": [
    "# get seasons' percentiles for woba thresholds\n",
    "df %>% \n",
    "    # only consider periods with at least 20 pa in them \n",
    "    filter(pa_rolling >= min_pa_in_streak, pa_rolling_future >= min_pa_post_streak) %>% \n",
    "    group_by(season, person.key, game.key) %>% summarise(woba = sum(woba_numerator) / sum(woba_denominator),\n",
    "                                                  #woba_rolling_avg = mean(woba_rolling, na.rm=TRUE), \n",
    "                                                  woba_rolling_avg = sum(woba_num_rolling, na.rm=TRUE)/sum(woba_denom_rolling, na.rm=TRUE),\n",
    "                                                  pa = sum(B_PA)) %>%\n",
    "    ungroup() %>%\n",
    "    summarise(thresholds = quantile(woba_rolling_avg, probs = c(0.05, 0.95))) "
   ]
  },
  {
   "cell_type": "code",
   "execution_count": 14,
   "metadata": {},
   "outputs": [],
   "source": [
    "# create is hot/cold flags\n",
    "hot_threshold = .544 \n",
    "cold_threshold = .168\n",
    "df = df %>% ungroup() %>% \n",
    "    mutate(is_hot = ifelse(((woba_rolling > hot_threshold) & (pa_rolling>=min_pa_in_streak) & (game_num < 157)), 1, 0),\n",
    "           is_cold = ifelse(((woba_rolling < cold_threshold) & (pa_rolling>=min_pa_in_streak) & (game_num < 157)), 1, 0))"
   ]
  },
  {
   "cell_type": "markdown",
   "metadata": {},
   "source": [
    "## Calculate Streak, Post-Streak, and Expected Value Summary Stats"
   ]
  },
  {
   "cell_type": "code",
   "execution_count": 15,
   "metadata": {},
   "outputs": [
    {
     "data": {
      "text/html": [
       "<table>\n",
       "<caption>A tibble: 1 × 11</caption>\n",
       "<thead>\n",
       "\t<tr><th scope=col>unique_hot_players</th><th scope=col>total_hot_streaks</th><th scope=col>total_hot_pa</th><th scope=col>mean_hot_woba</th><th scope=col>mean_post_hot_woba_nextgame</th><th scope=col>mean_post_hot_woba</th><th scope=col>expected_woba</th><th scope=col>std_mean_post_hot_woba</th><th scope=col>upper_ci_post</th><th scope=col>lower_ci_post</th><th scope=col>mean_season_woba</th></tr>\n",
       "\t<tr><th scope=col>&lt;int&gt;</th><th scope=col>&lt;dbl&gt;</th><th scope=col>&lt;dbl&gt;</th><th scope=col>&lt;dbl&gt;</th><th scope=col>&lt;dbl&gt;</th><th scope=col>&lt;dbl&gt;</th><th scope=col>&lt;dbl&gt;</th><th scope=col>&lt;dbl&gt;</th><th scope=col>&lt;dbl&gt;</th><th scope=col>&lt;dbl&gt;</th><th scope=col>&lt;dbl&gt;</th></tr>\n",
       "</thead>\n",
       "<tbody>\n",
       "\t<tr><td>943</td><td>18562</td><td>409073</td><td>0.601861</td><td>0.3551308</td><td>0.354568</td><td>0.3554687</td><td>0.001755279</td><td>0.3563233</td><td>0.3528128</td><td>0.3593545</td></tr>\n",
       "</tbody>\n",
       "</table>\n"
      ],
      "text/latex": [
       "A tibble: 1 × 11\n",
       "\\begin{tabular}{lllllllllll}\n",
       " unique\\_hot\\_players & total\\_hot\\_streaks & total\\_hot\\_pa & mean\\_hot\\_woba & mean\\_post\\_hot\\_woba\\_nextgame & mean\\_post\\_hot\\_woba & expected\\_woba & std\\_mean\\_post\\_hot\\_woba & upper\\_ci\\_post & lower\\_ci\\_post & mean\\_season\\_woba\\\\\n",
       " <int> & <dbl> & <dbl> & <dbl> & <dbl> & <dbl> & <dbl> & <dbl> & <dbl> & <dbl> & <dbl>\\\\\n",
       "\\hline\n",
       "\t 943 & 18562 & 409073 & 0.601861 & 0.3551308 & 0.354568 & 0.3554687 & 0.001755279 & 0.3563233 & 0.3528128 & 0.3593545\\\\\n",
       "\\end{tabular}\n"
      ],
      "text/markdown": [
       "\n",
       "A tibble: 1 × 11\n",
       "\n",
       "| unique_hot_players &lt;int&gt; | total_hot_streaks &lt;dbl&gt; | total_hot_pa &lt;dbl&gt; | mean_hot_woba &lt;dbl&gt; | mean_post_hot_woba_nextgame &lt;dbl&gt; | mean_post_hot_woba &lt;dbl&gt; | expected_woba &lt;dbl&gt; | std_mean_post_hot_woba &lt;dbl&gt; | upper_ci_post &lt;dbl&gt; | lower_ci_post &lt;dbl&gt; | mean_season_woba &lt;dbl&gt; |\n",
       "|---|---|---|---|---|---|---|---|---|---|---|\n",
       "| 943 | 18562 | 409073 | 0.601861 | 0.3551308 | 0.354568 | 0.3554687 | 0.001755279 | 0.3563233 | 0.3528128 | 0.3593545 |\n",
       "\n"
      ],
      "text/plain": [
       "  unique_hot_players total_hot_streaks total_hot_pa mean_hot_woba\n",
       "1 943                18562             409073       0.601861     \n",
       "  mean_post_hot_woba_nextgame mean_post_hot_woba expected_woba\n",
       "1 0.3551308                   0.354568           0.3554687    \n",
       "  std_mean_post_hot_woba upper_ci_post lower_ci_post mean_season_woba\n",
       "1 0.001755279            0.3563233     0.3528128     0.3593545       "
      ]
     },
     "metadata": {},
     "output_type": "display_data"
    },
    {
     "data": {
      "text/html": [
       "<table>\n",
       "<caption>A tibble: 1 × 11</caption>\n",
       "<thead>\n",
       "\t<tr><th scope=col>unique_hot_players</th><th scope=col>total_hot_streaks</th><th scope=col>total_hot_pa</th><th scope=col>mean_hot_woba</th><th scope=col>mean_post_hot_woba_nextgame</th><th scope=col>mean_post_hot_woba</th><th scope=col>expected_woba</th><th scope=col>std_mean_post_hot_woba</th><th scope=col>upper_ci_post</th><th scope=col>lower_ci_post</th><th scope=col>mean_season_woba</th></tr>\n",
       "\t<tr><th scope=col>&lt;int&gt;</th><th scope=col>&lt;dbl&gt;</th><th scope=col>&lt;dbl&gt;</th><th scope=col>&lt;dbl&gt;</th><th scope=col>&lt;dbl&gt;</th><th scope=col>&lt;dbl&gt;</th><th scope=col>&lt;dbl&gt;</th><th scope=col>&lt;dbl&gt;</th><th scope=col>&lt;dbl&gt;</th><th scope=col>&lt;dbl&gt;</th><th scope=col>&lt;dbl&gt;</th></tr>\n",
       "</thead>\n",
       "<tbody>\n",
       "\t<tr><td>1116</td><td>19265</td><td>412469</td><td>0.1298019</td><td>0.3250169</td><td>0.3265349</td><td>0.325296</td><td>0.001678122</td><td>0.328213</td><td>0.3248567</td><td>0.3296723</td></tr>\n",
       "</tbody>\n",
       "</table>\n"
      ],
      "text/latex": [
       "A tibble: 1 × 11\n",
       "\\begin{tabular}{lllllllllll}\n",
       " unique\\_hot\\_players & total\\_hot\\_streaks & total\\_hot\\_pa & mean\\_hot\\_woba & mean\\_post\\_hot\\_woba\\_nextgame & mean\\_post\\_hot\\_woba & expected\\_woba & std\\_mean\\_post\\_hot\\_woba & upper\\_ci\\_post & lower\\_ci\\_post & mean\\_season\\_woba\\\\\n",
       " <int> & <dbl> & <dbl> & <dbl> & <dbl> & <dbl> & <dbl> & <dbl> & <dbl> & <dbl> & <dbl>\\\\\n",
       "\\hline\n",
       "\t 1116 & 19265 & 412469 & 0.1298019 & 0.3250169 & 0.3265349 & 0.325296 & 0.001678122 & 0.328213 & 0.3248567 & 0.3296723\\\\\n",
       "\\end{tabular}\n"
      ],
      "text/markdown": [
       "\n",
       "A tibble: 1 × 11\n",
       "\n",
       "| unique_hot_players &lt;int&gt; | total_hot_streaks &lt;dbl&gt; | total_hot_pa &lt;dbl&gt; | mean_hot_woba &lt;dbl&gt; | mean_post_hot_woba_nextgame &lt;dbl&gt; | mean_post_hot_woba &lt;dbl&gt; | expected_woba &lt;dbl&gt; | std_mean_post_hot_woba &lt;dbl&gt; | upper_ci_post &lt;dbl&gt; | lower_ci_post &lt;dbl&gt; | mean_season_woba &lt;dbl&gt; |\n",
       "|---|---|---|---|---|---|---|---|---|---|---|\n",
       "| 1116 | 19265 | 412469 | 0.1298019 | 0.3250169 | 0.3265349 | 0.325296 | 0.001678122 | 0.328213 | 0.3248567 | 0.3296723 |\n",
       "\n"
      ],
      "text/plain": [
       "  unique_hot_players total_hot_streaks total_hot_pa mean_hot_woba\n",
       "1 1116               19265             412469       0.1298019    \n",
       "  mean_post_hot_woba_nextgame mean_post_hot_woba expected_woba\n",
       "1 0.3250169                   0.3265349          0.325296     \n",
       "  std_mean_post_hot_woba upper_ci_post lower_ci_post mean_season_woba\n",
       "1 0.001678122            0.328213      0.3248567     0.3296723       "
      ]
     },
     "metadata": {},
     "output_type": "display_data"
    }
   ],
   "source": [
    "df %>% ungroup() %>%\n",
    "    filter(is_hot==1,\n",
    "          !is.na(woba_rolling_future)) %>%\n",
    "    mutate(weighted_woba_num=B_PA*season_woba_num,\n",
    "          weighted_woba_denom=B_PA*season_woba_denom) %>%\n",
    "    summarise(\n",
    "        unique_hot_players = n_distinct(person.key),\n",
    "        total_hot_streaks = sum(is_hot),\n",
    "        total_hot_pa = sum(pa_rolling),\n",
    "        mean_hot_woba = sum(woba_num_rolling, na.rm=TRUE)/sum(woba_denom_rolling, na.rm=TRUE),\n",
    "        mean_post_hot_woba_nextgame = sum(woba_num_rolling_future_nextgame, na.rm=TRUE)/sum(woba_denom_rolling_future_nextgame, na.rm=TRUE),\n",
    "        mean_post_hot_woba = sum(woba_num_rolling_future, na.rm=TRUE)/sum(woba_denom_rolling_future, na.rm=TRUE),\n",
    "        expected_woba= mean(expected_woba, na.rm=TRUE),\n",
    "        std_mean_post_hot_woba = 1.96 * (sd(woba_num_rolling_future/woba_denom_rolling_future, na.rm=TRUE) / sqrt(n())),\n",
    "        upper_ci_post = mean_post_hot_woba + std_mean_post_hot_woba,\n",
    "        lower_ci_post = mean_post_hot_woba - std_mean_post_hot_woba,\n",
    "        mean_season_woba = sum(season_woba_num) / sum(season_woba_denom)\n",
    "    )\n",
    "\n",
    "df %>% ungroup() %>%\n",
    "    filter(is_cold==1,\n",
    "          !is.na(woba_rolling_future)) %>%\n",
    "    mutate(weighted_woba_num=B_PA*season_woba_num,\n",
    "          weighted_woba_denom=B_PA*season_woba_denom) %>%\n",
    "    summarise(\n",
    "        unique_hot_players = n_distinct(person.key),\n",
    "        total_hot_streaks = sum(is_cold),\n",
    "        total_hot_pa = sum(pa_rolling),\n",
    "        mean_hot_woba = sum(woba_num_rolling, na.rm=TRUE)/sum(woba_denom_rolling, na.rm=TRUE),\n",
    "        mean_post_hot_woba_nextgame = sum(woba_num_rolling_future_nextgame, na.rm=TRUE)/sum(woba_denom_rolling_future_nextgame, na.rm=TRUE),\n",
    "        mean_post_hot_woba = sum(woba_num_rolling_future, na.rm=TRUE)/sum(woba_denom_rolling_future, na.rm=TRUE),\n",
    "        expected_woba= mean(expected_woba, na.rm=TRUE),\n",
    "        std_mean_post_hot_woba = 1.96 * (sd(woba_num_rolling_future/woba_denom_rolling_future, na.rm=TRUE) / sqrt(n())),\n",
    "        upper_ci_post = mean_post_hot_woba + std_mean_post_hot_woba,\n",
    "        lower_ci_post = mean_post_hot_woba - std_mean_post_hot_woba,\n",
    "        mean_season_woba = sum(season_woba_num) / sum(season_woba_denom)\n",
    "    )\n"
   ]
  },
  {
   "cell_type": "code",
   "execution_count": 16,
   "metadata": {},
   "outputs": [
    {
     "data": {
      "text/html": [
       "<table>\n",
       "<caption>A tibble: 10 × 6</caption>\n",
       "<thead>\n",
       "\t<tr><th scope=col>person.key</th><th scope=col>game.date</th><th scope=col>pa_rolling</th><th scope=col>woba_rolling</th><th scope=col>woba_rolling_future</th><th scope=col>expected_woba</th></tr>\n",
       "\t<tr><th scope=col>&lt;fct&gt;</th><th scope=col>&lt;date&gt;</th><th scope=col>&lt;dbl&gt;</th><th scope=col>&lt;dbl&gt;</th><th scope=col>&lt;dbl&gt;</th><th scope=col>&lt;dbl&gt;</th></tr>\n",
       "</thead>\n",
       "<tbody>\n",
       "\t<tr><td>carpm002</td><td>2018-07-21</td><td>20</td><td>0.8800000</td><td>0.2440000</td><td>0.3549653</td></tr>\n",
       "\t<tr><td>ramij003</td><td>2018-07-14</td><td>20</td><td>0.8255000</td><td>0.4933333</td><td>0.3753247</td></tr>\n",
       "\t<tr><td>carpm002</td><td>2018-07-21</td><td>22</td><td>0.8236364</td><td>0.3659091</td><td>0.3547746</td></tr>\n",
       "\t<tr><td>martj008</td><td>2018-06-10</td><td>20</td><td>0.8210000</td><td>0.3147619</td><td>0.3560680</td></tr>\n",
       "\t<tr><td>martj008</td><td>2018-06-11</td><td>20</td><td>0.8205000</td><td>0.1790476</td><td>0.3581068</td></tr>\n",
       "\t<tr><td>lindf001</td><td>2018-05-13</td><td>23</td><td>0.8065217</td><td>0.2025000</td><td>0.3582460</td></tr>\n",
       "\t<tr><td>carpm002</td><td>2018-07-23</td><td>20</td><td>0.7995000</td><td>0.2325000</td><td>0.3553588</td></tr>\n",
       "\t<tr><td>brega001</td><td>2018-09-07</td><td>21</td><td>0.7966667</td><td>0.3433333</td><td>0.3941197</td></tr>\n",
       "\t<tr><td>carpm002</td><td>2018-07-22</td><td>21</td><td>0.7880952</td><td>0.2841667</td><td>0.3564005</td></tr>\n",
       "\t<tr><td>carpm002</td><td>2018-07-20</td><td>22</td><td>0.7677273</td><td>0.3990476</td><td>0.3503757</td></tr>\n",
       "</tbody>\n",
       "</table>\n"
      ],
      "text/latex": [
       "A tibble: 10 × 6\n",
       "\\begin{tabular}{llllll}\n",
       " person.key & game.date & pa\\_rolling & woba\\_rolling & woba\\_rolling\\_future & expected\\_woba\\\\\n",
       " <fct> & <date> & <dbl> & <dbl> & <dbl> & <dbl>\\\\\n",
       "\\hline\n",
       "\t carpm002 & 2018-07-21 & 20 & 0.8800000 & 0.2440000 & 0.3549653\\\\\n",
       "\t ramij003 & 2018-07-14 & 20 & 0.8255000 & 0.4933333 & 0.3753247\\\\\n",
       "\t carpm002 & 2018-07-21 & 22 & 0.8236364 & 0.3659091 & 0.3547746\\\\\n",
       "\t martj008 & 2018-06-10 & 20 & 0.8210000 & 0.3147619 & 0.3560680\\\\\n",
       "\t martj008 & 2018-06-11 & 20 & 0.8205000 & 0.1790476 & 0.3581068\\\\\n",
       "\t lindf001 & 2018-05-13 & 23 & 0.8065217 & 0.2025000 & 0.3582460\\\\\n",
       "\t carpm002 & 2018-07-23 & 20 & 0.7995000 & 0.2325000 & 0.3553588\\\\\n",
       "\t brega001 & 2018-09-07 & 21 & 0.7966667 & 0.3433333 & 0.3941197\\\\\n",
       "\t carpm002 & 2018-07-22 & 21 & 0.7880952 & 0.2841667 & 0.3564005\\\\\n",
       "\t carpm002 & 2018-07-20 & 22 & 0.7677273 & 0.3990476 & 0.3503757\\\\\n",
       "\\end{tabular}\n"
      ],
      "text/markdown": [
       "\n",
       "A tibble: 10 × 6\n",
       "\n",
       "| person.key &lt;fct&gt; | game.date &lt;date&gt; | pa_rolling &lt;dbl&gt; | woba_rolling &lt;dbl&gt; | woba_rolling_future &lt;dbl&gt; | expected_woba &lt;dbl&gt; |\n",
       "|---|---|---|---|---|---|\n",
       "| carpm002 | 2018-07-21 | 20 | 0.8800000 | 0.2440000 | 0.3549653 |\n",
       "| ramij003 | 2018-07-14 | 20 | 0.8255000 | 0.4933333 | 0.3753247 |\n",
       "| carpm002 | 2018-07-21 | 22 | 0.8236364 | 0.3659091 | 0.3547746 |\n",
       "| martj008 | 2018-06-10 | 20 | 0.8210000 | 0.3147619 | 0.3560680 |\n",
       "| martj008 | 2018-06-11 | 20 | 0.8205000 | 0.1790476 | 0.3581068 |\n",
       "| lindf001 | 2018-05-13 | 23 | 0.8065217 | 0.2025000 | 0.3582460 |\n",
       "| carpm002 | 2018-07-23 | 20 | 0.7995000 | 0.2325000 | 0.3553588 |\n",
       "| brega001 | 2018-09-07 | 21 | 0.7966667 | 0.3433333 | 0.3941197 |\n",
       "| carpm002 | 2018-07-22 | 21 | 0.7880952 | 0.2841667 | 0.3564005 |\n",
       "| carpm002 | 2018-07-20 | 22 | 0.7677273 | 0.3990476 | 0.3503757 |\n",
       "\n"
      ],
      "text/plain": [
       "   person.key game.date  pa_rolling woba_rolling woba_rolling_future\n",
       "1  carpm002   2018-07-21 20         0.8800000    0.2440000          \n",
       "2  ramij003   2018-07-14 20         0.8255000    0.4933333          \n",
       "3  carpm002   2018-07-21 22         0.8236364    0.3659091          \n",
       "4  martj008   2018-06-10 20         0.8210000    0.3147619          \n",
       "5  martj008   2018-06-11 20         0.8205000    0.1790476          \n",
       "6  lindf001   2018-05-13 23         0.8065217    0.2025000          \n",
       "7  carpm002   2018-07-23 20         0.7995000    0.2325000          \n",
       "8  brega001   2018-09-07 21         0.7966667    0.3433333          \n",
       "9  carpm002   2018-07-22 21         0.7880952    0.2841667          \n",
       "10 carpm002   2018-07-20 22         0.7677273    0.3990476          \n",
       "   expected_woba\n",
       "1  0.3549653    \n",
       "2  0.3753247    \n",
       "3  0.3547746    \n",
       "4  0.3560680    \n",
       "5  0.3581068    \n",
       "6  0.3582460    \n",
       "7  0.3553588    \n",
       "8  0.3941197    \n",
       "9  0.3564005    \n",
       "10 0.3503757    "
      ]
     },
     "metadata": {},
     "output_type": "display_data"
    },
    {
     "data": {
      "text/html": [
       "<table>\n",
       "<caption>A tibble: 10 × 6</caption>\n",
       "<thead>\n",
       "\t<tr><th scope=col>person.key</th><th scope=col>game.date</th><th scope=col>pa_rolling</th><th scope=col>woba_rolling</th><th scope=col>woba_rolling_future</th><th scope=col>expected_woba</th></tr>\n",
       "\t<tr><th scope=col>&lt;fct&gt;</th><th scope=col>&lt;date&gt;</th><th scope=col>&lt;dbl&gt;</th><th scope=col>&lt;dbl&gt;</th><th scope=col>&lt;dbl&gt;</th><th scope=col>&lt;dbl&gt;</th></tr>\n",
       "</thead>\n",
       "<tbody>\n",
       "\t<tr><td>morak001</td><td>2018-05-06</td><td>22</td><td>0.00000000</td><td>0.26875000</td><td>0.3182633</td></tr>\n",
       "\t<tr><td>gricr001</td><td>2018-04-08</td><td>20</td><td>0.00000000</td><td>0.39615385</td><td>0.3256528</td></tr>\n",
       "\t<tr><td>gregd001</td><td>2018-05-10</td><td>23</td><td>0.03130435</td><td>0.07043478</td><td>0.3402268</td></tr>\n",
       "\t<tr><td>gregd001</td><td>2018-05-11</td><td>22</td><td>0.03272727</td><td>0.11916667</td><td>0.3390616</td></tr>\n",
       "\t<tr><td>polla001</td><td>2018-09-01</td><td>22</td><td>0.03272727</td><td>0.32000000</td><td>0.3412564</td></tr>\n",
       "\t<tr><td>martl004</td><td>2018-05-22</td><td>21</td><td>0.03428571</td><td>0.28263158</td><td>0.2908803</td></tr>\n",
       "\t<tr><td>calhk001</td><td>2018-09-15</td><td>21</td><td>0.03428571</td><td>0.16142857</td><td>0.3170640</td></tr>\n",
       "\t<tr><td>owinc001</td><td>2018-05-25</td><td>21</td><td>0.03428571</td><td>0.31588235</td><td>0.2685137</td></tr>\n",
       "\t<tr><td>crawb001</td><td>2018-06-22</td><td>20</td><td>0.03600000</td><td>0.53545455</td><td>0.2943100</td></tr>\n",
       "\t<tr><td>deshd002</td><td>2018-07-10</td><td>20</td><td>0.03600000</td><td>0.06923077</td><td>0.2972467</td></tr>\n",
       "</tbody>\n",
       "</table>\n"
      ],
      "text/latex": [
       "A tibble: 10 × 6\n",
       "\\begin{tabular}{llllll}\n",
       " person.key & game.date & pa\\_rolling & woba\\_rolling & woba\\_rolling\\_future & expected\\_woba\\\\\n",
       " <fct> & <date> & <dbl> & <dbl> & <dbl> & <dbl>\\\\\n",
       "\\hline\n",
       "\t morak001 & 2018-05-06 & 22 & 0.00000000 & 0.26875000 & 0.3182633\\\\\n",
       "\t gricr001 & 2018-04-08 & 20 & 0.00000000 & 0.39615385 & 0.3256528\\\\\n",
       "\t gregd001 & 2018-05-10 & 23 & 0.03130435 & 0.07043478 & 0.3402268\\\\\n",
       "\t gregd001 & 2018-05-11 & 22 & 0.03272727 & 0.11916667 & 0.3390616\\\\\n",
       "\t polla001 & 2018-09-01 & 22 & 0.03272727 & 0.32000000 & 0.3412564\\\\\n",
       "\t martl004 & 2018-05-22 & 21 & 0.03428571 & 0.28263158 & 0.2908803\\\\\n",
       "\t calhk001 & 2018-09-15 & 21 & 0.03428571 & 0.16142857 & 0.3170640\\\\\n",
       "\t owinc001 & 2018-05-25 & 21 & 0.03428571 & 0.31588235 & 0.2685137\\\\\n",
       "\t crawb001 & 2018-06-22 & 20 & 0.03600000 & 0.53545455 & 0.2943100\\\\\n",
       "\t deshd002 & 2018-07-10 & 20 & 0.03600000 & 0.06923077 & 0.2972467\\\\\n",
       "\\end{tabular}\n"
      ],
      "text/markdown": [
       "\n",
       "A tibble: 10 × 6\n",
       "\n",
       "| person.key &lt;fct&gt; | game.date &lt;date&gt; | pa_rolling &lt;dbl&gt; | woba_rolling &lt;dbl&gt; | woba_rolling_future &lt;dbl&gt; | expected_woba &lt;dbl&gt; |\n",
       "|---|---|---|---|---|---|\n",
       "| morak001 | 2018-05-06 | 22 | 0.00000000 | 0.26875000 | 0.3182633 |\n",
       "| gricr001 | 2018-04-08 | 20 | 0.00000000 | 0.39615385 | 0.3256528 |\n",
       "| gregd001 | 2018-05-10 | 23 | 0.03130435 | 0.07043478 | 0.3402268 |\n",
       "| gregd001 | 2018-05-11 | 22 | 0.03272727 | 0.11916667 | 0.3390616 |\n",
       "| polla001 | 2018-09-01 | 22 | 0.03272727 | 0.32000000 | 0.3412564 |\n",
       "| martl004 | 2018-05-22 | 21 | 0.03428571 | 0.28263158 | 0.2908803 |\n",
       "| calhk001 | 2018-09-15 | 21 | 0.03428571 | 0.16142857 | 0.3170640 |\n",
       "| owinc001 | 2018-05-25 | 21 | 0.03428571 | 0.31588235 | 0.2685137 |\n",
       "| crawb001 | 2018-06-22 | 20 | 0.03600000 | 0.53545455 | 0.2943100 |\n",
       "| deshd002 | 2018-07-10 | 20 | 0.03600000 | 0.06923077 | 0.2972467 |\n",
       "\n"
      ],
      "text/plain": [
       "   person.key game.date  pa_rolling woba_rolling woba_rolling_future\n",
       "1  morak001   2018-05-06 22         0.00000000   0.26875000         \n",
       "2  gricr001   2018-04-08 20         0.00000000   0.39615385         \n",
       "3  gregd001   2018-05-10 23         0.03130435   0.07043478         \n",
       "4  gregd001   2018-05-11 22         0.03272727   0.11916667         \n",
       "5  polla001   2018-09-01 22         0.03272727   0.32000000         \n",
       "6  martl004   2018-05-22 21         0.03428571   0.28263158         \n",
       "7  calhk001   2018-09-15 21         0.03428571   0.16142857         \n",
       "8  owinc001   2018-05-25 21         0.03428571   0.31588235         \n",
       "9  crawb001   2018-06-22 20         0.03600000   0.53545455         \n",
       "10 deshd002   2018-07-10 20         0.03600000   0.06923077         \n",
       "   expected_woba\n",
       "1  0.3182633    \n",
       "2  0.3256528    \n",
       "3  0.3402268    \n",
       "4  0.3390616    \n",
       "5  0.3412564    \n",
       "6  0.2908803    \n",
       "7  0.3170640    \n",
       "8  0.2685137    \n",
       "9  0.2943100    \n",
       "10 0.2972467    "
      ]
     },
     "metadata": {},
     "output_type": "display_data"
    }
   ],
   "source": [
    "# table of example streaks for the blog post\n",
    "df %>% ungroup() %>%\n",
    "    filter(is_hot==1,\n",
    "           season==2018,\n",
    "          !is.na(woba_rolling_future)) %>%\n",
    "    select(person.key, game.date, pa_rolling, woba_rolling, woba_rolling_future, expected_woba) %>% \n",
    "    arrange(-woba_rolling) %>% head(10)\n",
    "\n",
    "# table of example streaks for the blog post\n",
    "df %>% ungroup() %>%\n",
    "    filter(is_cold==1,\n",
    "           season==2018,\n",
    "          !is.na(woba_rolling_future)) %>%\n",
    "    select(person.key, game.date, pa_rolling, woba_rolling, woba_rolling_future, expected_woba) %>% \n",
    "    arrange(woba_rolling) %>% head(10)"
   ]
  },
  {
   "cell_type": "code",
   "execution_count": 17,
   "metadata": {},
   "outputs": [
    {
     "name": "stderr",
     "output_type": "stream",
     "text": [
      "Warning message:\n",
      "“Removed 86 rows containing non-finite values (stat_bin).”\n"
     ]
    },
    {
     "data": {
      "image/png": "[encoded data removed]",
      "text/plain": [
       "plot without title"
      ]
     },
     "metadata": {
      "image/png": {
       "height": 420,
       "width": 420
      },
      "text/plain": {
       "height": 420,
       "width": 420
      }
     },
     "output_type": "display_data"
    },
    {
     "data": {
      "image/png": "[encoded data removed]",
      "text/plain": [
       "plot without title"
      ]
     },
     "metadata": {
      "image/png": {
       "height": 420,
       "width": 420
      },
      "text/plain": {
       "height": 420,
       "width": 420
      }
     },
     "output_type": "display_data"
    }
   ],
   "source": [
    "# inspect distributions of post-streak and expected woba\n",
    "df %>% filter(is_hot==1) %>%\n",
    "select(game.date, person.key, woba_rolling, \n",
    "       woba_rolling_future, expected_woba, \n",
    "       pa_rolling, pa_rolling_future,\n",
    "      ) %>% \n",
    "select(woba_rolling_future) %>% ggplot(aes(x=woba_rolling_future)) + geom_histogram(bins=100)\n",
    "\n",
    "df %>% filter(is_hot==1) %>%\n",
    "select(game.date, person.key, woba_rolling, \n",
    "       woba_rolling_future, expected_woba, \n",
    "       pa_rolling, pa_rolling_future,\n",
    "      ) %>% \n",
    "select(expected_woba) %>% ggplot(aes(x=expected_woba)) + geom_histogram(bins=100)"
   ]
  },
  {
   "cell_type": "markdown",
   "metadata": {},
   "source": [
    "## Repeat the above steps for 7-game streaks"
   ]
  },
  {
   "cell_type": "code",
   "execution_count": 18,
   "metadata": {},
   "outputs": [],
   "source": [
    "# take rolling sums of woba components to get a 5g woba\n",
    "library(zoo)\n",
    "num_games_streak = 7\n",
    "num_games_post_streak = 3\n",
    "min_pa_in_streak = 4 * num_games_streak #4\n",
    "min_pa_post_streak = 3 * num_games_post_streak #0\n",
    "# different offset used for post streak folling counts for 3 vs. 5 game configuration. paste this in if changing streak lenghts.\n",
    "seven_game_post = list(c(1, 2, 3, 4, 5, 6, 7)) #list(c(1, 2, 3))\n",
    "five_game_post = list(c(1, 2, 3, 4, 5))\n",
    "\n",
    "# this is ugly indentation but makes it harder to forget to paste something when updating it\n",
    "df = df %>%\n",
    "         arrange(season, person.key, game.date, game.key) %>%\n",
    "         group_by(season, person.key) %>%\n",
    "         mutate(woba_num_rolling =   roll_sum(woba_numerator, num_games_streak, align = \"right\", fill = NA),\n",
    "                pa_rolling =         roll_sum(B_PA, num_games_streak, align = \"right\", fill = NA),\n",
    "                woba_denom_rolling = roll_sum(woba_denominator, num_games_streak, align = \"right\", fill = NA),\n",
    "                woba_rolling = woba_num_rolling/woba_denom_rolling,\n",
    "                woba_num_rolling_future =   rollapply(woba_numerator, FUN=sum, seven_game_post, align = \"left\", fill = NA),\n",
    "                pa_rolling_future =         rollapply(B_PA, FUN=sum, seven_game_post, align = \"left\", fill = NA),\n",
    "                woba_denom_rolling_future = rollapply(woba_denominator, FUN=sum,  seven_game_post, align = \"left\", fill = NA),\n",
    "                woba_rolling_future = woba_num_rolling_future/woba_denom_rolling_future,\n",
    "                \n",
    "                woba_num_rolling_future_nextgame =   rollapply(woba_numerator, FUN=sum, list(c(1)), align = \"left\", fill = NA),\n",
    "                woba_denom_rolling_future_nextgame  = rollapply(woba_denominator, FUN=sum,  list(c(1)), align = \"left\", fill = NA),\n",
    "                woba_rolling_future_nextgame  = woba_num_rolling_future_nextgame /woba_denom_rolling_future_nextgame \n",
    "        ) "
   ]
  },
  {
   "cell_type": "code",
   "execution_count": 19,
   "metadata": {},
   "outputs": [
    {
     "name": "stderr",
     "output_type": "stream",
     "text": [
      "`summarise()` regrouping output by 'season', 'person.key' (override with `.groups` argument)\n",
      "\n"
     ]
    },
    {
     "data": {
      "text/html": [
       "<table>\n",
       "<caption>A tibble: 2 × 1</caption>\n",
       "<thead>\n",
       "\t<tr><th scope=col>thresholds</th></tr>\n",
       "\t<tr><th scope=col>&lt;dbl&gt;</th></tr>\n",
       "</thead>\n",
       "<tbody>\n",
       "\t<tr><td>0.1913793</td></tr>\n",
       "\t<tr><td>0.5143750</td></tr>\n",
       "</tbody>\n",
       "</table>\n"
      ],
      "text/latex": [
       "A tibble: 2 × 1\n",
       "\\begin{tabular}{l}\n",
       " thresholds\\\\\n",
       " <dbl>\\\\\n",
       "\\hline\n",
       "\t 0.1913793\\\\\n",
       "\t 0.5143750\\\\\n",
       "\\end{tabular}\n"
      ],
      "text/markdown": [
       "\n",
       "A tibble: 2 × 1\n",
       "\n",
       "| thresholds &lt;dbl&gt; |\n",
       "|---|\n",
       "| 0.1913793 |\n",
       "| 0.5143750 |\n",
       "\n"
      ],
      "text/plain": [
       "  thresholds\n",
       "1 0.1913793 \n",
       "2 0.5143750 "
      ]
     },
     "metadata": {},
     "output_type": "display_data"
    }
   ],
   "source": [
    "# get seasons' quantiles for woba thresholds\n",
    "df %>% \n",
    "    # only consider periods with at least 20 pa in them \n",
    "    filter(pa_rolling >= min_pa_in_streak, pa_rolling_future >= min_pa_post_streak) %>% \n",
    "    group_by(season, person.key, game.key) %>% summarise(woba = sum(woba_numerator) / sum(woba_denominator),\n",
    "                                                  #woba_rolling_avg = mean(woba_rolling, na.rm=TRUE), \n",
    "                                                  woba_rolling_avg = sum(woba_num_rolling, na.rm=TRUE)/sum(woba_denom_rolling, na.rm=TRUE),\n",
    "                                                  pa = sum(B_PA)) %>%\n",
    "    ungroup() %>%\n",
    "    #group_by(season) %>%\n",
    "    summarise(thresholds = quantile(woba_rolling_avg, probs = c(0.05, 0.95), na.rm=TRUE)) "
   ]
  },
  {
   "cell_type": "code",
   "execution_count": 20,
   "metadata": {},
   "outputs": [],
   "source": [
    "# create is hot/cold flags\n",
    "hot_threshold = .514\n",
    "cold_threshold = .191\n",
    "df = df %>% ungroup() %>% \n",
    "    mutate(is_hot = ifelse(((woba_rolling > hot_threshold) & (pa_rolling>=min_pa_in_streak) & (game_num < 157)), 1, 0),\n",
    "           is_cold = ifelse(((woba_rolling < cold_threshold) & (pa_rolling>=min_pa_in_streak) & (game_num < 157)), 1, 0))"
   ]
  },
  {
   "cell_type": "code",
   "execution_count": 21,
   "metadata": {},
   "outputs": [
    {
     "data": {
      "text/html": [
       "<table>\n",
       "<caption>A tibble: 1 × 10</caption>\n",
       "<thead>\n",
       "\t<tr><th scope=col>unique_hot_players</th><th scope=col>total_hot_streaks</th><th scope=col>total_hot_pa</th><th scope=col>mean_hot_woba</th><th scope=col>mean_post_hot_woba</th><th scope=col>mean_post_hot_woba_nextgame</th><th scope=col>std_mean_post_hot_woba</th><th scope=col>upper_ci_post</th><th scope=col>lower_ci_post</th><th scope=col>expected_woba</th></tr>\n",
       "\t<tr><th scope=col>&lt;int&gt;</th><th scope=col>&lt;dbl&gt;</th><th scope=col>&lt;dbl&gt;</th><th scope=col>&lt;dbl&gt;</th><th scope=col>&lt;dbl&gt;</th><th scope=col>&lt;dbl&gt;</th><th scope=col>&lt;dbl&gt;</th><th scope=col>&lt;dbl&gt;</th><th scope=col>&lt;dbl&gt;</th><th scope=col>&lt;dbl&gt;</th></tr>\n",
       "</thead>\n",
       "<tbody>\n",
       "\t<tr><td>848</td><td>17799</td><td>547535</td><td>0.5627349</td><td>0.3593182</td><td>0.3576631</td><td>0.001524393</td><td>0.3608426</td><td>0.3577938</td><td>0.3594971</td></tr>\n",
       "</tbody>\n",
       "</table>\n"
      ],
      "text/latex": [
       "A tibble: 1 × 10\n",
       "\\begin{tabular}{llllllllll}\n",
       " unique\\_hot\\_players & total\\_hot\\_streaks & total\\_hot\\_pa & mean\\_hot\\_woba & mean\\_post\\_hot\\_woba & mean\\_post\\_hot\\_woba\\_nextgame & std\\_mean\\_post\\_hot\\_woba & upper\\_ci\\_post & lower\\_ci\\_post & expected\\_woba\\\\\n",
       " <int> & <dbl> & <dbl> & <dbl> & <dbl> & <dbl> & <dbl> & <dbl> & <dbl> & <dbl>\\\\\n",
       "\\hline\n",
       "\t 848 & 17799 & 547535 & 0.5627349 & 0.3593182 & 0.3576631 & 0.001524393 & 0.3608426 & 0.3577938 & 0.3594971\\\\\n",
       "\\end{tabular}\n"
      ],
      "text/markdown": [
       "\n",
       "A tibble: 1 × 10\n",
       "\n",
       "| unique_hot_players &lt;int&gt; | total_hot_streaks &lt;dbl&gt; | total_hot_pa &lt;dbl&gt; | mean_hot_woba &lt;dbl&gt; | mean_post_hot_woba &lt;dbl&gt; | mean_post_hot_woba_nextgame &lt;dbl&gt; | std_mean_post_hot_woba &lt;dbl&gt; | upper_ci_post &lt;dbl&gt; | lower_ci_post &lt;dbl&gt; | expected_woba &lt;dbl&gt; |\n",
       "|---|---|---|---|---|---|---|---|---|---|\n",
       "| 848 | 17799 | 547535 | 0.5627349 | 0.3593182 | 0.3576631 | 0.001524393 | 0.3608426 | 0.3577938 | 0.3594971 |\n",
       "\n"
      ],
      "text/plain": [
       "  unique_hot_players total_hot_streaks total_hot_pa mean_hot_woba\n",
       "1 848                17799             547535       0.5627349    \n",
       "  mean_post_hot_woba mean_post_hot_woba_nextgame std_mean_post_hot_woba\n",
       "1 0.3593182          0.3576631                   0.001524393           \n",
       "  upper_ci_post lower_ci_post expected_woba\n",
       "1 0.3608426     0.3577938     0.3594971    "
      ]
     },
     "metadata": {},
     "output_type": "display_data"
    },
    {
     "data": {
      "text/html": [
       "<table>\n",
       "<caption>A tibble: 1 × 10</caption>\n",
       "<thead>\n",
       "\t<tr><th scope=col>unique_hot_players</th><th scope=col>total_hot_streaks</th><th scope=col>total_hot_pa</th><th scope=col>mean_hot_woba</th><th scope=col>mean_post_hot_woba</th><th scope=col>mean_post_hot_woba_nextgame</th><th scope=col>std_mean_post_hot_woba</th><th scope=col>upper_ci_post</th><th scope=col>lower_ci_post</th><th scope=col>expected_woba</th></tr>\n",
       "\t<tr><th scope=col>&lt;int&gt;</th><th scope=col>&lt;dbl&gt;</th><th scope=col>&lt;dbl&gt;</th><th scope=col>&lt;dbl&gt;</th><th scope=col>&lt;dbl&gt;</th><th scope=col>&lt;dbl&gt;</th><th scope=col>&lt;dbl&gt;</th><th scope=col>&lt;dbl&gt;</th><th scope=col>&lt;dbl&gt;</th><th scope=col>&lt;dbl&gt;</th></tr>\n",
       "</thead>\n",
       "<tbody>\n",
       "\t<tr><td>1028</td><td>17401</td><td>520219</td><td>0.1580786</td><td>0.3252085</td><td>0.3238884</td><td>0.001507746</td><td>0.3267162</td><td>0.3237007</td><td>0.3239573</td></tr>\n",
       "</tbody>\n",
       "</table>\n"
      ],
      "text/latex": [
       "A tibble: 1 × 10\n",
       "\\begin{tabular}{llllllllll}\n",
       " unique\\_hot\\_players & total\\_hot\\_streaks & total\\_hot\\_pa & mean\\_hot\\_woba & mean\\_post\\_hot\\_woba & mean\\_post\\_hot\\_woba\\_nextgame & std\\_mean\\_post\\_hot\\_woba & upper\\_ci\\_post & lower\\_ci\\_post & expected\\_woba\\\\\n",
       " <int> & <dbl> & <dbl> & <dbl> & <dbl> & <dbl> & <dbl> & <dbl> & <dbl> & <dbl>\\\\\n",
       "\\hline\n",
       "\t 1028 & 17401 & 520219 & 0.1580786 & 0.3252085 & 0.3238884 & 0.001507746 & 0.3267162 & 0.3237007 & 0.3239573\\\\\n",
       "\\end{tabular}\n"
      ],
      "text/markdown": [
       "\n",
       "A tibble: 1 × 10\n",
       "\n",
       "| unique_hot_players &lt;int&gt; | total_hot_streaks &lt;dbl&gt; | total_hot_pa &lt;dbl&gt; | mean_hot_woba &lt;dbl&gt; | mean_post_hot_woba &lt;dbl&gt; | mean_post_hot_woba_nextgame &lt;dbl&gt; | std_mean_post_hot_woba &lt;dbl&gt; | upper_ci_post &lt;dbl&gt; | lower_ci_post &lt;dbl&gt; | expected_woba &lt;dbl&gt; |\n",
       "|---|---|---|---|---|---|---|---|---|---|\n",
       "| 1028 | 17401 | 520219 | 0.1580786 | 0.3252085 | 0.3238884 | 0.001507746 | 0.3267162 | 0.3237007 | 0.3239573 |\n",
       "\n"
      ],
      "text/plain": [
       "  unique_hot_players total_hot_streaks total_hot_pa mean_hot_woba\n",
       "1 1028               17401             520219       0.1580786    \n",
       "  mean_post_hot_woba mean_post_hot_woba_nextgame std_mean_post_hot_woba\n",
       "1 0.3252085          0.3238884                   0.001507746           \n",
       "  upper_ci_post lower_ci_post expected_woba\n",
       "1 0.3267162     0.3237007     0.3239573    "
      ]
     },
     "metadata": {},
     "output_type": "display_data"
    }
   ],
   "source": [
    "df %>% ungroup() %>%\n",
    "    filter(is_hot==1,\n",
    "          !is.na(woba_rolling_future)) %>%\n",
    "    summarise(\n",
    "        unique_hot_players = n_distinct(person.key),\n",
    "        total_hot_streaks = sum(is_hot),\n",
    "        total_hot_pa = sum(pa_rolling),\n",
    "        mean_hot_woba = sum(woba_num_rolling, na.rm=TRUE)/sum(woba_denom_rolling, na.rm=TRUE),\n",
    "        mean_post_hot_woba = sum(woba_num_rolling_future, na.rm=TRUE)/sum(woba_denom_rolling_future, na.rm=TRUE),\n",
    "        mean_post_hot_woba_nextgame = sum(woba_num_rolling_future_nextgame, na.rm=TRUE)/sum(woba_denom_rolling_future_nextgame, na.rm=TRUE),\n",
    "        std_mean_post_hot_woba = 1.96 * (sd(woba_num_rolling_future/woba_denom_rolling_future, na.rm=TRUE) / sqrt(n())),\n",
    "        upper_ci_post = mean_post_hot_woba + std_mean_post_hot_woba,\n",
    "        lower_ci_post = mean_post_hot_woba - std_mean_post_hot_woba,\n",
    "        expected_woba= mean(expected_woba, na.rm=TRUE)\n",
    "    )\n",
    "\n",
    "df %>% ungroup() %>%\n",
    "    filter(is_cold==1,\n",
    "          !is.na(woba_rolling_future)) %>%\n",
    "    #group_by(season) %>%\n",
    "    summarise(\n",
    "        unique_hot_players = n_distinct(person.key),\n",
    "        total_hot_streaks = sum(is_cold),\n",
    "        total_hot_pa = sum(pa_rolling),\n",
    "        mean_hot_woba = sum(woba_num_rolling, na.rm=TRUE)/sum(woba_denom_rolling, na.rm=TRUE),\n",
    "        mean_post_hot_woba = sum(woba_num_rolling_future, na.rm=TRUE)/sum(woba_denom_rolling_future, na.rm=TRUE),\n",
    "        mean_post_hot_woba_nextgame = sum(woba_num_rolling_future_nextgame, na.rm=TRUE)/sum(woba_denom_rolling_future_nextgame, na.rm=TRUE),\n",
    "        std_mean_post_hot_woba = 1.96 * (sd(woba_num_rolling_future/woba_denom_rolling_future, na.rm=TRUE) / sqrt(n())),\n",
    "        upper_ci_post = mean_post_hot_woba + std_mean_post_hot_woba,\n",
    "        lower_ci_post = mean_post_hot_woba - std_mean_post_hot_woba,\n",
    "        expected_woba= mean(expected_woba, na.rm=TRUE)\n",
    "    )"
   ]
  },
  {
   "cell_type": "code",
   "execution_count": null,
   "metadata": {},
   "outputs": [],
   "source": []
  }
 ],
 "metadata": {
  "kernelspec": {
   "display_name": "R",
   "language": "R",
   "name": "ir"
  },
  "language_info": {
   "codemirror_mode": "r",
   "file_extension": ".r",
   "mimetype": "text/x-r-source",
   "name": "R",
   "pygments_lexer": "r",
   "version": "3.6.2"
  }
 },
 "nbformat": 4,
 "nbformat_minor": 4
}
