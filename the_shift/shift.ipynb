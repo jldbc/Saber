{
 "cells": [
  {
   "cell_type": "markdown",
   "metadata": {
    "collapsed": true
   },
   "source": [
    "# Predicting The Shift\n",
    "\n",
    "* savant leaderboard https://baseballsavant.mlb.com/visuals/team-positioning"
   ]
  },
  {
   "cell_type": "markdown",
   "metadata": {},
   "source": [
    "\n",
    "## Goals for Modeling\n",
    "* Can we predict the shift?\n",
    "* Which features are most predictive?\n",
    "* Use season to date stats (woba, avg launch angle/speed, etc.), lagged outcomes (whether they shifted this batter's last N PAs, whether it worked), batter id, handedness, situation (base state and run diff), avg. launch angle and exit velo, defense-team/team-year-interaction to predict whether an AB will be shifted "
   ]
  },
  {
   "cell_type": "markdown",
   "metadata": {},
   "source": [
    "### Data Notes\n",
    "* Throwing out batters with <100 PA may help accuracy, but it's also unrealistic to pretend those don't exist"
   ]
  },
  {
   "cell_type": "code",
   "execution_count": 1,
   "metadata": {},
   "outputs": [
    {
     "name": "stderr",
     "output_type": "stream",
     "text": [
      "/Users/jledoux/anaconda3/lib/python3.6/importlib/_bootstrap.py:219: RuntimeWarning: numpy.dtype size changed, may indicate binary incompatibility. Expected 96, got 88\n",
      "  return f(*args, **kwds)\n"
     ]
    }
   ],
   "source": [
    "from pybaseball import statcast\n",
    "from pybaseball.lahman import master\n",
    "from pybaseball import playerid_reverse_lookup\n",
    "import pandas as pd\n",
    "import numpy as np\n",
    "import warnings\n",
    "warnings.filterwarnings('ignore')"
   ]
  },
  {
   "cell_type": "code",
   "execution_count": 2,
   "metadata": {
    "collapsed": true
   },
   "outputs": [],
   "source": [
    "#df = statcast('2018-03-25','2018-08-17')"
   ]
  },
  {
   "cell_type": "code",
   "execution_count": 3,
   "metadata": {
    "collapsed": true
   },
   "outputs": [],
   "source": [
    "#df.to_csv('statcast_0817.csv')"
   ]
  },
  {
   "cell_type": "markdown",
   "metadata": {},
   "source": [
    "### Use Statcast data 2015 - present. Only consider regular-season games.\n"
   ]
  },
  {
   "cell_type": "code",
   "execution_count": 4,
   "metadata": {
    "collapsed": true
   },
   "outputs": [],
   "source": [
    "#df = pd.read_csv('statcast_0817.csv')\n",
    "# using a csv of statcast events April 2015 - Aug. 2018\n",
    "df = pd.read_csv('/Users/jledoux/Documents/projects/Saber/baseball-data/statcast_with_shifts.csv')"
   ]
  },
  {
   "cell_type": "code",
   "execution_count": 5,
   "metadata": {
    "collapsed": true
   },
   "outputs": [],
   "source": [
    "df['game_date'] = pd.to_datetime(df['game_date'])"
   ]
  },
  {
   "cell_type": "code",
   "execution_count": 6,
   "metadata": {},
   "outputs": [
    {
     "data": {
      "text/plain": [
       "R    2681102\n",
       "S     136451\n",
       "D      15296\n",
       "L       9167\n",
       "W       5777\n",
       "F       1738\n",
       "Name: game_type, dtype: int64"
      ]
     },
     "execution_count": 6,
     "metadata": {},
     "output_type": "execute_result"
    }
   ],
   "source": [
    "# R == 'regular season'\n",
    "df.game_type.value_counts()"
   ]
  },
  {
   "cell_type": "code",
   "execution_count": 7,
   "metadata": {
    "collapsed": true
   },
   "outputs": [],
   "source": [
    "# only consider regular season games\n",
    "df = df.loc[df['game_type'] == 'R',]"
   ]
  },
  {
   "cell_type": "code",
   "execution_count": 8,
   "metadata": {
    "scrolled": true
   },
   "outputs": [
    {
     "data": {
      "text/plain": [
       "Index(['Unnamed: 0', 'index', 'pitch_type', 'game_date', 'release_speed',\n",
       "       'release_pos_x', 'release_pos_z', 'player_name', 'batter', 'pitcher',\n",
       "       'events', 'description', 'spin_dir', 'spin_rate_deprecated',\n",
       "       'break_angle_deprecated', 'break_length_deprecated', 'zone', 'des',\n",
       "       'game_type', 'stand', 'p_throws', 'home_team', 'away_team', 'type',\n",
       "       'hit_location', 'bb_type', 'balls', 'strikes', 'game_year', 'pfx_x',\n",
       "       'pfx_z', 'plate_x', 'plate_z', 'on_3b', 'on_2b', 'on_1b',\n",
       "       'outs_when_up', 'inning', 'inning_topbot', 'hc_x', 'hc_y',\n",
       "       'tfs_deprecated', 'tfs_zulu_deprecated', 'pos2_person_id', 'umpire',\n",
       "       'sv_id', 'vx0', 'vy0', 'vz0', 'ax', 'ay', 'az', 'sz_top', 'sz_bot',\n",
       "       'hit_distance_sc', 'launch_speed', 'launch_angle', 'effective_speed',\n",
       "       'release_spin_rate', 'release_extension', 'game_pk', 'pos1_person_id',\n",
       "       'pos2_person_id.1', 'pos3_person_id', 'pos4_person_id',\n",
       "       'pos5_person_id', 'pos6_person_id', 'pos7_person_id', 'pos8_person_id',\n",
       "       'pos9_person_id', 'release_pos_y', 'estimated_ba_using_speedangle',\n",
       "       'estimated_woba_using_speedangle', 'woba_value', 'woba_denom',\n",
       "       'babip_value', 'iso_value', 'launch_speed_angle', 'at_bat_number',\n",
       "       'pitch_number', 'pitch_name', 'home_score', 'away_score', 'bat_score',\n",
       "       'fld_score', 'post_away_score', 'post_home_score', 'post_bat_score',\n",
       "       'post_fld_score', 'if_fielding_alignment', 'of_fielding_alignment'],\n",
       "      dtype='object')"
      ]
     },
     "execution_count": 8,
     "metadata": {},
     "output_type": "execute_result"
    }
   ],
   "source": [
    "df.columns"
   ]
  },
  {
   "cell_type": "markdown",
   "metadata": {},
   "source": [
    "### Bring in batter names because savant only gives pitcher or batter name, not both. Use bbref ids to connect w/ Lahman to get batter handedness. "
   ]
  },
  {
   "cell_type": "code",
   "execution_count": 9,
   "metadata": {
    "scrolled": true
   },
   "outputs": [
    {
     "name": "stdout",
     "output_type": "stream",
     "text": [
      "Gathering player lookup table. This may take a moment.\n"
     ]
    }
   ],
   "source": [
    "batters = df.batter\n",
    "names = playerid_reverse_lookup(batters)\n",
    "names['batter_name'] = names['name_first'] + ' ' + names['name_last']"
   ]
  },
  {
   "cell_type": "code",
   "execution_count": 10,
   "metadata": {
    "collapsed": true
   },
   "outputs": [],
   "source": [
    "master = master()\n",
    "master = master[['bbrefID', 'bats']]\n",
    "names = names.merge(master, left_on='key_bbref', right_on = 'bbrefID', suffixes=('_chadwick', '_lahman'))\n",
    "names = pd.DataFrame(names[['key_mlbam', 'batter_name', 'bats']])"
   ]
  },
  {
   "cell_type": "code",
   "execution_count": 11,
   "metadata": {
    "collapsed": true
   },
   "outputs": [],
   "source": [
    "df.batter = df.batter.astype(int) \n",
    "df = df.merge(names, left_on='batter', right_on = 'key_mlbam', suffixes=('_old', ''))"
   ]
  },
  {
   "cell_type": "code",
   "execution_count": 12,
   "metadata": {
    "scrolled": false
   },
   "outputs": [
    {
     "data": {
      "text/plain": [
       "Standard         1940129\n",
       "Infield shift     337216\n",
       "Strategic         224610\n",
       "Name: if_fielding_alignment, dtype: int64"
      ]
     },
     "execution_count": 12,
     "metadata": {},
     "output_type": "execute_result"
    }
   ],
   "source": [
    "df.if_fielding_alignment.value_counts()"
   ]
  },
  {
   "cell_type": "code",
   "execution_count": 13,
   "metadata": {},
   "outputs": [
    {
     "data": {
      "text/plain": [
       "Standard                  2318411\n",
       "Strategic                  183313\n",
       "4th outfielder                196\n",
       "Extreme outfield shift         35\n",
       "Name: of_fielding_alignment, dtype: int64"
      ]
     },
     "execution_count": 13,
     "metadata": {},
     "output_type": "execute_result"
    }
   ],
   "source": [
    "df.of_fielding_alignment.value_counts()"
   ]
  },
  {
   "cell_type": "code",
   "execution_count": 14,
   "metadata": {
    "scrolled": true
   },
   "outputs": [
    {
     "data": {
      "text/html": [
       "<div>\n",
       "<style scoped>\n",
       "    .dataframe tbody tr th:only-of-type {\n",
       "        vertical-align: middle;\n",
       "    }\n",
       "\n",
       "    .dataframe tbody tr th {\n",
       "        vertical-align: top;\n",
       "    }\n",
       "\n",
       "    .dataframe thead th {\n",
       "        text-align: right;\n",
       "    }\n",
       "</style>\n",
       "<table border=\"1\" class=\"dataframe\">\n",
       "  <thead>\n",
       "    <tr style=\"text-align: right;\">\n",
       "      <th></th>\n",
       "      <th>Unnamed: 0</th>\n",
       "      <th>index</th>\n",
       "      <th>pitch_type</th>\n",
       "      <th>game_date</th>\n",
       "      <th>release_speed</th>\n",
       "      <th>release_pos_x</th>\n",
       "      <th>release_pos_z</th>\n",
       "      <th>player_name</th>\n",
       "      <th>batter</th>\n",
       "      <th>pitcher</th>\n",
       "      <th>...</th>\n",
       "      <th>fld_score</th>\n",
       "      <th>post_away_score</th>\n",
       "      <th>post_home_score</th>\n",
       "      <th>post_bat_score</th>\n",
       "      <th>post_fld_score</th>\n",
       "      <th>if_fielding_alignment</th>\n",
       "      <th>of_fielding_alignment</th>\n",
       "      <th>key_mlbam</th>\n",
       "      <th>batter_name</th>\n",
       "      <th>bats</th>\n",
       "    </tr>\n",
       "  </thead>\n",
       "  <tbody>\n",
       "    <tr>\n",
       "      <th>0</th>\n",
       "      <td>0</td>\n",
       "      <td>34</td>\n",
       "      <td>SL</td>\n",
       "      <td>2018-08-16</td>\n",
       "      <td>92.6</td>\n",
       "      <td>-2.7631</td>\n",
       "      <td>5.4984</td>\n",
       "      <td>Koda Glover</td>\n",
       "      <td>425877</td>\n",
       "      <td>606983.0</td>\n",
       "      <td>...</td>\n",
       "      <td>5.0</td>\n",
       "      <td>5.0</td>\n",
       "      <td>4.0</td>\n",
       "      <td>4.0</td>\n",
       "      <td>5.0</td>\n",
       "      <td>Standard</td>\n",
       "      <td>Standard</td>\n",
       "      <td>425877</td>\n",
       "      <td>yadier molina</td>\n",
       "      <td>R</td>\n",
       "    </tr>\n",
       "    <tr>\n",
       "      <th>1</th>\n",
       "      <td>79</td>\n",
       "      <td>548</td>\n",
       "      <td>SL</td>\n",
       "      <td>2018-08-16</td>\n",
       "      <td>86.0</td>\n",
       "      <td>-3.4888</td>\n",
       "      <td>6.3423</td>\n",
       "      <td>Justin Miller</td>\n",
       "      <td>425877</td>\n",
       "      <td>502522.0</td>\n",
       "      <td>...</td>\n",
       "      <td>5.0</td>\n",
       "      <td>5.0</td>\n",
       "      <td>4.0</td>\n",
       "      <td>4.0</td>\n",
       "      <td>5.0</td>\n",
       "      <td>Standard</td>\n",
       "      <td>Standard</td>\n",
       "      <td>425877</td>\n",
       "      <td>yadier molina</td>\n",
       "      <td>R</td>\n",
       "    </tr>\n",
       "    <tr>\n",
       "      <th>2</th>\n",
       "      <td>80</td>\n",
       "      <td>556</td>\n",
       "      <td>FF</td>\n",
       "      <td>2018-08-16</td>\n",
       "      <td>94.2</td>\n",
       "      <td>-3.2326</td>\n",
       "      <td>6.3325</td>\n",
       "      <td>Justin Miller</td>\n",
       "      <td>425877</td>\n",
       "      <td>502522.0</td>\n",
       "      <td>...</td>\n",
       "      <td>5.0</td>\n",
       "      <td>5.0</td>\n",
       "      <td>4.0</td>\n",
       "      <td>4.0</td>\n",
       "      <td>5.0</td>\n",
       "      <td>Standard</td>\n",
       "      <td>Standard</td>\n",
       "      <td>425877</td>\n",
       "      <td>yadier molina</td>\n",
       "      <td>R</td>\n",
       "    </tr>\n",
       "    <tr>\n",
       "      <th>3</th>\n",
       "      <td>81</td>\n",
       "      <td>568</td>\n",
       "      <td>FF</td>\n",
       "      <td>2018-08-16</td>\n",
       "      <td>93.3</td>\n",
       "      <td>-3.3782</td>\n",
       "      <td>6.4501</td>\n",
       "      <td>Justin Miller</td>\n",
       "      <td>425877</td>\n",
       "      <td>502522.0</td>\n",
       "      <td>...</td>\n",
       "      <td>5.0</td>\n",
       "      <td>5.0</td>\n",
       "      <td>4.0</td>\n",
       "      <td>4.0</td>\n",
       "      <td>5.0</td>\n",
       "      <td>Standard</td>\n",
       "      <td>Standard</td>\n",
       "      <td>425877</td>\n",
       "      <td>yadier molina</td>\n",
       "      <td>R</td>\n",
       "    </tr>\n",
       "    <tr>\n",
       "      <th>4</th>\n",
       "      <td>82</td>\n",
       "      <td>576</td>\n",
       "      <td>FF</td>\n",
       "      <td>2018-08-16</td>\n",
       "      <td>93.5</td>\n",
       "      <td>-3.2965</td>\n",
       "      <td>6.4346</td>\n",
       "      <td>Justin Miller</td>\n",
       "      <td>425877</td>\n",
       "      <td>502522.0</td>\n",
       "      <td>...</td>\n",
       "      <td>5.0</td>\n",
       "      <td>5.0</td>\n",
       "      <td>4.0</td>\n",
       "      <td>4.0</td>\n",
       "      <td>5.0</td>\n",
       "      <td>Standard</td>\n",
       "      <td>Standard</td>\n",
       "      <td>425877</td>\n",
       "      <td>yadier molina</td>\n",
       "      <td>R</td>\n",
       "    </tr>\n",
       "  </tbody>\n",
       "</table>\n",
       "<p>5 rows × 94 columns</p>\n",
       "</div>"
      ],
      "text/plain": [
       "   Unnamed: 0  index pitch_type  game_date  release_speed  release_pos_x  \\\n",
       "0           0     34         SL 2018-08-16           92.6        -2.7631   \n",
       "1          79    548         SL 2018-08-16           86.0        -3.4888   \n",
       "2          80    556         FF 2018-08-16           94.2        -3.2326   \n",
       "3          81    568         FF 2018-08-16           93.3        -3.3782   \n",
       "4          82    576         FF 2018-08-16           93.5        -3.2965   \n",
       "\n",
       "   release_pos_z    player_name  batter   pitcher ...  fld_score  \\\n",
       "0         5.4984    Koda Glover  425877  606983.0 ...        5.0   \n",
       "1         6.3423  Justin Miller  425877  502522.0 ...        5.0   \n",
       "2         6.3325  Justin Miller  425877  502522.0 ...        5.0   \n",
       "3         6.4501  Justin Miller  425877  502522.0 ...        5.0   \n",
       "4         6.4346  Justin Miller  425877  502522.0 ...        5.0   \n",
       "\n",
       "  post_away_score  post_home_score  post_bat_score  post_fld_score  \\\n",
       "0             5.0              4.0             4.0             5.0   \n",
       "1             5.0              4.0             4.0             5.0   \n",
       "2             5.0              4.0             4.0             5.0   \n",
       "3             5.0              4.0             4.0             5.0   \n",
       "4             5.0              4.0             4.0             5.0   \n",
       "\n",
       "   if_fielding_alignment  of_fielding_alignment key_mlbam    batter_name bats  \n",
       "0               Standard               Standard    425877  yadier molina    R  \n",
       "1               Standard               Standard    425877  yadier molina    R  \n",
       "2               Standard               Standard    425877  yadier molina    R  \n",
       "3               Standard               Standard    425877  yadier molina    R  \n",
       "4               Standard               Standard    425877  yadier molina    R  \n",
       "\n",
       "[5 rows x 94 columns]"
      ]
     },
     "execution_count": 14,
     "metadata": {},
     "output_type": "execute_result"
    }
   ],
   "source": [
    "df.head()"
   ]
  },
  {
   "cell_type": "markdown",
   "metadata": {},
   "source": [
    "### Create a temporary shift column indicating whether the IF is shifted at a given pitch. Sum over this for each atbat. Atbats where a shift happened at least once will reveive a positive flag for the variable is_shift. Otherwise, it equals zero. \n",
    "\n",
    "Two potential flaws with this: first, what if there was a pinch hitter partway through the atbat? In this case, there's no event for the first batter, so that batter-PA pair will be thrown out. Not a problem.\n",
    "\n",
    "Second, this doesn't take into account the possibility of changing shift states partway through an AB. If they shift at any point, I'm calling it a shifted-atbat. I don't expect that to have a major impact on the results. "
   ]
  },
  {
   "cell_type": "code",
   "execution_count": 15,
   "metadata": {
    "collapsed": true
   },
   "outputs": [],
   "source": [
    "df['atbat_pk'] = df['game_pk'].astype(str) + df['at_bat_number'].astype(str)\n",
    "df['is_shift'] = np.where(df['if_fielding_alignment'] == 'Infield shift', 1, 0)"
   ]
  },
  {
   "cell_type": "code",
   "execution_count": 16,
   "metadata": {},
   "outputs": [
    {
     "data": {
      "text/plain": [
       "0    2223513\n",
       "1     337216\n",
       "Name: is_shift, dtype: int64"
      ]
     },
     "execution_count": 16,
     "metadata": {},
     "output_type": "execute_result"
    }
   ],
   "source": [
    "df.is_shift.value_counts()"
   ]
  },
  {
   "cell_type": "code",
   "execution_count": 17,
   "metadata": {
    "collapsed": true
   },
   "outputs": [],
   "source": [
    "shifts = pd.DataFrame(df.groupby('atbat_pk')['is_shift'].sum()).reset_index()\n",
    "shifts.loc[shifts.is_shift > 0, 'is_shift'] = 1"
   ]
  },
  {
   "cell_type": "code",
   "execution_count": 18,
   "metadata": {
    "collapsed": true
   },
   "outputs": [],
   "source": [
    "df = df.merge(shifts, on='atbat_pk', suffixes=('_old', ''))"
   ]
  },
  {
   "cell_type": "markdown",
   "metadata": {},
   "source": [
    "### Create features for whether a player was on 1b, 2b, 3b at beginning of PA. Group by  atbat pk, take the first, and use that as the column's value. \n",
    "\n",
    "This is only an approximation of what's happening in reality, as steals, passed balls, etc. can all cause this to change throughout the life of an atbat, but it's a simple feature that impacts beginning-of-PA shift strategy."
   ]
  },
  {
   "cell_type": "code",
   "execution_count": 19,
   "metadata": {
    "collapsed": true
   },
   "outputs": [],
   "source": [
    "df['man_on_first'] = np.where(df['on_1b'] > 0 , 1, 0)\n",
    "df['man_on_second'] = np.where(df['on_2b'] > 0 , 1, 0)\n",
    "df['man_on_third'] = np.where(df['on_3b'] > 0 , 1, 0)\n",
    "df['men_on_base'] = df['man_on_first'] + df['man_on_second'] + df['man_on_third']"
   ]
  },
  {
   "cell_type": "code",
   "execution_count": 20,
   "metadata": {},
   "outputs": [
    {
     "data": {
      "text/html": [
       "<div>\n",
       "<style scoped>\n",
       "    .dataframe tbody tr th:only-of-type {\n",
       "        vertical-align: middle;\n",
       "    }\n",
       "\n",
       "    .dataframe tbody tr th {\n",
       "        vertical-align: top;\n",
       "    }\n",
       "\n",
       "    .dataframe thead th {\n",
       "        text-align: right;\n",
       "    }\n",
       "</style>\n",
       "<table border=\"1\" class=\"dataframe\">\n",
       "  <thead>\n",
       "    <tr style=\"text-align: right;\">\n",
       "      <th></th>\n",
       "      <th>on_1b</th>\n",
       "      <th>on_2b</th>\n",
       "      <th>on_3b</th>\n",
       "      <th>man_on_first</th>\n",
       "      <th>man_on_second</th>\n",
       "      <th>man_on_third</th>\n",
       "      <th>men_on_base</th>\n",
       "    </tr>\n",
       "  </thead>\n",
       "  <tbody>\n",
       "    <tr>\n",
       "      <th>0</th>\n",
       "      <td>572761.0</td>\n",
       "      <td>607231.0</td>\n",
       "      <td>NaN</td>\n",
       "      <td>1</td>\n",
       "      <td>1</td>\n",
       "      <td>0</td>\n",
       "      <td>2</td>\n",
       "    </tr>\n",
       "    <tr>\n",
       "      <th>1</th>\n",
       "      <td>621550.0</td>\n",
       "      <td>NaN</td>\n",
       "      <td>NaN</td>\n",
       "      <td>1</td>\n",
       "      <td>0</td>\n",
       "      <td>0</td>\n",
       "      <td>1</td>\n",
       "    </tr>\n",
       "    <tr>\n",
       "      <th>2</th>\n",
       "      <td>621550.0</td>\n",
       "      <td>NaN</td>\n",
       "      <td>NaN</td>\n",
       "      <td>1</td>\n",
       "      <td>0</td>\n",
       "      <td>0</td>\n",
       "      <td>1</td>\n",
       "    </tr>\n",
       "    <tr>\n",
       "      <th>3</th>\n",
       "      <td>621550.0</td>\n",
       "      <td>NaN</td>\n",
       "      <td>NaN</td>\n",
       "      <td>1</td>\n",
       "      <td>0</td>\n",
       "      <td>0</td>\n",
       "      <td>1</td>\n",
       "    </tr>\n",
       "    <tr>\n",
       "      <th>4</th>\n",
       "      <td>621550.0</td>\n",
       "      <td>NaN</td>\n",
       "      <td>NaN</td>\n",
       "      <td>1</td>\n",
       "      <td>0</td>\n",
       "      <td>0</td>\n",
       "      <td>1</td>\n",
       "    </tr>\n",
       "  </tbody>\n",
       "</table>\n",
       "</div>"
      ],
      "text/plain": [
       "      on_1b     on_2b  on_3b  man_on_first  man_on_second  man_on_third  \\\n",
       "0  572761.0  607231.0    NaN             1              1             0   \n",
       "1  621550.0       NaN    NaN             1              0             0   \n",
       "2  621550.0       NaN    NaN             1              0             0   \n",
       "3  621550.0       NaN    NaN             1              0             0   \n",
       "4  621550.0       NaN    NaN             1              0             0   \n",
       "\n",
       "   men_on_base  \n",
       "0            2  \n",
       "1            1  \n",
       "2            1  \n",
       "3            1  \n",
       "4            1  "
      ]
     },
     "execution_count": 20,
     "metadata": {},
     "output_type": "execute_result"
    }
   ],
   "source": [
    "df[['on_1b', 'on_2b', 'on_3b', 'man_on_first', 'man_on_second', 'man_on_third', 'men_on_base']].head()"
   ]
  },
  {
   "cell_type": "code",
   "execution_count": 21,
   "metadata": {
    "collapsed": true
   },
   "outputs": [],
   "source": [
    "df['score_differential'] = df['fld_score'] - df['bat_score']"
   ]
  },
  {
   "cell_type": "code",
   "execution_count": 22,
   "metadata": {},
   "outputs": [
    {
     "name": "stdout",
     "output_type": "stream",
     "text": [
      "(2560729, 102)\n",
      "(2560729, 102)\n"
     ]
    }
   ],
   "source": [
    "# drop rows where our value of interest is unknown\n",
    "# if you drop the original column you'll lose partial atbats. sometimes it's null for only some pitches. dropping it loses event data.\n",
    "print(df.shape)\n",
    "df = df[pd.notnull(df['is_shift'])]\n",
    "print(df.shape)"
   ]
  },
  {
   "cell_type": "code",
   "execution_count": 23,
   "metadata": {
    "scrolled": true
   },
   "outputs": [
    {
     "data": {
      "text/plain": [
       "0    2177433\n",
       "1     383296\n",
       "Name: is_shift, dtype: int64"
      ]
     },
     "execution_count": 23,
     "metadata": {},
     "output_type": "execute_result"
    }
   ],
   "source": [
    "df.is_shift.value_counts()"
   ]
  },
  {
   "cell_type": "markdown",
   "metadata": {},
   "source": [
    "### Some quick sanity checks to make sure these woba and shift numbers match up with Savant and FanGraphs.\n",
    "\n",
    "My shift rates are higher than Savant's, but Savant also has lower PA-numbers than me. My PA numbers match FanGraphs', so I think my numbers are correct and Savant is doing some type of filtering that they aren't explaining on their leaderboard page. \n",
    "\n",
    "Differences aside, my shift leaderboard ranks similarly to Savant's and my wOBA numbers are also reaonably close to FG's.  "
   ]
  },
  {
   "cell_type": "markdown",
   "metadata": {},
   "source": [
    "wOBA leaders:"
   ]
  },
  {
   "cell_type": "code",
   "execution_count": 24,
   "metadata": {
    "scrolled": false
   },
   "outputs": [
    {
     "data": {
      "text/html": [
       "<div>\n",
       "<style scoped>\n",
       "    .dataframe tbody tr th:only-of-type {\n",
       "        vertical-align: middle;\n",
       "    }\n",
       "\n",
       "    .dataframe tbody tr th {\n",
       "        vertical-align: top;\n",
       "    }\n",
       "\n",
       "    .dataframe thead th {\n",
       "        text-align: right;\n",
       "    }\n",
       "</style>\n",
       "<table border=\"1\" class=\"dataframe\">\n",
       "  <thead>\n",
       "    <tr style=\"text-align: right;\">\n",
       "      <th></th>\n",
       "      <th></th>\n",
       "      <th>mean</th>\n",
       "      <th>count</th>\n",
       "    </tr>\n",
       "    <tr>\n",
       "      <th>batter_name</th>\n",
       "      <th>batter</th>\n",
       "      <th></th>\n",
       "      <th></th>\n",
       "    </tr>\n",
       "  </thead>\n",
       "  <tbody>\n",
       "    <tr>\n",
       "      <th>mike trout</th>\n",
       "      <th>545361</th>\n",
       "      <td>0.434081</td>\n",
       "      <td>2318</td>\n",
       "    </tr>\n",
       "    <tr>\n",
       "      <th>aaron judge</th>\n",
       "      <th>592450</th>\n",
       "      <td>0.417219</td>\n",
       "      <td>1208</td>\n",
       "    </tr>\n",
       "    <tr>\n",
       "      <th>joey votto</th>\n",
       "      <th>458015</th>\n",
       "      <td>0.414840</td>\n",
       "      <td>2564</td>\n",
       "    </tr>\n",
       "    <tr>\n",
       "      <th>j. d. martinez</th>\n",
       "      <th>502110</th>\n",
       "      <td>0.413254</td>\n",
       "      <td>2154</td>\n",
       "    </tr>\n",
       "    <tr>\n",
       "      <th>paul goldschmidt</th>\n",
       "      <th>502671</th>\n",
       "      <td>0.402363</td>\n",
       "      <td>2581</td>\n",
       "    </tr>\n",
       "  </tbody>\n",
       "</table>\n",
       "</div>"
      ],
      "text/plain": [
       "                             mean  count\n",
       "batter_name      batter                 \n",
       "mike trout       545361  0.434081   2318\n",
       "aaron judge      592450  0.417219   1208\n",
       "joey votto       458015  0.414840   2564\n",
       "j. d. martinez   502110  0.413254   2154\n",
       "paul goldschmidt 502671  0.402363   2581"
      ]
     },
     "execution_count": 24,
     "metadata": {},
     "output_type": "execute_result"
    }
   ],
   "source": [
    "# I want to use woba as a feature in this model. let's make sure these values are close to reality\n",
    "# looks good https://baseballsavant.mlb.com/expected_statistics\n",
    "woba_leaderboard = df.groupby(['batter_name', 'batter'])['woba_value'].agg(['mean', 'count'])\n",
    "woba_leaderboard.loc[woba_leaderboard['count']>100,].sort_values('mean', ascending=False).head()"
   ]
  },
  {
   "cell_type": "markdown",
   "metadata": {},
   "source": [
    "Shift leaders: \n",
    "\n",
    "A lefty-heavy leaderboard. No righties in sight."
   ]
  },
  {
   "cell_type": "code",
   "execution_count": 25,
   "metadata": {
    "scrolled": true
   },
   "outputs": [
    {
     "data": {
      "text/html": [
       "<div>\n",
       "<style scoped>\n",
       "    .dataframe tbody tr th:only-of-type {\n",
       "        vertical-align: middle;\n",
       "    }\n",
       "\n",
       "    .dataframe tbody tr th {\n",
       "        vertical-align: top;\n",
       "    }\n",
       "\n",
       "    .dataframe thead th {\n",
       "        text-align: right;\n",
       "    }\n",
       "</style>\n",
       "<table border=\"1\" class=\"dataframe\">\n",
       "  <thead>\n",
       "    <tr style=\"text-align: right;\">\n",
       "      <th></th>\n",
       "      <th></th>\n",
       "      <th></th>\n",
       "      <th>mean</th>\n",
       "      <th>count</th>\n",
       "    </tr>\n",
       "    <tr>\n",
       "      <th>batter_name</th>\n",
       "      <th>batter</th>\n",
       "      <th>bats</th>\n",
       "      <th></th>\n",
       "      <th></th>\n",
       "    </tr>\n",
       "  </thead>\n",
       "  <tbody>\n",
       "    <tr>\n",
       "      <th>ryan howard</th>\n",
       "      <th>429667</th>\n",
       "      <th>L</th>\n",
       "      <td>0.900306</td>\n",
       "      <td>3270</td>\n",
       "    </tr>\n",
       "    <tr>\n",
       "      <th>chris davis</th>\n",
       "      <th>448801</th>\n",
       "      <th>L</th>\n",
       "      <td>0.897624</td>\n",
       "      <td>9387</td>\n",
       "    </tr>\n",
       "    <tr>\n",
       "      <th>david ortiz</th>\n",
       "      <th>120074</th>\n",
       "      <th>L</th>\n",
       "      <td>0.859473</td>\n",
       "      <td>4967</td>\n",
       "    </tr>\n",
       "    <tr>\n",
       "      <th>joey gallo</th>\n",
       "      <th>608336</th>\n",
       "      <th>L</th>\n",
       "      <td>0.806276</td>\n",
       "      <td>4780</td>\n",
       "    </tr>\n",
       "    <tr>\n",
       "      <th>lucas duda</th>\n",
       "      <th>446263</th>\n",
       "      <th>L</th>\n",
       "      <td>0.789313</td>\n",
       "      <td>6232</td>\n",
       "    </tr>\n",
       "    <tr>\n",
       "      <th>brandon moss</th>\n",
       "      <th>461235</th>\n",
       "      <th>L</th>\n",
       "      <td>0.760622</td>\n",
       "      <td>5531</td>\n",
       "    </tr>\n",
       "    <tr>\n",
       "      <th>brian mccann</th>\n",
       "      <th>435263</th>\n",
       "      <th>L</th>\n",
       "      <td>0.744450</td>\n",
       "      <td>6351</td>\n",
       "    </tr>\n",
       "    <tr>\n",
       "      <th>adam laroche</th>\n",
       "      <th>425560</th>\n",
       "      <th>L</th>\n",
       "      <td>0.731132</td>\n",
       "      <td>1908</td>\n",
       "    </tr>\n",
       "    <tr>\n",
       "      <th>colby rasmus</th>\n",
       "      <th>458675</th>\n",
       "      <th>L</th>\n",
       "      <td>0.722235</td>\n",
       "      <td>4367</td>\n",
       "    </tr>\n",
       "    <tr>\n",
       "      <th>mitch moreland</th>\n",
       "      <th>519048</th>\n",
       "      <th>L</th>\n",
       "      <td>0.699803</td>\n",
       "      <td>7625</td>\n",
       "    </tr>\n",
       "    <tr>\n",
       "      <th>seth smith</th>\n",
       "      <th>452234</th>\n",
       "      <th>L</th>\n",
       "      <td>0.667727</td>\n",
       "      <td>5342</td>\n",
       "    </tr>\n",
       "    <tr>\n",
       "      <th>justin smoak</th>\n",
       "      <th>475253</th>\n",
       "      <th>B</th>\n",
       "      <td>0.666064</td>\n",
       "      <td>7187</td>\n",
       "    </tr>\n",
       "    <tr>\n",
       "      <th>kyle schwarber</th>\n",
       "      <th>656941</th>\n",
       "      <th>L</th>\n",
       "      <td>0.652575</td>\n",
       "      <td>4991</td>\n",
       "    </tr>\n",
       "    <tr>\n",
       "      <th>mark teixeira</th>\n",
       "      <th>407893</th>\n",
       "      <th>B</th>\n",
       "      <td>0.647010</td>\n",
       "      <td>3595</td>\n",
       "    </tr>\n",
       "    <tr>\n",
       "      <th>alex avila</th>\n",
       "      <th>488671</th>\n",
       "      <th>L</th>\n",
       "      <td>0.643104</td>\n",
       "      <td>4343</td>\n",
       "    </tr>\n",
       "  </tbody>\n",
       "</table>\n",
       "</div>"
      ],
      "text/plain": [
       "                                mean  count\n",
       "batter_name    batter bats                 \n",
       "ryan howard    429667 L     0.900306   3270\n",
       "chris davis    448801 L     0.897624   9387\n",
       "david ortiz    120074 L     0.859473   4967\n",
       "joey gallo     608336 L     0.806276   4780\n",
       "lucas duda     446263 L     0.789313   6232\n",
       "brandon moss   461235 L     0.760622   5531\n",
       "brian mccann   435263 L     0.744450   6351\n",
       "adam laroche   425560 L     0.731132   1908\n",
       "colby rasmus   458675 L     0.722235   4367\n",
       "mitch moreland 519048 L     0.699803   7625\n",
       "seth smith     452234 L     0.667727   5342\n",
       "justin smoak   475253 B     0.666064   7187\n",
       "kyle schwarber 656941 L     0.652575   4991\n",
       "mark teixeira  407893 B     0.647010   3595\n",
       "alex avila     488671 L     0.643104   4343"
      ]
     },
     "execution_count": 25,
     "metadata": {},
     "output_type": "execute_result"
    }
   ],
   "source": [
    "shifted_leaderboard = df.groupby(['batter_name', 'batter', 'bats'])['is_shift'].agg(['mean', 'count'])\n",
    "shifted_leaderboard.loc[shifted_leaderboard['count']>1500,].sort_values('mean', ascending=False).head(15)"
   ]
  },
  {
   "cell_type": "markdown",
   "metadata": {},
   "source": [
    "### Next: get this data to plate appearance level rather than pitch level"
   ]
  },
  {
   "cell_type": "code",
   "execution_count": 26,
   "metadata": {
    "collapsed": true
   },
   "outputs": [],
   "source": [
    "# for game-state variables we care about the beginning of the PA, since that mostly determines strategy\n",
    "plate_appearances = df.sort_values(['game_date', 'at_bat_number'], ascending=True).groupby(['atbat_pk']).first().reset_index()"
   ]
  },
  {
   "cell_type": "code",
   "execution_count": 27,
   "metadata": {
    "collapsed": true
   },
   "outputs": [],
   "source": [
    "# get final event of the PA, as this will say single/hr/k/walk/etc\n",
    "events = df.sort_values(['game_date', 'at_bat_number'], ascending=True).groupby(['atbat_pk']).last().reset_index()\n",
    "events = events[['atbat_pk', 'events', 'woba_value']]"
   ]
  },
  {
   "cell_type": "code",
   "execution_count": 28,
   "metadata": {
    "collapsed": true
   },
   "outputs": [],
   "source": [
    "plate_appearances = plate_appearances.merge(events, on='atbat_pk', suffixes=['_ignore', ''])"
   ]
  },
  {
   "cell_type": "code",
   "execution_count": 29,
   "metadata": {
    "collapsed": true
   },
   "outputs": [],
   "source": [
    "# remove PAs with no event. these are probably PAs with pinch hitters.  (< 1% of observations)\n",
    "plate_appearances = plate_appearances.loc[plate_appearances.events.isnull()==False,]"
   ]
  },
  {
   "cell_type": "code",
   "execution_count": 30,
   "metadata": {
    "scrolled": true
   },
   "outputs": [
    {
     "data": {
      "text/html": [
       "<div>\n",
       "<style scoped>\n",
       "    .dataframe tbody tr th:only-of-type {\n",
       "        vertical-align: middle;\n",
       "    }\n",
       "\n",
       "    .dataframe tbody tr th {\n",
       "        vertical-align: top;\n",
       "    }\n",
       "\n",
       "    .dataframe thead th {\n",
       "        text-align: right;\n",
       "    }\n",
       "</style>\n",
       "<table border=\"1\" class=\"dataframe\">\n",
       "  <thead>\n",
       "    <tr style=\"text-align: right;\">\n",
       "      <th></th>\n",
       "      <th>atbat_pk</th>\n",
       "      <th>Unnamed: 0</th>\n",
       "      <th>index</th>\n",
       "      <th>pitch_type</th>\n",
       "      <th>game_date</th>\n",
       "      <th>release_speed</th>\n",
       "      <th>release_pos_x</th>\n",
       "      <th>release_pos_z</th>\n",
       "      <th>player_name</th>\n",
       "      <th>batter</th>\n",
       "      <th>...</th>\n",
       "      <th>bats</th>\n",
       "      <th>is_shift_old</th>\n",
       "      <th>is_shift</th>\n",
       "      <th>man_on_first</th>\n",
       "      <th>man_on_second</th>\n",
       "      <th>man_on_third</th>\n",
       "      <th>men_on_base</th>\n",
       "      <th>score_differential</th>\n",
       "      <th>events</th>\n",
       "      <th>woba_value</th>\n",
       "    </tr>\n",
       "  </thead>\n",
       "  <tbody>\n",
       "    <tr>\n",
       "      <th>660160</th>\n",
       "      <td>531202.09.0</td>\n",
       "      <td>9663</td>\n",
       "      <td>11001</td>\n",
       "      <td>FT</td>\n",
       "      <td>2018-08-14</td>\n",
       "      <td>91.4</td>\n",
       "      <td>-1.5425</td>\n",
       "      <td>6.0545</td>\n",
       "      <td>Jhoulys Chacin</td>\n",
       "      <td>595879</td>\n",
       "      <td>...</td>\n",
       "      <td>R</td>\n",
       "      <td>1</td>\n",
       "      <td>1</td>\n",
       "      <td>0</td>\n",
       "      <td>0</td>\n",
       "      <td>0</td>\n",
       "      <td>0</td>\n",
       "      <td>3.0</td>\n",
       "      <td>field_out</td>\n",
       "      <td>0.0</td>\n",
       "    </tr>\n",
       "    <tr>\n",
       "      <th>661003</th>\n",
       "      <td>531217.021.0</td>\n",
       "      <td>5384</td>\n",
       "      <td>6181</td>\n",
       "      <td>SL</td>\n",
       "      <td>2018-08-15</td>\n",
       "      <td>83.6</td>\n",
       "      <td>-1.8308</td>\n",
       "      <td>5.8718</td>\n",
       "      <td>Junior Guerra</td>\n",
       "      <td>595879</td>\n",
       "      <td>...</td>\n",
       "      <td>R</td>\n",
       "      <td>1</td>\n",
       "      <td>1</td>\n",
       "      <td>0</td>\n",
       "      <td>0</td>\n",
       "      <td>0</td>\n",
       "      <td>0</td>\n",
       "      <td>-2.0</td>\n",
       "      <td>triple</td>\n",
       "      <td>1.6</td>\n",
       "    </tr>\n",
       "    <tr>\n",
       "      <th>661019</th>\n",
       "      <td>531217.037.0</td>\n",
       "      <td>5341</td>\n",
       "      <td>5579</td>\n",
       "      <td>FS</td>\n",
       "      <td>2018-08-15</td>\n",
       "      <td>87.8</td>\n",
       "      <td>-2.0453</td>\n",
       "      <td>5.6206</td>\n",
       "      <td>Junior Guerra</td>\n",
       "      <td>595879</td>\n",
       "      <td>...</td>\n",
       "      <td>R</td>\n",
       "      <td>0</td>\n",
       "      <td>0</td>\n",
       "      <td>0</td>\n",
       "      <td>1</td>\n",
       "      <td>0</td>\n",
       "      <td>1</td>\n",
       "      <td>-3.0</td>\n",
       "      <td>strikeout</td>\n",
       "      <td>0.0</td>\n",
       "    </tr>\n",
       "    <tr>\n",
       "      <th>661032</th>\n",
       "      <td>531217.05.0</td>\n",
       "      <td>5432</td>\n",
       "      <td>6849</td>\n",
       "      <td>FF</td>\n",
       "      <td>2018-08-15</td>\n",
       "      <td>92.5</td>\n",
       "      <td>-1.6222</td>\n",
       "      <td>5.8884</td>\n",
       "      <td>Junior Guerra</td>\n",
       "      <td>595879</td>\n",
       "      <td>...</td>\n",
       "      <td>R</td>\n",
       "      <td>1</td>\n",
       "      <td>1</td>\n",
       "      <td>0</td>\n",
       "      <td>0</td>\n",
       "      <td>0</td>\n",
       "      <td>0</td>\n",
       "      <td>0.0</td>\n",
       "      <td>field_out</td>\n",
       "      <td>0.0</td>\n",
       "    </tr>\n",
       "    <tr>\n",
       "      <th>661036</th>\n",
       "      <td>531217.053.0</td>\n",
       "      <td>5277</td>\n",
       "      <td>4683</td>\n",
       "      <td>FF</td>\n",
       "      <td>2018-08-15</td>\n",
       "      <td>96.1</td>\n",
       "      <td>-1.9602</td>\n",
       "      <td>5.1335</td>\n",
       "      <td>Taylor Williams</td>\n",
       "      <td>595879</td>\n",
       "      <td>...</td>\n",
       "      <td>R</td>\n",
       "      <td>1</td>\n",
       "      <td>1</td>\n",
       "      <td>0</td>\n",
       "      <td>0</td>\n",
       "      <td>0</td>\n",
       "      <td>0</td>\n",
       "      <td>-5.0</td>\n",
       "      <td>field_out</td>\n",
       "      <td>0.0</td>\n",
       "    </tr>\n",
       "    <tr>\n",
       "      <th>661056</th>\n",
       "      <td>531217.073.0</td>\n",
       "      <td>5200</td>\n",
       "      <td>3627</td>\n",
       "      <td>KC</td>\n",
       "      <td>2018-08-15</td>\n",
       "      <td>82.3</td>\n",
       "      <td>-0.9190</td>\n",
       "      <td>5.8976</td>\n",
       "      <td>Jeremy Jeffress</td>\n",
       "      <td>595879</td>\n",
       "      <td>...</td>\n",
       "      <td>R</td>\n",
       "      <td>1</td>\n",
       "      <td>1</td>\n",
       "      <td>0</td>\n",
       "      <td>0</td>\n",
       "      <td>0</td>\n",
       "      <td>0</td>\n",
       "      <td>-4.0</td>\n",
       "      <td>single</td>\n",
       "      <td>0.9</td>\n",
       "    </tr>\n",
       "    <tr>\n",
       "      <th>661629</th>\n",
       "      <td>531226.01.0</td>\n",
       "      <td>2361</td>\n",
       "      <td>2945</td>\n",
       "      <td>CU</td>\n",
       "      <td>2018-08-16</td>\n",
       "      <td>80.6</td>\n",
       "      <td>-2.5701</td>\n",
       "      <td>6.1254</td>\n",
       "      <td>Ivan Nova</td>\n",
       "      <td>595879</td>\n",
       "      <td>...</td>\n",
       "      <td>R</td>\n",
       "      <td>0</td>\n",
       "      <td>0</td>\n",
       "      <td>0</td>\n",
       "      <td>0</td>\n",
       "      <td>0</td>\n",
       "      <td>0</td>\n",
       "      <td>0.0</td>\n",
       "      <td>strikeout</td>\n",
       "      <td>0.0</td>\n",
       "    </tr>\n",
       "    <tr>\n",
       "      <th>661636</th>\n",
       "      <td>531226.016.0</td>\n",
       "      <td>2305</td>\n",
       "      <td>2383</td>\n",
       "      <td>FT</td>\n",
       "      <td>2018-08-16</td>\n",
       "      <td>91.8</td>\n",
       "      <td>-2.5782</td>\n",
       "      <td>6.1773</td>\n",
       "      <td>Ivan Nova</td>\n",
       "      <td>595879</td>\n",
       "      <td>...</td>\n",
       "      <td>R</td>\n",
       "      <td>0</td>\n",
       "      <td>0</td>\n",
       "      <td>0</td>\n",
       "      <td>0</td>\n",
       "      <td>0</td>\n",
       "      <td>0</td>\n",
       "      <td>0.0</td>\n",
       "      <td>single</td>\n",
       "      <td>0.9</td>\n",
       "    </tr>\n",
       "    <tr>\n",
       "      <th>661651</th>\n",
       "      <td>531226.032.0</td>\n",
       "      <td>2242</td>\n",
       "      <td>1750</td>\n",
       "      <td>FT</td>\n",
       "      <td>2018-08-16</td>\n",
       "      <td>92.6</td>\n",
       "      <td>-2.7376</td>\n",
       "      <td>6.0963</td>\n",
       "      <td>Ivan Nova</td>\n",
       "      <td>595879</td>\n",
       "      <td>...</td>\n",
       "      <td>R</td>\n",
       "      <td>0</td>\n",
       "      <td>0</td>\n",
       "      <td>0</td>\n",
       "      <td>0</td>\n",
       "      <td>0</td>\n",
       "      <td>0</td>\n",
       "      <td>-1.0</td>\n",
       "      <td>field_out</td>\n",
       "      <td>0.0</td>\n",
       "    </tr>\n",
       "    <tr>\n",
       "      <th>661669</th>\n",
       "      <td>531226.050.0</td>\n",
       "      <td>2170</td>\n",
       "      <td>1035</td>\n",
       "      <td>FF</td>\n",
       "      <td>2018-08-16</td>\n",
       "      <td>93.0</td>\n",
       "      <td>-2.9964</td>\n",
       "      <td>5.9277</td>\n",
       "      <td>Richard Rodriguez</td>\n",
       "      <td>595879</td>\n",
       "      <td>...</td>\n",
       "      <td>R</td>\n",
       "      <td>0</td>\n",
       "      <td>0</td>\n",
       "      <td>0</td>\n",
       "      <td>1</td>\n",
       "      <td>0</td>\n",
       "      <td>1</td>\n",
       "      <td>-1.0</td>\n",
       "      <td>strikeout</td>\n",
       "      <td>0.0</td>\n",
       "    </tr>\n",
       "  </tbody>\n",
       "</table>\n",
       "<p>10 rows × 104 columns</p>\n",
       "</div>"
      ],
      "text/plain": [
       "            atbat_pk  Unnamed: 0  index pitch_type  game_date  release_speed  \\\n",
       "660160   531202.09.0        9663  11001         FT 2018-08-14           91.4   \n",
       "661003  531217.021.0        5384   6181         SL 2018-08-15           83.6   \n",
       "661019  531217.037.0        5341   5579         FS 2018-08-15           87.8   \n",
       "661032   531217.05.0        5432   6849         FF 2018-08-15           92.5   \n",
       "661036  531217.053.0        5277   4683         FF 2018-08-15           96.1   \n",
       "661056  531217.073.0        5200   3627         KC 2018-08-15           82.3   \n",
       "661629   531226.01.0        2361   2945         CU 2018-08-16           80.6   \n",
       "661636  531226.016.0        2305   2383         FT 2018-08-16           91.8   \n",
       "661651  531226.032.0        2242   1750         FT 2018-08-16           92.6   \n",
       "661669  531226.050.0        2170   1035         FF 2018-08-16           93.0   \n",
       "\n",
       "        release_pos_x  release_pos_z        player_name  batter    ...      \\\n",
       "660160        -1.5425         6.0545     Jhoulys Chacin  595879    ...       \n",
       "661003        -1.8308         5.8718      Junior Guerra  595879    ...       \n",
       "661019        -2.0453         5.6206      Junior Guerra  595879    ...       \n",
       "661032        -1.6222         5.8884      Junior Guerra  595879    ...       \n",
       "661036        -1.9602         5.1335    Taylor Williams  595879    ...       \n",
       "661056        -0.9190         5.8976    Jeremy Jeffress  595879    ...       \n",
       "661629        -2.5701         6.1254          Ivan Nova  595879    ...       \n",
       "661636        -2.5782         6.1773          Ivan Nova  595879    ...       \n",
       "661651        -2.7376         6.0963          Ivan Nova  595879    ...       \n",
       "661669        -2.9964         5.9277  Richard Rodriguez  595879    ...       \n",
       "\n",
       "        bats is_shift_old is_shift  man_on_first  man_on_second  man_on_third  \\\n",
       "660160     R            1        1             0              0             0   \n",
       "661003     R            1        1             0              0             0   \n",
       "661019     R            0        0             0              1             0   \n",
       "661032     R            1        1             0              0             0   \n",
       "661036     R            1        1             0              0             0   \n",
       "661056     R            1        1             0              0             0   \n",
       "661629     R            0        0             0              0             0   \n",
       "661636     R            0        0             0              0             0   \n",
       "661651     R            0        0             0              0             0   \n",
       "661669     R            0        0             0              1             0   \n",
       "\n",
       "        men_on_base  score_differential     events woba_value  \n",
       "660160            0                 3.0  field_out        0.0  \n",
       "661003            0                -2.0     triple        1.6  \n",
       "661019            1                -3.0  strikeout        0.0  \n",
       "661032            0                 0.0  field_out        0.0  \n",
       "661036            0                -5.0  field_out        0.0  \n",
       "661056            0                -4.0     single        0.9  \n",
       "661629            0                 0.0  strikeout        0.0  \n",
       "661636            0                 0.0     single        0.9  \n",
       "661651            0                -1.0  field_out        0.0  \n",
       "661669            1                -1.0  strikeout        0.0  \n",
       "\n",
       "[10 rows x 104 columns]"
      ]
     },
     "execution_count": 30,
     "metadata": {},
     "output_type": "execute_result"
    }
   ],
   "source": [
    "plate_appearances.loc[plate_appearances.batter_name=='javier baez',].tail(10)"
   ]
  },
  {
   "cell_type": "markdown",
   "metadata": {},
   "source": [
    "Shift Leaderboard (count = PAs, sum = number of shifts against, mean = % of PAs shifted against)"
   ]
  },
  {
   "cell_type": "code",
   "execution_count": 31,
   "metadata": {},
   "outputs": [
    {
     "data": {
      "text/html": [
       "<div>\n",
       "<style scoped>\n",
       "    .dataframe tbody tr th:only-of-type {\n",
       "        vertical-align: middle;\n",
       "    }\n",
       "\n",
       "    .dataframe tbody tr th {\n",
       "        vertical-align: top;\n",
       "    }\n",
       "\n",
       "    .dataframe thead th {\n",
       "        text-align: right;\n",
       "    }\n",
       "</style>\n",
       "<table border=\"1\" class=\"dataframe\">\n",
       "  <thead>\n",
       "    <tr style=\"text-align: right;\">\n",
       "      <th></th>\n",
       "      <th></th>\n",
       "      <th></th>\n",
       "      <th></th>\n",
       "      <th>mean</th>\n",
       "      <th>count</th>\n",
       "      <th>sum</th>\n",
       "    </tr>\n",
       "    <tr>\n",
       "      <th>game_year</th>\n",
       "      <th>batter_name</th>\n",
       "      <th>batter</th>\n",
       "      <th>bats</th>\n",
       "      <th></th>\n",
       "      <th></th>\n",
       "      <th></th>\n",
       "    </tr>\n",
       "  </thead>\n",
       "  <tbody>\n",
       "    <tr>\n",
       "      <th>2016.0</th>\n",
       "      <th>ryan howard</th>\n",
       "      <th>429667</th>\n",
       "      <th>L</th>\n",
       "      <td>0.944904</td>\n",
       "      <td>363</td>\n",
       "      <td>343</td>\n",
       "    </tr>\n",
       "    <tr>\n",
       "      <th>2017.0</th>\n",
       "      <th>chris davis</th>\n",
       "      <th>448801</th>\n",
       "      <th>L</th>\n",
       "      <td>0.940385</td>\n",
       "      <td>520</td>\n",
       "      <td>489</td>\n",
       "    </tr>\n",
       "    <tr>\n",
       "      <th>2018.0</th>\n",
       "      <th>chris davis</th>\n",
       "      <th>448801</th>\n",
       "      <th>L</th>\n",
       "      <td>0.921951</td>\n",
       "      <td>410</td>\n",
       "      <td>378</td>\n",
       "    </tr>\n",
       "    <tr>\n",
       "      <th>2016.0</th>\n",
       "      <th>chris davis</th>\n",
       "      <th>448801</th>\n",
       "      <th>L</th>\n",
       "      <td>0.916418</td>\n",
       "      <td>670</td>\n",
       "      <td>614</td>\n",
       "    </tr>\n",
       "    <tr>\n",
       "      <th rowspan=\"2\" valign=\"top\">2018.0</th>\n",
       "      <th>joey gallo</th>\n",
       "      <th>608336</th>\n",
       "      <th>L</th>\n",
       "      <td>0.891304</td>\n",
       "      <td>460</td>\n",
       "      <td>410</td>\n",
       "    </tr>\n",
       "    <tr>\n",
       "      <th>curtis granderson</th>\n",
       "      <th>434158</th>\n",
       "      <th>L</th>\n",
       "      <td>0.863222</td>\n",
       "      <td>329</td>\n",
       "      <td>284</td>\n",
       "    </tr>\n",
       "    <tr>\n",
       "      <th>2016.0</th>\n",
       "      <th>david ortiz</th>\n",
       "      <th>120074</th>\n",
       "      <th>L</th>\n",
       "      <td>0.862839</td>\n",
       "      <td>627</td>\n",
       "      <td>541</td>\n",
       "    </tr>\n",
       "    <tr>\n",
       "      <th>2017.0</th>\n",
       "      <th>lucas duda</th>\n",
       "      <th>446263</th>\n",
       "      <th>L</th>\n",
       "      <td>0.853608</td>\n",
       "      <td>485</td>\n",
       "      <td>414</td>\n",
       "    </tr>\n",
       "    <tr>\n",
       "      <th>2015.0</th>\n",
       "      <th>ryan howard</th>\n",
       "      <th>429667</th>\n",
       "      <th>L</th>\n",
       "      <td>0.833992</td>\n",
       "      <td>506</td>\n",
       "      <td>422</td>\n",
       "    </tr>\n",
       "    <tr>\n",
       "      <th>2017.0</th>\n",
       "      <th>joey gallo</th>\n",
       "      <th>608336</th>\n",
       "      <th>L</th>\n",
       "      <td>0.832707</td>\n",
       "      <td>532</td>\n",
       "      <td>443</td>\n",
       "    </tr>\n",
       "    <tr>\n",
       "      <th>2018.0</th>\n",
       "      <th>matt carpenter</th>\n",
       "      <th>572761</th>\n",
       "      <th>L</th>\n",
       "      <td>0.831663</td>\n",
       "      <td>499</td>\n",
       "      <td>415</td>\n",
       "    </tr>\n",
       "    <tr>\n",
       "      <th>2016.0</th>\n",
       "      <th>lucas duda</th>\n",
       "      <th>446263</th>\n",
       "      <th>L</th>\n",
       "      <td>0.831395</td>\n",
       "      <td>172</td>\n",
       "      <td>143</td>\n",
       "    </tr>\n",
       "    <tr>\n",
       "      <th>2018.0</th>\n",
       "      <th>lucas duda</th>\n",
       "      <th>446263</th>\n",
       "      <th>L</th>\n",
       "      <td>0.826230</td>\n",
       "      <td>305</td>\n",
       "      <td>252</td>\n",
       "    </tr>\n",
       "    <tr>\n",
       "      <th rowspan=\"2\" valign=\"top\">2015.0</th>\n",
       "      <th>david ortiz</th>\n",
       "      <th>120074</th>\n",
       "      <th>L</th>\n",
       "      <td>0.815961</td>\n",
       "      <td>614</td>\n",
       "      <td>501</td>\n",
       "    </tr>\n",
       "    <tr>\n",
       "      <th>chris davis</th>\n",
       "      <th>448801</th>\n",
       "      <th>L</th>\n",
       "      <td>0.802083</td>\n",
       "      <td>672</td>\n",
       "      <td>539</td>\n",
       "    </tr>\n",
       "  </tbody>\n",
       "</table>\n",
       "</div>"
      ],
      "text/plain": [
       "                                             mean  count  sum\n",
       "game_year batter_name       batter bats                      \n",
       "2016.0    ryan howard       429667 L     0.944904    363  343\n",
       "2017.0    chris davis       448801 L     0.940385    520  489\n",
       "2018.0    chris davis       448801 L     0.921951    410  378\n",
       "2016.0    chris davis       448801 L     0.916418    670  614\n",
       "2018.0    joey gallo        608336 L     0.891304    460  410\n",
       "          curtis granderson 434158 L     0.863222    329  284\n",
       "2016.0    david ortiz       120074 L     0.862839    627  541\n",
       "2017.0    lucas duda        446263 L     0.853608    485  414\n",
       "2015.0    ryan howard       429667 L     0.833992    506  422\n",
       "2017.0    joey gallo        608336 L     0.832707    532  443\n",
       "2018.0    matt carpenter    572761 L     0.831663    499  415\n",
       "2016.0    lucas duda        446263 L     0.831395    172  143\n",
       "2018.0    lucas duda        446263 L     0.826230    305  252\n",
       "2015.0    david ortiz       120074 L     0.815961    614  501\n",
       "          chris davis       448801 L     0.802083    672  539"
      ]
     },
     "execution_count": 31,
     "metadata": {},
     "output_type": "execute_result"
    }
   ],
   "source": [
    "shifted_leaderboard = plate_appearances.groupby(['game_year','batter_name', 'batter', 'bats'])['is_shift'].agg(['mean', 'count', 'sum'])\n",
    "shifted_leaderboard.loc[shifted_leaderboard['count']>150,].sort_values('mean', ascending=False).head(15)"
   ]
  },
  {
   "cell_type": "code",
   "execution_count": null,
   "metadata": {
    "collapsed": true
   },
   "outputs": [],
   "source": []
  },
  {
   "cell_type": "markdown",
   "metadata": {},
   "source": [
    "### Make features numeric / model-ready\n",
    "* drop unwanted columns\n",
    "* create dummies of categoricals / text columns\n",
    "* create averages from ones that make more sense as season-to-date (eg woba). Can I do moving averages to have this accurate at all points in time w/ no date leakage?"
   ]
  },
  {
   "cell_type": "code",
   "execution_count": 32,
   "metadata": {
    "collapsed": true
   },
   "outputs": [],
   "source": [
    "drops = ['Unnamed: 0', 'index', 'pitch_type', 'release_pos_x', 'release_pos_z', 'player_name',\n",
    "        'spin_dir', 'spin_rate_deprecated', 'break_angle_deprecated', 'break_length_deprecated', 'zone',\n",
    "        'des', 'type', 'pfx_x', 'pfx_z', 'plate_x', 'plate_z', 'on_3b', 'on_2b', 'on_1b', 'hc_x', 'hc_y',\n",
    "        'tfs_deprecated', 'tfs_zulu_deprecated', 'pos2_person_id', 'sv_id', 'vx0', 'vy0', 'vz0', 'ax', 'ay', 'az',\n",
    "        'sz_top', 'sz_bot', 'release_spin_rate', 'release_extension', 'pos1_person_id', 'pos2_person_id.1',\n",
    "        'pos3_person_id', 'pos4_person_id', 'pos5_person_id', 'pos6_person_id', 'pos7_person_id', 'pos8_person_id',\n",
    "        'pos9_person_id', 'release_pos_y', 'home_score', 'away_score', 'post_away_score',\n",
    "        'post_home_score', 'post_bat_score', 'post_fld_score', 'if_fielding_alignment', 'of_fielding_alignment',\n",
    "        'release_speed', 'events_ignore','description', 'estimated_ba_using_speedangle', 'woba_value_ignore',\n",
    "        'fld_score', 'is_shift_old', 'game_type', 'bats', 'balls', 'strikes', 'umpire']\n",
    "plate_appearances = plate_appearances.drop(drops, 1)"
   ]
  },
  {
   "cell_type": "code",
   "execution_count": 33,
   "metadata": {
    "scrolled": true
   },
   "outputs": [
    {
     "data": {
      "text/plain": [
       "Index(['atbat_pk', 'game_date', 'batter', 'pitcher', 'stand', 'p_throws',\n",
       "       'home_team', 'away_team', 'hit_location', 'bb_type', 'game_year',\n",
       "       'outs_when_up', 'inning', 'inning_topbot', 'hit_distance_sc',\n",
       "       'launch_speed', 'launch_angle', 'effective_speed', 'game_pk',\n",
       "       'estimated_woba_using_speedangle', 'woba_denom', 'babip_value',\n",
       "       'iso_value', 'launch_speed_angle', 'at_bat_number', 'pitch_number',\n",
       "       'pitch_name', 'bat_score', 'key_mlbam', 'batter_name', 'is_shift',\n",
       "       'man_on_first', 'man_on_second', 'man_on_third', 'men_on_base',\n",
       "       'score_differential', 'events', 'woba_value'],\n",
       "      dtype='object')"
      ]
     },
     "execution_count": 33,
     "metadata": {},
     "output_type": "execute_result"
    }
   ],
   "source": [
    "plate_appearances.columns"
   ]
  },
  {
   "cell_type": "code",
   "execution_count": 34,
   "metadata": {
    "collapsed": true
   },
   "outputs": [],
   "source": [
    "# create lagged features to represent a player's past n PAs"
   ]
  },
  {
   "cell_type": "markdown",
   "metadata": {},
   "source": [
    "### get average-to-date for each PA / player to avoid info leakage\n",
    "\n",
    "The grouped features will share an index with the original dataframe, so reset the index and join on this + batter id\n",
    "Do for:\n",
    "* woba (expanding mean)\n",
    "* babip\n",
    "* plate appearances (rolling sum)\n",
    "* launch angle (expanding mean)\n",
    "* exit velo (expanding mean)\n",
    "* hit_distance_sc (expanding mean)\n",
    "\n",
    "Small sample properties mean these expanding means will behave erratically at first. For this reason I may end up ignoring observations with rolling average PA < N (n = 100 maybe). \n"
   ]
  },
  {
   "cell_type": "code",
   "execution_count": 35,
   "metadata": {
    "collapsed": true
   },
   "outputs": [],
   "source": [
    "#get average-to-date for each PA / player to avoid info leakage\n",
    "woba_to_date = plate_appearances.sort_values(['batter','game_date','at_bat_number'], ascending=True).groupby('batter')['woba_value'].expanding(min_periods=1).mean()"
   ]
  },
  {
   "cell_type": "code",
   "execution_count": 36,
   "metadata": {},
   "outputs": [
    {
     "data": {
      "text/plain": [
       "(661744, 1)"
      ]
     },
     "execution_count": 36,
     "metadata": {},
     "output_type": "execute_result"
    }
   ],
   "source": [
    "pd.DataFrame(pd.DataFrame(woba_to_date).sort_index()).shape"
   ]
  },
  {
   "cell_type": "code",
   "execution_count": 37,
   "metadata": {},
   "outputs": [
    {
     "data": {
      "text/plain": [
       "(661744, 38)"
      ]
     },
     "execution_count": 37,
     "metadata": {},
     "output_type": "execute_result"
    }
   ],
   "source": [
    "plate_appearances.shape"
   ]
  },
  {
   "cell_type": "code",
   "execution_count": 38,
   "metadata": {
    "collapsed": true
   },
   "outputs": [],
   "source": [
    "plate_appearances = plate_appearances.sort_values(['batter', 'game_date', 'at_bat_number'], ascending=True)\n",
    "woba_to_date = pd.DataFrame(woba_to_date).reset_index()\n",
    "woba_to_date.columns = ['batter', 'index', 'woba']\n",
    "plate_appearances = plate_appearances.reset_index()\n",
    "plate_appearances = pd.merge(left=plate_appearances, right=woba_to_date, left_on=['batter','index'],\n",
    "                             right_on=['batter', 'index'], suffixes=['old',''])"
   ]
  },
  {
   "cell_type": "code",
   "execution_count": 39,
   "metadata": {
    "collapsed": true
   },
   "outputs": [],
   "source": [
    "backup = plate_appearances"
   ]
  },
  {
   "cell_type": "code",
   "execution_count": 40,
   "metadata": {
    "collapsed": true
   },
   "outputs": [],
   "source": [
    "plate_appearances = backup"
   ]
  },
  {
   "cell_type": "code",
   "execution_count": 41,
   "metadata": {
    "collapsed": true
   },
   "outputs": [],
   "source": [
    "# for babip:\n",
    "# note: this is just averaging the babip_value. It's much lower than actual babip bc doesn't throw out PAs not included in babip.\n",
    "plate_appearances = plate_appearances.sort_values(['batter', 'game_date', 'at_bat_number'], ascending=True)\n",
    "babip_to_date = plate_appearances.sort_values(['batter','game_date','at_bat_number'], ascending=True).groupby('batter')['babip_value'].expanding(min_periods=1).mean()\n",
    "babip_to_date = pd.DataFrame(babip_to_date).reset_index()\n",
    "babip_to_date.columns = ['batter', 'index', 'babip']\n",
    "plate_appearances = plate_appearances.drop('index',1)\n",
    "plate_appearances = plate_appearances.reset_index()\n",
    "plate_appearances = pd.merge(left=plate_appearances, right=babip_to_date, left_on=['batter','index'],\n",
    "                             right_on=['batter', 'index'], suffixes=['old',''])\n",
    "\n",
    "# for launch angle\n",
    "plate_appearances = plate_appearances.sort_values(['batter', 'game_date', 'at_bat_number'], ascending=True)\n",
    "launch_angle_to_date = plate_appearances.sort_values(['batter','game_date','at_bat_number'], ascending=True).groupby('batter')['launch_angle'].expanding(min_periods=1).mean()\n",
    "launch_angle_to_date = pd.DataFrame(launch_angle_to_date).reset_index()\n",
    "launch_angle_to_date.columns = ['batter', 'index', 'launch_angle']\n",
    "plate_appearances = plate_appearances.drop('index',1)\n",
    "plate_appearances = plate_appearances.reset_index()\n",
    "plate_appearances = pd.merge(left=plate_appearances, right=launch_angle_to_date, left_on=['batter','index'],\n",
    "                             right_on=['batter', 'index'], suffixes=['old',''])\n",
    "\n",
    "# for exit velo: \n",
    "plate_appearances = plate_appearances.sort_values(['batter', 'game_date', 'at_bat_number'], ascending=True)\n",
    "launch_speed_to_date = plate_appearances.sort_values(['batter','game_date','at_bat_number'], ascending=True).groupby('batter')['launch_speed'].expanding(min_periods=1).mean()\n",
    "launch_speed_to_date = pd.DataFrame(launch_speed_to_date).reset_index()\n",
    "launch_speed_to_date.columns = ['batter', 'index', 'launch_speed']\n",
    "plate_appearances = plate_appearances.drop('index',1)\n",
    "plate_appearances = plate_appearances.reset_index()\n",
    "plate_appearances = pd.merge(left=plate_appearances, right=launch_speed_to_date, left_on=['batter','index'],\n",
    "                             right_on=['batter', 'index'], suffixes=['old',''])\n",
    "\n",
    "# for hit distance\n",
    "plate_appearances = plate_appearances.sort_values(['batter', 'game_date', 'at_bat_number'], ascending=True)\n",
    "hit_distance_sc = plate_appearances.sort_values(['batter','game_date','at_bat_number'], ascending=True).groupby('batter')['hit_distance_sc'].expanding(min_periods=1).mean()\n",
    "hit_distance_sc = pd.DataFrame(hit_distance_sc).reset_index()\n",
    "hit_distance_sc.columns = ['batter', 'index', 'hit_distance_sc']\n",
    "plate_appearances = plate_appearances.drop('index',1)\n",
    "plate_appearances = plate_appearances.reset_index()\n",
    "plate_appearances = pd.merge(left=plate_appearances, right=hit_distance_sc, left_on=['batter','index'],\n",
    "                             right_on=['batter', 'index'], suffixes=['old',''])\n",
    "\n"
   ]
  },
  {
   "cell_type": "code",
   "execution_count": 42,
   "metadata": {
    "collapsed": true
   },
   "outputs": [],
   "source": [
    "# for is_shift (shift percentage to date on all dates)\n",
    "plate_appearances = plate_appearances.sort_values(['batter', 'game_date', 'at_bat_number'], ascending=True)\n",
    "shifts_to_date = plate_appearances.sort_values(['batter','game_date','at_bat_number'], ascending=True).groupby('batter')['is_shift'].expanding(min_periods=1).mean()\n",
    "shifts_to_date = pd.DataFrame(shifts_to_date).reset_index()\n",
    "shifts_to_date.columns = ['batter', 'index', 'avg_shifted_against']\n",
    "plate_appearances = plate_appearances.drop('index',1)\n",
    "plate_appearances = plate_appearances.reset_index()\n",
    "plate_appearances = pd.merge(left=plate_appearances, right=shifts_to_date, left_on=['batter','index'],\n",
    "                             right_on=['batter', 'index'], suffixes=['old',''])"
   ]
  },
  {
   "cell_type": "code",
   "execution_count": 43,
   "metadata": {
    "scrolled": true
   },
   "outputs": [
    {
     "data": {
      "text/html": [
       "<div>\n",
       "<style scoped>\n",
       "    .dataframe tbody tr th:only-of-type {\n",
       "        vertical-align: middle;\n",
       "    }\n",
       "\n",
       "    .dataframe tbody tr th {\n",
       "        vertical-align: top;\n",
       "    }\n",
       "\n",
       "    .dataframe thead th {\n",
       "        text-align: right;\n",
       "    }\n",
       "</style>\n",
       "<table border=\"1\" class=\"dataframe\">\n",
       "  <thead>\n",
       "    <tr style=\"text-align: right;\">\n",
       "      <th></th>\n",
       "      <th>batter</th>\n",
       "      <th>atbat_pk</th>\n",
       "      <th>is_shift</th>\n",
       "      <th>avg_shifted_against</th>\n",
       "    </tr>\n",
       "  </thead>\n",
       "  <tbody>\n",
       "    <tr>\n",
       "      <th>661739</th>\n",
       "      <td>666560</td>\n",
       "      <td>447981.055.0</td>\n",
       "      <td>0</td>\n",
       "      <td>0.187500</td>\n",
       "    </tr>\n",
       "    <tr>\n",
       "      <th>661740</th>\n",
       "      <td>666560</td>\n",
       "      <td>448023.011.0</td>\n",
       "      <td>1</td>\n",
       "      <td>0.190871</td>\n",
       "    </tr>\n",
       "    <tr>\n",
       "      <th>661741</th>\n",
       "      <td>666560</td>\n",
       "      <td>448023.032.0</td>\n",
       "      <td>1</td>\n",
       "      <td>0.194215</td>\n",
       "    </tr>\n",
       "    <tr>\n",
       "      <th>661742</th>\n",
       "      <td>666560</td>\n",
       "      <td>448023.048.0</td>\n",
       "      <td>0</td>\n",
       "      <td>0.193416</td>\n",
       "    </tr>\n",
       "    <tr>\n",
       "      <th>661743</th>\n",
       "      <td>666560</td>\n",
       "      <td>448023.066.0</td>\n",
       "      <td>0</td>\n",
       "      <td>0.192623</td>\n",
       "    </tr>\n",
       "  </tbody>\n",
       "</table>\n",
       "</div>"
      ],
      "text/plain": [
       "        batter      atbat_pk  is_shift  avg_shifted_against\n",
       "661739  666560  447981.055.0         0             0.187500\n",
       "661740  666560  448023.011.0         1             0.190871\n",
       "661741  666560  448023.032.0         1             0.194215\n",
       "661742  666560  448023.048.0         0             0.193416\n",
       "661743  666560  448023.066.0         0             0.192623"
      ]
     },
     "execution_count": 43,
     "metadata": {},
     "output_type": "execute_result"
    }
   ],
   "source": [
    "plate_appearances[['batter', 'atbat_pk', 'is_shift', 'avg_shifted_against']].tail()"
   ]
  },
  {
   "cell_type": "code",
   "execution_count": 44,
   "metadata": {
    "collapsed": true
   },
   "outputs": [],
   "source": [
    "# away_team, home_team\n",
    "# we don't have column for which team is pitching, but we know the home team pitches the top and away pitches bottom\n",
    "plate_appearances['team_pitching'] = np.where(plate_appearances['inning_topbot']=='Top', plate_appearances['home_team'],\n",
    "                                              plate_appearances['away_team'])\n",
    "plate_appearances['team_batting'] = np.where(plate_appearances['inning_topbot']=='Top', plate_appearances['away_team'],\n",
    "                                              plate_appearances['home_team'])"
   ]
  },
  {
   "cell_type": "code",
   "execution_count": 45,
   "metadata": {},
   "outputs": [],
   "source": [
    "# for teams (shift percentage to date for each team)\n",
    "plate_appearances = plate_appearances.sort_values(['team_pitching', 'game_date'], ascending=True)\n",
    "shifts_to_date = plate_appearances.sort_values(['team_pitching', 'game_date'], ascending=True).groupby('team_pitching')['is_shift'].expanding(min_periods=1).mean()\n",
    "shifts_to_date = pd.DataFrame(shifts_to_date).reset_index()\n",
    "shifts_to_date.columns = ['team_pitching', 'index', 'def_shift_pct']\n",
    "plate_appearances = plate_appearances.drop('index',1)\n",
    "plate_appearances = plate_appearances.reset_index()\n",
    "plate_appearances = pd.merge(left=plate_appearances, right=shifts_to_date, left_on=['team_pitching','index'],\n",
    "                             right_on=['team_pitching', 'index'], suffixes=['old',''])"
   ]
  },
  {
   "cell_type": "code",
   "execution_count": 46,
   "metadata": {},
   "outputs": [
    {
     "data": {
      "text/plain": [
       "team_pitching\n",
       "HOU    0.373282\n",
       "TB     0.335120\n",
       "NYY    0.224891\n",
       "BAL    0.221968\n",
       "MIL    0.214380\n",
       "MIN    0.178852\n",
       "SEA    0.178096\n",
       "COL    0.166280\n",
       "CWS    0.156420\n",
       "PIT    0.147275\n",
       "SD     0.140599\n",
       "OAK    0.139989\n",
       "ARI    0.138034\n",
       "LAD    0.129900\n",
       "BOS    0.128095\n",
       "PHI    0.126597\n",
       "TOR    0.111482\n",
       "KC     0.110977\n",
       "CLE    0.109020\n",
       "DET    0.106953\n",
       "ATL    0.102594\n",
       "WSH    0.100108\n",
       "CIN    0.097767\n",
       "LAA    0.090551\n",
       "TEX    0.088070\n",
       "MIA    0.078569\n",
       "NYM    0.072950\n",
       "SF     0.067320\n",
       "STL    0.047175\n",
       "CHC    0.045512\n",
       "Name: def_shift_pct, dtype: float64"
      ]
     },
     "execution_count": 46,
     "metadata": {},
     "output_type": "execute_result"
    }
   ],
   "source": [
    "plate_appearances.groupby('team_pitching')['def_shift_pct'].last().sort_values(ascending=False)"
   ]
  },
  {
   "cell_type": "code",
   "execution_count": 47,
   "metadata": {
    "collapsed": true
   },
   "outputs": [],
   "source": [
    "# rolling count for plate appearances \n",
    "plate_appearances = plate_appearances.sort_values(['batter', 'game_date', 'at_bat_number'], ascending=True)\n",
    "pas = plate_appearances.sort_values(['batter','game_date','at_bat_number'], ascending=True).groupby('batter')['index'].expanding(min_periods=1).count()\n",
    "pas = pd.DataFrame(pas).reset_index()\n",
    "pas.columns = ['batter', 'index', 'pas']\n",
    "plate_appearances = plate_appearances.drop('index',1)\n",
    "plate_appearances = plate_appearances.reset_index()\n",
    "plate_appearances = pd.merge(left=plate_appearances, right=pas, left_on=['batter','index'],\n",
    "                             right_on=['batter', 'index'], suffixes=['old',''])"
   ]
  },
  {
   "cell_type": "code",
   "execution_count": 48,
   "metadata": {
    "scrolled": true
   },
   "outputs": [
    {
     "data": {
      "text/html": [
       "<div>\n",
       "<style scoped>\n",
       "    .dataframe tbody tr th:only-of-type {\n",
       "        vertical-align: middle;\n",
       "    }\n",
       "\n",
       "    .dataframe tbody tr th {\n",
       "        vertical-align: top;\n",
       "    }\n",
       "\n",
       "    .dataframe thead th {\n",
       "        text-align: right;\n",
       "    }\n",
       "</style>\n",
       "<table border=\"1\" class=\"dataframe\">\n",
       "  <thead>\n",
       "    <tr style=\"text-align: right;\">\n",
       "      <th></th>\n",
       "      <th>index</th>\n",
       "      <th>atbat_pk</th>\n",
       "      <th>game_date</th>\n",
       "      <th>batter</th>\n",
       "      <th>pitcher</th>\n",
       "      <th>stand</th>\n",
       "      <th>p_throws</th>\n",
       "      <th>home_team</th>\n",
       "      <th>away_team</th>\n",
       "      <th>hit_location</th>\n",
       "      <th>...</th>\n",
       "      <th>woba</th>\n",
       "      <th>babip</th>\n",
       "      <th>launch_angle</th>\n",
       "      <th>launch_speed</th>\n",
       "      <th>hit_distance_sc</th>\n",
       "      <th>avg_shifted_against</th>\n",
       "      <th>team_pitching</th>\n",
       "      <th>team_batting</th>\n",
       "      <th>def_shift_pct</th>\n",
       "      <th>pas</th>\n",
       "    </tr>\n",
       "  </thead>\n",
       "  <tbody>\n",
       "    <tr>\n",
       "      <th>433044</th>\n",
       "      <td>507610</td>\n",
       "      <td>413649.02.0</td>\n",
       "      <td>2015-04-06</td>\n",
       "      <td>545361</td>\n",
       "      <td>433587.0</td>\n",
       "      <td>R</td>\n",
       "      <td>R</td>\n",
       "      <td>SEA</td>\n",
       "      <td>LAA</td>\n",
       "      <td>NaN</td>\n",
       "      <td>...</td>\n",
       "      <td>2.000000</td>\n",
       "      <td>0.0</td>\n",
       "      <td>31.488000</td>\n",
       "      <td>112.100000</td>\n",
       "      <td>372.0</td>\n",
       "      <td>0.0</td>\n",
       "      <td>SEA</td>\n",
       "      <td>LAA</td>\n",
       "      <td>0.120000</td>\n",
       "      <td>1.0</td>\n",
       "    </tr>\n",
       "    <tr>\n",
       "      <th>433045</th>\n",
       "      <td>507611</td>\n",
       "      <td>413649.024.0</td>\n",
       "      <td>2015-04-06</td>\n",
       "      <td>545361</td>\n",
       "      <td>433587.0</td>\n",
       "      <td>R</td>\n",
       "      <td>R</td>\n",
       "      <td>SEA</td>\n",
       "      <td>LAA</td>\n",
       "      <td>2.0</td>\n",
       "      <td>...</td>\n",
       "      <td>1.000000</td>\n",
       "      <td>0.0</td>\n",
       "      <td>30.091500</td>\n",
       "      <td>101.400000</td>\n",
       "      <td>355.5</td>\n",
       "      <td>0.0</td>\n",
       "      <td>SEA</td>\n",
       "      <td>LAA</td>\n",
       "      <td>0.115385</td>\n",
       "      <td>2.0</td>\n",
       "    </tr>\n",
       "    <tr>\n",
       "      <th>433046</th>\n",
       "      <td>507612</td>\n",
       "      <td>413649.042.0</td>\n",
       "      <td>2015-04-06</td>\n",
       "      <td>545361</td>\n",
       "      <td>433587.0</td>\n",
       "      <td>R</td>\n",
       "      <td>R</td>\n",
       "      <td>SEA</td>\n",
       "      <td>LAA</td>\n",
       "      <td>2.0</td>\n",
       "      <td>...</td>\n",
       "      <td>0.666667</td>\n",
       "      <td>0.0</td>\n",
       "      <td>30.091500</td>\n",
       "      <td>101.400000</td>\n",
       "      <td>355.5</td>\n",
       "      <td>0.0</td>\n",
       "      <td>SEA</td>\n",
       "      <td>LAA</td>\n",
       "      <td>0.111111</td>\n",
       "      <td>3.0</td>\n",
       "    </tr>\n",
       "    <tr>\n",
       "      <th>433047</th>\n",
       "      <td>507613</td>\n",
       "      <td>413649.059.0</td>\n",
       "      <td>2015-04-06</td>\n",
       "      <td>545361</td>\n",
       "      <td>605476.0</td>\n",
       "      <td>R</td>\n",
       "      <td>R</td>\n",
       "      <td>SEA</td>\n",
       "      <td>LAA</td>\n",
       "      <td>2.0</td>\n",
       "      <td>...</td>\n",
       "      <td>0.500000</td>\n",
       "      <td>0.0</td>\n",
       "      <td>30.091500</td>\n",
       "      <td>101.400000</td>\n",
       "      <td>355.5</td>\n",
       "      <td>0.0</td>\n",
       "      <td>SEA</td>\n",
       "      <td>LAA</td>\n",
       "      <td>0.107143</td>\n",
       "      <td>4.0</td>\n",
       "    </tr>\n",
       "    <tr>\n",
       "      <th>433048</th>\n",
       "      <td>507643</td>\n",
       "      <td>413664.02.0</td>\n",
       "      <td>2015-04-07</td>\n",
       "      <td>545361</td>\n",
       "      <td>572020.0</td>\n",
       "      <td>R</td>\n",
       "      <td>L</td>\n",
       "      <td>SEA</td>\n",
       "      <td>LAA</td>\n",
       "      <td>9.0</td>\n",
       "      <td>...</td>\n",
       "      <td>0.400000</td>\n",
       "      <td>0.0</td>\n",
       "      <td>29.912667</td>\n",
       "      <td>99.233333</td>\n",
       "      <td>346.0</td>\n",
       "      <td>0.0</td>\n",
       "      <td>SEA</td>\n",
       "      <td>LAA</td>\n",
       "      <td>0.051724</td>\n",
       "      <td>5.0</td>\n",
       "    </tr>\n",
       "  </tbody>\n",
       "</table>\n",
       "<p>5 rows × 49 columns</p>\n",
       "</div>"
      ],
      "text/plain": [
       "         index      atbat_pk  game_date  batter   pitcher stand p_throws  \\\n",
       "433044  507610   413649.02.0 2015-04-06  545361  433587.0     R        R   \n",
       "433045  507611  413649.024.0 2015-04-06  545361  433587.0     R        R   \n",
       "433046  507612  413649.042.0 2015-04-06  545361  433587.0     R        R   \n",
       "433047  507613  413649.059.0 2015-04-06  545361  605476.0     R        R   \n",
       "433048  507643   413664.02.0 2015-04-07  545361  572020.0     R        L   \n",
       "\n",
       "       home_team away_team  hit_location ...       woba  babip  launch_angle  \\\n",
       "433044       SEA       LAA           NaN ...   2.000000    0.0     31.488000   \n",
       "433045       SEA       LAA           2.0 ...   1.000000    0.0     30.091500   \n",
       "433046       SEA       LAA           2.0 ...   0.666667    0.0     30.091500   \n",
       "433047       SEA       LAA           2.0 ...   0.500000    0.0     30.091500   \n",
       "433048       SEA       LAA           9.0 ...   0.400000    0.0     29.912667   \n",
       "\n",
       "        launch_speed hit_distance_sc  avg_shifted_against  team_pitching  \\\n",
       "433044    112.100000           372.0                  0.0            SEA   \n",
       "433045    101.400000           355.5                  0.0            SEA   \n",
       "433046    101.400000           355.5                  0.0            SEA   \n",
       "433047    101.400000           355.5                  0.0            SEA   \n",
       "433048     99.233333           346.0                  0.0            SEA   \n",
       "\n",
       "        team_batting  def_shift_pct  pas  \n",
       "433044           LAA       0.120000  1.0  \n",
       "433045           LAA       0.115385  2.0  \n",
       "433046           LAA       0.111111  3.0  \n",
       "433047           LAA       0.107143  4.0  \n",
       "433048           LAA       0.051724  5.0  \n",
       "\n",
       "[5 rows x 49 columns]"
      ]
     },
     "execution_count": 48,
     "metadata": {},
     "output_type": "execute_result"
    }
   ],
   "source": [
    "plate_appearances.loc[plate_appearances.batter_name=='mike trout',].head()"
   ]
  },
  {
   "cell_type": "code",
   "execution_count": 49,
   "metadata": {},
   "outputs": [
    {
     "data": {
      "text/plain": [
       "0.14097596653690853"
      ]
     },
     "execution_count": 49,
     "metadata": {},
     "output_type": "execute_result"
    }
   ],
   "source": [
    "plate_appearances.is_shift.mean()"
   ]
  },
  {
   "cell_type": "code",
   "execution_count": 50,
   "metadata": {
    "collapsed": true
   },
   "outputs": [],
   "source": [
    "backup = plate_appearances"
   ]
  },
  {
   "cell_type": "code",
   "execution_count": 51,
   "metadata": {
    "collapsed": true
   },
   "outputs": [],
   "source": [
    "plate_appearances = backup"
   ]
  },
  {
   "cell_type": "markdown",
   "metadata": {
    "collapsed": true
   },
   "source": [
    "### Create dummies"
   ]
  },
  {
   "cell_type": "code",
   "execution_count": 52,
   "metadata": {
    "collapsed": true,
    "scrolled": true
   },
   "outputs": [],
   "source": [
    "#plate_appearances.pitch_name.value_counts()"
   ]
  },
  {
   "cell_type": "code",
   "execution_count": 53,
   "metadata": {
    "collapsed": true
   },
   "outputs": [],
   "source": [
    "# pitch_name. does it somehow matter what type of pitch was hit in the past PA?\n",
    "# removing for now. it's only useful if lagged and sounds unlikely to be helpful. \n",
    "# throw out low-prevalence pitches to keep dimensionality down. \n",
    "#dummies = pd.get_dummies(plate_appearances['pitch_name']).rename(columns=lambda x: 'pitch_' + str(x))\n",
    "#plate_appearances = pd.concat([plate_appearances, dummies], axis=1)\n",
    "#plate_appearances.drop(['pitch_name', 'pitch_Fastball', 'pitch_Unknown',\n",
    "#                                           'pitch_Pitch Out', 'pitch_Screwball', 'pitch_Forkball',\n",
    "#                                           'pitch_Eephus'], inplace=True, axis=1)"
   ]
  },
  {
   "cell_type": "code",
   "execution_count": 54,
   "metadata": {
    "collapsed": true
   },
   "outputs": [],
   "source": [
    "dummies = pd.get_dummies(plate_appearances['team_pitching']).rename(columns=lambda x: 'defense_' + str(x))\n",
    "plate_appearances = pd.concat([plate_appearances, dummies], axis=1)\n",
    "\n",
    "\n",
    "dummies = pd.get_dummies(plate_appearances['team_batting']).rename(columns=lambda x: 'atbat_' + str(x))\n",
    "plate_appearances = pd.concat([plate_appearances, dummies], axis=1)\n",
    "\n",
    "plate_appearances.drop(['team_pitching', 'team_batting', 'home_team', 'away_team',\n",
    "                        'inning_topbot'], inplace=True, axis=1)"
   ]
  },
  {
   "cell_type": "code",
   "execution_count": 55,
   "metadata": {
    "collapsed": true
   },
   "outputs": [],
   "source": [
    "# todo: group by batter, take max of pa count, select if count < 100. drop if batter in that list of group indexes. \n",
    "\n",
    "# batter\n",
    "# note: avoid dropping this id and the pitcher id until required. need these intact to get names back post-modeling.\n",
    "dummies = pd.get_dummies(plate_appearances['batter']).rename(columns=lambda x: 'batterid_' + str(x))\n",
    "plate_appearances = pd.concat([plate_appearances, dummies], axis=1)\n",
    "\n",
    "# pitcher\n",
    "dummies = pd.get_dummies(plate_appearances['pitcher']).rename(columns=lambda x: 'pitcherid_' + str(x))\n",
    "plate_appearances = pd.concat([plate_appearances, dummies], axis=1)"
   ]
  },
  {
   "cell_type": "code",
   "execution_count": 56,
   "metadata": {
    "collapsed": true
   },
   "outputs": [],
   "source": [
    "# pitcher_throws\n",
    "plate_appearances['pitcher_throws_left'] = np.where(plate_appearances['p_throws'] == 'L', 1, 0)\n",
    "\n",
    "# stand (batter_bats)\n",
    "plate_appearances['left_handed_batter'] = np.where(plate_appearances['stand'] == 'L', 1, 0)"
   ]
  },
  {
   "cell_type": "code",
   "execution_count": 57,
   "metadata": {
    "collapsed": true
   },
   "outputs": [],
   "source": [
    "# bb type\n",
    "dummies = pd.get_dummies(plate_appearances['bb_type']).rename(columns=lambda x: 'bb_type_' + str(x))\n",
    "plate_appearances = pd.concat([plate_appearances, dummies], axis=1)\n",
    "plate_appearances.drop(['bb_type'], inplace=True, axis=1)"
   ]
  },
  {
   "cell_type": "code",
   "execution_count": 58,
   "metadata": {
    "collapsed": true
   },
   "outputs": [],
   "source": [
    "# month dummies. maybe this changes throughout the season.\n",
    "# don't drop the original columns in case a continuous relatioship ends up being more meaningful.\n",
    "plate_appearances['Month'] = plate_appearances['game_date'].dt.month\n",
    "\n",
    "dummies = pd.get_dummies(plate_appearances['Month']).rename(columns=lambda x: 'Month_' + str(x))\n",
    "plate_appearances = pd.concat([plate_appearances, dummies], axis=1)\n",
    "\n",
    "# let's create year dummies while we're at it \n",
    "dummies = pd.get_dummies(plate_appearances['game_year']).rename(columns=lambda x: 'Year_' + str(x))\n",
    "plate_appearances = pd.concat([plate_appearances, dummies], axis=1)"
   ]
  },
  {
   "cell_type": "code",
   "execution_count": 59,
   "metadata": {
    "collapsed": true
   },
   "outputs": [],
   "source": [
    "# events\n",
    "dummies = pd.get_dummies(plate_appearances['events']).rename(columns=lambda x: 'event_' + str(x))\n",
    "plate_appearances = pd.concat([plate_appearances, dummies], axis=1)"
   ]
  },
  {
   "cell_type": "code",
   "execution_count": 60,
   "metadata": {
    "collapsed": true
   },
   "outputs": [],
   "source": [
    "# omitting triple because there's never been one. python throws errors. \n",
    "plate_appearances['onbase'] = plate_appearances.event_single + plate_appearances.event_single + plate_appearances.event_double + plate_appearances.event_triple\n",
    "\n",
    "plate_appearances['hit'] = plate_appearances.event_single + plate_appearances.event_double \\\n",
    "                           + plate_appearances.event_triple  + plate_appearances.event_home_run\n",
    "    \n",
    "plate_appearances['successful_outcome_defense'] = plate_appearances.event_field_out + plate_appearances.event_strikeout + plate_appearances.event_grounded_into_double_play \\\n",
    "                        + plate_appearances.event_double_play + plate_appearances.event_fielders_choice_out + plate_appearances.event_other_out \\\n",
    "                        + plate_appearances.event_triple_play\n",
    "plate_appearances['successful_shift'] = plate_appearances['is_shift'] * plate_appearances['successful_outcome_defense']"
   ]
  },
  {
   "cell_type": "code",
   "execution_count": null,
   "metadata": {
    "collapsed": true
   },
   "outputs": [],
   "source": []
  },
  {
   "cell_type": "markdown",
   "metadata": {},
   "source": [
    "### impute missing values"
   ]
  },
  {
   "cell_type": "code",
   "execution_count": 61,
   "metadata": {
    "collapsed": true
   },
   "outputs": [],
   "source": [
    "drops = ['launch_angleold', 'launch_speedold', 'hit_distance_scold']\n",
    "plate_appearances = plate_appearances.drop(drops, 1)"
   ]
  },
  {
   "cell_type": "code",
   "execution_count": 62,
   "metadata": {
    "collapsed": true
   },
   "outputs": [],
   "source": [
    "#for c in plate_appearances.columns:\n",
    "#        print(plate_appearances[c].head())"
   ]
  },
  {
   "cell_type": "code",
   "execution_count": 63,
   "metadata": {
    "collapsed": true
   },
   "outputs": [],
   "source": [
    "# simple imputations: hit location, hit_distance_sc, launch_speed, launch_angle, effective_speed, \n",
    "# estimated_woba_using_speedangle, babip_value, iso_value\n",
    "plate_appearances.loc[pd.isna(plate_appearances.hit_location), 'hit_location'] = 0\n",
    "plate_appearances.loc[pd.isna(plate_appearances.hit_distance_sc), 'hit_distance_sc'] = 0\n",
    "plate_appearances.loc[pd.isna(plate_appearances.launch_speed), 'launch_speed'] = 0\n",
    "plate_appearances.loc[pd.isna(plate_appearances.launch_angle), 'launch_angle'] = 0\n",
    "plate_appearances.loc[pd.isna(plate_appearances.effective_speed), 'effective_speed'] = 0\n",
    "plate_appearances.loc[pd.isna(plate_appearances.estimated_woba_using_speedangle), 'estimated_woba_using_speedangle'] = 0\n",
    "plate_appearances.loc[pd.isna(plate_appearances.babip_value), 'babip_value'] = 0\n",
    "plate_appearances.loc[pd.isna(plate_appearances.iso_value), 'iso_value'] = 0\n",
    "plate_appearances.loc[pd.isna(plate_appearances.woba_denom), 'woba_denom'] = 1\n",
    "plate_appearances.loc[pd.isna(plate_appearances.launch_speed_angle), 'launch_speed_angle'] = 0"
   ]
  },
  {
   "cell_type": "code",
   "execution_count": 64,
   "metadata": {},
   "outputs": [
    {
     "data": {
      "text/plain": [
       "(661744, 2778)"
      ]
     },
     "execution_count": 64,
     "metadata": {},
     "output_type": "execute_result"
    }
   ],
   "source": [
    "plate_appearances.shape"
   ]
  },
  {
   "cell_type": "code",
   "execution_count": 65,
   "metadata": {
    "collapsed": true
   },
   "outputs": [],
   "source": [
    "backup = plate_appearances"
   ]
  },
  {
   "cell_type": "markdown",
   "metadata": {},
   "source": [
    "### Create lag variables to capture recent outcomes (did the shift last time? did it work?)"
   ]
  },
  {
   "cell_type": "code",
   "execution_count": 66,
   "metadata": {
    "collapsed": true
   },
   "outputs": [],
   "source": [
    "backup = plate_appearances"
   ]
  },
  {
   "cell_type": "code",
   "execution_count": 67,
   "metadata": {
    "collapsed": true
   },
   "outputs": [],
   "source": [
    "plate_appearances = backup"
   ]
  },
  {
   "cell_type": "code",
   "execution_count": 68,
   "metadata": {
    "collapsed": true
   },
   "outputs": [],
   "source": [
    "plate_appearances = plate_appearances.sort_values(['batter', 'game_date', 'at_bat_number'], ascending=True)\n",
    "cols_to_lag = ['is_shift', 'onbase', 'hit', 'successful_outcome_defense', 'successful_shift',\n",
    "              'woba_value', 'launch_speed', 'launch_angle', 'hit_distance_sc', 'bb_type_popup', 'bb_type_line_drive', \n",
    "               'bb_type_ground_ball', 'bb_type_fly_ball']\n",
    "\n",
    "# how many PAs back to we want to consider?\n",
    "lag_time = 5\n",
    "for col in cols_to_lag:\n",
    "    for time in range(lag_time):\n",
    "        feature_name = col + '_lag' + '_{}'.format(time+1)\n",
    "        plate_appearances[feature_name] = plate_appearances.groupby('batter')[col].shift(time+1)\n",
    "\n",
    "#plate_appearances['shift_lag_1'] = plate_appearances.groupby('batter')['is_shift'].shift(1)\n",
    "#plate_appearances['shift_lag_2'] = plate_appearances.groupby('batter')['is_shift'].shift(2)"
   ]
  },
  {
   "cell_type": "code",
   "execution_count": 69,
   "metadata": {
    "scrolled": true
   },
   "outputs": [
    {
     "data": {
      "text/html": [
       "<div>\n",
       "<style scoped>\n",
       "    .dataframe tbody tr th:only-of-type {\n",
       "        vertical-align: middle;\n",
       "    }\n",
       "\n",
       "    .dataframe tbody tr th {\n",
       "        vertical-align: top;\n",
       "    }\n",
       "\n",
       "    .dataframe thead th {\n",
       "        text-align: right;\n",
       "    }\n",
       "</style>\n",
       "<table border=\"1\" class=\"dataframe\">\n",
       "  <thead>\n",
       "    <tr style=\"text-align: right;\">\n",
       "      <th></th>\n",
       "      <th>index</th>\n",
       "      <th>atbat_pk</th>\n",
       "      <th>game_date</th>\n",
       "      <th>batter</th>\n",
       "      <th>pitcher</th>\n",
       "      <th>stand</th>\n",
       "      <th>p_throws</th>\n",
       "      <th>hit_location</th>\n",
       "      <th>game_year</th>\n",
       "      <th>outs_when_up</th>\n",
       "      <th>...</th>\n",
       "      <th>bb_type_ground_ball_lag_1</th>\n",
       "      <th>bb_type_ground_ball_lag_2</th>\n",
       "      <th>bb_type_ground_ball_lag_3</th>\n",
       "      <th>bb_type_ground_ball_lag_4</th>\n",
       "      <th>bb_type_ground_ball_lag_5</th>\n",
       "      <th>bb_type_fly_ball_lag_1</th>\n",
       "      <th>bb_type_fly_ball_lag_2</th>\n",
       "      <th>bb_type_fly_ball_lag_3</th>\n",
       "      <th>bb_type_fly_ball_lag_4</th>\n",
       "      <th>bb_type_fly_ball_lag_5</th>\n",
       "    </tr>\n",
       "  </thead>\n",
       "  <tbody>\n",
       "    <tr>\n",
       "      <th>50923</th>\n",
       "      <td>66521</td>\n",
       "      <td>413652.08.0</td>\n",
       "      <td>2015-04-06</td>\n",
       "      <td>429667</td>\n",
       "      <td>453329.0</td>\n",
       "      <td>L</td>\n",
       "      <td>R</td>\n",
       "      <td>4.0</td>\n",
       "      <td>2015.0</td>\n",
       "      <td>2.0</td>\n",
       "      <td>...</td>\n",
       "      <td>NaN</td>\n",
       "      <td>NaN</td>\n",
       "      <td>NaN</td>\n",
       "      <td>NaN</td>\n",
       "      <td>NaN</td>\n",
       "      <td>NaN</td>\n",
       "      <td>NaN</td>\n",
       "      <td>NaN</td>\n",
       "      <td>NaN</td>\n",
       "      <td>NaN</td>\n",
       "    </tr>\n",
       "    <tr>\n",
       "      <th>50924</th>\n",
       "      <td>66522</td>\n",
       "      <td>413652.031.0</td>\n",
       "      <td>2015-04-06</td>\n",
       "      <td>429667</td>\n",
       "      <td>453329.0</td>\n",
       "      <td>L</td>\n",
       "      <td>R</td>\n",
       "      <td>0.0</td>\n",
       "      <td>2015.0</td>\n",
       "      <td>2.0</td>\n",
       "      <td>...</td>\n",
       "      <td>1.0</td>\n",
       "      <td>NaN</td>\n",
       "      <td>NaN</td>\n",
       "      <td>NaN</td>\n",
       "      <td>NaN</td>\n",
       "      <td>0.0</td>\n",
       "      <td>NaN</td>\n",
       "      <td>NaN</td>\n",
       "      <td>NaN</td>\n",
       "      <td>NaN</td>\n",
       "    </tr>\n",
       "    <tr>\n",
       "      <th>50925</th>\n",
       "      <td>66523</td>\n",
       "      <td>413652.053.0</td>\n",
       "      <td>2015-04-06</td>\n",
       "      <td>429667</td>\n",
       "      <td>453329.0</td>\n",
       "      <td>L</td>\n",
       "      <td>R</td>\n",
       "      <td>3.0</td>\n",
       "      <td>2015.0</td>\n",
       "      <td>0.0</td>\n",
       "      <td>...</td>\n",
       "      <td>0.0</td>\n",
       "      <td>1.0</td>\n",
       "      <td>NaN</td>\n",
       "      <td>NaN</td>\n",
       "      <td>NaN</td>\n",
       "      <td>0.0</td>\n",
       "      <td>0.0</td>\n",
       "      <td>NaN</td>\n",
       "      <td>NaN</td>\n",
       "      <td>NaN</td>\n",
       "    </tr>\n",
       "    <tr>\n",
       "      <th>50926</th>\n",
       "      <td>66524</td>\n",
       "      <td>413652.073.0</td>\n",
       "      <td>2015-04-06</td>\n",
       "      <td>429667</td>\n",
       "      <td>518927.0</td>\n",
       "      <td>L</td>\n",
       "      <td>L</td>\n",
       "      <td>5.0</td>\n",
       "      <td>2015.0</td>\n",
       "      <td>1.0</td>\n",
       "      <td>...</td>\n",
       "      <td>1.0</td>\n",
       "      <td>0.0</td>\n",
       "      <td>1.0</td>\n",
       "      <td>NaN</td>\n",
       "      <td>NaN</td>\n",
       "      <td>0.0</td>\n",
       "      <td>0.0</td>\n",
       "      <td>0.0</td>\n",
       "      <td>NaN</td>\n",
       "      <td>NaN</td>\n",
       "    </tr>\n",
       "    <tr>\n",
       "      <th>50927</th>\n",
       "      <td>66560</td>\n",
       "      <td>413674.07.0</td>\n",
       "      <td>2015-04-08</td>\n",
       "      <td>429667</td>\n",
       "      <td>519144.0</td>\n",
       "      <td>L</td>\n",
       "      <td>R</td>\n",
       "      <td>3.0</td>\n",
       "      <td>2015.0</td>\n",
       "      <td>2.0</td>\n",
       "      <td>...</td>\n",
       "      <td>0.0</td>\n",
       "      <td>1.0</td>\n",
       "      <td>0.0</td>\n",
       "      <td>1.0</td>\n",
       "      <td>NaN</td>\n",
       "      <td>0.0</td>\n",
       "      <td>0.0</td>\n",
       "      <td>0.0</td>\n",
       "      <td>0.0</td>\n",
       "      <td>NaN</td>\n",
       "    </tr>\n",
       "  </tbody>\n",
       "</table>\n",
       "<p>5 rows × 2843 columns</p>\n",
       "</div>"
      ],
      "text/plain": [
       "       index      atbat_pk  game_date  batter   pitcher stand p_throws  \\\n",
       "50923  66521   413652.08.0 2015-04-06  429667  453329.0     L        R   \n",
       "50924  66522  413652.031.0 2015-04-06  429667  453329.0     L        R   \n",
       "50925  66523  413652.053.0 2015-04-06  429667  453329.0     L        R   \n",
       "50926  66524  413652.073.0 2015-04-06  429667  518927.0     L        L   \n",
       "50927  66560   413674.07.0 2015-04-08  429667  519144.0     L        R   \n",
       "\n",
       "       hit_location  game_year  outs_when_up           ...            \\\n",
       "50923           4.0     2015.0           2.0           ...             \n",
       "50924           0.0     2015.0           2.0           ...             \n",
       "50925           3.0     2015.0           0.0           ...             \n",
       "50926           5.0     2015.0           1.0           ...             \n",
       "50927           3.0     2015.0           2.0           ...             \n",
       "\n",
       "       bb_type_ground_ball_lag_1  bb_type_ground_ball_lag_2  \\\n",
       "50923                        NaN                        NaN   \n",
       "50924                        1.0                        NaN   \n",
       "50925                        0.0                        1.0   \n",
       "50926                        1.0                        0.0   \n",
       "50927                        0.0                        1.0   \n",
       "\n",
       "       bb_type_ground_ball_lag_3  bb_type_ground_ball_lag_4  \\\n",
       "50923                        NaN                        NaN   \n",
       "50924                        NaN                        NaN   \n",
       "50925                        NaN                        NaN   \n",
       "50926                        1.0                        NaN   \n",
       "50927                        0.0                        1.0   \n",
       "\n",
       "       bb_type_ground_ball_lag_5  bb_type_fly_ball_lag_1  \\\n",
       "50923                        NaN                     NaN   \n",
       "50924                        NaN                     0.0   \n",
       "50925                        NaN                     0.0   \n",
       "50926                        NaN                     0.0   \n",
       "50927                        NaN                     0.0   \n",
       "\n",
       "       bb_type_fly_ball_lag_2  bb_type_fly_ball_lag_3  bb_type_fly_ball_lag_4  \\\n",
       "50923                     NaN                     NaN                     NaN   \n",
       "50924                     NaN                     NaN                     NaN   \n",
       "50925                     0.0                     NaN                     NaN   \n",
       "50926                     0.0                     0.0                     NaN   \n",
       "50927                     0.0                     0.0                     0.0   \n",
       "\n",
       "       bb_type_fly_ball_lag_5  \n",
       "50923                     NaN  \n",
       "50924                     NaN  \n",
       "50925                     NaN  \n",
       "50926                     NaN  \n",
       "50927                     NaN  \n",
       "\n",
       "[5 rows x 2843 columns]"
      ]
     },
     "execution_count": 69,
     "metadata": {},
     "output_type": "execute_result"
    }
   ],
   "source": [
    "#plate_appearances.loc[plate_appearances.batter_name=='ryan howard',['is_shift','hit','successful_shift',\n",
    "#                                                                   'shift_lag_1', 'shift_lag_2']].head(20)\n",
    "plate_appearances.loc[plate_appearances.batter_name=='ryan howard',].head()"
   ]
  },
  {
   "cell_type": "code",
   "execution_count": 70,
   "metadata": {},
   "outputs": [
    {
     "data": {
      "text/plain": [
       "(661744, 2843)"
      ]
     },
     "execution_count": 70,
     "metadata": {},
     "output_type": "execute_result"
    }
   ],
   "source": [
    "plate_appearances.shape"
   ]
  },
  {
   "cell_type": "code",
   "execution_count": 71,
   "metadata": {
    "collapsed": true
   },
   "outputs": [],
   "source": [
    "#[print(c) for c in plate_appearances.columns]"
   ]
  },
  {
   "cell_type": "code",
   "execution_count": 72,
   "metadata": {
    "collapsed": true
   },
   "outputs": [],
   "source": [
    "#[print(plate_appearances[c].head()) for c in plate_appearances.columns]"
   ]
  },
  {
   "cell_type": "code",
   "execution_count": 73,
   "metadata": {},
   "outputs": [
    {
     "data": {
      "text/plain": [
       "(661744, 2784)"
      ]
     },
     "execution_count": 73,
     "metadata": {},
     "output_type": "execute_result"
    }
   ],
   "source": [
    "#now drop everythign that can't go into the final model. leave pitcher/batter/game_pk in for now so we don't lose that info.\n",
    "# make sure to drop everything that includes info we don't know yet at beginnign of atbat (eg events, launch angle)\n",
    "drops = ['index', 'atbat_pk', 'game_date', 'stand', 'p_throws', 'hit_location', 'effective_speed', 'estimated_woba_using_speedangle',\n",
    "        'woba_denom', 'babip_value', 'iso_value', 'launch_speed_angle', 'pitch_number', 'key_mlbam', 'batter_name',\n",
    "        'events', 'woba_value', 'successful_shift', 'hit', 'onbase', 'event_walk', 'event_triple_play', 'event_triple',\n",
    "        'event_strikeout_double_play', 'event_strikeout', 'event_single', 'event_sac_fly_double_play', 'event_sac_fly',\n",
    "        'event_sac_bunt_double_play', 'event_sac_bunt', 'event_run', 'event_pickoff_caught_stealing_home',\n",
    "        'event_pickoff_caught_stealing_3b', 'event_pickoff_caught_stealing_2b', 'event_pickoff_3b', 'event_pickoff_2b',\n",
    "        'event_pickoff_1b', 'event_other_out', 'event_intent_walk', 'event_home_run', 'event_hit_by_pitch', 'event_grounded_into_double_play',\n",
    "        'event_force_out', 'event_fielders_choice_out', 'event_fielders_choice', 'event_field_out', 'event_field_error',\n",
    "        'event_double_play', 'event_double', 'event_caught_stealing_home', 'event_caught_stealing_3b', 'event_caught_stealing_2b',\n",
    "        'event_catcher_interf', 'event_batter_interference', 'bb_type_popup', 'bb_type_line_drive', 'bb_type_ground_ball',\n",
    "        'bb_type_fly_ball', 'pitch_name']\n",
    "plate_appearances = plate_appearances.drop(drops, 1)\n",
    "plate_appearances.shape"
   ]
  },
  {
   "cell_type": "code",
   "execution_count": 74,
   "metadata": {
    "collapsed": true
   },
   "outputs": [],
   "source": [
    "# check for nans I've missed\n",
    "# just the lags\n",
    "#for c in plate_appearances.columns:\n",
    "#    print(c)\n",
    "#    print(plate_appearances[c].isnull().sum())"
   ]
  },
  {
   "cell_type": "code",
   "execution_count": 75,
   "metadata": {},
   "outputs": [
    {
     "name": "stdout",
     "output_type": "stream",
     "text": [
      "(661744, 2784)\n",
      "(655847, 2784)\n"
     ]
    }
   ],
   "source": [
    "# drop nulls created by lag variables (5 nulls per batter. amounts to rougbly 5k observations\n",
    "# in other words, 0.8% of rows lost to creating 5 PA worth of lag columns\n",
    "print(plate_appearances.shape)\n",
    "plate_appearances = plate_appearances.dropna()\n",
    "print(plate_appearances.shape)"
   ]
  },
  {
   "cell_type": "code",
   "execution_count": null,
   "metadata": {
    "collapsed": true
   },
   "outputs": [],
   "source": []
  },
  {
   "cell_type": "markdown",
   "metadata": {},
   "source": [
    "# Modeling\n",
    "Logistic regression benchmark vs. a simple random forest model. Evaluate using accuracy and AUC score. \n",
    "\n",
    "I'm starting from these sklearn docs: http://scikit-learn.org/stable/auto_examples/ensemble/plot_feature_transformation.html#sphx-glr-auto-examples-ensemble-plot-feature-transformation-py\n",
    "\n",
    "From there I will improve this to use cross validation to tune some parameters (number of estimators, tree depth), and maybe experiment with some ensembling (RT + logit + nn may be interesting)"
   ]
  },
  {
   "cell_type": "code",
   "execution_count": 76,
   "metadata": {
    "collapsed": true
   },
   "outputs": [],
   "source": [
    "np.random.seed(10)"
   ]
  },
  {
   "cell_type": "code",
   "execution_count": 77,
   "metadata": {
    "scrolled": true
   },
   "outputs": [
    {
     "name": "stderr",
     "output_type": "stream",
     "text": [
      "/Users/jledoux/anaconda3/lib/python3.6/site-packages/sklearn/ensemble/weight_boosting.py:29: DeprecationWarning: numpy.core.umath_tests is an internal NumPy module and should not be imported. It will be removed in a future NumPy release.\n",
      "  from numpy.core.umath_tests import inner1d\n"
     ]
    }
   ],
   "source": [
    "from sklearn.ensemble import RandomForestClassifier\n",
    "from sklearn.linear_model import LogisticRegressionCV\n",
    "from sklearn.preprocessing import OneHotEncoder\n",
    "from sklearn.model_selection import train_test_split\n",
    "from sklearn.metrics import roc_curve\n",
    "from sklearn.pipeline import make_pipeline\n",
    "from sklearn.metrics import roc_auc_score\n",
    "import matplotlib.pyplot as plt\n",
    "%matplotlib inline"
   ]
  },
  {
   "cell_type": "code",
   "execution_count": 78,
   "metadata": {
    "scrolled": false
   },
   "outputs": [
    {
     "name": "stdout",
     "output_type": "stream",
     "text": [
      "X train, test, holdout shapes: \n",
      "(413183, 2781)\n",
      "(177078, 2781)\n",
      "(65586, 2781)\n",
      "y train, test, holdout shapes: \n",
      "(413183,)\n",
      "(177078,)\n",
      "(65586,)\n"
     ]
    }
   ],
   "source": [
    "train_percent = .7\n",
    "train_samples = int((plate_appearances.shape[0] * .9) * train_percent)\n",
    "test_samples = int((plate_appearances.shape[0] * .9) * (1 - train_percent))\n",
    "holdout = int((plate_appearances.shape[0] * .9) * .1)\n",
    "\n",
    "batters = plate_appearances['batter']\n",
    "pitchers = plate_appearances['pitcher']\n",
    "y = plate_appearances['is_shift']\n",
    "X = plate_appearances.drop(['is_shift', 'batter', 'pitcher'], 1)\n",
    "\n",
    "X_train = X[:train_samples]\n",
    "X_test = X[train_samples:train_samples+test_samples]\n",
    "X_holdout = X[train_samples+test_samples:]\n",
    "y_train = y[:train_samples]\n",
    "y_test = y[train_samples:train_samples+test_samples]\n",
    "y_holdout = y[train_samples+test_samples:]\n",
    "\n",
    "print('X train, test, holdout shapes: ')\n",
    "print(X_train.shape)\n",
    "print(X_test.shape)\n",
    "print(X_holdout.shape)\n",
    "\n",
    "print('y train, test, holdout shapes: ')\n",
    "print(y_train.shape)\n",
    "print(y_test.shape)\n",
    "print(y_holdout.shape)"
   ]
  },
  {
   "cell_type": "code",
   "execution_count": null,
   "metadata": {
    "collapsed": true
   },
   "outputs": [],
   "source": []
  },
  {
   "cell_type": "code",
   "execution_count": 79,
   "metadata": {
    "scrolled": true
   },
   "outputs": [
    {
     "name": "stdout",
     "output_type": "stream",
     "text": [
      "building tree 1 of 100building tree 2 of 100building tree 3 of 100\n",
      "\n",
      "\n",
      "building tree 4 of 100\n",
      "building tree 5 of 100\n",
      "building tree 6 of 100\n",
      "building tree 7 of 100\n",
      "building tree 8 of 100\n",
      "building tree 9 of 100\n",
      "building tree 10 of 100\n",
      "building tree 11 of 100\n",
      "building tree 12 of 100\n",
      "building tree 13 of 100\n",
      "building tree 14 of 100\n",
      "building tree 15 of 100\n",
      "building tree 16 of 100\n",
      "building tree 17 of 100\n",
      "building tree 18 of 100\n",
      "building tree 19 of 100\n",
      "building tree 20 of 100\n",
      "building tree 21 of 100\n",
      "building tree 22 of 100\n",
      "building tree 23 of 100\n",
      "building tree 24 of 100\n",
      "building tree 25 of 100\n",
      "building tree 26 of 100\n",
      "building tree 27 of 100\n",
      "building tree 28 of 100\n",
      "building tree 29 of 100\n",
      "building tree 30 of 100\n",
      "building tree 31 of 100\n",
      "building tree 32 of 100\n",
      "building tree 33 of 100\n",
      "building tree 34 of 100\n",
      "building tree 35 of 100\n",
      "building tree 36 of 100\n",
      "building tree 37 of 100\n"
     ]
    },
    {
     "name": "stderr",
     "output_type": "stream",
     "text": [
      "[Parallel(n_jobs=3)]: Done  35 tasks      | elapsed:   16.4s\n"
     ]
    },
    {
     "name": "stdout",
     "output_type": "stream",
     "text": [
      "building tree 38 of 100\n",
      "building tree 39 of 100\n",
      "building tree 40 of 100\n",
      "building tree 41 of 100\n",
      "building tree 42 of 100\n",
      "building tree 43 of 100\n",
      "building tree 44 of 100\n",
      "building tree 45 of 100\n",
      "building tree 46 of 100\n",
      "building tree 47 of 100\n",
      "building tree 48 of 100\n",
      "building tree 49 of 100building tree 50 of 100\n",
      "\n",
      "building tree 51 of 100\n",
      "building tree 52 of 100\n",
      "building tree 53 of 100\n",
      "building tree 54 of 100\n",
      "building tree 55 of 100\n",
      "building tree 56 of 100\n",
      "building tree 57 of 100\n",
      "building tree 58 of 100\n",
      "building tree 59 of 100\n",
      "building tree 60 of 100\n",
      "building tree 61 of 100\n",
      "building tree 62 of 100\n",
      "building tree 63 of 100\n",
      "building tree 64 of 100\n",
      "building tree 65 of 100\n",
      "building tree 66 of 100\n",
      "building tree 67 of 100\n",
      "building tree 68 of 100\n",
      "building tree 69 of 100\n",
      "building tree 70 of 100\n",
      "building tree 71 of 100\n",
      "building tree 72 of 100\n",
      "building tree 73 of 100\n",
      "building tree 74 of 100\n",
      "building tree 75 of 100\n",
      "building tree 76 of 100\n",
      "building tree 77 of 100\n",
      "building tree 78 of 100\n",
      "building tree 79 of 100\n",
      "building tree 80 of 100\n",
      "building tree 81 of 100\n",
      "building tree 82 of 100\n",
      "building tree 83 of 100\n",
      "building tree 84 of 100\n",
      "building tree 85 of 100\n",
      "building tree 86 of 100\n",
      "building tree 87 of 100\n",
      "building tree 88 of 100\n",
      "building tree 89 of 100\n",
      "building tree 90 of 100\n",
      "building tree 91 of 100\n",
      "building tree 92 of 100\n",
      "building tree 93 of 100\n",
      "building tree 94 of 100\n",
      "building tree 95 of 100\n",
      "building tree 96 of 100\n",
      "building tree 97 of 100\n",
      "building tree 98 of 100\n",
      "building tree 99 of 100\n",
      "building tree 100 of 100\n"
     ]
    },
    {
     "name": "stderr",
     "output_type": "stream",
     "text": [
      "[Parallel(n_jobs=3)]: Done 100 out of 100 | elapsed:   42.2s finished\n"
     ]
    },
    {
     "data": {
      "text/plain": [
       "RandomForestClassifier(bootstrap=True, class_weight=None, criterion='gini',\n",
       "            max_depth=3, max_features='auto', max_leaf_nodes=None,\n",
       "            min_impurity_decrease=0.0, min_impurity_split=None,\n",
       "            min_samples_leaf=1, min_samples_split=2,\n",
       "            min_weight_fraction_leaf=0.0, n_estimators=100, n_jobs=3,\n",
       "            oob_score=False, random_state=None, verbose=2,\n",
       "            warm_start=False)"
      ]
     },
     "execution_count": 79,
     "metadata": {},
     "output_type": "execute_result"
    }
   ],
   "source": [
    "n_estimator = 100\n",
    "rf = RandomForestClassifier(max_depth=3, n_estimators=n_estimator, n_jobs=3, verbose=2)\n",
    "#rf_enc = OneHotEncoder()\n",
    "rf.fit(X_train, y_train)\n",
    "#rf_enc.fit(rf.apply(X_train))"
   ]
  },
  {
   "cell_type": "code",
   "execution_count": 81,
   "metadata": {},
   "outputs": [
    {
     "data": {
      "text/plain": [
       "LogisticRegressionCV(Cs=10, class_weight=None, cv=None, dual=False,\n",
       "           fit_intercept=True, intercept_scaling=1.0, max_iter=100,\n",
       "           multi_class='ovr', n_jobs=3, penalty='l2', random_state=None,\n",
       "           refit=True, scoring=None, solver='lbfgs', tol=0.0001, verbose=0)"
      ]
     },
     "execution_count": 81,
     "metadata": {},
     "output_type": "execute_result"
    }
   ],
   "source": [
    "# a simple logistic benchmark. only knows how often defense shifts and how often batter is shifted against. \n",
    "lr = LogisticRegressionCV(n_jobs=3)\n",
    "lr.fit(X_train[['avg_shifted_against', 'def_shift_pct']], y_train)"
   ]
  },
  {
   "cell_type": "code",
   "execution_count": 82,
   "metadata": {},
   "outputs": [
    {
     "name": "stderr",
     "output_type": "stream",
     "text": [
      "[Parallel(n_jobs=3)]: Done  35 tasks      | elapsed:    0.4s\n",
      "[Parallel(n_jobs=3)]: Done 100 out of 100 | elapsed:    1.0s finished\n"
     ]
    }
   ],
   "source": [
    "y_pred_rf = rf.predict_proba(X_test)[:, 1]\n",
    "fpr_rf, tpr_rf, _ = roc_curve(y_test, y_pred_rf)"
   ]
  },
  {
   "cell_type": "code",
   "execution_count": 83,
   "metadata": {
    "collapsed": true
   },
   "outputs": [],
   "source": [
    "y_pred_lr = lr.predict_proba(X_test[['avg_shifted_against', 'def_shift_pct']])[:, 1]\n",
    "fpr_lr, tpr_lr, _ = roc_curve(y_test, y_pred_lr)"
   ]
  },
  {
   "cell_type": "code",
   "execution_count": 84,
   "metadata": {},
   "outputs": [
    {
     "data": {
      "image/png": "[encoded data removed]",
      "text/plain": [
       "<matplotlib.figure.Figure at 0x116672b70>"
      ]
     },
     "metadata": {},
     "output_type": "display_data"
    }
   ],
   "source": [
    "plt.xlim(0, 1)\n",
    "plt.ylim(0, 1)\n",
    "plt.plot([0, 1], [0, 1], 'k--')\n",
    "plt.plot(fpr_rf, tpr_rf, label='RF')\n",
    "plt.plot(fpr_lr, tpr_lr, label='Logit')\n",
    "plt.xlabel('False positive rate')\n",
    "plt.ylabel('True positive rate')\n",
    "plt.title('ROC curve')\n",
    "plt.legend(loc='best')\n",
    "plt.show()"
   ]
  },
  {
   "cell_type": "code",
   "execution_count": 85,
   "metadata": {},
   "outputs": [
    {
     "name": "stdout",
     "output_type": "stream",
     "text": [
      "Random Forest AUC Score:\n"
     ]
    },
    {
     "data": {
      "text/plain": [
       "0.8986313388601983"
      ]
     },
     "execution_count": 85,
     "metadata": {},
     "output_type": "execute_result"
    }
   ],
   "source": [
    "# pretty good!\n",
    "print(\"Random Forest AUC Score:\")\n",
    "roc_auc_score(y_test, y_pred_rf)"
   ]
  },
  {
   "cell_type": "code",
   "execution_count": 86,
   "metadata": {},
   "outputs": [
    {
     "name": "stdout",
     "output_type": "stream",
     "text": [
      "Logit AUC Score:\n"
     ]
    },
    {
     "data": {
      "text/plain": [
       "0.852644109912994"
      ]
     },
     "execution_count": 86,
     "metadata": {},
     "output_type": "execute_result"
    }
   ],
   "source": [
    "print(\"Logit AUC Score:\")\n",
    "roc_auc_score(y_test, y_pred_lr)"
   ]
  },
  {
   "cell_type": "code",
   "execution_count": 87,
   "metadata": {
    "collapsed": true,
    "scrolled": true
   },
   "outputs": [],
   "source": [
    "# let's see what was most important\n",
    "# https://stackoverflow.com/questions/44101458/random-forest-feature-importance-chart-using-python\n",
    "#features = X_test.columns\n",
    "#importances = rf.feature_importances_\n",
    "#indices = np.argsort(importances)"
   ]
  },
  {
   "cell_type": "code",
   "execution_count": 88,
   "metadata": {
    "collapsed": true
   },
   "outputs": [],
   "source": [
    "feats = {} # a dict to hold feature_name: feature_importance\n",
    "for feature, importance in zip(X_test.columns, rf.feature_importances_):\n",
    "    feats[feature] = importance #add the name/value pair \n",
    "\n",
    "importances = pd.DataFrame.from_dict(feats, orient='index').rename(columns={0: 'Gini-importance'})"
   ]
  },
  {
   "cell_type": "code",
   "execution_count": 89,
   "metadata": {},
   "outputs": [
    {
     "data": {
      "text/html": [
       "<div>\n",
       "<style scoped>\n",
       "    .dataframe tbody tr th:only-of-type {\n",
       "        vertical-align: middle;\n",
       "    }\n",
       "\n",
       "    .dataframe tbody tr th {\n",
       "        vertical-align: top;\n",
       "    }\n",
       "\n",
       "    .dataframe thead th {\n",
       "        text-align: right;\n",
       "    }\n",
       "</style>\n",
       "<table border=\"1\" class=\"dataframe\">\n",
       "  <thead>\n",
       "    <tr style=\"text-align: right;\">\n",
       "      <th></th>\n",
       "      <th>Gini-importance</th>\n",
       "    </tr>\n",
       "  </thead>\n",
       "  <tbody>\n",
       "    <tr>\n",
       "      <th>successful_shift_lag_2</th>\n",
       "      <td>0.104633</td>\n",
       "    </tr>\n",
       "    <tr>\n",
       "      <th>successful_shift_lag_5</th>\n",
       "      <td>0.065551</td>\n",
       "    </tr>\n",
       "    <tr>\n",
       "      <th>is_shift_lag_4</th>\n",
       "      <td>0.065506</td>\n",
       "    </tr>\n",
       "    <tr>\n",
       "      <th>is_shift_lag_5</th>\n",
       "      <td>0.056834</td>\n",
       "    </tr>\n",
       "    <tr>\n",
       "      <th>successful_shift_lag_1</th>\n",
       "      <td>0.048138</td>\n",
       "    </tr>\n",
       "    <tr>\n",
       "      <th>left_handed_batter</th>\n",
       "      <td>0.047800</td>\n",
       "    </tr>\n",
       "    <tr>\n",
       "      <th>successful_shift_lag_3</th>\n",
       "      <td>0.042267</td>\n",
       "    </tr>\n",
       "    <tr>\n",
       "      <th>avg_shifted_against</th>\n",
       "      <td>0.040683</td>\n",
       "    </tr>\n",
       "    <tr>\n",
       "      <th>is_shift_lag_2</th>\n",
       "      <td>0.040683</td>\n",
       "    </tr>\n",
       "    <tr>\n",
       "      <th>is_shift_lag_1</th>\n",
       "      <td>0.040017</td>\n",
       "    </tr>\n",
       "    <tr>\n",
       "      <th>successful_shift_lag_4</th>\n",
       "      <td>0.029970</td>\n",
       "    </tr>\n",
       "    <tr>\n",
       "      <th>hit_distance_sc</th>\n",
       "      <td>0.024419</td>\n",
       "    </tr>\n",
       "    <tr>\n",
       "      <th>hit_distance_sc_lag_2</th>\n",
       "      <td>0.024220</td>\n",
       "    </tr>\n",
       "    <tr>\n",
       "      <th>batterid_448801</th>\n",
       "      <td>0.024116</td>\n",
       "    </tr>\n",
       "    <tr>\n",
       "      <th>hit_distance_sc_lag_3</th>\n",
       "      <td>0.019238</td>\n",
       "    </tr>\n",
       "    <tr>\n",
       "      <th>launch_angle_lag_3</th>\n",
       "      <td>0.018091</td>\n",
       "    </tr>\n",
       "    <tr>\n",
       "      <th>hit_distance_sc_lag_4</th>\n",
       "      <td>0.017119</td>\n",
       "    </tr>\n",
       "    <tr>\n",
       "      <th>launch_speed_lag_1</th>\n",
       "      <td>0.016673</td>\n",
       "    </tr>\n",
       "    <tr>\n",
       "      <th>man_on_second</th>\n",
       "      <td>0.016113</td>\n",
       "    </tr>\n",
       "    <tr>\n",
       "      <th>babip</th>\n",
       "      <td>0.015997</td>\n",
       "    </tr>\n",
       "    <tr>\n",
       "      <th>launch_angle</th>\n",
       "      <td>0.015646</td>\n",
       "    </tr>\n",
       "    <tr>\n",
       "      <th>is_shift_lag_3</th>\n",
       "      <td>0.014612</td>\n",
       "    </tr>\n",
       "    <tr>\n",
       "      <th>batterid_435263</th>\n",
       "      <td>0.014479</td>\n",
       "    </tr>\n",
       "    <tr>\n",
       "      <th>hit_distance_sc_lag_5</th>\n",
       "      <td>0.014067</td>\n",
       "    </tr>\n",
       "    <tr>\n",
       "      <th>launch_angle_lag_1</th>\n",
       "      <td>0.011596</td>\n",
       "    </tr>\n",
       "    <tr>\n",
       "      <th>launch_speed</th>\n",
       "      <td>0.010100</td>\n",
       "    </tr>\n",
       "    <tr>\n",
       "      <th>launch_angle_lag_4</th>\n",
       "      <td>0.009815</td>\n",
       "    </tr>\n",
       "    <tr>\n",
       "      <th>def_shift_pct</th>\n",
       "      <td>0.009137</td>\n",
       "    </tr>\n",
       "    <tr>\n",
       "      <th>launch_speed_lag_5</th>\n",
       "      <td>0.008232</td>\n",
       "    </tr>\n",
       "    <tr>\n",
       "      <th>batterid_458675</th>\n",
       "      <td>0.007701</td>\n",
       "    </tr>\n",
       "    <tr>\n",
       "      <th>batterid_519048</th>\n",
       "      <td>0.007437</td>\n",
       "    </tr>\n",
       "    <tr>\n",
       "      <th>batterid_446263</th>\n",
       "      <td>0.006506</td>\n",
       "    </tr>\n",
       "    <tr>\n",
       "      <th>batterid_452234</th>\n",
       "      <td>0.006499</td>\n",
       "    </tr>\n",
       "    <tr>\n",
       "      <th>launch_speed_lag_2</th>\n",
       "      <td>0.006416</td>\n",
       "    </tr>\n",
       "    <tr>\n",
       "      <th>batterid_467793</th>\n",
       "      <td>0.006153</td>\n",
       "    </tr>\n",
       "    <tr>\n",
       "      <th>man_on_first</th>\n",
       "      <td>0.005726</td>\n",
       "    </tr>\n",
       "    <tr>\n",
       "      <th>batterid_475253</th>\n",
       "      <td>0.005513</td>\n",
       "    </tr>\n",
       "    <tr>\n",
       "      <th>launch_speed_lag_4</th>\n",
       "      <td>0.005305</td>\n",
       "    </tr>\n",
       "    <tr>\n",
       "      <th>batterid_457803</th>\n",
       "      <td>0.005056</td>\n",
       "    </tr>\n",
       "    <tr>\n",
       "      <th>atbat_TOR</th>\n",
       "      <td>0.004917</td>\n",
       "    </tr>\n",
       "    <tr>\n",
       "      <th>batterid_471865</th>\n",
       "      <td>0.003614</td>\n",
       "    </tr>\n",
       "    <tr>\n",
       "      <th>launch_speed_lag_3</th>\n",
       "      <td>0.003257</td>\n",
       "    </tr>\n",
       "    <tr>\n",
       "      <th>batterid_489149</th>\n",
       "      <td>0.003125</td>\n",
       "    </tr>\n",
       "    <tr>\n",
       "      <th>launch_angle_lag_2</th>\n",
       "      <td>0.003013</td>\n",
       "    </tr>\n",
       "    <tr>\n",
       "      <th>batterid_429665</th>\n",
       "      <td>0.002967</td>\n",
       "    </tr>\n",
       "    <tr>\n",
       "      <th>launch_angle_lag_5</th>\n",
       "      <td>0.002851</td>\n",
       "    </tr>\n",
       "    <tr>\n",
       "      <th>batterid_519058</th>\n",
       "      <td>0.002568</td>\n",
       "    </tr>\n",
       "    <tr>\n",
       "      <th>men_on_base</th>\n",
       "      <td>0.002404</td>\n",
       "    </tr>\n",
       "    <tr>\n",
       "      <th>woba</th>\n",
       "      <td>0.002381</td>\n",
       "    </tr>\n",
       "    <tr>\n",
       "      <th>pitcher_throws_left</th>\n",
       "      <td>0.002278</td>\n",
       "    </tr>\n",
       "  </tbody>\n",
       "</table>\n",
       "</div>"
      ],
      "text/plain": [
       "                        Gini-importance\n",
       "successful_shift_lag_2         0.104633\n",
       "successful_shift_lag_5         0.065551\n",
       "is_shift_lag_4                 0.065506\n",
       "is_shift_lag_5                 0.056834\n",
       "successful_shift_lag_1         0.048138\n",
       "left_handed_batter             0.047800\n",
       "successful_shift_lag_3         0.042267\n",
       "avg_shifted_against            0.040683\n",
       "is_shift_lag_2                 0.040683\n",
       "is_shift_lag_1                 0.040017\n",
       "successful_shift_lag_4         0.029970\n",
       "hit_distance_sc                0.024419\n",
       "hit_distance_sc_lag_2          0.024220\n",
       "batterid_448801                0.024116\n",
       "hit_distance_sc_lag_3          0.019238\n",
       "launch_angle_lag_3             0.018091\n",
       "hit_distance_sc_lag_4          0.017119\n",
       "launch_speed_lag_1             0.016673\n",
       "man_on_second                  0.016113\n",
       "babip                          0.015997\n",
       "launch_angle                   0.015646\n",
       "is_shift_lag_3                 0.014612\n",
       "batterid_435263                0.014479\n",
       "hit_distance_sc_lag_5          0.014067\n",
       "launch_angle_lag_1             0.011596\n",
       "launch_speed                   0.010100\n",
       "launch_angle_lag_4             0.009815\n",
       "def_shift_pct                  0.009137\n",
       "launch_speed_lag_5             0.008232\n",
       "batterid_458675                0.007701\n",
       "batterid_519048                0.007437\n",
       "batterid_446263                0.006506\n",
       "batterid_452234                0.006499\n",
       "launch_speed_lag_2             0.006416\n",
       "batterid_467793                0.006153\n",
       "man_on_first                   0.005726\n",
       "batterid_475253                0.005513\n",
       "launch_speed_lag_4             0.005305\n",
       "batterid_457803                0.005056\n",
       "atbat_TOR                      0.004917\n",
       "batterid_471865                0.003614\n",
       "launch_speed_lag_3             0.003257\n",
       "batterid_489149                0.003125\n",
       "launch_angle_lag_2             0.003013\n",
       "batterid_429665                0.002967\n",
       "launch_angle_lag_5             0.002851\n",
       "batterid_519058                0.002568\n",
       "men_on_base                    0.002404\n",
       "woba                           0.002381\n",
       "pitcher_throws_left            0.002278"
      ]
     },
     "execution_count": 89,
     "metadata": {},
     "output_type": "execute_result"
    }
   ],
   "source": [
    "importances.sort_values(by='Gini-importance', ascending=False)[0:50]"
   ]
  },
  {
   "cell_type": "code",
   "execution_count": 90,
   "metadata": {
    "collapsed": true
   },
   "outputs": [],
   "source": [
    "score = pd.DataFrame(y_test)\n",
    "score['pred_prob_rf'] = y_pred_rf\n",
    "score['pred_prob_lr'] = y_pred_lr\n",
    "score['pred_rf'] = np.where(score['pred_prob_rf']>=.25, 1, 0)\n",
    "score['pred_lr'] = np.where(score['pred_prob_lr']>=.25, 1, 0)"
   ]
  },
  {
   "cell_type": "code",
   "execution_count": 91,
   "metadata": {},
   "outputs": [
    {
     "data": {
      "text/plain": [
       "20907"
      ]
     },
     "execution_count": 91,
     "metadata": {},
     "output_type": "execute_result"
    }
   ],
   "source": [
    "score['pred_rf'].sum()"
   ]
  },
  {
   "cell_type": "code",
   "execution_count": 92,
   "metadata": {
    "collapsed": true
   },
   "outputs": [],
   "source": [
    "from sklearn.metrics import accuracy_score"
   ]
  },
  {
   "cell_type": "code",
   "execution_count": 93,
   "metadata": {
    "scrolled": true
   },
   "outputs": [
    {
     "name": "stdout",
     "output_type": "stream",
     "text": [
      "for random forest:\n",
      "0.13011215396604886\n",
      "0.4914783315826924\n",
      "0.7618676515433876\n",
      "0.8807757033623601\n",
      "0.8970679587526401\n",
      "0.8966331221269723\n",
      "0.8865471713030416\n",
      "0.8758061419261568\n",
      "0.8701419713346661\n",
      "0.8698878460339512\n",
      "for logistic regression: \n",
      "0.5697602186607031\n",
      "0.7848292842702086\n",
      "0.8267712533459831\n",
      "0.8545725612441974\n",
      "0.8732084166299596\n",
      "0.8797253187860716\n",
      "0.8815889043246479\n",
      "0.8820124464925061\n",
      "0.8805498142061691\n",
      "0.8792227154135466\n"
     ]
    }
   ],
   "source": [
    "# a threshold of .25 works well\n",
    "# some helpful discussion on thresholds: https://stats.stackexchange.com/questions/312119/classification-probability-threshold\n",
    "print('for random forest:')\n",
    "for threshold in [0.05, .1, .15, .2, .25, .3, .35, .4, .45, .5]:\n",
    "    print(accuracy_score(score['is_shift'], np.where(score['pred_prob_rf']>=threshold, 1, 0)))\n",
    "    \n",
    "print('for logistic regression: ') \n",
    "for threshold in [0.05, .1, .15, .2, .25, .3, .35, .4, .45, .5]:\n",
    "    print(accuracy_score(score['is_shift'], np.where(score['pred_prob_lr']>=threshold, 1, 0)))"
   ]
  },
  {
   "cell_type": "code",
   "execution_count": 94,
   "metadata": {},
   "outputs": [
    {
     "name": "stdout",
     "output_type": "stream",
     "text": [
      "RF Accuracy: \n",
      "0.8970679587526401\n",
      "Logit Accuracy:\n",
      "0.8820124464925061\n"
     ]
    }
   ],
   "source": [
    "print(\"RF Accuracy: \")\n",
    "print(accuracy_score(score['is_shift'], np.where(score['pred_prob_rf']>=.25, 1, 0)))\n",
    "\n",
    "print('Logit Accuracy:')\n",
    "print(accuracy_score(score['is_shift'], np.where(score['pred_prob_lr']>=.4, 1, 0)))"
   ]
  },
  {
   "cell_type": "code",
   "execution_count": 95,
   "metadata": {
    "collapsed": true
   },
   "outputs": [],
   "source": [
    "score['is_false_positive'] = np.where((score['pred_rf']==1) & (score['is_shift']==0), 1, 0)\n",
    "score['is_false_negative'] = np.where((score['pred_rf']==0) & (score['is_shift']==1), 1, 0)\n",
    "score['is_true_positive'] = np.where((score['pred_rf']==1) & (score['is_shift']==1), 1, 0)\n",
    "score['is_true_negative'] = np.where((score['pred_rf']==0) & (score['is_shift']==0), 1, 0)"
   ]
  },
  {
   "cell_type": "code",
   "execution_count": 96,
   "metadata": {
    "scrolled": false
   },
   "outputs": [
    {
     "name": "stdout",
     "output_type": "stream",
     "text": [
      "Accuracy Metrics for Random Forest\n"
     ]
    },
    {
     "data": {
      "text/plain": [
       "is_false_positive    0.045443\n",
       "is_false_negative    0.057489\n",
       "is_true_positive     0.072623\n",
       "is_true_negative     0.824445\n",
       "dtype: float64"
      ]
     },
     "execution_count": 96,
     "metadata": {},
     "output_type": "execute_result"
    }
   ],
   "source": [
    "print('Accuracy Metrics for Random Forest')\n",
    "score[['is_false_positive', 'is_false_negative', 'is_true_positive', 'is_true_negative']].mean()"
   ]
  },
  {
   "cell_type": "code",
   "execution_count": 97,
   "metadata": {
    "collapsed": true
   },
   "outputs": [],
   "source": [
    "score['is_false_positive'] = np.where((score['pred_lr']==1) & (score['is_shift']==0), 1, 0)\n",
    "score['is_false_negative'] = np.where((score['pred_lr']==0) & (score['is_shift']==1), 1, 0)\n",
    "score['is_true_positive'] = np.where((score['pred_lr']==1) & (score['is_shift']==1), 1, 0)\n",
    "score['is_true_negative'] = np.where((score['pred_lr']==0) & (score['is_shift']==0), 1, 0)"
   ]
  },
  {
   "cell_type": "code",
   "execution_count": 98,
   "metadata": {},
   "outputs": [
    {
     "name": "stdout",
     "output_type": "stream",
     "text": [
      "Accuracy Metrics for Logistic Regression\n"
     ]
    },
    {
     "data": {
      "text/plain": [
       "is_false_positive    0.055806\n",
       "is_false_negative    0.070986\n",
       "is_true_positive     0.059126\n",
       "is_true_negative     0.814082\n",
       "dtype: float64"
      ]
     },
     "execution_count": 98,
     "metadata": {},
     "output_type": "execute_result"
    }
   ],
   "source": [
    "print('Accuracy Metrics for Logistic Regression')\n",
    "score[['is_false_positive', 'is_false_negative', 'is_true_positive', 'is_true_negative']].mean()"
   ]
  },
  {
   "cell_type": "code",
   "execution_count": null,
   "metadata": {
    "collapsed": true
   },
   "outputs": [],
   "source": []
  }
 ],
 "metadata": {
  "kernelspec": {
   "display_name": "Python 3",
   "language": "python",
   "name": "python3"
  },
  "language_info": {
   "codemirror_mode": {
    "name": "ipython",
    "version": 3
   },
   "file_extension": ".py",
   "mimetype": "text/x-python",
   "name": "python",
   "nbconvert_exporter": "python",
   "pygments_lexer": "ipython3",
   "version": "3.6.3"
  }
 },
 "nbformat": 4,
 "nbformat_minor": 2
}
